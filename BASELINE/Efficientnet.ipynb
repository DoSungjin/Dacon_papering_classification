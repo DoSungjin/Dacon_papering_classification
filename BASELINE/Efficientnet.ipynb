{
 "cells": [
  {
   "cell_type": "markdown",
   "id": "a2bcba5f-002e-4f49-9622-ada6117faf0a",
   "metadata": {},
   "source": [
    "## Import"
   ]
  },
  {
   "cell_type": "code",
   "execution_count": 1,
   "id": "61ad9ccf",
   "metadata": {},
   "outputs": [],
   "source": [
    "# !pip3 install albumentations ;!pip3 install opencv-python ; !pip3 install tqdm"
   ]
  },
  {
   "cell_type": "code",
   "execution_count": 2,
   "id": "2b0d9b68-7102-4eca-9543-3b9b8acafc6e",
   "metadata": {},
   "outputs": [],
   "source": [
    "import random\n",
    "import pandas as pd\n",
    "import numpy as np\n",
    "import os\n",
    "import re\n",
    "import glob\n",
    "import cv2\n",
    "\n",
    "import torch\n",
    "import torch.nn as nn\n",
    "import torch.optim as optim\n",
    "import torch.nn.functional as F\n",
    "from torch.utils.data import Dataset, DataLoader, WeightedRandomSampler\n",
    "\n",
    "import albumentations as A\n",
    "from albumentations.pytorch.transforms import ToTensorV2\n",
    "import torchvision.models as models\n",
    "\n",
    "from sklearn.model_selection import train_test_split\n",
    "from sklearn import preprocessing\n",
    "from sklearn.metrics import f1_score\n",
    "from sklearn.metrics import classification_report\n",
    "from tqdm.auto import tqdm\n",
    "\n",
    "# torch.multiprocessing import\n",
    "from torch import multiprocessing\n",
    "\n",
    "import warnings\n",
    "warnings.filterwarnings(action='ignore') "
   ]
  },
  {
   "cell_type": "code",
   "execution_count": 3,
   "id": "e9614e39",
   "metadata": {},
   "outputs": [
    {
     "data": {
      "text/plain": [
       "'/Users/admin/Documents/GitHub/Dacon_papering_classification/DATA'"
      ]
     },
     "execution_count": 3,
     "metadata": {},
     "output_type": "execute_result"
    }
   ],
   "source": [
    "# 경로지정\n",
    "import os\n",
    "os.chdir('../DATA')\n",
    "os.getcwd()"
   ]
  },
  {
   "cell_type": "code",
   "execution_count": 4,
   "id": "3ec1574c",
   "metadata": {},
   "outputs": [],
   "source": [
    "# seeds\n",
    "random_seed = 42\n",
    "torch.manual_seed(random_seed)\n",
    "torch.backends.cudnn.deterministic = True\n",
    "torch.backends.cudnn.benchmark = False\n",
    "np.random.seed(random_seed)\n",
    "random.seed(random_seed)\n"
   ]
  },
  {
   "cell_type": "code",
   "execution_count": 5,
   "id": "d13862e3-bb27-47af-9b58-a9fbf804df71",
   "metadata": {},
   "outputs": [
    {
     "data": {
      "text/plain": [
       "True"
      ]
     },
     "execution_count": 5,
     "metadata": {},
     "output_type": "execute_result"
    }
   ],
   "source": [
    "# device 설정\n",
    "device = torch.device('mps:0' if torch.backends.mps.is_available() else 'cpu')\n",
    "# mps 확인\n",
    "torch.backends.mps.is_available()"
   ]
  },
  {
   "cell_type": "markdown",
   "id": "fc7df3f2-62d0-4499-a46e-47d01699def0",
   "metadata": {},
   "source": [
    "## Hyperparameter Setting"
   ]
  },
  {
   "cell_type": "code",
   "execution_count": 6,
   "id": "c3367399-9798-4e38-967b-fd2320b9a2b2",
   "metadata": {},
   "outputs": [],
   "source": [
    "# hyperparameter\n",
    "CFG = {\n",
    "    'IMG_SIZE':224,\n",
    "    'EPOCHS':5,\n",
    "    'LEARNING_RATE':3e-4,\n",
    "    'BATCH_SIZE':64,\n",
    "    'SEED':2022\n",
    "}"
   ]
  },
  {
   "cell_type": "markdown",
   "id": "4254e860-ff82-43ba-bfa3-fcee4eb3ddbd",
   "metadata": {},
   "source": [
    "## Fixed RandomSeed"
   ]
  },
  {
   "cell_type": "code",
   "execution_count": 7,
   "id": "101a714b-71b6-4475-a4ce-fa5f98bc2731",
   "metadata": {},
   "outputs": [],
   "source": [
    "def seed_everything(seed):\n",
    "    random.seed(seed)\n",
    "    os.environ['PYTHONHASHSEED'] = str(seed)\n",
    "    np.random.seed(seed)\n",
    "    torch.manual_seed(seed)\n",
    "    torch.cuda.manual_seed(seed)\n",
    "    torch.backends.cudnn.deterministic = True\n",
    "    torch.backends.cudnn.benchmark = True\n",
    "\n",
    "seed_everything(CFG['SEED']) # Seed 고정"
   ]
  },
  {
   "cell_type": "markdown",
   "id": "05a4172e-5791-446f-9616-35c09d8bf25a",
   "metadata": {},
   "source": [
    "## Data Pre-processing"
   ]
  },
  {
   "cell_type": "code",
   "execution_count": 8,
   "id": "a62c78cd-4f40-4e98-b8a6-1b6f1d906b4d",
   "metadata": {},
   "outputs": [],
   "source": [
    "all_img_list = glob.glob('/train/*/*')"
   ]
  },
  {
   "cell_type": "code",
   "execution_count": 9,
   "id": "2abecd15",
   "metadata": {},
   "outputs": [
    {
     "data": {
      "text/plain": [
       "'/Users/admin/Documents/GitHub/Dacon_papering_classification/DATA'"
      ]
     },
     "execution_count": 9,
     "metadata": {},
     "output_type": "execute_result"
    }
   ],
   "source": [
    "os.getcwd()"
   ]
  },
  {
   "cell_type": "code",
   "execution_count": 10,
   "id": "271f477a",
   "metadata": {},
   "outputs": [],
   "source": [
    "ㅍ"
   ]
  },
  {
   "cell_type": "code",
   "execution_count": 11,
   "id": "4f717798",
   "metadata": {},
   "outputs": [
    {
     "data": {
      "text/plain": [
       "['train/녹오염/8.png',\n",
       " 'train/녹오염/9.png',\n",
       " 'train/녹오염/12.png',\n",
       " 'train/녹오염/13.png',\n",
       " 'train/녹오염/11.png']"
      ]
     },
     "execution_count": 11,
     "metadata": {},
     "output_type": "execute_result"
    }
   ],
   "source": [
    "all_img_list[:5]"
   ]
  },
  {
   "cell_type": "code",
   "execution_count": 12,
   "id": "4119733d-adef-436c-afca-4112a9225d33",
   "metadata": {},
   "outputs": [
    {
     "data": {
      "text/html": [
       "<div>\n",
       "<style scoped>\n",
       "    .dataframe tbody tr th:only-of-type {\n",
       "        vertical-align: middle;\n",
       "    }\n",
       "\n",
       "    .dataframe tbody tr th {\n",
       "        vertical-align: top;\n",
       "    }\n",
       "\n",
       "    .dataframe thead th {\n",
       "        text-align: right;\n",
       "    }\n",
       "</style>\n",
       "<table border=\"1\" class=\"dataframe\">\n",
       "  <thead>\n",
       "    <tr style=\"text-align: right;\">\n",
       "      <th></th>\n",
       "      <th>img_path</th>\n",
       "      <th>label</th>\n",
       "    </tr>\n",
       "  </thead>\n",
       "  <tbody>\n",
       "    <tr>\n",
       "      <th>0</th>\n",
       "      <td>train/녹오염/8.png</td>\n",
       "      <td>녹오염</td>\n",
       "    </tr>\n",
       "    <tr>\n",
       "      <th>1</th>\n",
       "      <td>train/녹오염/9.png</td>\n",
       "      <td>녹오염</td>\n",
       "    </tr>\n",
       "    <tr>\n",
       "      <th>2</th>\n",
       "      <td>train/녹오염/12.png</td>\n",
       "      <td>녹오염</td>\n",
       "    </tr>\n",
       "    <tr>\n",
       "      <th>3</th>\n",
       "      <td>train/녹오염/13.png</td>\n",
       "      <td>녹오염</td>\n",
       "    </tr>\n",
       "    <tr>\n",
       "      <th>4</th>\n",
       "      <td>train/녹오염/11.png</td>\n",
       "      <td>녹오염</td>\n",
       "    </tr>\n",
       "    <tr>\n",
       "      <th>...</th>\n",
       "      <td>...</td>\n",
       "      <td>...</td>\n",
       "    </tr>\n",
       "    <tr>\n",
       "      <th>3452</th>\n",
       "      <td>train/틈새과다/4.png</td>\n",
       "      <td>틈새과다</td>\n",
       "    </tr>\n",
       "    <tr>\n",
       "      <th>3453</th>\n",
       "      <td>train/틈새과다/2.png</td>\n",
       "      <td>틈새과다</td>\n",
       "    </tr>\n",
       "    <tr>\n",
       "      <th>3454</th>\n",
       "      <td>train/틈새과다/3.png</td>\n",
       "      <td>틈새과다</td>\n",
       "    </tr>\n",
       "    <tr>\n",
       "      <th>3455</th>\n",
       "      <td>train/틈새과다/1.png</td>\n",
       "      <td>틈새과다</td>\n",
       "    </tr>\n",
       "    <tr>\n",
       "      <th>3456</th>\n",
       "      <td>train/틈새과다/0.png</td>\n",
       "      <td>틈새과다</td>\n",
       "    </tr>\n",
       "  </tbody>\n",
       "</table>\n",
       "<p>3457 rows × 2 columns</p>\n",
       "</div>"
      ],
      "text/plain": [
       "                   img_path      label\n",
       "0      train/녹오염/8.png   녹오염\n",
       "1      train/녹오염/9.png   녹오염\n",
       "2     train/녹오염/12.png   녹오염\n",
       "3     train/녹오염/13.png   녹오염\n",
       "4     train/녹오염/11.png   녹오염\n",
       "...                     ...        ...\n",
       "3452  train/틈새과다/4.png  틈새과다\n",
       "3453  train/틈새과다/2.png  틈새과다\n",
       "3454  train/틈새과다/3.png  틈새과다\n",
       "3455  train/틈새과다/1.png  틈새과다\n",
       "3456  train/틈새과다/0.png  틈새과다\n",
       "\n",
       "[3457 rows x 2 columns]"
      ]
     },
     "execution_count": 12,
     "metadata": {},
     "output_type": "execute_result"
    }
   ],
   "source": [
    "df = pd.DataFrame(columns=['img_path', 'label'])\n",
    "df['img_path'] = all_img_list\n",
    "df['label'] = df['img_path'].apply(lambda x : str(x).split('/')[1])\n",
    "df"
   ]
  },
  {
   "cell_type": "code",
   "execution_count": 13,
   "id": "4ab2efd4",
   "metadata": {},
   "outputs": [
    {
     "data": {
      "text/html": [
       "<div>\n",
       "<style scoped>\n",
       "    .dataframe tbody tr th:only-of-type {\n",
       "        vertical-align: middle;\n",
       "    }\n",
       "\n",
       "    .dataframe tbody tr th {\n",
       "        vertical-align: top;\n",
       "    }\n",
       "\n",
       "    .dataframe thead th {\n",
       "        text-align: right;\n",
       "    }\n",
       "</style>\n",
       "<table border=\"1\" class=\"dataframe\">\n",
       "  <thead>\n",
       "    <tr style=\"text-align: right;\">\n",
       "      <th></th>\n",
       "      <th>img_path</th>\n",
       "      <th>label</th>\n",
       "    </tr>\n",
       "  </thead>\n",
       "  <tbody>\n",
       "    <tr>\n",
       "      <th>0</th>\n",
       "      <td>train/녹오염/8.png</td>\n",
       "      <td>녹오염</td>\n",
       "    </tr>\n",
       "    <tr>\n",
       "      <th>1</th>\n",
       "      <td>train/녹오염/9.png</td>\n",
       "      <td>녹오염</td>\n",
       "    </tr>\n",
       "    <tr>\n",
       "      <th>2</th>\n",
       "      <td>train/녹오염/12.png</td>\n",
       "      <td>녹오염</td>\n",
       "    </tr>\n",
       "    <tr>\n",
       "      <th>3</th>\n",
       "      <td>train/녹오염/13.png</td>\n",
       "      <td>녹오염</td>\n",
       "    </tr>\n",
       "    <tr>\n",
       "      <th>4</th>\n",
       "      <td>train/녹오염/11.png</td>\n",
       "      <td>녹오염</td>\n",
       "    </tr>\n",
       "    <tr>\n",
       "      <th>...</th>\n",
       "      <td>...</td>\n",
       "      <td>...</td>\n",
       "    </tr>\n",
       "    <tr>\n",
       "      <th>3452</th>\n",
       "      <td>train/틈새과다/4.png</td>\n",
       "      <td>틈새과다</td>\n",
       "    </tr>\n",
       "    <tr>\n",
       "      <th>3453</th>\n",
       "      <td>train/틈새과다/2.png</td>\n",
       "      <td>틈새과다</td>\n",
       "    </tr>\n",
       "    <tr>\n",
       "      <th>3454</th>\n",
       "      <td>train/틈새과다/3.png</td>\n",
       "      <td>틈새과다</td>\n",
       "    </tr>\n",
       "    <tr>\n",
       "      <th>3455</th>\n",
       "      <td>train/틈새과다/1.png</td>\n",
       "      <td>틈새과다</td>\n",
       "    </tr>\n",
       "    <tr>\n",
       "      <th>3456</th>\n",
       "      <td>train/틈새과다/0.png</td>\n",
       "      <td>틈새과다</td>\n",
       "    </tr>\n",
       "  </tbody>\n",
       "</table>\n",
       "<p>3457 rows × 2 columns</p>\n",
       "</div>"
      ],
      "text/plain": [
       "                   img_path      label\n",
       "0      train/녹오염/8.png   녹오염\n",
       "1      train/녹오염/9.png   녹오염\n",
       "2     train/녹오염/12.png   녹오염\n",
       "3     train/녹오염/13.png   녹오염\n",
       "4     train/녹오염/11.png   녹오염\n",
       "...                     ...        ...\n",
       "3452  train/틈새과다/4.png  틈새과다\n",
       "3453  train/틈새과다/2.png  틈새과다\n",
       "3454  train/틈새과다/3.png  틈새과다\n",
       "3455  train/틈새과다/1.png  틈새과다\n",
       "3456  train/틈새과다/0.png  틈새과다\n",
       "\n",
       "[3457 rows x 2 columns]"
      ]
     },
     "execution_count": 13,
     "metadata": {},
     "output_type": "execute_result"
    }
   ],
   "source": [
    "df"
   ]
  },
  {
   "cell_type": "code",
   "execution_count": 14,
   "id": "4db41c93-3515-4fcd-936b-0a01f5388b3f",
   "metadata": {},
   "outputs": [],
   "source": [
    "# train val split\n",
    "train, val, _, _ = train_test_split(df, df['label'], test_size=0.2, stratify=df['label'], random_state=CFG['SEED'])\n"
   ]
  },
  {
   "cell_type": "code",
   "execution_count": 15,
   "metadata": {},
   "outputs": [
    {
     "data": {
      "text/html": [
       "<div>\n",
       "<style scoped>\n",
       "    .dataframe tbody tr th:only-of-type {\n",
       "        vertical-align: middle;\n",
       "    }\n",
       "\n",
       "    .dataframe tbody tr th {\n",
       "        vertical-align: top;\n",
       "    }\n",
       "\n",
       "    .dataframe thead th {\n",
       "        text-align: right;\n",
       "    }\n",
       "</style>\n",
       "<table border=\"1\" class=\"dataframe\">\n",
       "  <thead>\n",
       "    <tr style=\"text-align: right;\">\n",
       "      <th></th>\n",
       "      <th>img_path</th>\n",
       "      <th>label</th>\n",
       "    </tr>\n",
       "  </thead>\n",
       "  <tbody>\n",
       "    <tr>\n",
       "      <th>1888</th>\n",
       "      <td>train/터짐/62.png</td>\n",
       "      <td>터짐</td>\n",
       "    </tr>\n",
       "    <tr>\n",
       "      <th>2018</th>\n",
       "      <td>train/터짐/151.png</td>\n",
       "      <td>터짐</td>\n",
       "    </tr>\n",
       "    <tr>\n",
       "      <th>1896</th>\n",
       "      <td>train/터짐/49.png</td>\n",
       "      <td>터짐</td>\n",
       "    </tr>\n",
       "    <tr>\n",
       "      <th>1395</th>\n",
       "      <td>train/오염/588.png</td>\n",
       "      <td>오염</td>\n",
       "    </tr>\n",
       "    <tr>\n",
       "      <th>957</th>\n",
       "      <td>train/면불량/56.png</td>\n",
       "      <td>면불량</td>\n",
       "    </tr>\n",
       "    <tr>\n",
       "      <th>...</th>\n",
       "      <td>...</td>\n",
       "      <td>...</td>\n",
       "    </tr>\n",
       "    <tr>\n",
       "      <th>2559</th>\n",
       "      <td>train/훼손/315.png</td>\n",
       "      <td>훼손</td>\n",
       "    </tr>\n",
       "    <tr>\n",
       "      <th>1146</th>\n",
       "      <td>train/곰팡이/22.png</td>\n",
       "      <td>곰팡이</td>\n",
       "    </tr>\n",
       "    <tr>\n",
       "      <th>511</th>\n",
       "      <td>train/꼬임/150.png</td>\n",
       "      <td>꼬임</td>\n",
       "    </tr>\n",
       "    <tr>\n",
       "      <th>3200</th>\n",
       "      <td>train/훼손/949.png</td>\n",
       "      <td>훼손</td>\n",
       "    </tr>\n",
       "    <tr>\n",
       "      <th>750</th>\n",
       "      <td>train/울음/1.png</td>\n",
       "      <td>울음</td>\n",
       "    </tr>\n",
       "  </tbody>\n",
       "</table>\n",
       "<p>2765 rows × 2 columns</p>\n",
       "</div>"
      ],
      "text/plain": [
       "                    img_path      label\n",
       "1888      train/터짐/62.png      터짐\n",
       "2018     train/터짐/151.png      터짐\n",
       "1896      train/터짐/49.png      터짐\n",
       "1395     train/오염/588.png      오염\n",
       "957   train/면불량/56.png  면불량\n",
       "...                      ...        ...\n",
       "2559     train/훼손/315.png      훼손\n",
       "1146   train/곰팡이/22.png   곰팡이\n",
       "511      train/꼬임/150.png      꼬임\n",
       "3200     train/훼손/949.png      훼손\n",
       "750       train/울음/1.png     울음\n",
       "\n",
       "[2765 rows x 2 columns]"
      ]
     },
     "execution_count": 15,
     "metadata": {},
     "output_type": "execute_result"
    }
   ],
   "source": [
    "train"
   ]
  },
  {
   "cell_type": "markdown",
   "id": "bb1f117e-105d-4e9e-b9bd-938d4271a940",
   "metadata": {},
   "source": [
    "## Label-Encoding"
   ]
  },
  {
   "cell_type": "code",
   "execution_count": 16,
   "id": "6c8c5916-8065-4b5c-aa37-f3fb2b9fa422",
   "metadata": {},
   "outputs": [
    {
     "data": {
      "text/html": [
       "<div>\n",
       "<style scoped>\n",
       "    .dataframe tbody tr th:only-of-type {\n",
       "        vertical-align: middle;\n",
       "    }\n",
       "\n",
       "    .dataframe tbody tr th {\n",
       "        vertical-align: top;\n",
       "    }\n",
       "\n",
       "    .dataframe thead th {\n",
       "        text-align: right;\n",
       "    }\n",
       "</style>\n",
       "<table border=\"1\" class=\"dataframe\">\n",
       "  <thead>\n",
       "    <tr style=\"text-align: right;\">\n",
       "      <th></th>\n",
       "      <th>img_path</th>\n",
       "      <th>label</th>\n",
       "    </tr>\n",
       "  </thead>\n",
       "  <tbody>\n",
       "    <tr>\n",
       "      <th>1888</th>\n",
       "      <td>train/터짐/62.png</td>\n",
       "      <td>15</td>\n",
       "    </tr>\n",
       "    <tr>\n",
       "      <th>2018</th>\n",
       "      <td>train/터짐/151.png</td>\n",
       "      <td>15</td>\n",
       "    </tr>\n",
       "    <tr>\n",
       "      <th>1896</th>\n",
       "      <td>train/터짐/49.png</td>\n",
       "      <td>15</td>\n",
       "    </tr>\n",
       "    <tr>\n",
       "      <th>1395</th>\n",
       "      <td>train/오염/588.png</td>\n",
       "      <td>10</td>\n",
       "    </tr>\n",
       "    <tr>\n",
       "      <th>957</th>\n",
       "      <td>train/면불량/56.png</td>\n",
       "      <td>6</td>\n",
       "    </tr>\n",
       "    <tr>\n",
       "      <th>...</th>\n",
       "      <td>...</td>\n",
       "      <td>...</td>\n",
       "    </tr>\n",
       "    <tr>\n",
       "      <th>2559</th>\n",
       "      <td>train/훼손/315.png</td>\n",
       "      <td>18</td>\n",
       "    </tr>\n",
       "    <tr>\n",
       "      <th>1146</th>\n",
       "      <td>train/곰팡이/22.png</td>\n",
       "      <td>2</td>\n",
       "    </tr>\n",
       "    <tr>\n",
       "      <th>511</th>\n",
       "      <td>train/꼬임/150.png</td>\n",
       "      <td>3</td>\n",
       "    </tr>\n",
       "    <tr>\n",
       "      <th>3200</th>\n",
       "      <td>train/훼손/949.png</td>\n",
       "      <td>18</td>\n",
       "    </tr>\n",
       "    <tr>\n",
       "      <th>750</th>\n",
       "      <td>train/울음/1.png</td>\n",
       "      <td>12</td>\n",
       "    </tr>\n",
       "  </tbody>\n",
       "</table>\n",
       "<p>2765 rows × 2 columns</p>\n",
       "</div>"
      ],
      "text/plain": [
       "                    img_path  label\n",
       "1888      train/터짐/62.png     15\n",
       "2018     train/터짐/151.png     15\n",
       "1896      train/터짐/49.png     15\n",
       "1395     train/오염/588.png     10\n",
       "957   train/면불량/56.png      6\n",
       "...                      ...    ...\n",
       "2559     train/훼손/315.png     18\n",
       "1146   train/곰팡이/22.png      2\n",
       "511      train/꼬임/150.png      3\n",
       "3200     train/훼손/949.png     18\n",
       "750       train/울음/1.png     12\n",
       "\n",
       "[2765 rows x 2 columns]"
      ]
     },
     "execution_count": 16,
     "metadata": {},
     "output_type": "execute_result"
    }
   ],
   "source": [
    "le = preprocessing.LabelEncoder()\n",
    "train['label'] = le.fit_transform(train['label'])\n",
    "val['label'] = le.transform(val['label'])\n",
    "train"
   ]
  },
  {
   "cell_type": "code",
   "execution_count": 17,
   "id": "03bc1d2c",
   "metadata": {},
   "outputs": [
    {
     "data": {
      "text/plain": [
       "array(['터짐', '터짐', '터짐', ..., '꼬임', '훼손', '울음'],\n",
       "      dtype=object)"
      ]
     },
     "execution_count": 17,
     "metadata": {},
     "output_type": "execute_result"
    }
   ],
   "source": [
    "# label-decoding\n",
    "le.inverse_transform(train['label'])"
   ]
  },
  {
   "cell_type": "markdown",
   "id": "ac27ed36-8031-47a7-bd0d-a913513f2e8e",
   "metadata": {},
   "source": [
    "## CustomDataset"
   ]
  },
  {
   "cell_type": "code",
   "execution_count": 18,
   "id": "16fd60a5-24e2-4539-bfd0-1c374a641699",
   "metadata": {},
   "outputs": [],
   "source": [
    "class CustomDataset(Dataset):\n",
    "    def __init__(self, img_path_list, label_list, transforms=None):\n",
    "        self.img_path_list = img_path_list\n",
    "        self.label_list = label_list\n",
    "        self.transforms = transforms\n",
    "        \n",
    "    def __getitem__(self, index):\n",
    "        img_path = self.img_path_list[index]\n",
    "        \n",
    "        image = cv2.imread(img_path)\n",
    "        \n",
    "        if self.transforms is not None:\n",
    "            image = self.transforms(image=image)['image']\n",
    "        \n",
    "        if self.label_list is not None:\n",
    "            label = self.label_list[index]\n",
    "            return image, label\n",
    "        else:\n",
    "            return image\n",
    "        \n",
    "    def __len__(self):\n",
    "        return len(self.img_path_list)"
   ]
  },
  {
   "cell_type": "code",
   "execution_count": 19,
   "id": "340b4a8b-5d6c-413f-b8b6-066e91a660e5",
   "metadata": {},
   "outputs": [],
   "source": [
    "train_transform = A.Compose([\n",
    "                            A.Resize(CFG['IMG_SIZE'],CFG['IMG_SIZE']),\n",
    "                            A.Normalize(mean=(0.485, 0.456, 0.406), std=(0.229, 0.224, 0.225), max_pixel_value=255.0, always_apply=False, p=1.0),\n",
    "                            ToTensorV2()\n",
    "                            ])\n",
    "\n",
    "test_transform = A.Compose([\n",
    "                            A.Resize(CFG['IMG_SIZE'],CFG['IMG_SIZE']),\n",
    "                            A.Normalize(mean=(0.485, 0.456, 0.406), std=(0.229, 0.224, 0.225), max_pixel_value=255.0, always_apply=False, p=1.0),\n",
    "                            ToTensorV2()\n",
    "                            ])"
   ]
  },
  {
   "cell_type": "code",
   "execution_count": 20,
   "id": "d0564e9c",
   "metadata": {},
   "outputs": [
    {
     "data": {
      "text/plain": [
       "<torch.utils.data.sampler.WeightedRandomSampler at 0x159179610>"
      ]
     },
     "execution_count": 20,
     "metadata": {},
     "output_type": "execute_result"
    }
   ],
   "source": [
    "#weighted sampling\n",
    "a_list = train['label'].value_counts()\n",
    "class_counts = train['label'].value_counts().to_list()\n",
    "class_weights = [1 / a_list[i] for i in range(len(class_counts))]\n",
    "num_samples = sum(class_counts)\n",
    "labels_lists = train['label'].to_list()\n",
    "weights = [class_weights[labels_lists[i]] for i in range(int(num_samples))]\n",
    "sampler = WeightedRandomSampler(torch.DoubleTensor(weights), int(num_samples), replacement=True)\n",
    "sampler"
   ]
  },
  {
   "cell_type": "code",
   "execution_count": 21,
   "id": "9d880481-1965-499d-9caa-fdfa8526f789",
   "metadata": {},
   "outputs": [],
   "source": [
    "# make dataloader\n",
    "train_dataset = CustomDataset(train['img_path'].values, train['label'].values, train_transform)\n",
    "train_loader = DataLoader(train_dataset, batch_size = CFG['BATCH_SIZE'], sampler=sampler, shuffle=False, num_workers=0)\n",
    "\n",
    "val_dataset = CustomDataset(val['img_path'].values, val['label'].values, test_transform)\n",
    "val_loader = DataLoader(val_dataset, batch_size=CFG['BATCH_SIZE'], shuffle=False, num_workers=0)"
   ]
  },
  {
   "cell_type": "code",
   "execution_count": 22,
   "id": "b6cb1b5c",
   "metadata": {},
   "outputs": [],
   "source": [
    "import torch\n",
    "import torch.nn as nn\n",
    "import torch.nn.functional as F\n",
    "from torch.autograd import Variable\n",
    "\n",
    "class FocalLoss(nn.Module):\n",
    "    def __init__(self, gamma=0, alpha=None, size_average=True):\n",
    "        super(FocalLoss, self).__init__()\n",
    "        self.gamma = gamma\n",
    "        self.alpha = alpha\n",
    "        if isinstance(alpha,(float,int)): self.alpha = torch.Tensor([alpha]*19)\n",
    "        self.alpha[18] = 1-alpha\n",
    "        if isinstance(alpha,list): self.alpha = torch.Tensor(alpha)\n",
    "        self.size_average = size_average\n",
    "\n",
    "    def forward(self, input, target):\n",
    "        if input.dim()>2:\n",
    "            input = input.view(input.size(0),input.size(1),-1)  # N,C,H,W => N,C,H*W\n",
    "            input = input.transpose(1,2)    # N,C,H*W => N,H*W,C\n",
    "            input = input.contiguous().view(-1,input.size(2))   # N,H*W,C => N*H*W,C\n",
    "        target = target.view(-1,1)\n",
    "\n",
    "        logpt = F.log_softmax(input)\n",
    "        logpt = logpt.gather(1,target)\n",
    "        logpt = logpt.view(-1)\n",
    "        pt = Variable(logpt.data.exp())\n",
    "\n",
    "        if self.alpha is not None:\n",
    "            if self.alpha.type()!=input.data.type():\n",
    "                self.alpha = self.alpha.type_as(input.data)\n",
    "            at = self.alpha.gather(0,target.data.view(-1))\n",
    "            logpt = logpt * at\n",
    "\n",
    "        loss = -1 * (1-pt)**self.gamma * logpt\n",
    "        if self.size_average: return loss.mean()\n",
    "        else: return loss.sum()"
   ]
  },
  {
   "cell_type": "markdown",
   "id": "39962463-032f-490a-a76d-c03991795f38",
   "metadata": {},
   "source": [
    "## Model Define"
   ]
  },
  {
   "cell_type": "code",
   "execution_count": 23,
   "id": "3664c4d0-f1f2-4971-9090-4d6ee66309ae",
   "metadata": {},
   "outputs": [],
   "source": [
    "class BaseModel(nn.Module):\n",
    "    def __init__(self, num_classes=len(le.classes_)):\n",
    "        super(BaseModel, self).__init__()\n",
    "        self.backbone = models.efficientnet_b0(pretrained=True)\n",
    "        self.classifier = nn.Linear(1000, num_classes)\n",
    "        \n",
    "    def forward(self, x):\n",
    "        x = self.backbone(x)\n",
    "        x = self.classifier(x)\n",
    "        return x"
   ]
  },
  {
   "cell_type": "markdown",
   "id": "122af0aa-a1fd-4595-9488-35761e3cb596",
   "metadata": {},
   "source": [
    "## Train"
   ]
  },
  {
   "cell_type": "code",
   "execution_count": 24,
   "id": "a17df6b3-16c9-44dd-b0fd-ffb501fee749",
   "metadata": {},
   "outputs": [],
   "source": [
    "def train(model, optimizer, train_loader, val_loader, scheduler, device):\n",
    "    model.to(device)\n",
    "    criterion = nn.CrossEntropyLoss().to(device)\n",
    "    \n",
    "    best_score = 0\n",
    "    best_model = None\n",
    "    \n",
    "    for epoch in range(1, CFG['EPOCHS']+1):\n",
    "        model.train()\n",
    "        train_loss = []\n",
    "        for imgs, labels in tqdm(iter(train_loader)):\n",
    "            imgs = imgs.float().to(device)\n",
    "            labels = labels.to(device)\n",
    "            \n",
    "            optimizer.zero_grad()\n",
    "            \n",
    "            output = model(imgs)\n",
    "            loss = criterion(output, labels)\n",
    "            \n",
    "            loss.backward()\n",
    "            optimizer.step()\n",
    "            \n",
    "            train_loss.append(loss.item())\n",
    "                    \n",
    "        _val_loss, _val_score = validation(model, criterion, val_loader, device)\n",
    "        _train_loss = np.mean(train_loss)\n",
    "        print(f'Epoch [{epoch}], Train Loss : [{_train_loss:.5f}] Val Loss : [{_val_loss:.5f}] Val Weighted F1 Score : [{_val_score:.5f}]')\n",
    "       \n",
    "        if scheduler is not None:\n",
    "            scheduler.step(_val_score)\n",
    "            \n",
    "        if best_score < _val_score:\n",
    "            best_score = _val_score\n",
    "            best_model = model\n",
    "    \n",
    "    return best_model"
   ]
  },
  {
   "cell_type": "code",
   "execution_count": 25,
   "id": "1aa0a8df",
   "metadata": {},
   "outputs": [],
   "source": [
    "## Train\n",
    "\n",
    "def trains(model, optimizer, train_loader, val_loader, scheduler, device):\n",
    "    model.to(device)\n",
    "#     criterion = nn.CrossEntropyLoss(label_smoothing=0.1).to(device)\n",
    "    criterion = FocalLoss(gamma=2, alpha=0.25)\n",
    "    \n",
    "    best_score = 0\n",
    "    best_model = None\n",
    "    \n",
    "    for epoch in range(1, CFG['EPOCHS']+1):\n",
    "        model.train()\n",
    "        train_loss = []\n",
    "        for imgs, labels in tqdm(iter(train_loader)):\n",
    "            imgs = imgs.float().to(device)\n",
    "            labels = labels.to(device)\n",
    "            \n",
    "            optimizer.zero_grad()\n",
    "            \n",
    "            output = model(imgs)\n",
    "            loss = criterion(output, labels)\n",
    "            \n",
    "            loss.backward()\n",
    "            optimizer.step()\n",
    "            \n",
    "            train_loss.append(loss.item())\n",
    "                    \n",
    "        _val_loss, _val_score = validation(model, criterion, val_loader, device)\n",
    "        _train_loss = np.mean(train_loss)\n",
    "        print(f'Epoch [{epoch}], Train Loss : [{_train_loss:.5f}] Val Loss : [{_val_loss:.5f}] Val Weighted F1 Score : [{_val_score:.5f}]')\n",
    "       \n",
    "        if scheduler is not None:\n",
    "            scheduler.step(_val_score)\n",
    "            \n",
    "        if best_score < _val_score:\n",
    "            best_score = _val_score\n",
    "            best_model = model\n",
    "    \n",
    "    return best_model"
   ]
  },
  {
   "cell_type": "code",
   "execution_count": 26,
   "id": "96b1c524-89fb-4ce8-a49f-067fd489f84a",
   "metadata": {},
   "outputs": [],
   "source": [
    "def validation(model, criterion, val_loader, device):\n",
    "    model.eval()\n",
    "    val_loss = []\n",
    "    preds, true_labels = [], []\n",
    "\n",
    "    with torch.no_grad():\n",
    "        for imgs, labels in tqdm(iter(val_loader)):\n",
    "            imgs = imgs.float().to(device)\n",
    "            labels = labels.to(device)\n",
    "            \n",
    "            pred = model(imgs)\n",
    "            \n",
    "            loss = criterion(pred, labels)\n",
    "            \n",
    "            preds += pred.argmax(1).detach().cpu().numpy().tolist()\n",
    "            true_labels += labels.detach().cpu().numpy().tolist()\n",
    "            \n",
    "            val_loss.append(loss.item())\n",
    "        \n",
    "        _val_loss = np.mean(val_loss)\n",
    "        _val_score = f1_score(true_labels, preds, average='weighted')\n",
    "    \n",
    "    return _val_loss, _val_score"
   ]
  },
  {
   "cell_type": "code",
   "execution_count": 27,
   "id": "c16ca85e",
   "metadata": {},
   "outputs": [],
   "source": [
    "# #!/bin/bash\n",
    "# # os.chdir('train')\n",
    "# # 변경 전 폴더명 리스트\n",
    "# old_names = [\"녹오염\", \"걸레받이수정\", \"꼬임\", \"석고수정\", \"오타공\", \"울음\", \"이음부불량\",\n",
    "#              \"몰딩수정\", \"면불량\", \"창틀,문틀수정\", \"피스\", \"곰팡이\", \"반점\", \"들뜸\", \"오염\",\n",
    "#              \"가구수정\", \"터짐\", \"훼손\", \"틈새과다\"]\n",
    "\n",
    "# # 변경 후 폴더명 리스트\n",
    "# new_names = [\"rust\", \"mop_cleaning\", \"twist\", \"gypsum_repair\", \"typo\", \"cry\", \"splice_defect\",\n",
    "#              \"molding_repair\", \"wrinkle\", \"window_frame_repair\", \"piece\", \"mold\", \"stain\", \n",
    "#              \"uneven\", \"contamination\", \"furniture_repair\", \"crack\", \"damage\", \"excessive_gap\"]\n",
    "\n",
    "# ch_names = os.listdir()\n",
    "# # 현재 폴더 경로\n",
    "# current_dir = os.getcwd()\n",
    "\n",
    "# # 폴더명 변경\n",
    "# for old_name, new_name in zip(ch_names, old_names):\n",
    "#     old_path = old_name\n",
    "#     new_path = new_name\n",
    "#     os.rename(old_path, new_path)\n",
    "\n"
   ]
  },
  {
   "cell_type": "markdown",
   "id": "51da39f9-904f-4abd-a7d2-cdf29c4a6c24",
   "metadata": {},
   "source": [
    "## Run!!"
   ]
  },
  {
   "cell_type": "code",
   "execution_count": 28,
   "id": "86142d9a-68b7-4d04-8423-49d28025411d",
   "metadata": {
    "tags": []
   },
   "outputs": [
    {
     "data": {
      "application/vnd.jupyter.widget-view+json": {
       "model_id": "624cc9c87cab4e779e27d1a815a0c437",
       "version_major": 2,
       "version_minor": 0
      },
      "text/plain": [
       "  0%|          | 0/44 [00:00<?, ?it/s]"
      ]
     },
     "metadata": {},
     "output_type": "display_data"
    },
    {
     "data": {
      "application/vnd.jupyter.widget-view+json": {
       "model_id": "f65bd93e28544ec2a21741248212a1e7",
       "version_major": 2,
       "version_minor": 0
      },
      "text/plain": [
       "  0%|          | 0/11 [00:00<?, ?it/s]"
      ]
     },
     "metadata": {},
     "output_type": "display_data"
    },
    {
     "name": "stdout",
     "output_type": "stream",
     "text": [
      "Epoch [1], Train Loss : [0.24850] Val Loss : [0.25892] Val Weighted F1 Score : [0.63593]\n"
     ]
    },
    {
     "data": {
      "application/vnd.jupyter.widget-view+json": {
       "model_id": "d029c950454c4dc98226e8c0d3cfc358",
       "version_major": 2,
       "version_minor": 0
      },
      "text/plain": [
       "  0%|          | 0/44 [00:00<?, ?it/s]"
      ]
     },
     "metadata": {},
     "output_type": "display_data"
    },
    {
     "data": {
      "application/vnd.jupyter.widget-view+json": {
       "model_id": "920047a7dfb746df9264868fedaa5442",
       "version_major": 2,
       "version_minor": 0
      },
      "text/plain": [
       "  0%|          | 0/11 [00:00<?, ?it/s]"
      ]
     },
     "metadata": {},
     "output_type": "display_data"
    },
    {
     "name": "stdout",
     "output_type": "stream",
     "text": [
      "Epoch [2], Train Loss : [0.06440] Val Loss : [0.20265] Val Weighted F1 Score : [0.68957]\n"
     ]
    },
    {
     "data": {
      "application/vnd.jupyter.widget-view+json": {
       "model_id": "69b122946f63485f81bf2e6dd7453142",
       "version_major": 2,
       "version_minor": 0
      },
      "text/plain": [
       "  0%|          | 0/44 [00:00<?, ?it/s]"
      ]
     },
     "metadata": {},
     "output_type": "display_data"
    },
    {
     "data": {
      "application/vnd.jupyter.widget-view+json": {
       "model_id": "709758f94f444d18a873840e0a53d680",
       "version_major": 2,
       "version_minor": 0
      },
      "text/plain": [
       "  0%|          | 0/11 [00:00<?, ?it/s]"
      ]
     },
     "metadata": {},
     "output_type": "display_data"
    },
    {
     "name": "stdout",
     "output_type": "stream",
     "text": [
      "Epoch [3], Train Loss : [0.04637] Val Loss : [0.19071] Val Weighted F1 Score : [0.70106]\n"
     ]
    },
    {
     "data": {
      "application/vnd.jupyter.widget-view+json": {
       "model_id": "071846838ae94731aae9366bc6284eb7",
       "version_major": 2,
       "version_minor": 0
      },
      "text/plain": [
       "  0%|          | 0/44 [00:00<?, ?it/s]"
      ]
     },
     "metadata": {},
     "output_type": "display_data"
    },
    {
     "data": {
      "application/vnd.jupyter.widget-view+json": {
       "model_id": "89d81cfc5e8e4d34af6c06ba59a835f6",
       "version_major": 2,
       "version_minor": 0
      },
      "text/plain": [
       "  0%|          | 0/11 [00:00<?, ?it/s]"
      ]
     },
     "metadata": {},
     "output_type": "display_data"
    },
    {
     "name": "stdout",
     "output_type": "stream",
     "text": [
      "Epoch [4], Train Loss : [0.03895] Val Loss : [0.20395] Val Weighted F1 Score : [0.70521]\n"
     ]
    },
    {
     "data": {
      "application/vnd.jupyter.widget-view+json": {
       "model_id": "8bd89f06d6c84e99b081277a9759d314",
       "version_major": 2,
       "version_minor": 0
      },
      "text/plain": [
       "  0%|          | 0/44 [00:00<?, ?it/s]"
      ]
     },
     "metadata": {},
     "output_type": "display_data"
    },
    {
     "data": {
      "application/vnd.jupyter.widget-view+json": {
       "model_id": "8f81980abdde4e89b841503bd56a2281",
       "version_major": 2,
       "version_minor": 0
      },
      "text/plain": [
       "  0%|          | 0/11 [00:00<?, ?it/s]"
      ]
     },
     "metadata": {},
     "output_type": "display_data"
    },
    {
     "name": "stdout",
     "output_type": "stream",
     "text": [
      "Epoch [5], Train Loss : [0.02659] Val Loss : [0.18434] Val Weighted F1 Score : [0.73353]\n"
     ]
    }
   ],
   "source": [
    "model = BaseModel()\n",
    "model.eval()\n",
    "optimizer = torch.optim.AdamW(params = model.parameters(), lr = CFG[\"LEARNING_RATE\"])\n",
    "scheduler = torch.optim.lr_scheduler.ReduceLROnPlateau(optimizer, mode='max', factor=0.5, patience=2, threshold_mode='abs', min_lr=1e-8, verbose=True)\n",
    "\n",
    "infer_model = trains(model, optimizer, train_loader, val_loader, scheduler, device)"
   ]
  },
  {
   "cell_type": "markdown",
   "id": "e275a486-9c59-4b4e-80f6-5000e017b921",
   "metadata": {},
   "source": [
    "## Inference"
   ]
  },
  {
   "cell_type": "code",
   "execution_count": 29,
   "id": "0ed16d0e-61ee-4737-b90a-3842860cc40a",
   "metadata": {},
   "outputs": [],
   "source": [
    "test = pd.read_csv('test.csv')"
   ]
  },
  {
   "cell_type": "code",
   "execution_count": 30,
   "id": "dbbf9ae5-9d8c-4800-a809-63094a1e9a24",
   "metadata": {},
   "outputs": [],
   "source": [
    "test_dataset = CustomDataset(test['img_path'].values, None, test_transform)\n",
    "test_loader = DataLoader(test_dataset, batch_size=CFG['BATCH_SIZE'], shuffle=False, num_workers=0)"
   ]
  },
  {
   "cell_type": "code",
   "execution_count": 31,
   "id": "378fd3a9-76d8-4c9a-81a1-c6a48492684c",
   "metadata": {},
   "outputs": [],
   "source": [
    "def inference(model, test_loader, device):\n",
    "    model.eval()\n",
    "    preds = []\n",
    "    with torch.no_grad():\n",
    "        for imgs in tqdm(iter(test_loader)):\n",
    "            imgs = imgs.float().to(device)\n",
    "            \n",
    "            pred = model(imgs)\n",
    "            \n",
    "            preds += pred.argmax(1).detach().cpu().numpy().tolist()\n",
    "    \n",
    "    preds = le.inverse_transform(preds)\n",
    "    return preds"
   ]
  },
  {
   "cell_type": "code",
   "execution_count": 41,
   "id": "fb941e80",
   "metadata": {},
   "outputs": [
    {
     "data": {
      "text/plain": [
       "array(['훼손', '오염', '훼손', '몰딩수정', '훼손', '훼손',\n",
       "       '훼손', '오염', '훼손', '훼손', '몰딩수정', '피스', '오염',\n",
       "       '오염', '훼손', '오염', '오타공', '걸레받이수정', '오염',\n",
       "       '오염', '곰팡이', '훼손', '훼손', '면불량', '꼬임',\n",
       "       '훼손', '훼손', '오염', '훼손', '훼손', '훼손', '훼손',\n",
       "       '훼손', '오염', '면불량', '훼손', '훼손', '훼손', '훼손',\n",
       "       '훼손', '오염', '울음', '석고수정', '면불량', '훼손',\n",
       "       '석고수정', '훼손', '터짐', '오염', '훼손', '오염', '오염',\n",
       "       '훼손', '훼손', '훼손', '훼손', '훼손', '훼손', '훼손',\n",
       "       '훼손', '오타공', '몰딩수정', '훼손', '오염', '훼손',\n",
       "       '훼손', '오염', '오염', '오염', '피스', '오염', '오염',\n",
       "       '훼손', '훼손', '훼손', '터짐', '훼손', '훼손', '터짐',\n",
       "       '터짐', '꼬임', '오염', '훼손', '훼손', '걸레받이수정',\n",
       "       '훼손', '꼬임', '훼손', '곰팡이', '면불량', '훼손',\n",
       "       '훼손', '훼손', '터짐', '훼손', '훼손', '훼손', '피스',\n",
       "       '훼손', '훼손', '피스', '석고수정', '훼손', '터짐', '오염',\n",
       "       '오염', '가구수정', '몰딩수정', '훼손', '훼손', '오염',\n",
       "       '훼손', '훼손', '훼손', '훼손', '훼손', '훼손', '훼손',\n",
       "       '훼손', '석고수정', '훼손', '훼손', '훼손', '터짐',\n",
       "       '창틀,문틀수정', '훼손', '훼손', '훼손', '훼손', '터짐',\n",
       "       '훼손', '터짐', '꼬임', '오염', '훼손', '오염', '면불량',\n",
       "       '훼손', '훼손', '훼손', '오타공', '훼손', '훼손', '오염',\n",
       "       '훼손', '훼손', '훼손', '훼손', '터짐', '터짐', '훼손',\n",
       "       '훼손', '훼손', '훼손', '훼손', '이음부불량', '오염',\n",
       "       '오염', '석고수정', '훼손', '훼손', '오염', '훼손', '훼손',\n",
       "       '훼손', '훼손', '오염', '오염', '훼손', '훼손', '훼손',\n",
       "       '훼손', '오염', '훼손', '오염', '꼬임', '오염', '오타공',\n",
       "       '석고수정', '꼬임', '훼손', '훼손', '훼손', '오염', '오염',\n",
       "       '훼손', '꼬임', '훼손', '꼬임', '꼬임', '꼬임', '훼손',\n",
       "       '훼손', '훼손', '훼손', '오염', '훼손', '이음부불량',\n",
       "       '훼손', '오염', '훼손', '꼬임', '오염', '훼손',\n",
       "       '창틀,문틀수정', '꼬임', '걸레받이수정', '훼손', '훼손',\n",
       "       '훼손', '꼬임', '석고수정', '훼손', '오염', '오염', '훼손',\n",
       "       '훼손', '훼손', '터짐', '훼손', '훼손', '훼손', '터짐',\n",
       "       '오염', '훼손', '훼손', '훼손', '오염', '터짐', '훼손',\n",
       "       '훼손', '오염', '오염', '오염', '오염', '훼손', '꼬임',\n",
       "       '훼손', '터짐', '오염', '훼손', '훼손', '터짐', '오염',\n",
       "       '터짐', '훼손', '훼손', '훼손', '석고수정', '훼손',\n",
       "       '몰딩수정', '오타공', '오염', '훼손', '훼손', '훼손',\n",
       "       '피스', '몰딩수정', '훼손', '훼손', '오염', '훼손', '훼손',\n",
       "       '피스', '오염', '몰딩수정', '면불량', '꼬임', '오염',\n",
       "       '면불량', '면불량', '걸레받이수정', '오염', '훼손',\n",
       "       '석고수정', '터짐', '훼손', '꼬임', '꼬임', '몰딩수정',\n",
       "       '훼손', '오염', '피스', '훼손', '오염', '오염', '면불량',\n",
       "       '훼손', '훼손', '훼손', '오염', '터짐', '훼손', '훼손',\n",
       "       '오염', '훼손', '터짐', '훼손', '훼손', '오염', '훼손',\n",
       "       '훼손', '곰팡이', '훼손', '걸레받이수정', '터짐', '오염',\n",
       "       '피스', '훼손', '훼손', '훼손', '피스', '훼손', '훼손',\n",
       "       '훼손', '훼손', '오염', '훼손', '꼬임', '꼬임', '석고수정',\n",
       "       '곰팡이', '터짐', '훼손', '훼손', '훼손', '오염', '터짐',\n",
       "       '훼손', '걸레받이수정', '훼손', '훼손', '오염', '훼손',\n",
       "       '훼손', '곰팡이', '훼손', '면불량', '훼손', '훼손',\n",
       "       '오타공', '훼손', '오염', '피스', '터짐', '훼손', '터짐',\n",
       "       '오염', '훼손', '꼬임', '훼손', '훼손', '터짐', '오염',\n",
       "       '오염', '터짐', '훼손', '훼손', '걸레받이수정', '훼손',\n",
       "       '훼손', '훼손', '걸레받이수정', '훼손', '훼손', '훼손',\n",
       "       '훼손', '훼손', '훼손', '오타공', '피스', '터짐', '훼손',\n",
       "       '오염', '석고수정', '오염', '훼손', '훼손', '훼손', '훼손',\n",
       "       '오염', '훼손', '터짐', '훼손', '이음부불량', '녹오염',\n",
       "       '훼손', '석고수정', '훼손', '훼손', '훼손', '오염', '훼손',\n",
       "       '오염', '면불량', '오염', '훼손', '터짐', '훼손', '오염',\n",
       "       '훼손', '터짐', '훼손', '훼손', '꼬임', '훼손', '오염',\n",
       "       '면불량', '훼손', '오염', '피스', '훼손', '훼손',\n",
       "       '곰팡이', '훼손', '오염', '오염', '오염', '몰딩수정',\n",
       "       '훼손', '훼손', '훼손', '몰딩수정', '오염', '오염',\n",
       "       '훼손', '훼손', '훼손', '가구수정', '훼손', '훼손',\n",
       "       '석고수정', '꼬임', '훼손', '피스', '가구수정', '터짐',\n",
       "       '터짐', '터짐', '오염', '터짐', '오염', '터짐', '오염',\n",
       "       '오염', '터짐', '오염', '훼손', '훼손', '오염', '훼손',\n",
       "       '오염', '훼손', '오염', '훼손', '훼손', '오염', '곰팡이',\n",
       "       '훼손', '훼손', '오염', '훼손', '훼손', '훼손', '훼손',\n",
       "       '훼손', '훼손', '훼손', '면불량', '면불량', '곰팡이',\n",
       "       '훼손', '터짐', '오염', '오염', '오타공', '터짐', '훼손',\n",
       "       '터짐', '녹오염', '훼손', '꼬임', '오염', '꼬임', '훼손',\n",
       "       '훼손', '면불량', '훼손', '곰팡이', '훼손',\n",
       "       '창틀,문틀수정', '피스', '녹오염', '훼손', '가구수정',\n",
       "       '곰팡이', '오염', '꼬임', '터짐', '훼손', '몰딩수정',\n",
       "       '석고수정', '훼손', '훼손', '오염', '오염', '훼손', '훼손',\n",
       "       '터짐', '훼손', '훼손', '오타공', '오타공', '오염', '꼬임',\n",
       "       '훼손', '훼손', '오염', '면불량', '오타공', '터짐',\n",
       "       '훼손', '가구수정', '면불량', '오타공', '오염', '오타공',\n",
       "       '훼손', '훼손', '면불량', '훼손', '훼손', '꼬임', '훼손',\n",
       "       '이음부불량', '오염', '오염', '훼손', '오염', '터짐',\n",
       "       '오염', '터짐', '오염', '훼손', '훼손', '훼손', '꼬임',\n",
       "       '훼손', '훼손', '훼손', '오염', '창틀,문틀수정',\n",
       "       '오타공', '석고수정', '터짐', '몰딩수정', '오염', '오염',\n",
       "       '터짐', '석고수정', '석고수정', '곰팡이', '훼손', '오염',\n",
       "       '석고수정', '오염', '훼손', '훼손', '꼬임', '들뜸',\n",
       "       '훼손', '오염', '훼손', '몰딩수정', '훼손', '훼손',\n",
       "       '훼손', '오염', '훼손', '오염', '훼손', '오염', '오염',\n",
       "       '꼬임', '훼손', '훼손', '훼손', '터짐', '터짐', '오염',\n",
       "       '곰팡이', '훼손', '훼손', '훼손', '훼손', '훼손', '오염',\n",
       "       '오염', '오염', '면불량', '훼손', '오염', '오염', '훼손',\n",
       "       '몰딩수정', '터짐', '오염', '훼손', '훼손', '피스', '훼손',\n",
       "       '몰딩수정', '석고수정', '훼손', '오타공', '훼손',\n",
       "       '오타공', '훼손', '석고수정', '오염', '오염', '훼손',\n",
       "       '훼손', '훼손', '훼손', '훼손', '터짐', '오염', '훼손',\n",
       "       '석고수정', '훼손', '꼬임', '오염', '가구수정', '훼손',\n",
       "       '훼손', '훼손', '이음부불량', '훼손', '터짐', '훼손',\n",
       "       '걸레받이수정', '훼손', '터짐', '훼손', '곰팡이', '훼손',\n",
       "       '터짐', '훼손', '터짐', '훼손', '오염', '오염', '오염',\n",
       "       '오타공', '훼손', '면불량', '훼손', '피스', '오염', '오염',\n",
       "       '오염', '훼손', '훼손', '꼬임', '훼손', '꼬임', '훼손',\n",
       "       '오염', '훼손', '훼손', '훼손', '훼손', '걸레받이수정',\n",
       "       '오염', '석고수정', '오타공', '훼손', '훼손', '훼손',\n",
       "       '훼손', '석고수정', '훼손', '꼬임', '훼손', '몰딩수정',\n",
       "       '훼손', '훼손', '오타공', '훼손', '훼손', '걸레받이수정',\n",
       "       '훼손', '훼손', '오염', '훼손', '훼손', '훼손', '꼬임',\n",
       "       '오염', '오염', '오염', '오염', '훼손', '창틀,문틀수정',\n",
       "       '훼손', '훼손', '오염', '피스', '오염', '훼손', '훼손',\n",
       "       '창틀,문틀수정', '훼손', '훼손', '훼손', '훼손',\n",
       "       '몰딩수정', '피스', '오염', '걸레받이수정',\n",
       "       '창틀,문틀수정', '녹오염', '훼손', '훼손', '피스',\n",
       "       '터짐', '훼손', '훼손', '훼손', '훼손', '몰딩수정',\n",
       "       '꼬임', '훼손', '훼손', '오염', '훼손', '창틀,문틀수정',\n",
       "       '훼손', '면불량', '석고수정', '오염', '석고수정',\n",
       "       '걸레받이수정', '오염', '훼손', '오염', '곰팡이', '오염',\n",
       "       '훼손', '몰딩수정', '오염', '오염', '터짐', '면불량',\n",
       "       '훼손', '꼬임', '훼손', '오염', '오염', '오염', '훼손',\n",
       "       '석고수정', '훼손', '훼손', '몰딩수정', '꼬임', '훼손',\n",
       "       '훼손', '훼손', '훼손', '훼손', '훼손', '훼손', '곰팡이',\n",
       "       '훼손', '훼손', '오염', '훼손', '훼손', '몰딩수정',\n",
       "       '훼손', '훼손', '꼬임', '훼손', '훼손', '훼손', '꼬임',\n",
       "       '터짐', '오염', '훼손', '면불량'], dtype=object)"
      ]
     },
     "execution_count": 41,
     "metadata": {},
     "output_type": "execute_result"
    }
   ],
   "source": [
    "preds"
   ]
  },
  {
   "cell_type": "code",
   "execution_count": 32,
   "id": "2866935c-407d-4919-a58b-1f8feaa66a2a",
   "metadata": {},
   "outputs": [
    {
     "data": {
      "application/vnd.jupyter.widget-view+json": {
       "model_id": "e1b8ab4635ff454da0e928bc98daa63a",
       "version_major": 2,
       "version_minor": 0
      },
      "text/plain": [
       "  0%|          | 0/13 [00:00<?, ?it/s]"
      ]
     },
     "metadata": {},
     "output_type": "display_data"
    }
   ],
   "source": [
    "preds = inference(infer_model, test_loader, device)"
   ]
  },
  {
   "cell_type": "markdown",
   "id": "35be0d25-6a06-43bb-bca0-94eda2409a26",
   "metadata": {},
   "source": [
    "## Submission"
   ]
  },
  {
   "cell_type": "code",
   "execution_count": 39,
   "id": "fc864be2-c306-4ad0-aa97-1d5ab5ea9811",
   "metadata": {},
   "outputs": [],
   "source": [
    "submit = pd.read_csv('sample_submission.csv')\n",
    "ss = submit.copy()"
   ]
  },
  {
   "cell_type": "code",
   "execution_count": 43,
   "id": "a472198d-6a2f-4d97-b45b-55031d6019a8",
   "metadata": {},
   "outputs": [],
   "source": [
    "submit['label'] = preds"
   ]
  },
  {
   "cell_type": "code",
   "execution_count": 35,
   "id": "367e2dfa",
   "metadata": {},
   "outputs": [],
   "source": [
    "# result folder 생성\n",
    "from datetime import datetime, timezone, timedelta\n",
    "\n",
    "kst = timezone(timedelta(hours=9))\n",
    "train_serial =  datetime.now(kst).strftime('%Y%m%d_%H%M%S')\n",
    "\n",
    "Record_path = os.path.join('../result', train_serial)\n",
    "\n",
    "os.makedirs(Record_path, exist_ok=True)\n",
    "\n",
    "\n"
   ]
  },
  {
   "cell_type": "code",
   "execution_count": 55,
   "id": "cf39fa24",
   "metadata": {},
   "outputs": [
    {
     "data": {
      "text/plain": [
       "str"
      ]
     },
     "execution_count": 55,
     "metadata": {},
     "output_type": "execute_result"
    }
   ],
   "source": [
    "type(submit['label'][0])"
   ]
  },
  {
   "cell_type": "code",
   "execution_count": 37,
   "id": "0e3e0511-2ce0-4658-893f-0f3641c50bb8",
   "metadata": {},
   "outputs": [],
   "source": [
    "submit.to_csv(os.path.join(Record_path,'submit.csv'), index=False)"
   ]
  },
  {
   "cell_type": "code",
   "execution_count": 67,
   "id": "ad80dddb",
   "metadata": {},
   "outputs": [
    {
     "data": {
      "text/plain": [
       "'훼손'"
      ]
     },
     "execution_count": 67,
     "metadata": {},
     "output_type": "execute_result"
    }
   ],
   "source": [
    "submit['label'][0]"
   ]
  },
  {
   "cell_type": "code",
   "execution_count": 68,
   "id": "e4f2daf6",
   "metadata": {},
   "outputs": [
    {
     "data": {
      "text/plain": [
       "'훼손'"
      ]
     },
     "execution_count": 68,
     "metadata": {},
     "output_type": "execute_result"
    }
   ],
   "source": [
    "ss['label'][0]"
   ]
  },
  {
   "cell_type": "code",
   "execution_count": 69,
   "id": "646f50e2",
   "metadata": {},
   "outputs": [
    {
     "data": {
      "text/plain": [
       "{'encoding': 'utf-8', 'confidence': 0.99, 'language': ''}"
      ]
     },
     "execution_count": 69,
     "metadata": {},
     "output_type": "execute_result"
    }
   ],
   "source": [
    "import chardet\n",
    "chardet.detect(submit['label'][0].encode())"
   ]
  },
  {
   "cell_type": "code",
   "execution_count": 70,
   "id": "6416e2ba",
   "metadata": {},
   "outputs": [
    {
     "data": {
      "text/plain": [
       "{'encoding': 'utf-8', 'confidence': 0.7525, 'language': ''}"
      ]
     },
     "execution_count": 70,
     "metadata": {},
     "output_type": "execute_result"
    }
   ],
   "source": [
    "chardet.detect(ss['label'][0].encode())"
   ]
  },
  {
   "cell_type": "code",
   "execution_count": 57,
   "id": "f8173a75",
   "metadata": {},
   "outputs": [
    {
     "data": {
      "text/html": [
       "<div>\n",
       "<style scoped>\n",
       "    .dataframe tbody tr th:only-of-type {\n",
       "        vertical-align: middle;\n",
       "    }\n",
       "\n",
       "    .dataframe tbody tr th {\n",
       "        vertical-align: top;\n",
       "    }\n",
       "\n",
       "    .dataframe thead th {\n",
       "        text-align: right;\n",
       "    }\n",
       "</style>\n",
       "<table border=\"1\" class=\"dataframe\">\n",
       "  <thead>\n",
       "    <tr style=\"text-align: right;\">\n",
       "      <th></th>\n",
       "      <th>id</th>\n",
       "      <th>label</th>\n",
       "    </tr>\n",
       "  </thead>\n",
       "  <tbody>\n",
       "  </tbody>\n",
       "</table>\n",
       "</div>"
      ],
      "text/plain": [
       "Empty DataFrame\n",
       "Columns: [id, label]\n",
       "Index: []"
      ]
     },
     "execution_count": 57,
     "metadata": {},
     "output_type": "execute_result"
    }
   ],
   "source": [
    "submit[submit['label']==ss['label'][0]]"
   ]
  },
  {
   "cell_type": "markdown",
   "id": "b8369f82",
   "metadata": {},
   "source": []
  },
  {
   "cell_type": "code",
   "execution_count": 60,
   "id": "9c6c8838",
   "metadata": {},
   "outputs": [
    {
     "data": {
      "text/html": [
       "<div>\n",
       "<style scoped>\n",
       "    .dataframe tbody tr th:only-of-type {\n",
       "        vertical-align: middle;\n",
       "    }\n",
       "\n",
       "    .dataframe tbody tr th {\n",
       "        vertical-align: top;\n",
       "    }\n",
       "\n",
       "    .dataframe thead th {\n",
       "        text-align: right;\n",
       "    }\n",
       "</style>\n",
       "<table border=\"1\" class=\"dataframe\">\n",
       "  <thead>\n",
       "    <tr style=\"text-align: right;\">\n",
       "      <th></th>\n",
       "      <th>id</th>\n",
       "      <th>label</th>\n",
       "    </tr>\n",
       "  </thead>\n",
       "  <tbody>\n",
       "    <tr>\n",
       "      <th>0</th>\n",
       "      <td>TEST_000</td>\n",
       "      <td>훼손</td>\n",
       "    </tr>\n",
       "    <tr>\n",
       "      <th>1</th>\n",
       "      <td>TEST_001</td>\n",
       "      <td>오염</td>\n",
       "    </tr>\n",
       "    <tr>\n",
       "      <th>2</th>\n",
       "      <td>TEST_002</td>\n",
       "      <td>훼손</td>\n",
       "    </tr>\n",
       "    <tr>\n",
       "      <th>3</th>\n",
       "      <td>TEST_003</td>\n",
       "      <td>몰딩수정</td>\n",
       "    </tr>\n",
       "    <tr>\n",
       "      <th>4</th>\n",
       "      <td>TEST_004</td>\n",
       "      <td>훼손</td>\n",
       "    </tr>\n",
       "    <tr>\n",
       "      <th>...</th>\n",
       "      <td>...</td>\n",
       "      <td>...</td>\n",
       "    </tr>\n",
       "    <tr>\n",
       "      <th>787</th>\n",
       "      <td>TEST_787</td>\n",
       "      <td>꼬임</td>\n",
       "    </tr>\n",
       "    <tr>\n",
       "      <th>788</th>\n",
       "      <td>TEST_788</td>\n",
       "      <td>터짐</td>\n",
       "    </tr>\n",
       "    <tr>\n",
       "      <th>789</th>\n",
       "      <td>TEST_789</td>\n",
       "      <td>오염</td>\n",
       "    </tr>\n",
       "    <tr>\n",
       "      <th>790</th>\n",
       "      <td>TEST_790</td>\n",
       "      <td>훼손</td>\n",
       "    </tr>\n",
       "    <tr>\n",
       "      <th>791</th>\n",
       "      <td>TEST_791</td>\n",
       "      <td>면불량</td>\n",
       "    </tr>\n",
       "  </tbody>\n",
       "</table>\n",
       "<p>792 rows × 2 columns</p>\n",
       "</div>"
      ],
      "text/plain": [
       "           id        label\n",
       "0    TEST_000        훼손\n",
       "1    TEST_001        오염\n",
       "2    TEST_002        훼손\n",
       "3    TEST_003  몰딩수정\n",
       "4    TEST_004        훼손\n",
       "..        ...          ...\n",
       "787  TEST_787        꼬임\n",
       "788  TEST_788        터짐\n",
       "789  TEST_789        오염\n",
       "790  TEST_790        훼손\n",
       "791  TEST_791    면불량\n",
       "\n",
       "[792 rows x 2 columns]"
      ]
     },
     "execution_count": 60,
     "metadata": {},
     "output_type": "execute_result"
    }
   ],
   "source": [
    "submit"
   ]
  },
  {
   "cell_type": "code",
   "execution_count": 38,
   "id": "6970a9ec",
   "metadata": {},
   "outputs": [
    {
     "name": "stdout",
     "output_type": "stream",
     "text": [
      "<class 'pandas.core.frame.DataFrame'>\n",
      "RangeIndex: 792 entries, 0 to 791\n",
      "Data columns (total 2 columns):\n",
      " #   Column  Non-Null Count  Dtype \n",
      "---  ------  --------------  ----- \n",
      " 0   id      792 non-null    object\n",
      " 1   label   792 non-null    object\n",
      "dtypes: object(2)\n",
      "memory usage: 12.5+ KB\n"
     ]
    }
   ],
   "source": [
    "submit.info()"
   ]
  },
  {
   "cell_type": "code",
   "execution_count": 40,
   "id": "f597a399",
   "metadata": {},
   "outputs": [
    {
     "name": "stdout",
     "output_type": "stream",
     "text": [
      "<class 'pandas.core.frame.DataFrame'>\n",
      "RangeIndex: 792 entries, 0 to 791\n",
      "Data columns (total 2 columns):\n",
      " #   Column  Non-Null Count  Dtype \n",
      "---  ------  --------------  ----- \n",
      " 0   id      792 non-null    object\n",
      " 1   label   792 non-null    object\n",
      "dtypes: object(2)\n",
      "memory usage: 12.5+ KB\n"
     ]
    }
   ],
   "source": [
    "ss.info()"
   ]
  },
  {
   "cell_type": "code",
   "execution_count": null,
   "id": "aa05852a",
   "metadata": {},
   "outputs": [],
   "source": []
  },
  {
   "cell_type": "code",
   "execution_count": null,
   "id": "ee7aa453",
   "metadata": {},
   "outputs": [],
   "source": []
  },
  {
   "cell_type": "code",
   "execution_count": null,
   "id": "69965500",
   "metadata": {},
   "outputs": [],
   "source": []
  },
  {
   "cell_type": "code",
   "execution_count": null,
   "id": "199c7a10",
   "metadata": {},
   "outputs": [],
   "source": []
  }
 ],
 "metadata": {
  "kernelspec": {
   "display_name": "Python 3",
   "language": "python",
   "name": "python3"
  },
  "language_info": {
   "codemirror_mode": {
    "name": "ipython",
    "version": 3
   },
   "file_extension": ".py",
   "mimetype": "text/x-python",
   "name": "python",
   "nbconvert_exporter": "python",
   "pygments_lexer": "ipython3",
   "version": "3.9.6"
  }
 },
 "nbformat": 4,
 "nbformat_minor": 5
}
