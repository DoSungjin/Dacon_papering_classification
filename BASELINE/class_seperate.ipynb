{
 "cells": [
  {
   "attachments": {},
   "cell_type": "markdown",
   "id": "a2bcba5f-002e-4f49-9622-ada6117faf0a",
   "metadata": {},
   "source": [
    "## Import"
   ]
  },
  {
   "cell_type": "code",
   "execution_count": 5,
   "id": "61ad9ccf",
   "metadata": {},
   "outputs": [],
   "source": [
    "# !pip3 install albumentations ;!pip3 install opencv-python ; !pip3 install tqdm"
   ]
  },
  {
   "cell_type": "code",
   "execution_count": 1,
   "id": "2b0d9b68-7102-4eca-9543-3b9b8acafc6e",
   "metadata": {},
   "outputs": [
    {
     "name": "stderr",
     "output_type": "stream",
     "text": [
      "c:\\Users\\DoSungjin\\anaconda3\\envs\\gpu-env\\lib\\site-packages\\tqdm\\auto.py:21: TqdmWarning: IProgress not found. Please update jupyter and ipywidgets. See https://ipywidgets.readthedocs.io/en/stable/user_install.html\n",
      "  from .autonotebook import tqdm as notebook_tqdm\n"
     ]
    }
   ],
   "source": [
    "import random\n",
    "import pandas as pd\n",
    "import numpy as np\n",
    "import os\n",
    "import re\n",
    "import glob\n",
    "import cv2\n",
    "\n",
    "import torch\n",
    "import torch.nn as nn\n",
    "import torch.optim as optim\n",
    "import torch.nn.functional as F\n",
    "from torch.utils.data import Dataset, DataLoader, WeightedRandomSampler\n",
    "\n",
    "import albumentations as A\n",
    "from albumentations.pytorch.transforms import ToTensorV2\n",
    "import torchvision.models as models\n",
    "\n",
    "from sklearn.model_selection import train_test_split\n",
    "from sklearn import preprocessing\n",
    "from sklearn.metrics import f1_score\n",
    "from sklearn.metrics import classification_report\n",
    "from tqdm.auto import tqdm\n",
    "\n",
    "# torch.multiprocessing import\n",
    "from torch import multiprocessing\n",
    "\n",
    "from collections import Counter\n",
    "\n",
    "import warnings\n",
    "warnings.filterwarnings(action='ignore') "
   ]
  },
  {
   "cell_type": "code",
   "execution_count": 2,
   "id": "e9614e39",
   "metadata": {},
   "outputs": [
    {
     "data": {
      "text/plain": [
       "'c:\\\\Users\\\\DoSungjin\\\\Documents\\\\GitHub\\\\Dacon_papering_classification\\\\DATA'"
      ]
     },
     "execution_count": 2,
     "metadata": {},
     "output_type": "execute_result"
    }
   ],
   "source": [
    "# 경로지정\n",
    "import os\n",
    "os.chdir('../DATA')\n",
    "os.getcwd()"
   ]
  },
  {
   "cell_type": "code",
   "execution_count": 3,
   "id": "d13862e3-bb27-47af-9b58-a9fbf804df71",
   "metadata": {},
   "outputs": [
    {
     "data": {
      "text/plain": [
       "True"
      ]
     },
     "execution_count": 3,
     "metadata": {},
     "output_type": "execute_result"
    }
   ],
   "source": [
    "import torch\n",
    "# Set the device to CPU or GPU depending on availability\n",
    "device = torch.device('cuda:0') if torch.cuda.is_available() else torch.device('cpu')\n",
    "torch.cuda.is_available()"
   ]
  },
  {
   "attachments": {},
   "cell_type": "markdown",
   "id": "fc7df3f2-62d0-4499-a46e-47d01699def0",
   "metadata": {},
   "source": [
    "## Hyperparameter Setting"
   ]
  },
  {
   "cell_type": "code",
   "execution_count": 4,
   "id": "c3367399-9798-4e38-967b-fd2320b9a2b2",
   "metadata": {},
   "outputs": [],
   "source": [
    "# hyperparameter\n",
    "CFG = {\n",
    "    'IMG_SIZE':224,\n",
    "    'EPOCHS':25,\n",
    "    'LEARNING_RATE':0.001,\n",
    "    'BATCH_SIZE': 64,\n",
    "    'SEED':42\n",
    "}"
   ]
  },
  {
   "attachments": {},
   "cell_type": "markdown",
   "id": "4254e860-ff82-43ba-bfa3-fcee4eb3ddbd",
   "metadata": {},
   "source": [
    "## Fixed RandomSeed"
   ]
  },
  {
   "cell_type": "code",
   "execution_count": 5,
   "id": "101a714b-71b6-4475-a4ce-fa5f98bc2731",
   "metadata": {},
   "outputs": [],
   "source": [
    "def seed_everything(seed):\n",
    "    random.seed(seed)\n",
    "    os.environ['PYTHONHASHSEED'] = str(seed)\n",
    "    np.random.seed(seed)\n",
    "    torch.manual_seed(seed)\n",
    "    torch.cuda.manual_seed(seed)\n",
    "    torch.backends.cudnn.deterministic = True\n",
    "    torch.backends.cudnn.benchmark = True\n",
    "\n",
    "seed_everything(CFG['SEED']) # Seed 고정"
   ]
  },
  {
   "attachments": {},
   "cell_type": "markdown",
   "id": "05a4172e-5791-446f-9616-35c09d8bf25a",
   "metadata": {},
   "source": [
    "## Data Pre-processing"
   ]
  },
  {
   "cell_type": "code",
   "execution_count": 6,
   "id": "2abecd15",
   "metadata": {},
   "outputs": [
    {
     "data": {
      "text/plain": [
       "'c:\\\\Users\\\\DoSungjin\\\\Documents\\\\GitHub\\\\Dacon_papering_classification\\\\DATA'"
      ]
     },
     "execution_count": 6,
     "metadata": {},
     "output_type": "execute_result"
    }
   ],
   "source": [
    "os.getcwd()"
   ]
  },
  {
   "cell_type": "code",
   "execution_count": 7,
   "id": "271f477a",
   "metadata": {},
   "outputs": [],
   "source": [
    "import os\n",
    "\n",
    "# 데이터셋 디렉토리 경로\n",
    "dataset_dir = \"new_train\"\n",
    "\n",
    "# 모든 이미지 파일 경로 리스트\n",
    "all_img_list = []\n",
    "folder_list = []\n",
    "train_file_list = os.listdir(dataset_dir)\n",
    "for item in train_file_list:\n",
    "    item_path = os.path.join(dataset_dir, item)\n",
    "    for file in os.listdir(item_path):\n",
    "        all_img_list.append(os.path.join(item_path, file))\n",
    "        folder_list.append(item)"
   ]
  },
  {
   "cell_type": "code",
   "execution_count": 8,
   "id": "68163566",
   "metadata": {},
   "outputs": [],
   "source": [
    "# # folder name list\n",
    "ori_names = os.listdir('ori_train')\n",
    "\n",
    "new_names = ['furniture_repair', 'cleaning_mop_holder_repair', 'mold', 'twist', 'rust_contamination', 'wobbling', 'fabric_defect', 'molding_repair', 'stain', 'plaster_repair', 'pollution', 'typographical_error', 'crying', 'defective_joint', 'windowdoor_frame_repair', 'cracking', 'excessive_gap', 'piece', 'damage']\n",
    "\n",
    "# print(len(ori_names), len(new_names))\n",
    "# os.chdir('new_train')\n",
    "# # # folder rename\n",
    "# for ori_name, new_name in zip(ori_names, new_names):\n",
    "#     os.rename(ori_name, new_name)\n",
    "\n",
    "# print(os.listdir())\n",
    "# os.chdir('../')"
   ]
  },
  {
   "cell_type": "code",
   "execution_count": 9,
   "id": "b0d43a88",
   "metadata": {},
   "outputs": [
    {
     "name": "stdout",
     "output_type": "stream",
     "text": [
      "go on\n",
      "go on\n",
      "go on\n",
      "go on\n",
      "go on\n",
      "go on\n",
      "go on\n",
      "go on\n",
      "go on\n",
      "go on\n",
      "go on\n",
      "go on\n",
      "go on\n",
      "go on\n",
      "go on\n",
      "go on\n",
      "go on\n",
      "go on\n",
      "go on\n"
     ]
    }
   ],
   "source": [
    "for a,b in zip(ori_names, new_names):\n",
    "    len_a = len(os.listdir(f'ori_train/{a}'))\n",
    "    len_b = len(os.listdir(f'new_train/{b}'))\n",
    "    if len_a == len_b:\n",
    "        print('go on')\n",
    "    else: \n",
    "        print('stop')"
   ]
  },
  {
   "cell_type": "code",
   "execution_count": 10,
   "id": "4119733d-adef-436c-afca-4112a9225d33",
   "metadata": {},
   "outputs": [],
   "source": [
    "df = pd.DataFrame(columns=['img_path', 'label'])\n",
    "df['img_path'] = all_img_list\n",
    "df['label'] = df['img_path'].apply(lambda x : str(x).split('\\\\')[1])"
   ]
  },
  {
   "cell_type": "code",
   "execution_count": 11,
   "id": "4eb63d0b",
   "metadata": {},
   "outputs": [
    {
     "data": {
      "text/html": [
       "<div>\n",
       "<style scoped>\n",
       "    .dataframe tbody tr th:only-of-type {\n",
       "        vertical-align: middle;\n",
       "    }\n",
       "\n",
       "    .dataframe tbody tr th {\n",
       "        vertical-align: top;\n",
       "    }\n",
       "\n",
       "    .dataframe thead th {\n",
       "        text-align: right;\n",
       "    }\n",
       "</style>\n",
       "<table border=\"1\" class=\"dataframe\">\n",
       "  <thead>\n",
       "    <tr style=\"text-align: right;\">\n",
       "      <th></th>\n",
       "      <th>img_path</th>\n",
       "      <th>label</th>\n",
       "    </tr>\n",
       "  </thead>\n",
       "  <tbody>\n",
       "    <tr>\n",
       "      <th>0</th>\n",
       "      <td>new_train\\cleaning_mop_holder_repair\\0.png</td>\n",
       "      <td>cleaning_mop_holder_repair</td>\n",
       "    </tr>\n",
       "    <tr>\n",
       "      <th>1</th>\n",
       "      <td>new_train\\cleaning_mop_holder_repair\\1.png</td>\n",
       "      <td>cleaning_mop_holder_repair</td>\n",
       "    </tr>\n",
       "    <tr>\n",
       "      <th>2</th>\n",
       "      <td>new_train\\cleaning_mop_holder_repair\\10.png</td>\n",
       "      <td>cleaning_mop_holder_repair</td>\n",
       "    </tr>\n",
       "    <tr>\n",
       "      <th>3</th>\n",
       "      <td>new_train\\cleaning_mop_holder_repair\\100.png</td>\n",
       "      <td>cleaning_mop_holder_repair</td>\n",
       "    </tr>\n",
       "    <tr>\n",
       "      <th>4</th>\n",
       "      <td>new_train\\cleaning_mop_holder_repair\\101.png</td>\n",
       "      <td>cleaning_mop_holder_repair</td>\n",
       "    </tr>\n",
       "    <tr>\n",
       "      <th>...</th>\n",
       "      <td>...</td>\n",
       "      <td>...</td>\n",
       "    </tr>\n",
       "    <tr>\n",
       "      <th>3452</th>\n",
       "      <td>new_train\\wobbling\\53.png</td>\n",
       "      <td>wobbling</td>\n",
       "    </tr>\n",
       "    <tr>\n",
       "      <th>3453</th>\n",
       "      <td>new_train\\wobbling\\6.png</td>\n",
       "      <td>wobbling</td>\n",
       "    </tr>\n",
       "    <tr>\n",
       "      <th>3454</th>\n",
       "      <td>new_train\\wobbling\\7.png</td>\n",
       "      <td>wobbling</td>\n",
       "    </tr>\n",
       "    <tr>\n",
       "      <th>3455</th>\n",
       "      <td>new_train\\wobbling\\8.png</td>\n",
       "      <td>wobbling</td>\n",
       "    </tr>\n",
       "    <tr>\n",
       "      <th>3456</th>\n",
       "      <td>new_train\\wobbling\\9.png</td>\n",
       "      <td>wobbling</td>\n",
       "    </tr>\n",
       "  </tbody>\n",
       "</table>\n",
       "<p>3457 rows × 2 columns</p>\n",
       "</div>"
      ],
      "text/plain": [
       "                                          img_path                       label\n",
       "0       new_train\\cleaning_mop_holder_repair\\0.png  cleaning_mop_holder_repair\n",
       "1       new_train\\cleaning_mop_holder_repair\\1.png  cleaning_mop_holder_repair\n",
       "2      new_train\\cleaning_mop_holder_repair\\10.png  cleaning_mop_holder_repair\n",
       "3     new_train\\cleaning_mop_holder_repair\\100.png  cleaning_mop_holder_repair\n",
       "4     new_train\\cleaning_mop_holder_repair\\101.png  cleaning_mop_holder_repair\n",
       "...                                            ...                         ...\n",
       "3452                     new_train\\wobbling\\53.png                    wobbling\n",
       "3453                      new_train\\wobbling\\6.png                    wobbling\n",
       "3454                      new_train\\wobbling\\7.png                    wobbling\n",
       "3455                      new_train\\wobbling\\8.png                    wobbling\n",
       "3456                      new_train\\wobbling\\9.png                    wobbling\n",
       "\n",
       "[3457 rows x 2 columns]"
      ]
     },
     "execution_count": 11,
     "metadata": {},
     "output_type": "execute_result"
    }
   ],
   "source": [
    "df"
   ]
  },
  {
   "cell_type": "code",
   "execution_count": 12,
   "id": "5cc2ebfb",
   "metadata": {},
   "outputs": [
    {
     "name": "stdout",
     "output_type": "stream",
     "text": [
      "['cleaning_mop_holder_repair', 'cracking', 'damage', 'mold', 'molding_repair', 'pollution', 'twist', 'typographical_error'] ['crying', 'defective_joint', 'excessive_gap', 'fabric_defect', 'furniture_repair', 'piece', 'plaster_repair', 'rust_contamination', 'stain', 'windowdoor_frame_repair', 'wobbling']\n"
     ]
    }
   ],
   "source": [
    "# dict value >100\n",
    "my_dict = Counter(df['label'])\n",
    "keys_over_100 = []\n",
    "keys_under_100 = []   \n",
    "for key, value in my_dict.items():\n",
    "    # Value 값이 100 이상이면, 해당 Key를 리스트에 추가\n",
    "    if value >= 100:\n",
    "        keys_over_100.append(key)\n",
    "    else:\n",
    "        keys_under_100.append(key)\n",
    "\n",
    "# 결과 출력\n",
    "print(keys_over_100, keys_under_100)\n",
    "\n",
    "# 새로운 컬럼 생성 및 Over/Under 값 부여\n",
    "df['c_label'] = df['label'].apply(lambda x: 'Over' if x in keys_over_100 else 'Under')\n",
    "\n"
   ]
  },
  {
   "cell_type": "code",
   "execution_count": 1,
   "id": "6961aa03",
   "metadata": {},
   "outputs": [
    {
     "name": "stderr",
     "output_type": "stream",
     "text": [
      "c:\\Users\\DoSungjin\\anaconda3\\envs\\gpu-env\\lib\\site-packages\\tqdm\\auto.py:21: TqdmWarning: IProgress not found. Please update jupyter and ipywidgets. See https://ipywidgets.readthedocs.io/en/stable/user_install.html\n",
      "  from .autonotebook import tqdm as notebook_tqdm\n"
     ]
    },
    {
     "data": {
      "text/plain": [
       "0"
      ]
     },
     "execution_count": 1,
     "metadata": {},
     "output_type": "execute_result"
    }
   ],
   "source": [
    "import torch\n",
    "import gc\n",
    "\n",
    "# If you are using CUDA\n",
    "torch.cuda.empty_cache()\n",
    "gc.collect()"
   ]
  },
  {
   "cell_type": "code",
   "execution_count": 13,
   "id": "8532a1fb",
   "metadata": {},
   "outputs": [
    {
     "data": {
      "text/html": [
       "<div>\n",
       "<style scoped>\n",
       "    .dataframe tbody tr th:only-of-type {\n",
       "        vertical-align: middle;\n",
       "    }\n",
       "\n",
       "    .dataframe tbody tr th {\n",
       "        vertical-align: top;\n",
       "    }\n",
       "\n",
       "    .dataframe thead th {\n",
       "        text-align: right;\n",
       "    }\n",
       "</style>\n",
       "<table border=\"1\" class=\"dataframe\">\n",
       "  <thead>\n",
       "    <tr style=\"text-align: right;\">\n",
       "      <th></th>\n",
       "      <th>img_path</th>\n",
       "      <th>label</th>\n",
       "      <th>c_label</th>\n",
       "    </tr>\n",
       "  </thead>\n",
       "  <tbody>\n",
       "    <tr>\n",
       "      <th>0</th>\n",
       "      <td>new_train\\cleaning_mop_holder_repair\\0.png</td>\n",
       "      <td>cleaning_mop_holder_repair</td>\n",
       "      <td>Over</td>\n",
       "    </tr>\n",
       "    <tr>\n",
       "      <th>1</th>\n",
       "      <td>new_train\\cleaning_mop_holder_repair\\1.png</td>\n",
       "      <td>cleaning_mop_holder_repair</td>\n",
       "      <td>Over</td>\n",
       "    </tr>\n",
       "    <tr>\n",
       "      <th>2</th>\n",
       "      <td>new_train\\cleaning_mop_holder_repair\\10.png</td>\n",
       "      <td>cleaning_mop_holder_repair</td>\n",
       "      <td>Over</td>\n",
       "    </tr>\n",
       "    <tr>\n",
       "      <th>3</th>\n",
       "      <td>new_train\\cleaning_mop_holder_repair\\100.png</td>\n",
       "      <td>cleaning_mop_holder_repair</td>\n",
       "      <td>Over</td>\n",
       "    </tr>\n",
       "    <tr>\n",
       "      <th>4</th>\n",
       "      <td>new_train\\cleaning_mop_holder_repair\\101.png</td>\n",
       "      <td>cleaning_mop_holder_repair</td>\n",
       "      <td>Over</td>\n",
       "    </tr>\n",
       "    <tr>\n",
       "      <th>...</th>\n",
       "      <td>...</td>\n",
       "      <td>...</td>\n",
       "      <td>...</td>\n",
       "    </tr>\n",
       "    <tr>\n",
       "      <th>3452</th>\n",
       "      <td>new_train\\wobbling\\53.png</td>\n",
       "      <td>wobbling</td>\n",
       "      <td>Under</td>\n",
       "    </tr>\n",
       "    <tr>\n",
       "      <th>3453</th>\n",
       "      <td>new_train\\wobbling\\6.png</td>\n",
       "      <td>wobbling</td>\n",
       "      <td>Under</td>\n",
       "    </tr>\n",
       "    <tr>\n",
       "      <th>3454</th>\n",
       "      <td>new_train\\wobbling\\7.png</td>\n",
       "      <td>wobbling</td>\n",
       "      <td>Under</td>\n",
       "    </tr>\n",
       "    <tr>\n",
       "      <th>3455</th>\n",
       "      <td>new_train\\wobbling\\8.png</td>\n",
       "      <td>wobbling</td>\n",
       "      <td>Under</td>\n",
       "    </tr>\n",
       "    <tr>\n",
       "      <th>3456</th>\n",
       "      <td>new_train\\wobbling\\9.png</td>\n",
       "      <td>wobbling</td>\n",
       "      <td>Under</td>\n",
       "    </tr>\n",
       "  </tbody>\n",
       "</table>\n",
       "<p>3457 rows × 3 columns</p>\n",
       "</div>"
      ],
      "text/plain": [
       "                                          img_path   \n",
       "0       new_train\\cleaning_mop_holder_repair\\0.png  \\\n",
       "1       new_train\\cleaning_mop_holder_repair\\1.png   \n",
       "2      new_train\\cleaning_mop_holder_repair\\10.png   \n",
       "3     new_train\\cleaning_mop_holder_repair\\100.png   \n",
       "4     new_train\\cleaning_mop_holder_repair\\101.png   \n",
       "...                                            ...   \n",
       "3452                     new_train\\wobbling\\53.png   \n",
       "3453                      new_train\\wobbling\\6.png   \n",
       "3454                      new_train\\wobbling\\7.png   \n",
       "3455                      new_train\\wobbling\\8.png   \n",
       "3456                      new_train\\wobbling\\9.png   \n",
       "\n",
       "                           label c_label  \n",
       "0     cleaning_mop_holder_repair    Over  \n",
       "1     cleaning_mop_holder_repair    Over  \n",
       "2     cleaning_mop_holder_repair    Over  \n",
       "3     cleaning_mop_holder_repair    Over  \n",
       "4     cleaning_mop_holder_repair    Over  \n",
       "...                          ...     ...  \n",
       "3452                    wobbling   Under  \n",
       "3453                    wobbling   Under  \n",
       "3454                    wobbling   Under  \n",
       "3455                    wobbling   Under  \n",
       "3456                    wobbling   Under  \n",
       "\n",
       "[3457 rows x 3 columns]"
      ]
     },
     "execution_count": 13,
     "metadata": {},
     "output_type": "execute_result"
    }
   ],
   "source": [
    "df"
   ]
  },
  {
   "cell_type": "code",
   "execution_count": 1,
   "id": "2343cd6c",
   "metadata": {},
   "outputs": [],
   "source": [
    "import torch\n",
    "import gc\n",
    "\n",
    "# If you are using CUDA\n",
    "torch.cuda.empty_cache()\n",
    "gc.collect()"
   ]
  },
  {
   "cell_type": "code",
   "execution_count": 14,
   "id": "4db41c93-3515-4fcd-936b-0a01f5388b3f",
   "metadata": {},
   "outputs": [],
   "source": [
    "from sklearn.model_selection import train_test_split\n",
    "\n",
    "train, val, _, _ = train_test_split(df, df['label'], test_size=0.2, stratify=df['label'], random_state=CFG['SEED'])\n"
   ]
  },
  {
   "attachments": {},
   "cell_type": "markdown",
   "id": "bb1f117e-105d-4e9e-b9bd-938d4271a940",
   "metadata": {},
   "source": [
    "## Label-Encoding"
   ]
  },
  {
   "cell_type": "code",
   "execution_count": 15,
   "id": "6c8c5916-8065-4b5c-aa37-f3fb2b9fa422",
   "metadata": {},
   "outputs": [
    {
     "data": {
      "text/html": [
       "<div>\n",
       "<style scoped>\n",
       "    .dataframe tbody tr th:only-of-type {\n",
       "        vertical-align: middle;\n",
       "    }\n",
       "\n",
       "    .dataframe tbody tr th {\n",
       "        vertical-align: top;\n",
       "    }\n",
       "\n",
       "    .dataframe thead th {\n",
       "        text-align: right;\n",
       "    }\n",
       "</style>\n",
       "<table border=\"1\" class=\"dataframe\">\n",
       "  <thead>\n",
       "    <tr style=\"text-align: right;\">\n",
       "      <th></th>\n",
       "      <th>img_path</th>\n",
       "      <th>label</th>\n",
       "      <th>c_label</th>\n",
       "    </tr>\n",
       "  </thead>\n",
       "  <tbody>\n",
       "    <tr>\n",
       "      <th>1182</th>\n",
       "      <td>new_train\\damage\\356.png</td>\n",
       "      <td>damage</td>\n",
       "      <td>0</td>\n",
       "    </tr>\n",
       "    <tr>\n",
       "      <th>2455</th>\n",
       "      <td>new_train\\pollution\\137.png</td>\n",
       "      <td>pollution</td>\n",
       "      <td>0</td>\n",
       "    </tr>\n",
       "    <tr>\n",
       "      <th>3226</th>\n",
       "      <td>new_train\\twist\\92.png</td>\n",
       "      <td>twist</td>\n",
       "      <td>0</td>\n",
       "    </tr>\n",
       "    <tr>\n",
       "      <th>2742</th>\n",
       "      <td>new_train\\pollution\\396.png</td>\n",
       "      <td>pollution</td>\n",
       "      <td>0</td>\n",
       "    </tr>\n",
       "    <tr>\n",
       "      <th>2134</th>\n",
       "      <td>new_train\\mold\\63.png</td>\n",
       "      <td>mold</td>\n",
       "      <td>0</td>\n",
       "    </tr>\n",
       "    <tr>\n",
       "      <th>...</th>\n",
       "      <td>...</td>\n",
       "      <td>...</td>\n",
       "      <td>...</td>\n",
       "    </tr>\n",
       "    <tr>\n",
       "      <th>112</th>\n",
       "      <td>new_train\\cleaning_mop_holder_repair\\2.png</td>\n",
       "      <td>cleaning_mop_holder_repair</td>\n",
       "      <td>0</td>\n",
       "    </tr>\n",
       "    <tr>\n",
       "      <th>315</th>\n",
       "      <td>new_train\\cracking\\105.png</td>\n",
       "      <td>cracking</td>\n",
       "      <td>0</td>\n",
       "    </tr>\n",
       "    <tr>\n",
       "      <th>1932</th>\n",
       "      <td>new_train\\fabric_defect\\21.png</td>\n",
       "      <td>fabric_defect</td>\n",
       "      <td>1</td>\n",
       "    </tr>\n",
       "    <tr>\n",
       "      <th>1089</th>\n",
       "      <td>new_train\\damage\\272.png</td>\n",
       "      <td>damage</td>\n",
       "      <td>0</td>\n",
       "    </tr>\n",
       "    <tr>\n",
       "      <th>486</th>\n",
       "      <td>new_train\\crying\\5.png</td>\n",
       "      <td>crying</td>\n",
       "      <td>1</td>\n",
       "    </tr>\n",
       "  </tbody>\n",
       "</table>\n",
       "<p>2765 rows × 3 columns</p>\n",
       "</div>"
      ],
      "text/plain": [
       "                                        img_path                       label   \n",
       "1182                    new_train\\damage\\356.png                      damage  \\\n",
       "2455                 new_train\\pollution\\137.png                   pollution   \n",
       "3226                      new_train\\twist\\92.png                       twist   \n",
       "2742                 new_train\\pollution\\396.png                   pollution   \n",
       "2134                       new_train\\mold\\63.png                        mold   \n",
       "...                                          ...                         ...   \n",
       "112   new_train\\cleaning_mop_holder_repair\\2.png  cleaning_mop_holder_repair   \n",
       "315                   new_train\\cracking\\105.png                    cracking   \n",
       "1932              new_train\\fabric_defect\\21.png               fabric_defect   \n",
       "1089                    new_train\\damage\\272.png                      damage   \n",
       "486                       new_train\\crying\\5.png                      crying   \n",
       "\n",
       "      c_label  \n",
       "1182        0  \n",
       "2455        0  \n",
       "3226        0  \n",
       "2742        0  \n",
       "2134        0  \n",
       "...       ...  \n",
       "112         0  \n",
       "315         0  \n",
       "1932        1  \n",
       "1089        0  \n",
       "486         1  \n",
       "\n",
       "[2765 rows x 3 columns]"
      ]
     },
     "execution_count": 15,
     "metadata": {},
     "output_type": "execute_result"
    }
   ],
   "source": [
    "le = preprocessing.LabelEncoder()\n",
    "train['c_label'] = le.fit_transform(train['c_label'])\n",
    "val['c_label'] = le.transform(val['c_label'])\n",
    "train"
   ]
  },
  {
   "attachments": {},
   "cell_type": "markdown",
   "id": "ac27ed36-8031-47a7-bd0d-a913513f2e8e",
   "metadata": {},
   "source": [
    "## CustomDataset"
   ]
  },
  {
   "cell_type": "code",
   "execution_count": 16,
   "id": "16fd60a5-24e2-4539-bfd0-1c374a641699",
   "metadata": {},
   "outputs": [],
   "source": [
    "class CustomDataset(Dataset):\n",
    "    def __init__(self, img_path_list, label_list, transforms=None):\n",
    "        self.img_path_list = img_path_list\n",
    "        self.label_list = label_list\n",
    "        self.transforms = transforms\n",
    "        \n",
    "    def __getitem__(self, index):\n",
    "        img_path = self.img_path_list[index]\n",
    "        \n",
    "        image = cv2.imread(img_path)\n",
    "        \n",
    "        if self.transforms is not None:\n",
    "            image = self.transforms(image=image)['image']\n",
    "        \n",
    "        if self.label_list is not None:\n",
    "            label = self.label_list[index]\n",
    "            return image, label\n",
    "        else:\n",
    "            return image\n",
    "        \n",
    "    def __len__(self):\n",
    "        return len(self.img_path_list)"
   ]
  },
  {
   "cell_type": "code",
   "execution_count": 2,
   "id": "9a7ce31b",
   "metadata": {},
   "outputs": [
    {
     "data": {
      "text/plain": [
       "0"
      ]
     },
     "execution_count": 2,
     "metadata": {},
     "output_type": "execute_result"
    }
   ],
   "source": [
    "import torch\n",
    "import gc\n",
    "\n",
    "# If you are using CUDA\n",
    "torch.cuda.empty_cache()\n",
    "gc.collect()"
   ]
  },
  {
   "cell_type": "code",
   "execution_count": 17,
   "id": "340b4a8b-5d6c-413f-b8b6-066e91a660e5",
   "metadata": {},
   "outputs": [],
   "source": [
    "import albumentations as A\n",
    "from albumentations.pytorch.transforms import ToTensorV2\n",
    "\n",
    "train_transform = A.Compose([\n",
    "    A.Resize(CFG['IMG_SIZE'], CFG['IMG_SIZE']),\n",
    "    A.HorizontalFlip(p=0.5),  # Flip the image horizontally with probability 0.5\n",
    "    A.Rotate(limit=10, p=0.5),  # Rotate the image by -10 to 10 degrees with probability 0.5\n",
    "    A.RandomBrightnessContrast(p=0.2),  # Add random brightness and contrast with probability 0.2\n",
    "    A.Normalize(mean=(0.485, 0.456, 0.406), std=(0.229, 0.224, 0.225)),\n",
    "    ToTensorV2()\n",
    "])\n",
    "\n",
    "test_transform = A.Compose([\n",
    "    A.Resize(CFG['IMG_SIZE'], CFG['IMG_SIZE']),\n",
    "    A.Normalize(mean=(0.485, 0.456, 0.406), std=(0.229, 0.224, 0.225)),\n",
    "    ToTensorV2()\n",
    "])\n"
   ]
  },
  {
   "cell_type": "code",
   "execution_count": 18,
   "id": "3eddc330",
   "metadata": {},
   "outputs": [
    {
     "data": {
      "text/html": [
       "<div>\n",
       "<style scoped>\n",
       "    .dataframe tbody tr th:only-of-type {\n",
       "        vertical-align: middle;\n",
       "    }\n",
       "\n",
       "    .dataframe tbody tr th {\n",
       "        vertical-align: top;\n",
       "    }\n",
       "\n",
       "    .dataframe thead th {\n",
       "        text-align: right;\n",
       "    }\n",
       "</style>\n",
       "<table border=\"1\" class=\"dataframe\">\n",
       "  <thead>\n",
       "    <tr style=\"text-align: right;\">\n",
       "      <th></th>\n",
       "      <th>img_path</th>\n",
       "      <th>label</th>\n",
       "      <th>c_label</th>\n",
       "    </tr>\n",
       "  </thead>\n",
       "  <tbody>\n",
       "    <tr>\n",
       "      <th>1182</th>\n",
       "      <td>new_train\\damage\\356.png</td>\n",
       "      <td>damage</td>\n",
       "      <td>0</td>\n",
       "    </tr>\n",
       "    <tr>\n",
       "      <th>2455</th>\n",
       "      <td>new_train\\pollution\\137.png</td>\n",
       "      <td>pollution</td>\n",
       "      <td>0</td>\n",
       "    </tr>\n",
       "    <tr>\n",
       "      <th>3226</th>\n",
       "      <td>new_train\\twist\\92.png</td>\n",
       "      <td>twist</td>\n",
       "      <td>0</td>\n",
       "    </tr>\n",
       "    <tr>\n",
       "      <th>2742</th>\n",
       "      <td>new_train\\pollution\\396.png</td>\n",
       "      <td>pollution</td>\n",
       "      <td>0</td>\n",
       "    </tr>\n",
       "    <tr>\n",
       "      <th>2134</th>\n",
       "      <td>new_train\\mold\\63.png</td>\n",
       "      <td>mold</td>\n",
       "      <td>0</td>\n",
       "    </tr>\n",
       "    <tr>\n",
       "      <th>...</th>\n",
       "      <td>...</td>\n",
       "      <td>...</td>\n",
       "      <td>...</td>\n",
       "    </tr>\n",
       "    <tr>\n",
       "      <th>112</th>\n",
       "      <td>new_train\\cleaning_mop_holder_repair\\2.png</td>\n",
       "      <td>cleaning_mop_holder_repair</td>\n",
       "      <td>0</td>\n",
       "    </tr>\n",
       "    <tr>\n",
       "      <th>315</th>\n",
       "      <td>new_train\\cracking\\105.png</td>\n",
       "      <td>cracking</td>\n",
       "      <td>0</td>\n",
       "    </tr>\n",
       "    <tr>\n",
       "      <th>1932</th>\n",
       "      <td>new_train\\fabric_defect\\21.png</td>\n",
       "      <td>fabric_defect</td>\n",
       "      <td>1</td>\n",
       "    </tr>\n",
       "    <tr>\n",
       "      <th>1089</th>\n",
       "      <td>new_train\\damage\\272.png</td>\n",
       "      <td>damage</td>\n",
       "      <td>0</td>\n",
       "    </tr>\n",
       "    <tr>\n",
       "      <th>486</th>\n",
       "      <td>new_train\\crying\\5.png</td>\n",
       "      <td>crying</td>\n",
       "      <td>1</td>\n",
       "    </tr>\n",
       "  </tbody>\n",
       "</table>\n",
       "<p>2765 rows × 3 columns</p>\n",
       "</div>"
      ],
      "text/plain": [
       "                                        img_path                       label   \n",
       "1182                    new_train\\damage\\356.png                      damage  \\\n",
       "2455                 new_train\\pollution\\137.png                   pollution   \n",
       "3226                      new_train\\twist\\92.png                       twist   \n",
       "2742                 new_train\\pollution\\396.png                   pollution   \n",
       "2134                       new_train\\mold\\63.png                        mold   \n",
       "...                                          ...                         ...   \n",
       "112   new_train\\cleaning_mop_holder_repair\\2.png  cleaning_mop_holder_repair   \n",
       "315                   new_train\\cracking\\105.png                    cracking   \n",
       "1932              new_train\\fabric_defect\\21.png               fabric_defect   \n",
       "1089                    new_train\\damage\\272.png                      damage   \n",
       "486                       new_train\\crying\\5.png                      crying   \n",
       "\n",
       "      c_label  \n",
       "1182        0  \n",
       "2455        0  \n",
       "3226        0  \n",
       "2742        0  \n",
       "2134        0  \n",
       "...       ...  \n",
       "112         0  \n",
       "315         0  \n",
       "1932        1  \n",
       "1089        0  \n",
       "486         1  \n",
       "\n",
       "[2765 rows x 3 columns]"
      ]
     },
     "execution_count": 18,
     "metadata": {},
     "output_type": "execute_result"
    }
   ],
   "source": [
    "train"
   ]
  },
  {
   "cell_type": "code",
   "execution_count": 19,
   "id": "99f043f2",
   "metadata": {},
   "outputs": [
    {
     "data": {
      "text/plain": [
       "array(['new_train\\\\damage\\\\356.png', 'new_train\\\\pollution\\\\137.png',\n",
       "       'new_train\\\\twist\\\\92.png', ...,\n",
       "       'new_train\\\\fabric_defect\\\\21.png', 'new_train\\\\damage\\\\272.png',\n",
       "       'new_train\\\\crying\\\\5.png'], dtype=object)"
      ]
     },
     "execution_count": 19,
     "metadata": {},
     "output_type": "execute_result"
    }
   ],
   "source": [
    "train['img_path'].values"
   ]
  },
  {
   "cell_type": "code",
   "execution_count": 20,
   "id": "9d880481-1965-499d-9caa-fdfa8526f789",
   "metadata": {},
   "outputs": [],
   "source": [
    "train_dataset = CustomDataset(train['img_path'].values, train['c_label'].values, train_transform)\n",
    "train_loader = DataLoader(train_dataset, batch_size = CFG['BATCH_SIZE'], shuffle=False, num_workers=0)\n",
    "\n",
    "\n",
    "val_dataset = CustomDataset(val['img_path'].values, val['c_label'].values, test_transform)\n",
    "val_loader = DataLoader(val_dataset, batch_size=CFG['BATCH_SIZE'], shuffle=False, num_workers=0)"
   ]
  },
  {
   "attachments": {},
   "cell_type": "markdown",
   "id": "39962463-032f-490a-a76d-c03991795f38",
   "metadata": {},
   "source": [
    "## Model Define"
   ]
  },
  {
   "cell_type": "code",
   "execution_count": 23,
   "metadata": {},
   "outputs": [],
   "source": [
    "class BaseModel(nn.Module):\n",
    "    def __init__(self, num_classes=len(le.classes_)):\n",
    "        super(BaseModel, self).__init__()\n",
    "        self.backbone = models.efficientnet_b0(pretrained=True)\n",
    "        self.classifier = nn.Linear(1000, num_classes)\n",
    "        \n",
    "    def forward(self, x):\n",
    "        x = self.backbone(x)\n",
    "        x = self.classifier(x)\n",
    "        return x"
   ]
  },
  {
   "attachments": {},
   "cell_type": "markdown",
   "id": "122af0aa-a1fd-4595-9488-35761e3cb596",
   "metadata": {},
   "source": [
    "# Train"
   ]
  },
  {
   "attachments": {},
   "cell_type": "markdown",
   "id": "b5f91657",
   "metadata": {},
   "source": [
    "# Train_2"
   ]
  },
  {
   "cell_type": "code",
   "execution_count": 36,
   "id": "a17df6b3-16c9-44dd-b0fd-ffb501fee749",
   "metadata": {},
   "outputs": [],
   "source": [
    "def train(model, optimizer, train_loader, val_loader, scheduler, device):\n",
    "    model.to(device)\n",
    "    criterion = nn.CrossEntropyLoss().to(device)\n",
    "    \n",
    "    best_score = 0\n",
    "    best_model = None\n",
    "    \n",
    "    # 임계값 후보 리스트\n",
    "    threshold_list = np.linspace(0, 1, 101)\n",
    "    \n",
    "    for epoch in range(1, CFG['EPOCHS']+1):\n",
    "        model.train()\n",
    "        train_loss = []\n",
    "        for imgs, labels in tqdm(iter(train_loader)):\n",
    "            imgs = imgs.float().to(device)\n",
    "            labels = labels.type(torch.long).to(device)\n",
    "        \n",
    "            optimizer.zero_grad()\n",
    "            \n",
    "            output = model(imgs)\n",
    "            loss = criterion(output, labels)\n",
    "            \n",
    "            loss.backward()\n",
    "            optimizer.step()\n",
    "            \n",
    "            train_loss.append(loss.item())\n",
    "                    \n",
    "        _val_loss, _val_score = validation(model, criterion, val_loader, threshold_list, device)  # 임계값 최적화 함수 호출\n",
    "        _train_loss = np.mean(train_loss)\n",
    "        print(f'Epoch [{epoch}], Train Loss : [{_train_loss:.5f}] Val Loss : [{_val_loss:.5f}] Val Weighted F1 Score : [{_val_score:.5f}]')\n",
    "       \n",
    "        if scheduler is not None:\n",
    "            scheduler.step(_val_score)\n",
    "            \n",
    "        if best_score < _val_score:\n",
    "            best_score = _val_score\n",
    "            best_model = model\n",
    "    \n",
    "    return best_model\n",
    "\n",
    "\n",
    "def validation(model, criterion, val_loader, threshold_list, device):\n",
    "    model.eval()\n",
    "    val_loss = []\n",
    "    preds, true_labels = [], []\n",
    "    best_threshold = None  # 최적의 임계값\n",
    "    best_f1_score = 0  # 최적의 F1-score\n",
    "    \n",
    "    with torch.no_grad():\n",
    "        for threshold in threshold_list:\n",
    "            val_loss = []\n",
    "            preds, true_labels = [], []\n",
    "            \n",
    "            for imgs, labels in tqdm(iter(val_loader)):\n",
    "                imgs = imgs.float().to(device)\n",
    "                labels = labels.type(torch.long).to(device)\n",
    "                \n",
    "                pred = model(imgs)\n",
    "                loss = criterion(pred, labels)\n",
    "                \n",
    "                # 임계값을 적용하여 예측 결과 계산\n",
    "                pred_thresholded = (pred.argmax(1) >= threshold).to(torch.long)\n",
    "                \n",
    "                preds += pred_thresholded.detach().cpu().numpy().tolist()\n",
    "                true_labels += labels.detach().cpu().numpy().tolist()\n",
    "                \n",
    "                val_loss.append(loss.item())\n",
    "            \n",
    "            val_loss_avg = np.mean(val_loss)\n",
    "            f1 = f1_score(true_labels, preds, average='weighted')\n",
    "            \n",
    "            if f1 > best_f1_score:\n",
    "                best_f1_score = f1\n",
    "                best_threshold = threshold\n",
    "            \n",
    "    print(f\"Best threshold: {best_threshold}, Best F1-score: {best_f1_score}\")\n",
    "    \n",
    "    return val_loss_avg, best_f1_score\n"
   ]
  },
  {
   "cell_type": "code",
   "execution_count": null,
   "id": "c16ca85e",
   "metadata": {},
   "outputs": [],
   "source": []
  },
  {
   "attachments": {},
   "cell_type": "markdown",
   "id": "51da39f9-904f-4abd-a7d2-cdf29c4a6c24",
   "metadata": {},
   "source": [
    "## Run!!"
   ]
  },
  {
   "cell_type": "code",
   "execution_count": 26,
   "id": "86142d9a-68b7-4d04-8423-49d28025411d",
   "metadata": {
    "tags": []
   },
   "outputs": [
    {
     "name": "stderr",
     "output_type": "stream",
     "text": [
      "100%|██████████| 44/44 [00:52<00:00,  1.18s/it]\n",
      "100%|██████████| 11/11 [00:09<00:00,  1.11it/s]\n"
     ]
    },
    {
     "name": "stdout",
     "output_type": "stream",
     "text": [
      "Epoch [1], Train Loss : [0.36281] Val Loss : [0.30213] Val Weighted F1 Score : [0.89864]\n"
     ]
    },
    {
     "name": "stderr",
     "output_type": "stream",
     "text": [
      "100%|██████████| 44/44 [00:26<00:00,  1.63it/s]\n",
      "100%|██████████| 11/11 [00:05<00:00,  2.12it/s]\n"
     ]
    },
    {
     "name": "stdout",
     "output_type": "stream",
     "text": [
      "Epoch [2], Train Loss : [0.18949] Val Loss : [0.34551] Val Weighted F1 Score : [0.91967]\n"
     ]
    },
    {
     "name": "stderr",
     "output_type": "stream",
     "text": [
      "100%|██████████| 44/44 [00:28<00:00,  1.54it/s]\n",
      "100%|██████████| 11/11 [00:05<00:00,  1.98it/s]\n"
     ]
    },
    {
     "name": "stdout",
     "output_type": "stream",
     "text": [
      "Epoch [3], Train Loss : [0.12584] Val Loss : [0.33973] Val Weighted F1 Score : [0.88781]\n"
     ]
    },
    {
     "name": "stderr",
     "output_type": "stream",
     "text": [
      "100%|██████████| 44/44 [00:29<00:00,  1.51it/s]\n",
      "100%|██████████| 11/11 [00:05<00:00,  2.01it/s]\n"
     ]
    },
    {
     "name": "stdout",
     "output_type": "stream",
     "text": [
      "Epoch [4], Train Loss : [0.11607] Val Loss : [0.30236] Val Weighted F1 Score : [0.91281]\n"
     ]
    },
    {
     "name": "stderr",
     "output_type": "stream",
     "text": [
      "100%|██████████| 44/44 [00:26<00:00,  1.64it/s]\n",
      "100%|██████████| 11/11 [00:05<00:00,  2.09it/s]\n"
     ]
    },
    {
     "name": "stdout",
     "output_type": "stream",
     "text": [
      "Epoch [5], Train Loss : [0.09091] Val Loss : [0.43154] Val Weighted F1 Score : [0.89952]\n",
      "Epoch 00005: reducing learning rate of group 0 to 5.0000e-04.\n"
     ]
    },
    {
     "name": "stderr",
     "output_type": "stream",
     "text": [
      "100%|██████████| 44/44 [00:27<00:00,  1.63it/s]\n",
      "100%|██████████| 11/11 [00:05<00:00,  1.92it/s]\n"
     ]
    },
    {
     "name": "stdout",
     "output_type": "stream",
     "text": [
      "Epoch [6], Train Loss : [0.05074] Val Loss : [0.46471] Val Weighted F1 Score : [0.91619]\n"
     ]
    },
    {
     "name": "stderr",
     "output_type": "stream",
     "text": [
      "100%|██████████| 44/44 [00:28<00:00,  1.52it/s]\n",
      "100%|██████████| 11/11 [00:05<00:00,  1.88it/s]\n"
     ]
    },
    {
     "name": "stdout",
     "output_type": "stream",
     "text": [
      "Epoch [7], Train Loss : [0.04939] Val Loss : [0.51226] Val Weighted F1 Score : [0.91477]\n"
     ]
    },
    {
     "name": "stderr",
     "output_type": "stream",
     "text": [
      "100%|██████████| 44/44 [00:28<00:00,  1.53it/s]\n",
      "100%|██████████| 11/11 [00:05<00:00,  2.08it/s]\n"
     ]
    },
    {
     "name": "stdout",
     "output_type": "stream",
     "text": [
      "Epoch [8], Train Loss : [0.02414] Val Loss : [0.53656] Val Weighted F1 Score : [0.91523]\n",
      "Epoch 00008: reducing learning rate of group 0 to 2.5000e-04.\n"
     ]
    },
    {
     "name": "stderr",
     "output_type": "stream",
     "text": [
      "100%|██████████| 44/44 [00:26<00:00,  1.66it/s]\n",
      "100%|██████████| 11/11 [00:05<00:00,  2.10it/s]\n"
     ]
    },
    {
     "name": "stdout",
     "output_type": "stream",
     "text": [
      "Epoch [9], Train Loss : [0.01119] Val Loss : [0.52897] Val Weighted F1 Score : [0.91324]\n"
     ]
    },
    {
     "name": "stderr",
     "output_type": "stream",
     "text": [
      "100%|██████████| 44/44 [00:26<00:00,  1.66it/s]\n",
      "100%|██████████| 11/11 [00:05<00:00,  2.10it/s]\n"
     ]
    },
    {
     "name": "stdout",
     "output_type": "stream",
     "text": [
      "Epoch [10], Train Loss : [0.01376] Val Loss : [0.54944] Val Weighted F1 Score : [0.91983]\n"
     ]
    },
    {
     "name": "stderr",
     "output_type": "stream",
     "text": [
      "100%|██████████| 44/44 [00:26<00:00,  1.66it/s]\n",
      "100%|██████████| 11/11 [00:05<00:00,  2.10it/s]\n"
     ]
    },
    {
     "name": "stdout",
     "output_type": "stream",
     "text": [
      "Epoch [11], Train Loss : [0.01081] Val Loss : [0.55504] Val Weighted F1 Score : [0.91204]\n"
     ]
    },
    {
     "name": "stderr",
     "output_type": "stream",
     "text": [
      "100%|██████████| 44/44 [00:26<00:00,  1.66it/s]\n",
      "100%|██████████| 11/11 [00:05<00:00,  2.11it/s]\n"
     ]
    },
    {
     "name": "stdout",
     "output_type": "stream",
     "text": [
      "Epoch [12], Train Loss : [0.00579] Val Loss : [0.58888] Val Weighted F1 Score : [0.90713]\n"
     ]
    },
    {
     "name": "stderr",
     "output_type": "stream",
     "text": [
      "100%|██████████| 44/44 [00:26<00:00,  1.65it/s]\n",
      "100%|██████████| 11/11 [00:05<00:00,  2.09it/s]\n"
     ]
    },
    {
     "name": "stdout",
     "output_type": "stream",
     "text": [
      "Epoch [13], Train Loss : [0.00310] Val Loss : [0.63942] Val Weighted F1 Score : [0.90952]\n",
      "Epoch 00013: reducing learning rate of group 0 to 1.2500e-04.\n"
     ]
    },
    {
     "name": "stderr",
     "output_type": "stream",
     "text": [
      "100%|██████████| 44/44 [00:26<00:00,  1.65it/s]\n",
      "100%|██████████| 11/11 [00:05<00:00,  2.01it/s]\n"
     ]
    },
    {
     "name": "stdout",
     "output_type": "stream",
     "text": [
      "Epoch [14], Train Loss : [0.00391] Val Loss : [0.63958] Val Weighted F1 Score : [0.91193]\n"
     ]
    },
    {
     "name": "stderr",
     "output_type": "stream",
     "text": [
      "100%|██████████| 44/44 [00:27<00:00,  1.61it/s]\n",
      "100%|██████████| 11/11 [00:05<00:00,  2.09it/s]\n"
     ]
    },
    {
     "name": "stdout",
     "output_type": "stream",
     "text": [
      "Epoch [15], Train Loss : [0.00446] Val Loss : [0.62113] Val Weighted F1 Score : [0.91487]\n"
     ]
    },
    {
     "name": "stderr",
     "output_type": "stream",
     "text": [
      "100%|██████████| 44/44 [00:26<00:00,  1.63it/s]\n",
      "100%|██████████| 11/11 [00:05<00:00,  2.08it/s]\n"
     ]
    },
    {
     "name": "stdout",
     "output_type": "stream",
     "text": [
      "Epoch [16], Train Loss : [0.00236] Val Loss : [0.67122] Val Weighted F1 Score : [0.91438]\n",
      "Epoch 00016: reducing learning rate of group 0 to 6.2500e-05.\n"
     ]
    },
    {
     "name": "stderr",
     "output_type": "stream",
     "text": [
      "100%|██████████| 44/44 [00:26<00:00,  1.66it/s]\n",
      "100%|██████████| 11/11 [00:05<00:00,  2.11it/s]\n"
     ]
    },
    {
     "name": "stdout",
     "output_type": "stream",
     "text": [
      "Epoch [17], Train Loss : [0.00312] Val Loss : [0.66147] Val Weighted F1 Score : [0.91562]\n"
     ]
    },
    {
     "name": "stderr",
     "output_type": "stream",
     "text": [
      "100%|██████████| 44/44 [00:26<00:00,  1.66it/s]\n",
      "100%|██████████| 11/11 [00:05<00:00,  2.11it/s]\n"
     ]
    },
    {
     "name": "stdout",
     "output_type": "stream",
     "text": [
      "Epoch [18], Train Loss : [0.00170] Val Loss : [0.65909] Val Weighted F1 Score : [0.91438]\n"
     ]
    },
    {
     "name": "stderr",
     "output_type": "stream",
     "text": [
      "100%|██████████| 44/44 [00:26<00:00,  1.65it/s]\n",
      "100%|██████████| 11/11 [00:05<00:00,  2.10it/s]\n"
     ]
    },
    {
     "name": "stdout",
     "output_type": "stream",
     "text": [
      "Epoch [19], Train Loss : [0.00115] Val Loss : [0.65797] Val Weighted F1 Score : [0.91072]\n",
      "Epoch 00019: reducing learning rate of group 0 to 3.1250e-05.\n"
     ]
    },
    {
     "name": "stderr",
     "output_type": "stream",
     "text": [
      "100%|██████████| 44/44 [00:26<00:00,  1.66it/s]\n",
      "100%|██████████| 11/11 [00:05<00:00,  2.08it/s]\n"
     ]
    },
    {
     "name": "stdout",
     "output_type": "stream",
     "text": [
      "Epoch [20], Train Loss : [0.00341] Val Loss : [0.64810] Val Weighted F1 Score : [0.91403]\n"
     ]
    },
    {
     "name": "stderr",
     "output_type": "stream",
     "text": [
      "100%|██████████| 44/44 [00:26<00:00,  1.65it/s]\n",
      "100%|██████████| 11/11 [00:05<00:00,  2.09it/s]\n"
     ]
    },
    {
     "name": "stdout",
     "output_type": "stream",
     "text": [
      "Epoch [21], Train Loss : [0.00099] Val Loss : [0.67603] Val Weighted F1 Score : [0.91315]\n"
     ]
    },
    {
     "name": "stderr",
     "output_type": "stream",
     "text": [
      "100%|██████████| 44/44 [00:26<00:00,  1.66it/s]\n",
      "100%|██████████| 11/11 [00:05<00:00,  2.10it/s]\n"
     ]
    },
    {
     "name": "stdout",
     "output_type": "stream",
     "text": [
      "Epoch [22], Train Loss : [0.00206] Val Loss : [0.67441] Val Weighted F1 Score : [0.91072]\n",
      "Epoch 00022: reducing learning rate of group 0 to 1.5625e-05.\n"
     ]
    },
    {
     "name": "stderr",
     "output_type": "stream",
     "text": [
      "100%|██████████| 44/44 [00:26<00:00,  1.65it/s]\n",
      "100%|██████████| 11/11 [00:05<00:00,  2.08it/s]\n"
     ]
    },
    {
     "name": "stdout",
     "output_type": "stream",
     "text": [
      "Epoch [23], Train Loss : [0.00229] Val Loss : [0.66649] Val Weighted F1 Score : [0.91193]\n"
     ]
    },
    {
     "name": "stderr",
     "output_type": "stream",
     "text": [
      "100%|██████████| 44/44 [00:26<00:00,  1.66it/s]\n",
      "100%|██████████| 11/11 [00:05<00:00,  2.12it/s]\n"
     ]
    },
    {
     "name": "stdout",
     "output_type": "stream",
     "text": [
      "Epoch [24], Train Loss : [0.00204] Val Loss : [0.66071] Val Weighted F1 Score : [0.91072]\n"
     ]
    },
    {
     "name": "stderr",
     "output_type": "stream",
     "text": [
      "100%|██████████| 44/44 [00:26<00:00,  1.66it/s]\n",
      "100%|██████████| 11/11 [00:05<00:00,  2.11it/s]"
     ]
    },
    {
     "name": "stdout",
     "output_type": "stream",
     "text": [
      "Epoch [25], Train Loss : [0.00410] Val Loss : [0.66868] Val Weighted F1 Score : [0.91193]\n",
      "Epoch 00025: reducing learning rate of group 0 to 7.8125e-06.\n"
     ]
    },
    {
     "name": "stderr",
     "output_type": "stream",
     "text": [
      "\n"
     ]
    }
   ],
   "source": [
    "model = BaseModel()\n",
    "model.eval()\n",
    "optimizer = torch.optim.AdamW(params = model.parameters(), lr = CFG[\"LEARNING_RATE\"])\n",
    "scheduler = torch.optim.lr_scheduler.ReduceLROnPlateau(optimizer, mode='max', factor=0.5, patience=2, threshold_mode='abs', min_lr=1e-8, verbose=True)\n",
    "\n",
    "infer_model = train(model, optimizer, train_loader, val_loader, scheduler, device)"
   ]
  },
  {
   "attachments": {},
   "cell_type": "markdown",
   "id": "e275a486-9c59-4b4e-80f6-5000e017b921",
   "metadata": {},
   "source": [
    "## Inference"
   ]
  },
  {
   "cell_type": "code",
   "execution_count": 27,
   "id": "0ed16d0e-61ee-4737-b90a-3842860cc40a",
   "metadata": {},
   "outputs": [
    {
     "data": {
      "text/html": [
       "<div>\n",
       "<style scoped>\n",
       "    .dataframe tbody tr th:only-of-type {\n",
       "        vertical-align: middle;\n",
       "    }\n",
       "\n",
       "    .dataframe tbody tr th {\n",
       "        vertical-align: top;\n",
       "    }\n",
       "\n",
       "    .dataframe thead th {\n",
       "        text-align: right;\n",
       "    }\n",
       "</style>\n",
       "<table border=\"1\" class=\"dataframe\">\n",
       "  <thead>\n",
       "    <tr style=\"text-align: right;\">\n",
       "      <th></th>\n",
       "      <th>id</th>\n",
       "      <th>img_path</th>\n",
       "    </tr>\n",
       "  </thead>\n",
       "  <tbody>\n",
       "    <tr>\n",
       "      <th>0</th>\n",
       "      <td>TEST_000</td>\n",
       "      <td>./test/000.png</td>\n",
       "    </tr>\n",
       "    <tr>\n",
       "      <th>1</th>\n",
       "      <td>TEST_001</td>\n",
       "      <td>./test/001.png</td>\n",
       "    </tr>\n",
       "    <tr>\n",
       "      <th>2</th>\n",
       "      <td>TEST_002</td>\n",
       "      <td>./test/002.png</td>\n",
       "    </tr>\n",
       "    <tr>\n",
       "      <th>3</th>\n",
       "      <td>TEST_003</td>\n",
       "      <td>./test/003.png</td>\n",
       "    </tr>\n",
       "    <tr>\n",
       "      <th>4</th>\n",
       "      <td>TEST_004</td>\n",
       "      <td>./test/004.png</td>\n",
       "    </tr>\n",
       "    <tr>\n",
       "      <th>...</th>\n",
       "      <td>...</td>\n",
       "      <td>...</td>\n",
       "    </tr>\n",
       "    <tr>\n",
       "      <th>787</th>\n",
       "      <td>TEST_787</td>\n",
       "      <td>./test/787.png</td>\n",
       "    </tr>\n",
       "    <tr>\n",
       "      <th>788</th>\n",
       "      <td>TEST_788</td>\n",
       "      <td>./test/788.png</td>\n",
       "    </tr>\n",
       "    <tr>\n",
       "      <th>789</th>\n",
       "      <td>TEST_789</td>\n",
       "      <td>./test/789.png</td>\n",
       "    </tr>\n",
       "    <tr>\n",
       "      <th>790</th>\n",
       "      <td>TEST_790</td>\n",
       "      <td>./test/790.png</td>\n",
       "    </tr>\n",
       "    <tr>\n",
       "      <th>791</th>\n",
       "      <td>TEST_791</td>\n",
       "      <td>./test/791.png</td>\n",
       "    </tr>\n",
       "  </tbody>\n",
       "</table>\n",
       "<p>792 rows × 2 columns</p>\n",
       "</div>"
      ],
      "text/plain": [
       "           id        img_path\n",
       "0    TEST_000  ./test/000.png\n",
       "1    TEST_001  ./test/001.png\n",
       "2    TEST_002  ./test/002.png\n",
       "3    TEST_003  ./test/003.png\n",
       "4    TEST_004  ./test/004.png\n",
       "..        ...             ...\n",
       "787  TEST_787  ./test/787.png\n",
       "788  TEST_788  ./test/788.png\n",
       "789  TEST_789  ./test/789.png\n",
       "790  TEST_790  ./test/790.png\n",
       "791  TEST_791  ./test/791.png\n",
       "\n",
       "[792 rows x 2 columns]"
      ]
     },
     "execution_count": 27,
     "metadata": {},
     "output_type": "execute_result"
    }
   ],
   "source": [
    "test = pd.read_csv('test.csv')\n",
    "test"
   ]
  },
  {
   "cell_type": "code",
   "execution_count": 28,
   "id": "dbbf9ae5-9d8c-4800-a809-63094a1e9a24",
   "metadata": {},
   "outputs": [],
   "source": [
    "test_dataset = CustomDataset(test['img_path'].values, None, test_transform)\n",
    "test_loader = DataLoader(test_dataset, batch_size=CFG['BATCH_SIZE'], shuffle=False, num_workers=0)"
   ]
  },
  {
   "cell_type": "code",
   "execution_count": 29,
   "id": "378fd3a9-76d8-4c9a-81a1-c6a48492684c",
   "metadata": {},
   "outputs": [],
   "source": [
    "def inference(model, test_loader, device):\n",
    "    model.eval()\n",
    "    preds = []\n",
    "    with torch.no_grad():\n",
    "        for imgs in tqdm(iter(test_loader)):\n",
    "            imgs = imgs.float().to(device)\n",
    "            \n",
    "            pred = model(imgs)\n",
    "            \n",
    "            preds += pred.argmax(1).detach().cpu().numpy().tolist()\n",
    "    \n",
    "    preds = le.inverse_transform(preds)\n",
    "    return preds"
   ]
  },
  {
   "cell_type": "code",
   "execution_count": 30,
   "id": "2866935c-407d-4919-a58b-1f8feaa66a2a",
   "metadata": {},
   "outputs": [
    {
     "name": "stderr",
     "output_type": "stream",
     "text": [
      "100%|██████████| 13/13 [00:17<00:00,  1.36s/it]\n"
     ]
    }
   ],
   "source": [
    "\n",
    "preds = inference(infer_model, test_loader, device)"
   ]
  },
  {
   "cell_type": "code",
   "execution_count": 34,
   "id": "adf489c9",
   "metadata": {},
   "outputs": [
    {
     "data": {
      "text/plain": [
       "array(['Over', 'Over', 'Over', 'Over', 'Over', 'Over', 'Over', 'Over',\n",
       "       'Over', 'Over', 'Over', 'Over', 'Over', 'Over', 'Over', 'Over',\n",
       "       'Over', 'Over', 'Over', 'Over', 'Over', 'Over', 'Over', 'Over',\n",
       "       'Over', 'Over', 'Under', 'Over', 'Over', 'Over', 'Over', 'Over',\n",
       "       'Over', 'Over', 'Over', 'Over', 'Over', 'Over', 'Over', 'Over',\n",
       "       'Over', 'Over', 'Over', 'Over', 'Over', 'Over', 'Over', 'Over',\n",
       "       'Over', 'Over', 'Over', 'Over', 'Over', 'Over', 'Over', 'Over',\n",
       "       'Over', 'Over', 'Over', 'Over', 'Over', 'Over', 'Over', 'Over',\n",
       "       'Over', 'Over', 'Over', 'Over', 'Over', 'Over', 'Over', 'Over',\n",
       "       'Over', 'Over', 'Over', 'Over', 'Over', 'Over', 'Over', 'Over',\n",
       "       'Over', 'Over', 'Over', 'Over', 'Over', 'Over', 'Over', 'Over',\n",
       "       'Over', 'Over', 'Over', 'Over', 'Over', 'Over', 'Over', 'Over',\n",
       "       'Over', 'Over', 'Over', 'Over', 'Under', 'Over', 'Over', 'Over',\n",
       "       'Over', 'Over', 'Over', 'Over', 'Over', 'Over', 'Over', 'Over',\n",
       "       'Over', 'Over', 'Over', 'Over', 'Over', 'Over', 'Over', 'Over',\n",
       "       'Over', 'Over', 'Over', 'Over', 'Over', 'Over', 'Over', 'Over',\n",
       "       'Over', 'Over', 'Over', 'Over', 'Over', 'Over', 'Over', 'Over',\n",
       "       'Over', 'Over', 'Over', 'Over', 'Over', 'Over', 'Over', 'Over',\n",
       "       'Over', 'Over', 'Over', 'Over', 'Under', 'Over', 'Over', 'Over',\n",
       "       'Over', 'Over', 'Over', 'Over', 'Over', 'Over', 'Over', 'Over',\n",
       "       'Over', 'Over', 'Over', 'Over', 'Over', 'Over', 'Over', 'Over',\n",
       "       'Over', 'Over', 'Over', 'Over', 'Over', 'Over', 'Over', 'Over',\n",
       "       'Over', 'Over', 'Over', 'Over', 'Over', 'Over', 'Over', 'Under',\n",
       "       'Over', 'Over', 'Over', 'Over', 'Over', 'Over', 'Over', 'Over',\n",
       "       'Over', 'Over', 'Over', 'Over', 'Over', 'Over', 'Over', 'Over',\n",
       "       'Over', 'Over', 'Over', 'Over', 'Under', 'Over', 'Over', 'Over',\n",
       "       'Over', 'Over', 'Over', 'Over', 'Over', 'Over', 'Over', 'Over',\n",
       "       'Over', 'Over', 'Over', 'Over', 'Over', 'Over', 'Under', 'Over',\n",
       "       'Over', 'Over', 'Over', 'Over', 'Over', 'Over', 'Over', 'Over',\n",
       "       'Over', 'Over', 'Under', 'Over', 'Over', 'Over', 'Over', 'Over',\n",
       "       'Over', 'Over', 'Over', 'Over', 'Over', 'Over', 'Over', 'Over',\n",
       "       'Over', 'Over', 'Over', 'Under', 'Over', 'Over', 'Over', 'Over',\n",
       "       'Under', 'Over', 'Over', 'Over', 'Over', 'Over', 'Over', 'Over',\n",
       "       'Over', 'Over', 'Over', 'Over', 'Over', 'Over', 'Over', 'Over',\n",
       "       'Over', 'Over', 'Over', 'Over', 'Over', 'Over', 'Over', 'Over',\n",
       "       'Over', 'Over', 'Under', 'Over', 'Over', 'Over', 'Over', 'Over',\n",
       "       'Over', 'Over', 'Over', 'Over', 'Over', 'Over', 'Over', 'Over',\n",
       "       'Over', 'Over', 'Over', 'Over', 'Over', 'Over', 'Over', 'Over',\n",
       "       'Over', 'Over', 'Over', 'Over', 'Under', 'Over', 'Over', 'Under',\n",
       "       'Under', 'Over', 'Over', 'Over', 'Over', 'Over', 'Over', 'Over',\n",
       "       'Over', 'Over', 'Over', 'Over', 'Over', 'Over', 'Over', 'Over',\n",
       "       'Under', 'Over', 'Over', 'Over', 'Over', 'Over', 'Over', 'Over',\n",
       "       'Over', 'Over', 'Over', 'Over', 'Over', 'Over', 'Over', 'Under',\n",
       "       'Over', 'Over', 'Over', 'Over', 'Over', 'Under', 'Over', 'Over',\n",
       "       'Over', 'Over', 'Over', 'Over', 'Over', 'Under', 'Over', 'Over',\n",
       "       'Over', 'Over', 'Over', 'Over', 'Over', 'Over', 'Over', 'Over',\n",
       "       'Over', 'Over', 'Under', 'Over', 'Over', 'Over', 'Over', 'Over',\n",
       "       'Over', 'Over', 'Over', 'Over', 'Over', 'Over', 'Over', 'Over',\n",
       "       'Under', 'Under', 'Over', 'Over', 'Over', 'Over', 'Over', 'Over',\n",
       "       'Over', 'Over', 'Over', 'Over', 'Over', 'Over', 'Over', 'Over',\n",
       "       'Over', 'Over', 'Over', 'Over', 'Over', 'Over', 'Over', 'Over',\n",
       "       'Over', 'Over', 'Over', 'Over', 'Over', 'Over', 'Over', 'Over',\n",
       "       'Over', 'Over', 'Over', 'Over', 'Over', 'Over', 'Over', 'Over',\n",
       "       'Over', 'Over', 'Over', 'Over', 'Under', 'Over', 'Over', 'Over',\n",
       "       'Over', 'Over', 'Under', 'Over', 'Over', 'Over', 'Over', 'Over',\n",
       "       'Over', 'Over', 'Over', 'Over', 'Over', 'Over', 'Over', 'Over',\n",
       "       'Over', 'Over', 'Over', 'Over', 'Over', 'Over', 'Over', 'Under',\n",
       "       'Over', 'Under', 'Over', 'Over', 'Over', 'Over', 'Over', 'Over',\n",
       "       'Over', 'Over', 'Over', 'Over', 'Over', 'Over', 'Over', 'Over',\n",
       "       'Over', 'Over', 'Over', 'Over', 'Over', 'Over', 'Over', 'Over',\n",
       "       'Over', 'Over', 'Over', 'Over', 'Over', 'Over', 'Over', 'Over',\n",
       "       'Over', 'Over', 'Over', 'Over', 'Over', 'Over', 'Under', 'Under',\n",
       "       'Over', 'Over', 'Over', 'Over', 'Over', 'Over', 'Over', 'Over',\n",
       "       'Over', 'Over', 'Over', 'Over', 'Over', 'Over', 'Over', 'Over',\n",
       "       'Over', 'Over', 'Under', 'Over', 'Over', 'Over', 'Over', 'Over',\n",
       "       'Over', 'Over', 'Over', 'Over', 'Over', 'Over', 'Over', 'Over',\n",
       "       'Over', 'Over', 'Over', 'Over', 'Over', 'Over', 'Over', 'Over',\n",
       "       'Over', 'Over', 'Over', 'Over', 'Over', 'Over', 'Over', 'Over',\n",
       "       'Over', 'Over', 'Over', 'Over', 'Over', 'Over', 'Over', 'Over',\n",
       "       'Over', 'Over', 'Over', 'Over', 'Over', 'Over', 'Over', 'Over',\n",
       "       'Under', 'Under', 'Over', 'Over', 'Over', 'Over', 'Over', 'Over',\n",
       "       'Over', 'Over', 'Over', 'Over', 'Over', 'Over', 'Over', 'Over',\n",
       "       'Over', 'Over', 'Over', 'Over', 'Over', 'Over', 'Over', 'Over',\n",
       "       'Over', 'Over', 'Over', 'Over', 'Over', 'Over', 'Over', 'Over',\n",
       "       'Over', 'Over', 'Over', 'Over', 'Over', 'Over', 'Over', 'Over',\n",
       "       'Over', 'Over', 'Over', 'Over', 'Under', 'Over', 'Over', 'Over',\n",
       "       'Over', 'Under', 'Over', 'Over', 'Over', 'Over', 'Over', 'Under',\n",
       "       'Over', 'Over', 'Over', 'Over', 'Over', 'Over', 'Over', 'Over',\n",
       "       'Over', 'Over', 'Over', 'Over', 'Over', 'Over', 'Over', 'Over',\n",
       "       'Over', 'Over', 'Over', 'Over', 'Over', 'Under', 'Over', 'Over',\n",
       "       'Over', 'Over', 'Over', 'Over', 'Over', 'Over', 'Over', 'Over',\n",
       "       'Over', 'Over', 'Over', 'Over', 'Under', 'Over', 'Over', 'Over',\n",
       "       'Over', 'Over', 'Over', 'Over', 'Over', 'Over', 'Over', 'Over',\n",
       "       'Over', 'Over', 'Under', 'Over', 'Over', 'Over', 'Over', 'Over',\n",
       "       'Over', 'Over', 'Over', 'Over', 'Over', 'Over', 'Over', 'Over',\n",
       "       'Over', 'Over', 'Over', 'Over', 'Over', 'Over', 'Over', 'Over',\n",
       "       'Over', 'Over', 'Over', 'Over', 'Over', 'Over', 'Over', 'Over',\n",
       "       'Over', 'Over', 'Under', 'Over', 'Over', 'Over', 'Over', 'Over',\n",
       "       'Over', 'Over', 'Over', 'Over', 'Over', 'Over', 'Over', 'Over',\n",
       "       'Over', 'Over', 'Over', 'Over', 'Over', 'Over', 'Under', 'Over',\n",
       "       'Over', 'Over', 'Over', 'Over', 'Over', 'Over', 'Over', 'Over',\n",
       "       'Over', 'Over', 'Over', 'Over', 'Over', 'Over', 'Over', 'Over',\n",
       "       'Over', 'Under', 'Over', 'Over', 'Over', 'Over', 'Over', 'Over',\n",
       "       'Over', 'Over', 'Over', 'Over', 'Over', 'Over', 'Over', 'Over',\n",
       "       'Over', 'Over', 'Over', 'Over', 'Over', 'Over', 'Over', 'Over',\n",
       "       'Over', 'Over', 'Under', 'Over', 'Over', 'Over', 'Over', 'Over',\n",
       "       'Over', 'Over', 'Over', 'Over', 'Over', 'Over', 'Over', 'Over',\n",
       "       'Over', 'Over', 'Over', 'Over', 'Over', 'Over', 'Over', 'Over',\n",
       "       'Over', 'Over', 'Over', 'Over', 'Over', 'Over', 'Under', 'Over'],\n",
       "      dtype=object)"
      ]
     },
     "execution_count": 34,
     "metadata": {},
     "output_type": "execute_result"
    }
   ],
   "source": [
    "preds"
   ]
  },
  {
   "cell_type": "code",
   "execution_count": 35,
   "id": "4274a5e2",
   "metadata": {},
   "outputs": [
    {
     "data": {
      "text/html": [
       "<div>\n",
       "<style scoped>\n",
       "    .dataframe tbody tr th:only-of-type {\n",
       "        vertical-align: middle;\n",
       "    }\n",
       "\n",
       "    .dataframe tbody tr th {\n",
       "        vertical-align: top;\n",
       "    }\n",
       "\n",
       "    .dataframe thead th {\n",
       "        text-align: right;\n",
       "    }\n",
       "</style>\n",
       "<table border=\"1\" class=\"dataframe\">\n",
       "  <thead>\n",
       "    <tr style=\"text-align: right;\">\n",
       "      <th></th>\n",
       "      <th>id</th>\n",
       "      <th>label</th>\n",
       "      <th>c_label</th>\n",
       "    </tr>\n",
       "  </thead>\n",
       "  <tbody>\n",
       "    <tr>\n",
       "      <th>0</th>\n",
       "      <td>TEST_000</td>\n",
       "      <td>훼손</td>\n",
       "      <td>Over</td>\n",
       "    </tr>\n",
       "    <tr>\n",
       "      <th>1</th>\n",
       "      <td>TEST_001</td>\n",
       "      <td>훼손</td>\n",
       "      <td>Over</td>\n",
       "    </tr>\n",
       "    <tr>\n",
       "      <th>2</th>\n",
       "      <td>TEST_002</td>\n",
       "      <td>훼손</td>\n",
       "      <td>Over</td>\n",
       "    </tr>\n",
       "    <tr>\n",
       "      <th>3</th>\n",
       "      <td>TEST_003</td>\n",
       "      <td>훼손</td>\n",
       "      <td>Over</td>\n",
       "    </tr>\n",
       "    <tr>\n",
       "      <th>4</th>\n",
       "      <td>TEST_004</td>\n",
       "      <td>훼손</td>\n",
       "      <td>Over</td>\n",
       "    </tr>\n",
       "    <tr>\n",
       "      <th>...</th>\n",
       "      <td>...</td>\n",
       "      <td>...</td>\n",
       "      <td>...</td>\n",
       "    </tr>\n",
       "    <tr>\n",
       "      <th>787</th>\n",
       "      <td>TEST_787</td>\n",
       "      <td>훼손</td>\n",
       "      <td>Over</td>\n",
       "    </tr>\n",
       "    <tr>\n",
       "      <th>788</th>\n",
       "      <td>TEST_788</td>\n",
       "      <td>훼손</td>\n",
       "      <td>Over</td>\n",
       "    </tr>\n",
       "    <tr>\n",
       "      <th>789</th>\n",
       "      <td>TEST_789</td>\n",
       "      <td>훼손</td>\n",
       "      <td>Over</td>\n",
       "    </tr>\n",
       "    <tr>\n",
       "      <th>790</th>\n",
       "      <td>TEST_790</td>\n",
       "      <td>훼손</td>\n",
       "      <td>Under</td>\n",
       "    </tr>\n",
       "    <tr>\n",
       "      <th>791</th>\n",
       "      <td>TEST_791</td>\n",
       "      <td>훼손</td>\n",
       "      <td>Over</td>\n",
       "    </tr>\n",
       "  </tbody>\n",
       "</table>\n",
       "<p>792 rows × 3 columns</p>\n",
       "</div>"
      ],
      "text/plain": [
       "           id label c_label\n",
       "0    TEST_000    훼손    Over\n",
       "1    TEST_001    훼손    Over\n",
       "2    TEST_002    훼손    Over\n",
       "3    TEST_003    훼손    Over\n",
       "4    TEST_004    훼손    Over\n",
       "..        ...   ...     ...\n",
       "787  TEST_787    훼손    Over\n",
       "788  TEST_788    훼손    Over\n",
       "789  TEST_789    훼손    Over\n",
       "790  TEST_790    훼손   Under\n",
       "791  TEST_791    훼손    Over\n",
       "\n",
       "[792 rows x 3 columns]"
      ]
     },
     "execution_count": 35,
     "metadata": {},
     "output_type": "execute_result"
    }
   ],
   "source": [
    "test_2 = pd.read_csv('sample_submission.csv')\n",
    "test_2['c_label'] = preds\n",
    "test_2"
   ]
  },
  {
   "attachments": {},
   "cell_type": "markdown",
   "id": "35be0d25-6a06-43bb-bca0-94eda2409a26",
   "metadata": {},
   "source": [
    "## Submission"
   ]
  },
  {
   "cell_type": "code",
   "execution_count": null,
   "id": "fc864be2-c306-4ad0-aa97-1d5ab5ea9811",
   "metadata": {},
   "outputs": [],
   "source": [
    "submit = pd.read_csv('sample_submission.csv')\n",
    "submit['label'] = preds"
   ]
  },
  {
   "cell_type": "code",
   "execution_count": null,
   "id": "a472198d-6a2f-4d97-b45b-55031d6019a8",
   "metadata": {},
   "outputs": [],
   "source": []
  },
  {
   "cell_type": "code",
   "execution_count": null,
   "id": "eada28d4",
   "metadata": {},
   "outputs": [
    {
     "data": {
      "text/html": [
       "<div>\n",
       "<style scoped>\n",
       "    .dataframe tbody tr th:only-of-type {\n",
       "        vertical-align: middle;\n",
       "    }\n",
       "\n",
       "    .dataframe tbody tr th {\n",
       "        vertical-align: top;\n",
       "    }\n",
       "\n",
       "    .dataframe thead th {\n",
       "        text-align: right;\n",
       "    }\n",
       "</style>\n",
       "<table border=\"1\" class=\"dataframe\">\n",
       "  <thead>\n",
       "    <tr style=\"text-align: right;\">\n",
       "      <th></th>\n",
       "      <th>id</th>\n",
       "      <th>label</th>\n",
       "    </tr>\n",
       "  </thead>\n",
       "  <tbody>\n",
       "    <tr>\n",
       "      <th>0</th>\n",
       "      <td>TEST_000</td>\n",
       "      <td>damage</td>\n",
       "    </tr>\n",
       "    <tr>\n",
       "      <th>1</th>\n",
       "      <td>TEST_001</td>\n",
       "      <td>pollution</td>\n",
       "    </tr>\n",
       "    <tr>\n",
       "      <th>2</th>\n",
       "      <td>TEST_002</td>\n",
       "      <td>damage</td>\n",
       "    </tr>\n",
       "    <tr>\n",
       "      <th>3</th>\n",
       "      <td>TEST_003</td>\n",
       "      <td>molding_repair</td>\n",
       "    </tr>\n",
       "    <tr>\n",
       "      <th>4</th>\n",
       "      <td>TEST_004</td>\n",
       "      <td>pollution</td>\n",
       "    </tr>\n",
       "    <tr>\n",
       "      <th>...</th>\n",
       "      <td>...</td>\n",
       "      <td>...</td>\n",
       "    </tr>\n",
       "    <tr>\n",
       "      <th>787</th>\n",
       "      <td>TEST_787</td>\n",
       "      <td>damage</td>\n",
       "    </tr>\n",
       "    <tr>\n",
       "      <th>788</th>\n",
       "      <td>TEST_788</td>\n",
       "      <td>damage</td>\n",
       "    </tr>\n",
       "    <tr>\n",
       "      <th>789</th>\n",
       "      <td>TEST_789</td>\n",
       "      <td>pollution</td>\n",
       "    </tr>\n",
       "    <tr>\n",
       "      <th>790</th>\n",
       "      <td>TEST_790</td>\n",
       "      <td>pollution</td>\n",
       "    </tr>\n",
       "    <tr>\n",
       "      <th>791</th>\n",
       "      <td>TEST_791</td>\n",
       "      <td>damage</td>\n",
       "    </tr>\n",
       "  </tbody>\n",
       "</table>\n",
       "<p>792 rows × 2 columns</p>\n",
       "</div>"
      ],
      "text/plain": [
       "           id           label\n",
       "0    TEST_000          damage\n",
       "1    TEST_001       pollution\n",
       "2    TEST_002          damage\n",
       "3    TEST_003  molding_repair\n",
       "4    TEST_004       pollution\n",
       "..        ...             ...\n",
       "787  TEST_787          damage\n",
       "788  TEST_788          damage\n",
       "789  TEST_789       pollution\n",
       "790  TEST_790       pollution\n",
       "791  TEST_791          damage\n",
       "\n",
       "[792 rows x 2 columns]"
      ]
     },
     "execution_count": 34,
     "metadata": {},
     "output_type": "execute_result"
    }
   ],
   "source": [
    "submit"
   ]
  },
  {
   "cell_type": "code",
   "execution_count": null,
   "id": "367e2dfa",
   "metadata": {},
   "outputs": [],
   "source": [
    "# result folder 생성\n",
    "from datetime import datetime, timezone, timedelta\n",
    "\n",
    "kst = timezone(timedelta(hours=9))\n",
    "train_serial =  datetime.now(kst).strftime('%Y%m%d_%H%M%S')\n",
    "\n",
    "Record_path = os.path.join('result', train_serial)\n",
    "\n",
    "os.makedirs(Record_path, exist_ok=True)\n",
    "\n",
    "\n"
   ]
  },
  {
   "cell_type": "code",
   "execution_count": null,
   "id": "e3af6d50",
   "metadata": {},
   "outputs": [
    {
     "data": {
      "text/html": [
       "<div>\n",
       "<style scoped>\n",
       "    .dataframe tbody tr th:only-of-type {\n",
       "        vertical-align: middle;\n",
       "    }\n",
       "\n",
       "    .dataframe tbody tr th {\n",
       "        vertical-align: top;\n",
       "    }\n",
       "\n",
       "    .dataframe thead th {\n",
       "        text-align: right;\n",
       "    }\n",
       "</style>\n",
       "<table border=\"1\" class=\"dataframe\">\n",
       "  <thead>\n",
       "    <tr style=\"text-align: right;\">\n",
       "      <th></th>\n",
       "      <th>id</th>\n",
       "      <th>label</th>\n",
       "    </tr>\n",
       "  </thead>\n",
       "  <tbody>\n",
       "    <tr>\n",
       "      <th>0</th>\n",
       "      <td>TEST_000</td>\n",
       "      <td>훼손</td>\n",
       "    </tr>\n",
       "    <tr>\n",
       "      <th>1</th>\n",
       "      <td>TEST_001</td>\n",
       "      <td>오염</td>\n",
       "    </tr>\n",
       "    <tr>\n",
       "      <th>2</th>\n",
       "      <td>TEST_002</td>\n",
       "      <td>훼손</td>\n",
       "    </tr>\n",
       "    <tr>\n",
       "      <th>3</th>\n",
       "      <td>TEST_003</td>\n",
       "      <td>몰딩수정</td>\n",
       "    </tr>\n",
       "    <tr>\n",
       "      <th>4</th>\n",
       "      <td>TEST_004</td>\n",
       "      <td>오염</td>\n",
       "    </tr>\n",
       "    <tr>\n",
       "      <th>...</th>\n",
       "      <td>...</td>\n",
       "      <td>...</td>\n",
       "    </tr>\n",
       "    <tr>\n",
       "      <th>787</th>\n",
       "      <td>TEST_787</td>\n",
       "      <td>훼손</td>\n",
       "    </tr>\n",
       "    <tr>\n",
       "      <th>788</th>\n",
       "      <td>TEST_788</td>\n",
       "      <td>훼손</td>\n",
       "    </tr>\n",
       "    <tr>\n",
       "      <th>789</th>\n",
       "      <td>TEST_789</td>\n",
       "      <td>오염</td>\n",
       "    </tr>\n",
       "    <tr>\n",
       "      <th>790</th>\n",
       "      <td>TEST_790</td>\n",
       "      <td>오염</td>\n",
       "    </tr>\n",
       "    <tr>\n",
       "      <th>791</th>\n",
       "      <td>TEST_791</td>\n",
       "      <td>훼손</td>\n",
       "    </tr>\n",
       "  </tbody>\n",
       "</table>\n",
       "<p>792 rows × 2 columns</p>\n",
       "</div>"
      ],
      "text/plain": [
       "           id label\n",
       "0    TEST_000    훼손\n",
       "1    TEST_001    오염\n",
       "2    TEST_002    훼손\n",
       "3    TEST_003  몰딩수정\n",
       "4    TEST_004    오염\n",
       "..        ...   ...\n",
       "787  TEST_787    훼손\n",
       "788  TEST_788    훼손\n",
       "789  TEST_789    오염\n",
       "790  TEST_790    오염\n",
       "791  TEST_791    훼손\n",
       "\n",
       "[792 rows x 2 columns]"
      ]
     },
     "execution_count": 36,
     "metadata": {},
     "output_type": "execute_result"
    }
   ],
   "source": [
    "# Dictionary to map old column names to new column names\n",
    "name_map = dict(zip(new_names, ori_names))\n",
    "name_map\n",
    "\n",
    "\n",
    "# Rename columns using the rename() method\n",
    "submit_test = submit.replace(name_map)\n",
    "submit_test"
   ]
  },
  {
   "cell_type": "code",
   "execution_count": null,
   "id": "0e3e0511-2ce0-4658-893f-0f3641c50bb8",
   "metadata": {},
   "outputs": [],
   "source": [
    "submit_test.to_csv(os.path.join(Record_path,'submission.csv'), index=False)"
   ]
  },
  {
   "cell_type": "code",
   "execution_count": null,
   "id": "376f22bf",
   "metadata": {},
   "outputs": [
    {
     "data": {
      "text/html": [
       "<div>\n",
       "<style scoped>\n",
       "    .dataframe tbody tr th:only-of-type {\n",
       "        vertical-align: middle;\n",
       "    }\n",
       "\n",
       "    .dataframe tbody tr th {\n",
       "        vertical-align: top;\n",
       "    }\n",
       "\n",
       "    .dataframe thead th {\n",
       "        text-align: right;\n",
       "    }\n",
       "</style>\n",
       "<table border=\"1\" class=\"dataframe\">\n",
       "  <thead>\n",
       "    <tr style=\"text-align: right;\">\n",
       "      <th></th>\n",
       "      <th>id</th>\n",
       "      <th>label</th>\n",
       "    </tr>\n",
       "  </thead>\n",
       "  <tbody>\n",
       "    <tr>\n",
       "      <th>0</th>\n",
       "      <td>TEST_000</td>\n",
       "      <td>훼손</td>\n",
       "    </tr>\n",
       "    <tr>\n",
       "      <th>1</th>\n",
       "      <td>TEST_001</td>\n",
       "      <td>오염</td>\n",
       "    </tr>\n",
       "    <tr>\n",
       "      <th>2</th>\n",
       "      <td>TEST_002</td>\n",
       "      <td>훼손</td>\n",
       "    </tr>\n",
       "    <tr>\n",
       "      <th>3</th>\n",
       "      <td>TEST_003</td>\n",
       "      <td>몰딩수정</td>\n",
       "    </tr>\n",
       "    <tr>\n",
       "      <th>4</th>\n",
       "      <td>TEST_004</td>\n",
       "      <td>오염</td>\n",
       "    </tr>\n",
       "    <tr>\n",
       "      <th>...</th>\n",
       "      <td>...</td>\n",
       "      <td>...</td>\n",
       "    </tr>\n",
       "    <tr>\n",
       "      <th>787</th>\n",
       "      <td>TEST_787</td>\n",
       "      <td>훼손</td>\n",
       "    </tr>\n",
       "    <tr>\n",
       "      <th>788</th>\n",
       "      <td>TEST_788</td>\n",
       "      <td>훼손</td>\n",
       "    </tr>\n",
       "    <tr>\n",
       "      <th>789</th>\n",
       "      <td>TEST_789</td>\n",
       "      <td>오염</td>\n",
       "    </tr>\n",
       "    <tr>\n",
       "      <th>790</th>\n",
       "      <td>TEST_790</td>\n",
       "      <td>오염</td>\n",
       "    </tr>\n",
       "    <tr>\n",
       "      <th>791</th>\n",
       "      <td>TEST_791</td>\n",
       "      <td>훼손</td>\n",
       "    </tr>\n",
       "  </tbody>\n",
       "</table>\n",
       "<p>792 rows × 2 columns</p>\n",
       "</div>"
      ],
      "text/plain": [
       "           id label\n",
       "0    TEST_000    훼손\n",
       "1    TEST_001    오염\n",
       "2    TEST_002    훼손\n",
       "3    TEST_003  몰딩수정\n",
       "4    TEST_004    오염\n",
       "..        ...   ...\n",
       "787  TEST_787    훼손\n",
       "788  TEST_788    훼손\n",
       "789  TEST_789    오염\n",
       "790  TEST_790    오염\n",
       "791  TEST_791    훼손\n",
       "\n",
       "[792 rows x 2 columns]"
      ]
     },
     "execution_count": 38,
     "metadata": {},
     "output_type": "execute_result"
    }
   ],
   "source": [
    "submit_test"
   ]
  },
  {
   "cell_type": "code",
   "execution_count": null,
   "id": "42c98108",
   "metadata": {},
   "outputs": [],
   "source": [
    "# model information 저장\n",
    "import json\n",
    "model_info = {'CFG' : CFG, 'model' : str(model), 'optimizer' : str(optimizer), 'scheduler' : str(scheduler), 'train_serial' : train_serial}\n",
    "with open(os.path.join(Record_path,'model_info.json'), 'w') as f:\n",
    "    json.dump(model_info, f)"
   ]
  },
  {
   "cell_type": "code",
   "execution_count": null,
   "id": "6970a9ec",
   "metadata": {},
   "outputs": [],
   "source": []
  },
  {
   "cell_type": "code",
   "execution_count": null,
   "id": "aa05852a",
   "metadata": {},
   "outputs": [],
   "source": []
  },
  {
   "cell_type": "code",
   "execution_count": null,
   "id": "ee7aa453",
   "metadata": {},
   "outputs": [],
   "source": []
  },
  {
   "cell_type": "code",
   "execution_count": null,
   "id": "69965500",
   "metadata": {},
   "outputs": [],
   "source": []
  },
  {
   "cell_type": "code",
   "execution_count": null,
   "id": "199c7a10",
   "metadata": {},
   "outputs": [],
   "source": []
  }
 ],
 "metadata": {
  "kernelspec": {
   "display_name": "Python 3",
   "language": "python",
   "name": "python3"
  },
  "language_info": {
   "codemirror_mode": {
    "name": "ipython",
    "version": 3
   },
   "file_extension": ".py",
   "mimetype": "text/x-python",
   "name": "python",
   "nbconvert_exporter": "python",
   "pygments_lexer": "ipython3",
   "version": "3.9.16"
  }
 },
 "nbformat": 4,
 "nbformat_minor": 5
}
