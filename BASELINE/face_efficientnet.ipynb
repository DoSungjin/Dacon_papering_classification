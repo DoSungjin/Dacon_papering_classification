{
 "cells": [
  {
   "attachments": {},
   "cell_type": "markdown",
   "id": "a2bcba5f-002e-4f49-9622-ada6117faf0a",
   "metadata": {},
   "source": [
    "## Import"
   ]
  },
  {
   "cell_type": "code",
   "execution_count": 1,
   "id": "61ad9ccf",
   "metadata": {},
   "outputs": [],
   "source": [
    "# !pip3 install albumentations ;!pip3 install opencv-python ; !pip3 install tqdm"
   ]
  },
  {
   "cell_type": "code",
   "execution_count": 1,
   "id": "d12cdba3",
   "metadata": {},
   "outputs": [
    {
     "name": "stderr",
     "output_type": "stream",
     "text": [
      "Failed to detect the name of this notebook, you can set it manually with the WANDB_NOTEBOOK_NAME environment variable to enable code saving.\n",
      "\u001b[34m\u001b[1mwandb\u001b[0m: Currently logged in as: \u001b[33manthoniy\u001b[0m. Use \u001b[1m`wandb login --relogin`\u001b[0m to force relogin\n"
     ]
    },
    {
     "data": {
      "text/html": [
       "wandb version 0.15.3 is available!  To upgrade, please run:\n",
       " $ pip install wandb --upgrade"
      ],
      "text/plain": [
       "<IPython.core.display.HTML object>"
      ]
     },
     "metadata": {},
     "output_type": "display_data"
    },
    {
     "data": {
      "text/html": [
       "Tracking run with wandb version 0.15.2"
      ],
      "text/plain": [
       "<IPython.core.display.HTML object>"
      ]
     },
     "metadata": {},
     "output_type": "display_data"
    },
    {
     "data": {
      "text/html": [
       "Run data is saved locally in <code>c:\\Users\\DoSungjin\\Documents\\GitHub\\Dacon_papering_classification\\BASELINE\\wandb\\run-20230523_203606-danpexm4</code>"
      ],
      "text/plain": [
       "<IPython.core.display.HTML object>"
      ]
     },
     "metadata": {},
     "output_type": "display_data"
    },
    {
     "data": {
      "text/html": [
       "Syncing run <strong><a href='https://wandb.ai/anthoniy/face-recognition/runs/danpexm4' target=\"_blank\">cerulean-bird-1</a></strong> to <a href='https://wandb.ai/anthoniy/face-recognition' target=\"_blank\">Weights & Biases</a> (<a href='https://wandb.me/run' target=\"_blank\">docs</a>)<br/>"
      ],
      "text/plain": [
       "<IPython.core.display.HTML object>"
      ]
     },
     "metadata": {},
     "output_type": "display_data"
    },
    {
     "data": {
      "text/html": [
       " View project at <a href='https://wandb.ai/anthoniy/face-recognition' target=\"_blank\">https://wandb.ai/anthoniy/face-recognition</a>"
      ],
      "text/plain": [
       "<IPython.core.display.HTML object>"
      ]
     },
     "metadata": {},
     "output_type": "display_data"
    },
    {
     "data": {
      "text/html": [
       " View run at <a href='https://wandb.ai/anthoniy/face-recognition/runs/danpexm4' target=\"_blank\">https://wandb.ai/anthoniy/face-recognition/runs/danpexm4</a>"
      ],
      "text/plain": [
       "<IPython.core.display.HTML object>"
      ]
     },
     "metadata": {},
     "output_type": "display_data"
    },
    {
     "data": {
      "text/plain": [
       "{'LEARNING_RATE': 0.0003, 'IMG_SIZE': 224, 'architecture': 'Efficientnet-b0', 'EPOCHS': 100, 'SEED': 42, 'BATCH_SIZE': 32, 'dataset': 'kaggle_dataset_celeribrity_faces'}"
      ]
     },
     "execution_count": 1,
     "metadata": {},
     "output_type": "execute_result"
    }
   ],
   "source": [
    "import wandb\n",
    "wandb.login()\n",
    "import random\n",
    "\n",
    "# start a new wandb run to track this script\n",
    "wandb.init(\n",
    "    # set the wandb project where this run will be logged\n",
    "    project=\"face-recognition\",\n",
    "    \n",
    "    # track hyperparameters and run metadata\n",
    "    config={\n",
    "    'LEARNING_RATE':3e-4,\n",
    "    'IMG_SIZE':224,\n",
    "    \"architecture\": \"Efficientnet-b0\",\n",
    "    'EPOCHS':100,\n",
    "    'SEED':42,\n",
    "    'BATCH_SIZE':32,\n",
    "    \"dataset\": \"kaggle_dataset_celeribrity_faces\",\n",
    "    }# hyperparameter\n",
    ")\n",
    "\n",
    "# hyperparameter\n",
    "CFG = wandb.config\n",
    "CFG"
   ]
  },
  {
   "cell_type": "code",
   "execution_count": 2,
   "id": "2b0d9b68-7102-4eca-9543-3b9b8acafc6e",
   "metadata": {},
   "outputs": [
    {
     "name": "stderr",
     "output_type": "stream",
     "text": [
      "c:\\Users\\DoSungjin\\anaconda3\\envs\\gpu-env\\lib\\site-packages\\tqdm\\auto.py:21: TqdmWarning: IProgress not found. Please update jupyter and ipywidgets. See https://ipywidgets.readthedocs.io/en/stable/user_install.html\n",
      "  from .autonotebook import tqdm as notebook_tqdm\n"
     ]
    }
   ],
   "source": [
    "import random\n",
    "import pandas as pd\n",
    "import numpy as np\n",
    "import os\n",
    "import re\n",
    "import glob\n",
    "import cv2\n",
    "\n",
    "import torch\n",
    "import torch.nn as nn\n",
    "import torch.optim as optim\n",
    "import torch.nn.functional as F\n",
    "from torch.utils.data import Dataset, DataLoader, WeightedRandomSampler\n",
    "\n",
    "import albumentations as A\n",
    "from albumentations.pytorch.transforms import ToTensorV2\n",
    "import torchvision.models as models\n",
    "from torch.autograd import Variable\n",
    "\n",
    "\n",
    "from sklearn.model_selection import train_test_split\n",
    "from sklearn import preprocessing\n",
    "from sklearn.metrics import f1_score\n",
    "from sklearn.metrics import classification_report\n",
    "from tqdm.auto import tqdm\n",
    "\n",
    "# torch.multiprocessing import\n",
    "from torch import multiprocessing\n",
    "\n",
    "import warnings\n",
    "warnings.filterwarnings(action='ignore') "
   ]
  },
  {
   "cell_type": "code",
   "execution_count": 3,
   "id": "e9614e39",
   "metadata": {},
   "outputs": [
    {
     "data": {
      "text/plain": [
       "'c:\\\\Users\\\\DoSungjin\\\\Documents\\\\GitHub\\\\Dacon_papering_classification\\\\DATA'"
      ]
     },
     "execution_count": 3,
     "metadata": {},
     "output_type": "execute_result"
    }
   ],
   "source": [
    "\n",
    "os.chdir('../DATA')\n",
    "os.getcwd()\n"
   ]
  },
  {
   "cell_type": "code",
   "execution_count": 4,
   "id": "3ec1574c",
   "metadata": {},
   "outputs": [
    {
     "data": {
      "text/plain": [
       "True"
      ]
     },
     "execution_count": 4,
     "metadata": {},
     "output_type": "execute_result"
    }
   ],
   "source": [
    "# Set the device to CPU or GPU depending on availability\n",
    "device = torch.device('cuda:0') if torch.cuda.is_available() else torch.device('cpu')\n",
    "torch.cuda.is_available()"
   ]
  },
  {
   "attachments": {},
   "cell_type": "markdown",
   "id": "fc7df3f2-62d0-4499-a46e-47d01699def0",
   "metadata": {},
   "source": [
    "## Hyperparameter Setting"
   ]
  },
  {
   "attachments": {},
   "cell_type": "markdown",
   "id": "4254e860-ff82-43ba-bfa3-fcee4eb3ddbd",
   "metadata": {},
   "source": [
    "## Fixed RandomSeed"
   ]
  },
  {
   "cell_type": "code",
   "execution_count": 5,
   "id": "101a714b-71b6-4475-a4ce-fa5f98bc2731",
   "metadata": {},
   "outputs": [],
   "source": [
    "def seed_everything(seed):\n",
    "    random.seed(seed)\n",
    "    os.environ['PYTHONHASHSEED'] = str(seed)\n",
    "    np.random.seed(seed)\n",
    "    torch.manual_seed(seed)\n",
    "    torch.cuda.manual_seed(seed)\n",
    "    torch.backends.cudnn.deterministic = True\n",
    "    torch.backends.cudnn.benchmark = True\n",
    "\n",
    "seed_everything(CFG['SEED']) # Seed 고정"
   ]
  },
  {
   "attachments": {},
   "cell_type": "markdown",
   "id": "05a4172e-5791-446f-9616-35c09d8bf25a",
   "metadata": {},
   "source": [
    "## Data Pre-processing"
   ]
  },
  {
   "cell_type": "code",
   "execution_count": 43,
   "id": "271f477a",
   "metadata": {},
   "outputs": [],
   "source": [
    "all_img_list = glob.glob('/facedataset/*/*/*')\n",
    "# 데이터셋 디렉토리 경로\n",
    "dataset_dir = \"facedataset/Face Data\\\\Face Dataset\"\n",
    "\n",
    "# 모든 이미지 파일 경로 리스트\n",
    "all_img_list = []\n",
    "folder_list = []\n",
    "train_file_list = os.listdir(dataset_dir)\n",
    "for item in train_file_list:\n",
    "    if not item.startswith('.'):\n",
    "        item_path = os.path.join(dataset_dir, item)\n",
    "        for file in os.listdir(item_path):\n",
    "            if not file.startswith('.'):\n",
    "                all_img_list.append(os.path.join(item_path, file))\n",
    "\n",
    "                folder_list.append(item)"
   ]
  },
  {
   "cell_type": "code",
   "execution_count": 44,
   "id": "e661c0d2",
   "metadata": {},
   "outputs": [
    {
     "data": {
      "text/plain": [
       "8441"
      ]
     },
     "execution_count": 44,
     "metadata": {},
     "output_type": "execute_result"
    }
   ],
   "source": [
    "len(folder_list)"
   ]
  },
  {
   "cell_type": "code",
   "execution_count": 45,
   "id": "65e9b7a5",
   "metadata": {},
   "outputs": [
    {
     "data": {
      "text/plain": [
       "'0.jpg'"
      ]
     },
     "execution_count": 45,
     "metadata": {},
     "output_type": "execute_result"
    }
   ],
   "source": [
    "all_img_list[0].split('\\\\')[-1]"
   ]
  },
  {
   "cell_type": "code",
   "execution_count": 46,
   "id": "4119733d-adef-436c-afca-4112a9225d33",
   "metadata": {},
   "outputs": [
    {
     "data": {
      "text/html": [
       "<div>\n",
       "<style scoped>\n",
       "    .dataframe tbody tr th:only-of-type {\n",
       "        vertical-align: middle;\n",
       "    }\n",
       "\n",
       "    .dataframe tbody tr th {\n",
       "        vertical-align: top;\n",
       "    }\n",
       "\n",
       "    .dataframe thead th {\n",
       "        text-align: right;\n",
       "    }\n",
       "</style>\n",
       "<table border=\"1\" class=\"dataframe\">\n",
       "  <thead>\n",
       "    <tr style=\"text-align: right;\">\n",
       "      <th></th>\n",
       "      <th>img_path</th>\n",
       "      <th>label</th>\n",
       "    </tr>\n",
       "  </thead>\n",
       "  <tbody>\n",
       "    <tr>\n",
       "      <th>0</th>\n",
       "      <td>facedataset/Face Data\\Face Dataset\\0\\0.jpg</td>\n",
       "      <td>0</td>\n",
       "    </tr>\n",
       "    <tr>\n",
       "      <th>1</th>\n",
       "      <td>facedataset/Face Data\\Face Dataset\\0\\1.jpg</td>\n",
       "      <td>0</td>\n",
       "    </tr>\n",
       "    <tr>\n",
       "      <th>2</th>\n",
       "      <td>facedataset/Face Data\\Face Dataset\\0\\2.jpg</td>\n",
       "      <td>0</td>\n",
       "    </tr>\n",
       "    <tr>\n",
       "      <th>3</th>\n",
       "      <td>facedataset/Face Data\\Face Dataset\\0\\3.jpg</td>\n",
       "      <td>0</td>\n",
       "    </tr>\n",
       "    <tr>\n",
       "      <th>4</th>\n",
       "      <td>facedataset/Face Data\\Face Dataset\\1\\0.jpg</td>\n",
       "      <td>1</td>\n",
       "    </tr>\n",
       "  </tbody>\n",
       "</table>\n",
       "</div>"
      ],
      "text/plain": [
       "                                     img_path  label\n",
       "0  facedataset/Face Data\\Face Dataset\\0\\0.jpg      0\n",
       "1  facedataset/Face Data\\Face Dataset\\0\\1.jpg      0\n",
       "2  facedataset/Face Data\\Face Dataset\\0\\2.jpg      0\n",
       "3  facedataset/Face Data\\Face Dataset\\0\\3.jpg      0\n",
       "4  facedataset/Face Data\\Face Dataset\\1\\0.jpg      1"
      ]
     },
     "execution_count": 46,
     "metadata": {},
     "output_type": "execute_result"
    }
   ],
   "source": [
    "df = pd.DataFrame(columns=['img_path', 'label'])\n",
    "df['img_path'] = all_img_list\n",
    "df['label'] = df['img_path'].apply(lambda x: int(str(x).split('\\\\')[-2]))\n",
    "\n",
    "df.head()"
   ]
  },
  {
   "cell_type": "code",
   "execution_count": 47,
   "id": "187b3ff2",
   "metadata": {},
   "outputs": [
    {
     "data": {
      "text/plain": [
       "label\n",
       "7777    237\n",
       "856      50\n",
       "1467     50\n",
       "531      50\n",
       "536      50\n",
       "       ... \n",
       "479       2\n",
       "48        2\n",
       "481       2\n",
       "482       2\n",
       "242       2\n",
       "Name: count, Length: 1681, dtype: int64"
      ]
     },
     "execution_count": 47,
     "metadata": {},
     "output_type": "execute_result"
    }
   ],
   "source": [
    "df['label'].value_counts()"
   ]
  },
  {
   "cell_type": "code",
   "execution_count": 49,
   "id": "589bc7b2",
   "metadata": {},
   "outputs": [
    {
     "data": {
      "text/html": [
       "<div>\n",
       "<style scoped>\n",
       "    .dataframe tbody tr th:only-of-type {\n",
       "        vertical-align: middle;\n",
       "    }\n",
       "\n",
       "    .dataframe tbody tr th {\n",
       "        vertical-align: top;\n",
       "    }\n",
       "\n",
       "    .dataframe thead th {\n",
       "        text-align: right;\n",
       "    }\n",
       "</style>\n",
       "<table border=\"1\" class=\"dataframe\">\n",
       "  <thead>\n",
       "    <tr style=\"text-align: right;\">\n",
       "      <th></th>\n",
       "      <th>img_path</th>\n",
       "      <th>label</th>\n",
       "    </tr>\n",
       "  </thead>\n",
       "  <tbody>\n",
       "    <tr>\n",
       "      <th>6915</th>\n",
       "      <td>facedataset/Face Data\\Face Dataset\\7777\\Leonar...</td>\n",
       "      <td>7777</td>\n",
       "    </tr>\n",
       "    <tr>\n",
       "      <th>6916</th>\n",
       "      <td>facedataset/Face Data\\Face Dataset\\7777\\Leonar...</td>\n",
       "      <td>7777</td>\n",
       "    </tr>\n",
       "    <tr>\n",
       "      <th>6917</th>\n",
       "      <td>facedataset/Face Data\\Face Dataset\\7777\\Leonar...</td>\n",
       "      <td>7777</td>\n",
       "    </tr>\n",
       "    <tr>\n",
       "      <th>6918</th>\n",
       "      <td>facedataset/Face Data\\Face Dataset\\7777\\Leonar...</td>\n",
       "      <td>7777</td>\n",
       "    </tr>\n",
       "    <tr>\n",
       "      <th>6919</th>\n",
       "      <td>facedataset/Face Data\\Face Dataset\\7777\\Leonar...</td>\n",
       "      <td>7777</td>\n",
       "    </tr>\n",
       "    <tr>\n",
       "      <th>...</th>\n",
       "      <td>...</td>\n",
       "      <td>...</td>\n",
       "    </tr>\n",
       "    <tr>\n",
       "      <th>7147</th>\n",
       "      <td>facedataset/Face Data\\Face Dataset\\7777\\Leonar...</td>\n",
       "      <td>7777</td>\n",
       "    </tr>\n",
       "    <tr>\n",
       "      <th>7148</th>\n",
       "      <td>facedataset/Face Data\\Face Dataset\\7777\\Leonar...</td>\n",
       "      <td>7777</td>\n",
       "    </tr>\n",
       "    <tr>\n",
       "      <th>7149</th>\n",
       "      <td>facedataset/Face Data\\Face Dataset\\7777\\Leonar...</td>\n",
       "      <td>7777</td>\n",
       "    </tr>\n",
       "    <tr>\n",
       "      <th>7150</th>\n",
       "      <td>facedataset/Face Data\\Face Dataset\\7777\\Leonar...</td>\n",
       "      <td>7777</td>\n",
       "    </tr>\n",
       "    <tr>\n",
       "      <th>7151</th>\n",
       "      <td>facedataset/Face Data\\Face Dataset\\7777\\Leonar...</td>\n",
       "      <td>7777</td>\n",
       "    </tr>\n",
       "  </tbody>\n",
       "</table>\n",
       "<p>237 rows × 2 columns</p>\n",
       "</div>"
      ],
      "text/plain": [
       "                                               img_path  label\n",
       "6915  facedataset/Face Data\\Face Dataset\\7777\\Leonar...   7777\n",
       "6916  facedataset/Face Data\\Face Dataset\\7777\\Leonar...   7777\n",
       "6917  facedataset/Face Data\\Face Dataset\\7777\\Leonar...   7777\n",
       "6918  facedataset/Face Data\\Face Dataset\\7777\\Leonar...   7777\n",
       "6919  facedataset/Face Data\\Face Dataset\\7777\\Leonar...   7777\n",
       "...                                                 ...    ...\n",
       "7147  facedataset/Face Data\\Face Dataset\\7777\\Leonar...   7777\n",
       "7148  facedataset/Face Data\\Face Dataset\\7777\\Leonar...   7777\n",
       "7149  facedataset/Face Data\\Face Dataset\\7777\\Leonar...   7777\n",
       "7150  facedataset/Face Data\\Face Dataset\\7777\\Leonar...   7777\n",
       "7151  facedataset/Face Data\\Face Dataset\\7777\\Leonar...   7777\n",
       "\n",
       "[237 rows x 2 columns]"
      ]
     },
     "execution_count": 49,
     "metadata": {},
     "output_type": "execute_result"
    }
   ],
   "source": [
    "df[df['label']==7777]"
   ]
  },
  {
   "cell_type": "code",
   "execution_count": 10,
   "id": "4db41c93-3515-4fcd-936b-0a01f5388b3f",
   "metadata": {},
   "outputs": [],
   "source": [
    "# # train val split\n",
    "# train, val, _, _ = train_test_split(df, df['label'], test_size=0.2, stratify=df['label'], random_state=CFG['SEED'])\n"
   ]
  },
  {
   "attachments": {},
   "cell_type": "markdown",
   "id": "bb1f117e-105d-4e9e-b9bd-938d4271a940",
   "metadata": {},
   "source": [
    "## Label-Encoding"
   ]
  },
  {
   "cell_type": "code",
   "execution_count": 11,
   "id": "6c8c5916-8065-4b5c-aa37-f3fb2b9fa422",
   "metadata": {},
   "outputs": [],
   "source": [
    "# le = preprocessing.LabelEncoder()\n",
    "# train['label'] = le.fit_transform(train['label'])\n",
    "# val['label'] = le.transform(val['label'])\n"
   ]
  },
  {
   "cell_type": "code",
   "execution_count": 12,
   "id": "a62dd15d",
   "metadata": {},
   "outputs": [],
   "source": [
    "# label_mapping = dict(zip(le.classes_, le.transform(le.classes_)))\n",
    "# print(\"Label mapping:\")\n",
    "# print(label_mapping)\n",
    "# # train_folder = 'train'\n",
    "# # # 작업 디렉토리 변경\n",
    "# # os.chdir(train_folder)\n",
    "\n",
    "# # 폴더명 변경\n",
    "# for old_name, new_label in label_mapping.items():\n",
    "#     os.rename(old_name, str(new_label))"
   ]
  },
  {
   "cell_type": "code",
   "execution_count": 10,
   "id": "bca1f9e8",
   "metadata": {},
   "outputs": [],
   "source": [
    "import json\n",
    "\n",
    "# Load the label mapping from the JSON file\n",
    "with open('label_mapping.json', 'r') as f:\n",
    "    label_mapping = json.load(f)\n",
    "\n",
    "# Convert the values to a list\n",
    "values_list = list(label_mapping.values())\n",
    "\n",
    "# Get the keys that need to be modified\n",
    "keys_to_update = []\n",
    "for key, value in label_mapping.items():\n",
    "    if value in values_list[:18]:\n",
    "        keys_to_update.append(key)\n",
    "\n",
    "# Update the values of the keys\n",
    "for key in keys_to_update:\n",
    "    label_mapping[key] = values_list.index(label_mapping[key]) + 1\n"
   ]
  },
  {
   "cell_type": "code",
   "execution_count": 11,
   "id": "e6084a4f",
   "metadata": {},
   "outputs": [],
   "source": [
    "new_label_mapping = {key: idx for idx, key in enumerate(label_mapping.keys())}\n",
    "label_mapping = new_label_mapping\n"
   ]
  },
  {
   "attachments": {},
   "cell_type": "markdown",
   "id": "ac27ed36-8031-47a7-bd0d-a913513f2e8e",
   "metadata": {},
   "source": [
    "## CustomDataset"
   ]
  },
  {
   "cell_type": "code",
   "execution_count": 12,
   "id": "16fd60a5-24e2-4539-bfd0-1c374a641699",
   "metadata": {},
   "outputs": [],
   "source": [
    "class CustomDataset(Dataset):\n",
    "    def __init__(self, img_path_list, label_list, transforms=None):\n",
    "        self.img_path_list = img_path_list\n",
    "        self.label_list = label_list\n",
    "        self.transforms = transforms\n",
    "        \n",
    "    def __getitem__(self, index):\n",
    "        img_path = self.img_path_list[index]\n",
    "        \n",
    "        image = cv2.imread(img_path)\n",
    "        \n",
    "        if self.transforms is not None:\n",
    "            image = self.transforms(image=image)['image']\n",
    "        \n",
    "        if self.label_list is not None:\n",
    "            label = self.label_list[index]\n",
    "            return image, label\n",
    "        else:\n",
    "            return image\n",
    "        \n",
    "    def __len__(self):\n",
    "        return len(self.img_path_list)"
   ]
  },
  {
   "cell_type": "code",
   "execution_count": 13,
   "id": "340b4a8b-5d6c-413f-b8b6-066e91a660e5",
   "metadata": {},
   "outputs": [],
   "source": [
    "train_transform = A.Compose([\n",
    "                            A.Resize(CFG['IMG_SIZE'],CFG['IMG_SIZE']),\n",
    "                            A.HorizontalFlip(p=0.5),\n",
    "                            A.RandomBrightnessContrast(p=0.5),\n",
    "                            A.Normalize(mean=(0.485, 0.456, 0.406), std=(0.229, 0.224, 0.225), max_pixel_value=255.0, always_apply=False, p=1.0),\n",
    "                            ToTensorV2()\n",
    "                            ])\n",
    "                           \n",
    "test_transform = A.Compose([\n",
    "                            A.Resize(CFG['IMG_SIZE'],CFG['IMG_SIZE']),\n",
    "                            A.Normalize(mean=(0.485, 0.456, 0.406), std=(0.229, 0.224, 0.225), max_pixel_value=255.0, always_apply=False, p=1.0),\n",
    "                            ToTensorV2()\n",
    "                            ])"
   ]
  },
  {
   "cell_type": "code",
   "execution_count": null,
   "id": "02b0ea8f",
   "metadata": {},
   "outputs": [],
   "source": []
  },
  {
   "cell_type": "code",
   "execution_count": 17,
   "id": "d0564e9c",
   "metadata": {},
   "outputs": [
    {
     "data": {
      "text/plain": [
       "<torch.utils.data.sampler.WeightedRandomSampler at 0x1ddc80c2730>"
      ]
     },
     "execution_count": 17,
     "metadata": {},
     "output_type": "execute_result"
    }
   ],
   "source": [
    "# #weighted sampling\n",
    "# a_list = df['label'].value_counts()\n",
    "# class_counts = df['label'].value_counts().to_list()\n",
    "# class_weights_dict = {label: 1/count for label, count in a_list.items()}\n",
    "\n",
    "# labels_lists = df['label'].to_list()\n",
    "# weights = [class_weights_dict[label] for label in labels_lists]\n",
    "# num_samples = sum(class_counts)\n",
    "# sampler = WeightedRandomSampler(torch.DoubleTensor(weights), int(num_samples), replacement=True)\n",
    "# sampler"
   ]
  },
  {
   "cell_type": "code",
   "execution_count": 18,
   "id": "9d880481-1965-499d-9caa-fdfa8526f789",
   "metadata": {},
   "outputs": [],
   "source": [
    "# # make dataloader\n",
    "# train_dataset = CustomDataset(train['img_path'].values, train['label'].values, train_transform)\n",
    "# train_loader = DataLoader(train_dataset, batch_size = CFG['BATCH_SIZE'], shuffle=True, num_workers=0)\n",
    "\n",
    "# val_dataset = CustomDataset(val['img_path'].values, val['label'].values, test_transform)\n",
    "\n",
    "# val_loader = DataLoader(val_dataset, batch_size=CFG['BATCH_SIZE'], shuffle=False, num_workers=0)"
   ]
  },
  {
   "cell_type": "code",
   "execution_count": 14,
   "id": "b6cb1b5c",
   "metadata": {},
   "outputs": [],
   "source": [
    "class FocalLoss(nn.Module):\n",
    "    def __init__(self, gamma=0, alpha=None, size_average=True):\n",
    "        super(FocalLoss, self).__init__()\n",
    "        self.gamma = gamma\n",
    "        self.alpha = alpha\n",
    "        if isinstance(alpha, (float, int)):\n",
    "            self.alpha = torch.Tensor([alpha] * 19)\n",
    "        self.alpha[18] = 1 - alpha\n",
    "        if isinstance(alpha, list):\n",
    "            self.alpha = torch.Tensor(alpha)\n",
    "        self.size_average = size_average\n",
    "\n",
    "    def forward(self, input, target):\n",
    "        if input.dim() > 2:\n",
    "            input = input.view(input.size(0), input.size(1), -1)  # N,C,H,W => N,C,H*W\n",
    "            input = input.transpose(1, 2)  # N,C,H*W => N,H*W,C\n",
    "            input = input.contiguous().view(-1, input.size(2))  # N,H*W,C => N*H*W,C\n",
    "\n",
    "        if not isinstance(target, torch.Tensor):\n",
    "            target = torch.tensor(target, dtype=torch.long)\n",
    "\n",
    "        target = target.view(-1, 1)\n",
    "\n",
    "        logpt = F.log_softmax(input)\n",
    "        logpt = logpt.gather(1, target)\n",
    "        logpt = logpt.view(-1)\n",
    "        pt = Variable(logpt.data.exp())\n",
    "\n",
    "        if self.alpha is not None:\n",
    "            if self.alpha.type() != input.data.type():\n",
    "                self.alpha = self.alpha.type_as(input.data)\n",
    "            at = self.alpha.gather(0, target.data.view(-1))\n",
    "            logpt = logpt * at\n",
    "\n",
    "        loss = -1 * (1 - pt) ** self.gamma * logpt\n",
    "        if self.size_average:\n",
    "            return loss.mean()\n",
    "        else:\n",
    "            return loss.sum()\n"
   ]
  },
  {
   "cell_type": "code",
   "execution_count": 18,
   "id": "12e72a88",
   "metadata": {},
   "outputs": [],
   "source": [
    "df = df_oversampled.copy()"
   ]
  },
  {
   "attachments": {},
   "cell_type": "markdown",
   "id": "39962463-032f-490a-a76d-c03991795f38",
   "metadata": {},
   "source": [
    "## Model Define"
   ]
  },
  {
   "cell_type": "code",
   "execution_count": 19,
   "id": "3664c4d0-f1f2-4971-9090-4d6ee66309ae",
   "metadata": {},
   "outputs": [],
   "source": [
    "class BaseModel(nn.Module):\n",
    "    def __init__(self, num_classes=len(df['label'].unique()), freeze_backbone=True):\n",
    "        super(BaseModel, self).__init__()\n",
    "        self.backbone = models.efficientnet_b0(pretrained=True)\n",
    "        self.classifier = nn.Linear(1000, num_classes)\n",
    "        \n",
    "        if freeze_backbone:\n",
    "            for param in self.backbone.parameters():\n",
    "                param.requires_grad = False\n",
    "        \n",
    "    def forward(self, x):\n",
    "        x = self.backbone(x)\n",
    "        x = self.classifier(x)\n",
    "        return x"
   ]
  },
  {
   "attachments": {},
   "cell_type": "markdown",
   "id": "122af0aa-a1fd-4595-9488-35761e3cb596",
   "metadata": {},
   "source": [
    "## Train"
   ]
  },
  {
   "cell_type": "code",
   "execution_count": 20,
   "id": "91ccee05",
   "metadata": {},
   "outputs": [],
   "source": [
    "def inference(model, test_loader, device):\n",
    "    model.eval()\n",
    "    preds = []\n",
    "    with torch.no_grad():\n",
    "        for imgs in tqdm(iter(test_loader)):\n",
    "            imgs = imgs.float().to(device)\n",
    "            \n",
    "            pred = model(imgs)\n",
    "            \n",
    "            preds += pred.argmax(1).detach().cpu().numpy().tolist()\n",
    "    \n",
    "    \n",
    "    return preds"
   ]
  },
  {
   "cell_type": "code",
   "execution_count": 23,
   "id": "19f0d4d6",
   "metadata": {},
   "outputs": [
    {
     "name": "stdout",
     "output_type": "stream",
     "text": [
      "Fold: 0\n"
     ]
    },
    {
     "name": "stderr",
     "output_type": "stream",
     "text": [
      "100%|██████████| 36/36 [00:17<00:00,  2.07it/s]\n",
      "  1%|          | 1/144 [00:28<1:07:06, 28.16s/it]"
     ]
    },
    {
     "name": "stdout",
     "output_type": "stream",
     "text": [
      "Epoch [1], Train Loss : [0.73025] Val Loss : [0.86513]\n"
     ]
    },
    {
     "name": "stderr",
     "output_type": "stream",
     "text": [
      "100%|██████████| 36/36 [00:10<00:00,  3.39it/s]\n",
      "  1%|▏         | 2/144 [00:39<43:02, 18.19s/it]  "
     ]
    },
    {
     "name": "stdout",
     "output_type": "stream",
     "text": [
      "Epoch [1], Train Loss : [0.77901] Val Loss : [0.70116]\n"
     ]
    },
    {
     "name": "stderr",
     "output_type": "stream",
     "text": [
      "100%|██████████| 36/36 [00:10<00:00,  3.39it/s]\n",
      "  2%|▏         | 3/144 [00:50<35:28, 15.09s/it]"
     ]
    },
    {
     "name": "stdout",
     "output_type": "stream",
     "text": [
      "Epoch [1], Train Loss : [0.76633] Val Loss : [0.58290]\n"
     ]
    },
    {
     "name": "stderr",
     "output_type": "stream",
     "text": [
      "100%|██████████| 36/36 [00:10<00:00,  3.39it/s]\n",
      "  3%|▎         | 4/144 [01:02<31:49, 13.64s/it]"
     ]
    },
    {
     "name": "stdout",
     "output_type": "stream",
     "text": [
      "Epoch [1], Train Loss : [0.72082] Val Loss : [0.56701]\n"
     ]
    },
    {
     "name": "stderr",
     "output_type": "stream",
     "text": [
      "100%|██████████| 36/36 [00:11<00:00,  3.22it/s]\n",
      "  3%|▎         | 5/144 [01:14<30:10, 13.02s/it]"
     ]
    },
    {
     "name": "stdout",
     "output_type": "stream",
     "text": [
      "Epoch [1], Train Loss : [0.68779] Val Loss : [0.58236]\n"
     ]
    },
    {
     "name": "stderr",
     "output_type": "stream",
     "text": [
      "100%|██████████| 36/36 [00:11<00:00,  3.23it/s]\n",
      "  4%|▍         | 6/144 [01:26<29:04, 12.64s/it]"
     ]
    },
    {
     "name": "stdout",
     "output_type": "stream",
     "text": [
      "Epoch [1], Train Loss : [0.67176] Val Loss : [0.51253]\n"
     ]
    },
    {
     "name": "stderr",
     "output_type": "stream",
     "text": [
      "100%|██████████| 36/36 [00:11<00:00,  3.25it/s]\n",
      "  5%|▍         | 7/144 [01:37<28:15, 12.38s/it]"
     ]
    },
    {
     "name": "stdout",
     "output_type": "stream",
     "text": [
      "Epoch [1], Train Loss : [0.64623] Val Loss : [0.48333]\n"
     ]
    },
    {
     "name": "stderr",
     "output_type": "stream",
     "text": [
      "100%|██████████| 36/36 [00:10<00:00,  3.33it/s]\n",
      "  6%|▌         | 8/144 [01:49<27:27, 12.11s/it]"
     ]
    },
    {
     "name": "stdout",
     "output_type": "stream",
     "text": [
      "Epoch [1], Train Loss : [0.61218] Val Loss : [0.46470]\n"
     ]
    },
    {
     "name": "stderr",
     "output_type": "stream",
     "text": [
      "100%|██████████| 36/36 [00:10<00:00,  3.30it/s]\n",
      "  6%|▋         | 9/144 [02:01<26:56, 11.97s/it]"
     ]
    },
    {
     "name": "stdout",
     "output_type": "stream",
     "text": [
      "Epoch [1], Train Loss : [0.60308] Val Loss : [0.44643]\n"
     ]
    },
    {
     "name": "stderr",
     "output_type": "stream",
     "text": [
      "100%|██████████| 36/36 [00:10<00:00,  3.42it/s]\n",
      "  7%|▋         | 10/144 [02:12<26:14, 11.75s/it]"
     ]
    },
    {
     "name": "stdout",
     "output_type": "stream",
     "text": [
      "Epoch [1], Train Loss : [0.58856] Val Loss : [0.43451]\n"
     ]
    },
    {
     "name": "stderr",
     "output_type": "stream",
     "text": [
      "100%|██████████| 36/36 [00:10<00:00,  3.43it/s]\n",
      "  8%|▊         | 11/144 [02:23<25:39, 11.57s/it]"
     ]
    },
    {
     "name": "stdout",
     "output_type": "stream",
     "text": [
      "Epoch [1], Train Loss : [0.57356] Val Loss : [0.41789]\n"
     ]
    },
    {
     "name": "stderr",
     "output_type": "stream",
     "text": [
      "100%|██████████| 36/36 [00:10<00:00,  3.44it/s]\n",
      "  8%|▊         | 12/144 [02:34<25:11, 11.45s/it]"
     ]
    },
    {
     "name": "stdout",
     "output_type": "stream",
     "text": [
      "Epoch [1], Train Loss : [0.56626] Val Loss : [0.40545]\n"
     ]
    },
    {
     "name": "stderr",
     "output_type": "stream",
     "text": [
      "100%|██████████| 36/36 [00:10<00:00,  3.42it/s]\n",
      "  9%|▉         | 13/144 [02:45<24:50, 11.38s/it]"
     ]
    },
    {
     "name": "stdout",
     "output_type": "stream",
     "text": [
      "Epoch [1], Train Loss : [0.55545] Val Loss : [0.39594]\n"
     ]
    },
    {
     "name": "stderr",
     "output_type": "stream",
     "text": [
      "100%|██████████| 36/36 [00:10<00:00,  3.44it/s]\n",
      " 10%|▉         | 14/144 [02:57<24:30, 11.32s/it]"
     ]
    },
    {
     "name": "stdout",
     "output_type": "stream",
     "text": [
      "Epoch [1], Train Loss : [0.54925] Val Loss : [0.38132]\n"
     ]
    },
    {
     "name": "stderr",
     "output_type": "stream",
     "text": [
      "100%|██████████| 36/36 [00:10<00:00,  3.43it/s]\n",
      " 10%|█         | 15/144 [03:08<24:15, 11.29s/it]"
     ]
    },
    {
     "name": "stdout",
     "output_type": "stream",
     "text": [
      "Epoch [1], Train Loss : [0.53755] Val Loss : [0.37302]\n"
     ]
    },
    {
     "name": "stderr",
     "output_type": "stream",
     "text": [
      "100%|██████████| 36/36 [00:10<00:00,  3.44it/s]\n",
      " 11%|█         | 16/144 [03:19<23:58, 11.23s/it]"
     ]
    },
    {
     "name": "stdout",
     "output_type": "stream",
     "text": [
      "Epoch [1], Train Loss : [0.51815] Val Loss : [0.38667]\n"
     ]
    },
    {
     "name": "stderr",
     "output_type": "stream",
     "text": [
      "100%|██████████| 36/36 [00:10<00:00,  3.44it/s]\n",
      " 12%|█▏        | 17/144 [03:30<23:44, 11.22s/it]"
     ]
    },
    {
     "name": "stdout",
     "output_type": "stream",
     "text": [
      "Epoch [1], Train Loss : [0.50066] Val Loss : [0.39851]\n"
     ]
    },
    {
     "name": "stderr",
     "output_type": "stream",
     "text": [
      "100%|██████████| 36/36 [00:10<00:00,  3.35it/s]\n",
      " 12%|█▎        | 18/144 [03:41<23:40, 11.27s/it]"
     ]
    },
    {
     "name": "stdout",
     "output_type": "stream",
     "text": [
      "Epoch [1], Train Loss : [0.49937] Val Loss : [0.37517]\n"
     ]
    },
    {
     "name": "stderr",
     "output_type": "stream",
     "text": [
      "100%|██████████| 36/36 [00:10<00:00,  3.45it/s]\n",
      " 13%|█▎        | 19/144 [03:53<23:24, 11.24s/it]"
     ]
    },
    {
     "name": "stdout",
     "output_type": "stream",
     "text": [
      "Epoch [1], Train Loss : [0.49413] Val Loss : [0.33517]\n"
     ]
    },
    {
     "name": "stderr",
     "output_type": "stream",
     "text": [
      "100%|██████████| 36/36 [00:10<00:00,  3.44it/s]\n",
      " 14%|█▍        | 20/144 [04:04<23:09, 11.20s/it]"
     ]
    },
    {
     "name": "stdout",
     "output_type": "stream",
     "text": [
      "Epoch [1], Train Loss : [0.48680] Val Loss : [0.32979]\n"
     ]
    },
    {
     "name": "stderr",
     "output_type": "stream",
     "text": [
      "100%|██████████| 36/36 [00:10<00:00,  3.45it/s]\n",
      " 15%|█▍        | 21/144 [04:15<22:53, 11.17s/it]"
     ]
    },
    {
     "name": "stdout",
     "output_type": "stream",
     "text": [
      "Epoch [1], Train Loss : [0.47785] Val Loss : [0.33082]\n"
     ]
    },
    {
     "name": "stderr",
     "output_type": "stream",
     "text": [
      "100%|██████████| 36/36 [00:10<00:00,  3.44it/s]\n",
      " 15%|█▌        | 22/144 [04:26<22:43, 11.17s/it]"
     ]
    },
    {
     "name": "stdout",
     "output_type": "stream",
     "text": [
      "Epoch [1], Train Loss : [0.47022] Val Loss : [0.33782]\n"
     ]
    },
    {
     "name": "stderr",
     "output_type": "stream",
     "text": [
      "100%|██████████| 36/36 [00:10<00:00,  3.35it/s]\n",
      " 16%|█▌        | 23/144 [04:37<22:40, 11.24s/it]"
     ]
    },
    {
     "name": "stdout",
     "output_type": "stream",
     "text": [
      "Epoch [1], Train Loss : [0.46862] Val Loss : [0.35043]\n"
     ]
    },
    {
     "name": "stderr",
     "output_type": "stream",
     "text": [
      "100%|██████████| 36/36 [00:10<00:00,  3.48it/s]\n",
      " 17%|█▋        | 24/144 [04:48<22:21, 11.18s/it]"
     ]
    },
    {
     "name": "stdout",
     "output_type": "stream",
     "text": [
      "Epoch [1], Train Loss : [0.46048] Val Loss : [0.35745]\n"
     ]
    },
    {
     "name": "stderr",
     "output_type": "stream",
     "text": [
      "100%|██████████| 36/36 [00:10<00:00,  3.45it/s]\n",
      " 17%|█▋        | 25/144 [05:00<22:08, 11.16s/it]"
     ]
    },
    {
     "name": "stdout",
     "output_type": "stream",
     "text": [
      "Epoch [1], Train Loss : [0.45318] Val Loss : [0.36346]\n"
     ]
    },
    {
     "name": "stderr",
     "output_type": "stream",
     "text": [
      "100%|██████████| 36/36 [00:10<00:00,  3.45it/s]\n",
      " 17%|█▋        | 25/144 [05:11<24:40, 12.44s/it]\n"
     ]
    },
    {
     "name": "stdout",
     "output_type": "stream",
     "text": [
      "Epoch [1], Train Loss : [0.44677] Val Loss : [0.34297]\n",
      "Early stopping triggered! No improvement in validation loss.\n"
     ]
    },
    {
     "name": "stderr",
     "output_type": "stream",
     "text": [
      "100%|██████████| 36/36 [00:10<00:00,  3.35it/s]\n",
      "  0%|          | 0/144 [00:11<?, ?it/s]\n"
     ]
    },
    {
     "name": "stdout",
     "output_type": "stream",
     "text": [
      "Epoch [2], Train Loss : [0.89743] Val Loss : [0.34191]\n",
      "Epoch 00027: reducing learning rate of group 0 to 1.5000e-04.\n",
      "Early stopping triggered! No improvement in validation loss.\n"
     ]
    },
    {
     "name": "stderr",
     "output_type": "stream",
     "text": [
      "100%|██████████| 36/36 [00:10<00:00,  3.45it/s]\n",
      "  0%|          | 0/144 [00:11<?, ?it/s]\n"
     ]
    },
    {
     "name": "stdout",
     "output_type": "stream",
     "text": [
      "Epoch [3], Train Loss : [0.80275] Val Loss : [0.34237]\n",
      "Early stopping triggered! No improvement in validation loss.\n"
     ]
    },
    {
     "name": "stderr",
     "output_type": "stream",
     "text": [
      "100%|██████████| 36/36 [00:10<00:00,  3.36it/s]\n",
      "  0%|          | 0/144 [00:11<?, ?it/s]\n"
     ]
    },
    {
     "name": "stdout",
     "output_type": "stream",
     "text": [
      "Epoch [4], Train Loss : [0.78531] Val Loss : [0.34745]\n",
      "Early stopping triggered! No improvement in validation loss.\n"
     ]
    },
    {
     "name": "stderr",
     "output_type": "stream",
     "text": [
      "100%|██████████| 36/36 [00:10<00:00,  3.45it/s]\n",
      "  0%|          | 0/144 [00:11<?, ?it/s]\n"
     ]
    },
    {
     "name": "stdout",
     "output_type": "stream",
     "text": [
      "Epoch [5], Train Loss : [0.82258] Val Loss : [0.34758]\n",
      "Early stopping triggered! No improvement in validation loss.\n"
     ]
    },
    {
     "name": "stderr",
     "output_type": "stream",
     "text": [
      "100%|██████████| 36/36 [00:10<00:00,  3.45it/s]\n",
      "  0%|          | 0/144 [00:11<?, ?it/s]\n"
     ]
    },
    {
     "name": "stdout",
     "output_type": "stream",
     "text": [
      "Epoch [6], Train Loss : [0.85276] Val Loss : [0.34756]\n",
      "Early stopping triggered! No improvement in validation loss.\n"
     ]
    },
    {
     "name": "stderr",
     "output_type": "stream",
     "text": [
      "100%|██████████| 36/36 [00:10<00:00,  3.44it/s]\n",
      "  0%|          | 0/144 [00:11<?, ?it/s]\n"
     ]
    },
    {
     "name": "stdout",
     "output_type": "stream",
     "text": [
      "Epoch [7], Train Loss : [0.73899] Val Loss : [0.34620]\n",
      "Early stopping triggered! No improvement in validation loss.\n"
     ]
    },
    {
     "name": "stderr",
     "output_type": "stream",
     "text": [
      "100%|██████████| 36/36 [00:10<00:00,  3.44it/s]\n",
      "  0%|          | 0/144 [00:11<?, ?it/s]\n"
     ]
    },
    {
     "name": "stdout",
     "output_type": "stream",
     "text": [
      "Epoch [8], Train Loss : [0.60791] Val Loss : [0.34383]\n",
      "Early stopping triggered! No improvement in validation loss.\n"
     ]
    },
    {
     "name": "stderr",
     "output_type": "stream",
     "text": [
      "100%|██████████| 36/36 [00:10<00:00,  3.45it/s]\n",
      "  0%|          | 0/144 [00:11<?, ?it/s]\n"
     ]
    },
    {
     "name": "stdout",
     "output_type": "stream",
     "text": [
      "Epoch [9], Train Loss : [0.57484] Val Loss : [0.34201]\n",
      "Epoch 00034: reducing learning rate of group 0 to 7.5000e-05.\n",
      "Early stopping triggered! No improvement in validation loss.\n"
     ]
    },
    {
     "name": "stderr",
     "output_type": "stream",
     "text": [
      "100%|██████████| 36/36 [00:10<00:00,  3.44it/s]\n",
      "  0%|          | 0/144 [00:11<?, ?it/s]\n"
     ]
    },
    {
     "name": "stdout",
     "output_type": "stream",
     "text": [
      "Epoch [10], Train Loss : [0.43958] Val Loss : [0.34237]\n",
      "Early stopping triggered! No improvement in validation loss.\n"
     ]
    },
    {
     "name": "stderr",
     "output_type": "stream",
     "text": [
      "100%|██████████| 36/36 [00:10<00:00,  3.41it/s]\n",
      "  0%|          | 0/144 [00:11<?, ?it/s]\n"
     ]
    },
    {
     "name": "stdout",
     "output_type": "stream",
     "text": [
      "Epoch [11], Train Loss : [0.57729] Val Loss : [0.34324]\n",
      "Early stopping triggered! No improvement in validation loss.\n"
     ]
    },
    {
     "name": "stderr",
     "output_type": "stream",
     "text": [
      "100%|██████████| 36/36 [00:10<00:00,  3.44it/s]\n",
      "  0%|          | 0/144 [00:11<?, ?it/s]\n"
     ]
    },
    {
     "name": "stdout",
     "output_type": "stream",
     "text": [
      "Epoch [12], Train Loss : [0.57227] Val Loss : [0.34526]\n",
      "Early stopping triggered! No improvement in validation loss.\n"
     ]
    },
    {
     "name": "stderr",
     "output_type": "stream",
     "text": [
      "100%|██████████| 36/36 [00:10<00:00,  3.45it/s]\n",
      "  0%|          | 0/144 [00:11<?, ?it/s]\n"
     ]
    },
    {
     "name": "stdout",
     "output_type": "stream",
     "text": [
      "Epoch [13], Train Loss : [0.46910] Val Loss : [0.34908]\n",
      "Early stopping triggered! No improvement in validation loss.\n"
     ]
    },
    {
     "name": "stderr",
     "output_type": "stream",
     "text": [
      "100%|██████████| 36/36 [00:10<00:00,  3.44it/s]\n",
      "  0%|          | 0/144 [00:11<?, ?it/s]\n"
     ]
    },
    {
     "name": "stdout",
     "output_type": "stream",
     "text": [
      "Epoch [14], Train Loss : [0.45603] Val Loss : [0.35540]\n",
      "Early stopping triggered! No improvement in validation loss.\n"
     ]
    },
    {
     "name": "stderr",
     "output_type": "stream",
     "text": [
      "100%|██████████| 36/36 [00:10<00:00,  3.44it/s]\n",
      "  0%|          | 0/144 [00:11<?, ?it/s]\n"
     ]
    },
    {
     "name": "stdout",
     "output_type": "stream",
     "text": [
      "Epoch [15], Train Loss : [0.44684] Val Loss : [0.35915]\n",
      "Early stopping triggered! No improvement in validation loss.\n"
     ]
    },
    {
     "name": "stderr",
     "output_type": "stream",
     "text": [
      "100%|██████████| 36/36 [00:10<00:00,  3.45it/s]\n",
      "  0%|          | 0/144 [00:11<?, ?it/s]\n"
     ]
    },
    {
     "name": "stdout",
     "output_type": "stream",
     "text": [
      "Epoch [16], Train Loss : [0.38571] Val Loss : [0.36217]\n",
      "Epoch 00041: reducing learning rate of group 0 to 3.7500e-05.\n",
      "Early stopping triggered! No improvement in validation loss.\n"
     ]
    },
    {
     "name": "stderr",
     "output_type": "stream",
     "text": [
      "100%|██████████| 36/36 [00:10<00:00,  3.37it/s]\n",
      "  0%|          | 0/144 [00:11<?, ?it/s]\n"
     ]
    },
    {
     "name": "stdout",
     "output_type": "stream",
     "text": [
      "Epoch [17], Train Loss : [0.52250] Val Loss : [0.36748]\n",
      "Early stopping triggered! No improvement in validation loss.\n"
     ]
    },
    {
     "name": "stderr",
     "output_type": "stream",
     "text": [
      "100%|██████████| 36/36 [00:10<00:00,  3.45it/s]\n",
      "  0%|          | 0/144 [00:11<?, ?it/s]\n"
     ]
    },
    {
     "name": "stdout",
     "output_type": "stream",
     "text": [
      "Epoch [18], Train Loss : [0.37300] Val Loss : [0.37072]\n",
      "Early stopping triggered! No improvement in validation loss.\n"
     ]
    },
    {
     "name": "stderr",
     "output_type": "stream",
     "text": [
      "100%|██████████| 36/36 [00:10<00:00,  3.43it/s]\n",
      "  0%|          | 0/144 [00:11<?, ?it/s]\n"
     ]
    },
    {
     "name": "stdout",
     "output_type": "stream",
     "text": [
      "Epoch [19], Train Loss : [0.40188] Val Loss : [0.37311]\n",
      "Early stopping triggered! No improvement in validation loss.\n"
     ]
    },
    {
     "name": "stderr",
     "output_type": "stream",
     "text": [
      "100%|██████████| 36/36 [00:10<00:00,  3.36it/s]\n",
      "  0%|          | 0/144 [00:11<?, ?it/s]\n"
     ]
    },
    {
     "name": "stdout",
     "output_type": "stream",
     "text": [
      "Epoch [20], Train Loss : [0.63223] Val Loss : [0.37671]\n",
      "Early stopping triggered! No improvement in validation loss.\n"
     ]
    },
    {
     "name": "stderr",
     "output_type": "stream",
     "text": [
      "100%|██████████| 36/36 [00:10<00:00,  3.45it/s]\n",
      "  0%|          | 0/144 [00:11<?, ?it/s]\n"
     ]
    },
    {
     "name": "stdout",
     "output_type": "stream",
     "text": [
      "Epoch [21], Train Loss : [0.40200] Val Loss : [0.37921]\n",
      "Early stopping triggered! No improvement in validation loss.\n"
     ]
    },
    {
     "name": "stderr",
     "output_type": "stream",
     "text": [
      "100%|██████████| 36/36 [00:10<00:00,  3.45it/s]\n",
      "  0%|          | 0/144 [00:11<?, ?it/s]\n"
     ]
    },
    {
     "name": "stdout",
     "output_type": "stream",
     "text": [
      "Epoch [22], Train Loss : [0.47618] Val Loss : [0.38140]\n",
      "Early stopping triggered! No improvement in validation loss.\n"
     ]
    },
    {
     "name": "stderr",
     "output_type": "stream",
     "text": [
      "100%|██████████| 36/36 [00:10<00:00,  3.45it/s]\n",
      "  0%|          | 0/144 [00:10<?, ?it/s]\n"
     ]
    },
    {
     "name": "stdout",
     "output_type": "stream",
     "text": [
      "Epoch [23], Train Loss : [0.39293] Val Loss : [0.38196]\n",
      "Epoch 00048: reducing learning rate of group 0 to 1.8750e-05.\n",
      "Early stopping triggered! No improvement in validation loss.\n"
     ]
    },
    {
     "name": "stderr",
     "output_type": "stream",
     "text": [
      "100%|██████████| 36/36 [00:10<00:00,  3.35it/s]\n",
      "  0%|          | 0/144 [00:11<?, ?it/s]\n"
     ]
    },
    {
     "name": "stdout",
     "output_type": "stream",
     "text": [
      "Epoch [24], Train Loss : [0.42423] Val Loss : [0.38377]\n",
      "Early stopping triggered! No improvement in validation loss.\n"
     ]
    },
    {
     "name": "stderr",
     "output_type": "stream",
     "text": [
      "100%|██████████| 36/36 [00:10<00:00,  3.45it/s]\n",
      "  0%|          | 0/144 [00:11<?, ?it/s]\n"
     ]
    },
    {
     "name": "stdout",
     "output_type": "stream",
     "text": [
      "Epoch [25], Train Loss : [0.35322] Val Loss : [0.38446]\n",
      "Early stopping triggered! No improvement in validation loss.\n"
     ]
    },
    {
     "name": "stderr",
     "output_type": "stream",
     "text": [
      "100%|██████████| 36/36 [00:10<00:00,  3.36it/s]\n",
      "  0%|          | 0/144 [00:11<?, ?it/s]\n"
     ]
    },
    {
     "name": "stdout",
     "output_type": "stream",
     "text": [
      "Epoch [26], Train Loss : [0.45902] Val Loss : [0.38663]\n",
      "Early stopping triggered! No improvement in validation loss.\n"
     ]
    },
    {
     "name": "stderr",
     "output_type": "stream",
     "text": [
      "100%|██████████| 36/36 [00:10<00:00,  3.46it/s]\n",
      "  0%|          | 0/144 [00:11<?, ?it/s]\n"
     ]
    },
    {
     "name": "stdout",
     "output_type": "stream",
     "text": [
      "Epoch [27], Train Loss : [0.53035] Val Loss : [0.39000]\n",
      "Early stopping triggered! No improvement in validation loss.\n"
     ]
    },
    {
     "name": "stderr",
     "output_type": "stream",
     "text": [
      "100%|██████████| 36/36 [00:10<00:00,  3.45it/s]\n",
      "  0%|          | 0/144 [00:11<?, ?it/s]\n"
     ]
    },
    {
     "name": "stdout",
     "output_type": "stream",
     "text": [
      "Epoch [28], Train Loss : [0.42442] Val Loss : [0.39059]\n",
      "Early stopping triggered! No improvement in validation loss.\n"
     ]
    },
    {
     "name": "stderr",
     "output_type": "stream",
     "text": [
      "100%|██████████| 36/36 [00:10<00:00,  3.37it/s]\n",
      "  0%|          | 0/144 [00:11<?, ?it/s]\n"
     ]
    },
    {
     "name": "stdout",
     "output_type": "stream",
     "text": [
      "Epoch [29], Train Loss : [0.43925] Val Loss : [0.38978]\n",
      "Early stopping triggered! No improvement in validation loss.\n"
     ]
    },
    {
     "name": "stderr",
     "output_type": "stream",
     "text": [
      "100%|██████████| 36/36 [00:10<00:00,  3.44it/s]\n",
      "  0%|          | 0/144 [00:11<?, ?it/s]\n"
     ]
    },
    {
     "name": "stdout",
     "output_type": "stream",
     "text": [
      "Epoch [30], Train Loss : [0.55048] Val Loss : [0.39104]\n",
      "Epoch 00055: reducing learning rate of group 0 to 9.3750e-06.\n",
      "Early stopping triggered! No improvement in validation loss.\n"
     ]
    },
    {
     "name": "stderr",
     "output_type": "stream",
     "text": [
      "100%|██████████| 36/36 [00:10<00:00,  3.45it/s]\n",
      "  0%|          | 0/144 [00:10<?, ?it/s]\n"
     ]
    },
    {
     "name": "stdout",
     "output_type": "stream",
     "text": [
      "Epoch [31], Train Loss : [0.46952] Val Loss : [0.39390]\n",
      "Early stopping triggered! No improvement in validation loss.\n"
     ]
    },
    {
     "name": "stderr",
     "output_type": "stream",
     "text": [
      "100%|██████████| 36/36 [00:10<00:00,  3.36it/s]\n",
      "  0%|          | 0/144 [00:11<?, ?it/s]\n"
     ]
    },
    {
     "name": "stdout",
     "output_type": "stream",
     "text": [
      "Epoch [32], Train Loss : [0.49264] Val Loss : [0.39535]\n",
      "Early stopping triggered! No improvement in validation loss.\n"
     ]
    },
    {
     "name": "stderr",
     "output_type": "stream",
     "text": [
      "100%|██████████| 36/36 [00:10<00:00,  3.44it/s]\n",
      "  0%|          | 0/144 [00:11<?, ?it/s]\n"
     ]
    },
    {
     "name": "stdout",
     "output_type": "stream",
     "text": [
      "Epoch [33], Train Loss : [0.42197] Val Loss : [0.39694]\n",
      "Early stopping triggered! No improvement in validation loss.\n"
     ]
    },
    {
     "name": "stderr",
     "output_type": "stream",
     "text": [
      "100%|██████████| 36/36 [00:10<00:00,  3.35it/s]\n",
      "  0%|          | 0/144 [00:11<?, ?it/s]\n"
     ]
    },
    {
     "name": "stdout",
     "output_type": "stream",
     "text": [
      "Epoch [34], Train Loss : [0.34840] Val Loss : [0.39768]\n",
      "Early stopping triggered! No improvement in validation loss.\n"
     ]
    },
    {
     "name": "stderr",
     "output_type": "stream",
     "text": [
      "100%|██████████| 36/36 [00:10<00:00,  3.43it/s]\n",
      "  0%|          | 0/144 [00:11<?, ?it/s]\n"
     ]
    },
    {
     "name": "stdout",
     "output_type": "stream",
     "text": [
      "Epoch [35], Train Loss : [0.46943] Val Loss : [0.39942]\n",
      "Early stopping triggered! No improvement in validation loss.\n"
     ]
    },
    {
     "name": "stderr",
     "output_type": "stream",
     "text": [
      "100%|██████████| 36/36 [00:10<00:00,  3.45it/s]\n",
      "  0%|          | 0/144 [00:11<?, ?it/s]\n"
     ]
    },
    {
     "name": "stdout",
     "output_type": "stream",
     "text": [
      "Epoch [36], Train Loss : [0.50089] Val Loss : [0.39782]\n",
      "Early stopping triggered! No improvement in validation loss.\n"
     ]
    },
    {
     "name": "stderr",
     "output_type": "stream",
     "text": [
      "100%|██████████| 36/36 [00:10<00:00,  3.45it/s]\n",
      "  0%|          | 0/144 [00:11<?, ?it/s]\n"
     ]
    },
    {
     "name": "stdout",
     "output_type": "stream",
     "text": [
      "Epoch [37], Train Loss : [0.43418] Val Loss : [0.40131]\n",
      "Epoch 00062: reducing learning rate of group 0 to 4.6875e-06.\n",
      "Early stopping triggered! No improvement in validation loss.\n"
     ]
    },
    {
     "name": "stderr",
     "output_type": "stream",
     "text": [
      "100%|██████████| 36/36 [00:10<00:00,  3.35it/s]\n",
      "  0%|          | 0/144 [00:11<?, ?it/s]\n"
     ]
    },
    {
     "name": "stdout",
     "output_type": "stream",
     "text": [
      "Epoch [38], Train Loss : [0.37395] Val Loss : [0.40262]\n",
      "Early stopping triggered! No improvement in validation loss.\n"
     ]
    },
    {
     "name": "stderr",
     "output_type": "stream",
     "text": [
      "100%|██████████| 36/36 [00:10<00:00,  3.36it/s]\n",
      "  0%|          | 0/144 [00:11<?, ?it/s]\n"
     ]
    },
    {
     "name": "stdout",
     "output_type": "stream",
     "text": [
      "Epoch [39], Train Loss : [0.32692] Val Loss : [0.40778]\n",
      "Early stopping triggered! No improvement in validation loss.\n"
     ]
    },
    {
     "name": "stderr",
     "output_type": "stream",
     "text": [
      "100%|██████████| 36/36 [00:10<00:00,  3.45it/s]\n",
      "  0%|          | 0/144 [00:11<?, ?it/s]\n"
     ]
    },
    {
     "name": "stdout",
     "output_type": "stream",
     "text": [
      "Epoch [40], Train Loss : [0.53523] Val Loss : [0.40986]\n",
      "Early stopping triggered! No improvement in validation loss.\n"
     ]
    },
    {
     "name": "stderr",
     "output_type": "stream",
     "text": [
      "100%|██████████| 36/36 [00:10<00:00,  3.41it/s]\n",
      "  0%|          | 0/144 [00:11<?, ?it/s]\n"
     ]
    },
    {
     "name": "stdout",
     "output_type": "stream",
     "text": [
      "Epoch [41], Train Loss : [0.38933] Val Loss : [0.40687]\n",
      "Early stopping triggered! No improvement in validation loss.\n"
     ]
    },
    {
     "name": "stderr",
     "output_type": "stream",
     "text": [
      "100%|██████████| 36/36 [00:10<00:00,  3.45it/s]\n",
      "  0%|          | 0/144 [00:11<?, ?it/s]\n"
     ]
    },
    {
     "name": "stdout",
     "output_type": "stream",
     "text": [
      "Epoch [42], Train Loss : [0.39737] Val Loss : [0.40826]\n",
      "Early stopping triggered! No improvement in validation loss.\n"
     ]
    },
    {
     "name": "stderr",
     "output_type": "stream",
     "text": [
      "100%|██████████| 36/36 [00:10<00:00,  3.45it/s]\n",
      "  0%|          | 0/144 [00:10<?, ?it/s]\n"
     ]
    },
    {
     "name": "stdout",
     "output_type": "stream",
     "text": [
      "Epoch [43], Train Loss : [0.49151] Val Loss : [0.41209]\n",
      "Early stopping triggered! No improvement in validation loss.\n"
     ]
    },
    {
     "name": "stderr",
     "output_type": "stream",
     "text": [
      "100%|██████████| 36/36 [00:10<00:00,  3.44it/s]\n",
      "  0%|          | 0/144 [00:11<?, ?it/s]\n"
     ]
    },
    {
     "name": "stdout",
     "output_type": "stream",
     "text": [
      "Epoch [44], Train Loss : [0.33620] Val Loss : [0.41217]\n",
      "Epoch 00069: reducing learning rate of group 0 to 2.3437e-06.\n",
      "Early stopping triggered! No improvement in validation loss.\n"
     ]
    },
    {
     "name": "stderr",
     "output_type": "stream",
     "text": [
      "100%|██████████| 36/36 [00:10<00:00,  3.44it/s]\n",
      "  0%|          | 0/144 [00:11<?, ?it/s]\n"
     ]
    },
    {
     "name": "stdout",
     "output_type": "stream",
     "text": [
      "Epoch [45], Train Loss : [0.46142] Val Loss : [0.41813]\n",
      "Early stopping triggered! No improvement in validation loss.\n"
     ]
    },
    {
     "name": "stderr",
     "output_type": "stream",
     "text": [
      "100%|██████████| 36/36 [00:10<00:00,  3.45it/s]\n",
      "  0%|          | 0/144 [00:11<?, ?it/s]\n"
     ]
    },
    {
     "name": "stdout",
     "output_type": "stream",
     "text": [
      "Epoch [46], Train Loss : [0.36838] Val Loss : [0.41758]\n",
      "Early stopping triggered! No improvement in validation loss.\n"
     ]
    },
    {
     "name": "stderr",
     "output_type": "stream",
     "text": [
      "100%|██████████| 36/36 [00:10<00:00,  3.46it/s]\n",
      "  0%|          | 0/144 [00:11<?, ?it/s]\n"
     ]
    },
    {
     "name": "stdout",
     "output_type": "stream",
     "text": [
      "Epoch [47], Train Loss : [0.60762] Val Loss : [0.42045]\n",
      "Early stopping triggered! No improvement in validation loss.\n"
     ]
    },
    {
     "name": "stderr",
     "output_type": "stream",
     "text": [
      "100%|██████████| 36/36 [00:10<00:00,  3.45it/s]\n",
      "  0%|          | 0/144 [00:10<?, ?it/s]\n"
     ]
    },
    {
     "name": "stdout",
     "output_type": "stream",
     "text": [
      "Epoch [48], Train Loss : [0.48022] Val Loss : [0.41620]\n",
      "Early stopping triggered! No improvement in validation loss.\n"
     ]
    },
    {
     "name": "stderr",
     "output_type": "stream",
     "text": [
      "100%|██████████| 36/36 [00:10<00:00,  3.43it/s]\n",
      "  0%|          | 0/144 [00:11<?, ?it/s]\n"
     ]
    },
    {
     "name": "stdout",
     "output_type": "stream",
     "text": [
      "Epoch [49], Train Loss : [0.29579] Val Loss : [0.41650]\n",
      "Early stopping triggered! No improvement in validation loss.\n"
     ]
    },
    {
     "name": "stderr",
     "output_type": "stream",
     "text": [
      "100%|██████████| 36/36 [00:10<00:00,  3.46it/s]\n",
      "  0%|          | 0/144 [00:10<?, ?it/s]\n"
     ]
    },
    {
     "name": "stdout",
     "output_type": "stream",
     "text": [
      "Epoch [50], Train Loss : [0.44408] Val Loss : [0.41695]\n",
      "Early stopping triggered! No improvement in validation loss.\n"
     ]
    },
    {
     "name": "stderr",
     "output_type": "stream",
     "text": [
      "100%|██████████| 36/36 [00:10<00:00,  3.44it/s]\n",
      "  0%|          | 0/144 [00:11<?, ?it/s]\n"
     ]
    },
    {
     "name": "stdout",
     "output_type": "stream",
     "text": [
      "Epoch [51], Train Loss : [0.41034] Val Loss : [0.42165]\n",
      "Epoch 00076: reducing learning rate of group 0 to 1.1719e-06.\n",
      "Early stopping triggered! No improvement in validation loss.\n"
     ]
    },
    {
     "name": "stderr",
     "output_type": "stream",
     "text": [
      "100%|██████████| 36/36 [00:10<00:00,  3.46it/s]\n",
      "  0%|          | 0/144 [00:11<?, ?it/s]\n"
     ]
    },
    {
     "name": "stdout",
     "output_type": "stream",
     "text": [
      "Epoch [52], Train Loss : [0.32260] Val Loss : [0.42175]\n",
      "Early stopping triggered! No improvement in validation loss.\n"
     ]
    },
    {
     "name": "stderr",
     "output_type": "stream",
     "text": [
      "100%|██████████| 36/36 [00:10<00:00,  3.45it/s]\n",
      "  0%|          | 0/144 [00:11<?, ?it/s]\n"
     ]
    },
    {
     "name": "stdout",
     "output_type": "stream",
     "text": [
      "Epoch [53], Train Loss : [0.40933] Val Loss : [0.42294]\n",
      "Early stopping triggered! No improvement in validation loss.\n"
     ]
    },
    {
     "name": "stderr",
     "output_type": "stream",
     "text": [
      "100%|██████████| 36/36 [00:10<00:00,  3.43it/s]\n",
      "  0%|          | 0/144 [00:11<?, ?it/s]\n"
     ]
    },
    {
     "name": "stdout",
     "output_type": "stream",
     "text": [
      "Epoch [54], Train Loss : [0.45145] Val Loss : [0.42723]\n",
      "Early stopping triggered! No improvement in validation loss.\n"
     ]
    },
    {
     "name": "stderr",
     "output_type": "stream",
     "text": [
      "100%|██████████| 36/36 [00:10<00:00,  3.45it/s]\n",
      "  0%|          | 0/144 [00:11<?, ?it/s]\n"
     ]
    },
    {
     "name": "stdout",
     "output_type": "stream",
     "text": [
      "Epoch [55], Train Loss : [0.47077] Val Loss : [0.42841]\n",
      "Early stopping triggered! No improvement in validation loss.\n"
     ]
    },
    {
     "name": "stderr",
     "output_type": "stream",
     "text": [
      "100%|██████████| 36/36 [00:10<00:00,  3.45it/s]\n",
      "  0%|          | 0/144 [00:11<?, ?it/s]\n"
     ]
    },
    {
     "name": "stdout",
     "output_type": "stream",
     "text": [
      "Epoch [56], Train Loss : [0.45505] Val Loss : [0.42908]\n",
      "Early stopping triggered! No improvement in validation loss.\n"
     ]
    },
    {
     "name": "stderr",
     "output_type": "stream",
     "text": [
      "100%|██████████| 36/36 [00:10<00:00,  3.45it/s]\n",
      "  0%|          | 0/144 [00:11<?, ?it/s]\n"
     ]
    },
    {
     "name": "stdout",
     "output_type": "stream",
     "text": [
      "Epoch [57], Train Loss : [0.35384] Val Loss : [0.42850]\n",
      "Early stopping triggered! No improvement in validation loss.\n"
     ]
    },
    {
     "name": "stderr",
     "output_type": "stream",
     "text": [
      "100%|██████████| 36/36 [00:10<00:00,  3.45it/s]\n",
      "  0%|          | 0/144 [00:10<?, ?it/s]\n"
     ]
    },
    {
     "name": "stdout",
     "output_type": "stream",
     "text": [
      "Epoch [58], Train Loss : [0.43517] Val Loss : [0.42830]\n",
      "Epoch 00083: reducing learning rate of group 0 to 5.8594e-07.\n",
      "Early stopping triggered! No improvement in validation loss.\n"
     ]
    },
    {
     "name": "stderr",
     "output_type": "stream",
     "text": [
      "100%|██████████| 36/36 [00:10<00:00,  3.45it/s]\n",
      "  0%|          | 0/144 [00:10<?, ?it/s]\n"
     ]
    },
    {
     "name": "stdout",
     "output_type": "stream",
     "text": [
      "Epoch [59], Train Loss : [0.47145] Val Loss : [0.42460]\n",
      "Early stopping triggered! No improvement in validation loss.\n"
     ]
    },
    {
     "name": "stderr",
     "output_type": "stream",
     "text": [
      "100%|██████████| 36/36 [00:10<00:00,  3.43it/s]\n",
      "  0%|          | 0/144 [00:11<?, ?it/s]\n"
     ]
    },
    {
     "name": "stdout",
     "output_type": "stream",
     "text": [
      "Epoch [60], Train Loss : [0.43695] Val Loss : [0.42155]\n",
      "Early stopping triggered! No improvement in validation loss.\n"
     ]
    },
    {
     "name": "stderr",
     "output_type": "stream",
     "text": [
      "100%|██████████| 36/36 [00:10<00:00,  3.45it/s]\n",
      "  0%|          | 0/144 [00:11<?, ?it/s]\n"
     ]
    },
    {
     "name": "stdout",
     "output_type": "stream",
     "text": [
      "Epoch [61], Train Loss : [0.41901] Val Loss : [0.41771]\n",
      "Early stopping triggered! No improvement in validation loss.\n"
     ]
    },
    {
     "name": "stderr",
     "output_type": "stream",
     "text": [
      "100%|██████████| 36/36 [00:10<00:00,  3.45it/s]\n",
      "  0%|          | 0/144 [00:11<?, ?it/s]\n"
     ]
    },
    {
     "name": "stdout",
     "output_type": "stream",
     "text": [
      "Epoch [62], Train Loss : [0.43627] Val Loss : [0.41694]\n",
      "Early stopping triggered! No improvement in validation loss.\n"
     ]
    },
    {
     "name": "stderr",
     "output_type": "stream",
     "text": [
      "100%|██████████| 36/36 [00:10<00:00,  3.43it/s]\n",
      "  0%|          | 0/144 [00:11<?, ?it/s]\n"
     ]
    },
    {
     "name": "stdout",
     "output_type": "stream",
     "text": [
      "Epoch [63], Train Loss : [0.48038] Val Loss : [0.41470]\n",
      "Early stopping triggered! No improvement in validation loss.\n"
     ]
    },
    {
     "name": "stderr",
     "output_type": "stream",
     "text": [
      "100%|██████████| 36/36 [00:10<00:00,  3.37it/s]\n",
      "  0%|          | 0/144 [00:11<?, ?it/s]\n"
     ]
    },
    {
     "name": "stdout",
     "output_type": "stream",
     "text": [
      "Epoch [64], Train Loss : [0.47801] Val Loss : [0.41541]\n",
      "Early stopping triggered! No improvement in validation loss.\n"
     ]
    },
    {
     "name": "stderr",
     "output_type": "stream",
     "text": [
      "100%|██████████| 36/36 [00:10<00:00,  3.44it/s]\n",
      "  0%|          | 0/144 [00:11<?, ?it/s]\n"
     ]
    },
    {
     "name": "stdout",
     "output_type": "stream",
     "text": [
      "Epoch [65], Train Loss : [0.27606] Val Loss : [0.41470]\n",
      "Epoch 00090: reducing learning rate of group 0 to 2.9297e-07.\n",
      "Early stopping triggered! No improvement in validation loss.\n"
     ]
    },
    {
     "name": "stderr",
     "output_type": "stream",
     "text": [
      "100%|██████████| 36/36 [00:10<00:00,  3.44it/s]\n",
      "  0%|          | 0/144 [00:10<?, ?it/s]\n"
     ]
    },
    {
     "name": "stdout",
     "output_type": "stream",
     "text": [
      "Epoch [66], Train Loss : [0.43587] Val Loss : [0.41662]\n",
      "Early stopping triggered! No improvement in validation loss.\n"
     ]
    },
    {
     "name": "stderr",
     "output_type": "stream",
     "text": [
      "100%|██████████| 36/36 [00:10<00:00,  3.44it/s]\n",
      "  0%|          | 0/144 [00:11<?, ?it/s]\n"
     ]
    },
    {
     "name": "stdout",
     "output_type": "stream",
     "text": [
      "Epoch [67], Train Loss : [0.46552] Val Loss : [0.41734]\n",
      "Early stopping triggered! No improvement in validation loss.\n"
     ]
    },
    {
     "name": "stderr",
     "output_type": "stream",
     "text": [
      "100%|██████████| 36/36 [00:10<00:00,  3.44it/s]\n",
      "  0%|          | 0/144 [00:11<?, ?it/s]\n"
     ]
    },
    {
     "name": "stdout",
     "output_type": "stream",
     "text": [
      "Epoch [68], Train Loss : [0.34201] Val Loss : [0.41606]\n",
      "Early stopping triggered! No improvement in validation loss.\n"
     ]
    },
    {
     "name": "stderr",
     "output_type": "stream",
     "text": [
      "100%|██████████| 36/36 [00:10<00:00,  3.43it/s]\n",
      "  0%|          | 0/144 [00:11<?, ?it/s]\n"
     ]
    },
    {
     "name": "stdout",
     "output_type": "stream",
     "text": [
      "Epoch [69], Train Loss : [0.43800] Val Loss : [0.41634]\n",
      "Early stopping triggered! No improvement in validation loss.\n"
     ]
    },
    {
     "name": "stderr",
     "output_type": "stream",
     "text": [
      "100%|██████████| 36/36 [00:10<00:00,  3.44it/s]\n",
      "  0%|          | 0/144 [00:11<?, ?it/s]\n"
     ]
    },
    {
     "name": "stdout",
     "output_type": "stream",
     "text": [
      "Epoch [70], Train Loss : [0.37071] Val Loss : [0.41345]\n",
      "Early stopping triggered! No improvement in validation loss.\n"
     ]
    },
    {
     "name": "stderr",
     "output_type": "stream",
     "text": [
      "100%|██████████| 36/36 [00:10<00:00,  3.44it/s]\n",
      "  0%|          | 0/144 [00:11<?, ?it/s]\n"
     ]
    },
    {
     "name": "stdout",
     "output_type": "stream",
     "text": [
      "Epoch [71], Train Loss : [0.40652] Val Loss : [0.41501]\n",
      "Early stopping triggered! No improvement in validation loss.\n"
     ]
    },
    {
     "name": "stderr",
     "output_type": "stream",
     "text": [
      "100%|██████████| 36/36 [00:10<00:00,  3.46it/s]\n",
      "  0%|          | 0/144 [00:11<?, ?it/s]\n"
     ]
    },
    {
     "name": "stdout",
     "output_type": "stream",
     "text": [
      "Epoch [72], Train Loss : [0.33577] Val Loss : [0.41661]\n",
      "Epoch 00097: reducing learning rate of group 0 to 1.4648e-07.\n",
      "Early stopping triggered! No improvement in validation loss.\n"
     ]
    },
    {
     "name": "stderr",
     "output_type": "stream",
     "text": [
      "100%|██████████| 36/36 [00:10<00:00,  3.45it/s]\n",
      "  0%|          | 0/144 [00:11<?, ?it/s]\n"
     ]
    },
    {
     "name": "stdout",
     "output_type": "stream",
     "text": [
      "Epoch [73], Train Loss : [0.50583] Val Loss : [0.42101]\n",
      "Early stopping triggered! No improvement in validation loss.\n"
     ]
    },
    {
     "name": "stderr",
     "output_type": "stream",
     "text": [
      "100%|██████████| 36/36 [00:10<00:00,  3.45it/s]\n",
      "  0%|          | 0/144 [00:11<?, ?it/s]\n"
     ]
    },
    {
     "name": "stdout",
     "output_type": "stream",
     "text": [
      "Epoch [74], Train Loss : [0.37838] Val Loss : [0.41943]\n",
      "Early stopping triggered! No improvement in validation loss.\n"
     ]
    },
    {
     "name": "stderr",
     "output_type": "stream",
     "text": [
      "100%|██████████| 36/36 [00:10<00:00,  3.43it/s]\n",
      "  0%|          | 0/144 [00:11<?, ?it/s]\n"
     ]
    },
    {
     "name": "stdout",
     "output_type": "stream",
     "text": [
      "Epoch [75], Train Loss : [0.52905] Val Loss : [0.42167]\n",
      "Early stopping triggered! No improvement in validation loss.\n"
     ]
    },
    {
     "name": "stderr",
     "output_type": "stream",
     "text": [
      "100%|██████████| 36/36 [00:10<00:00,  3.35it/s]\n",
      "  0%|          | 0/144 [00:11<?, ?it/s]\n"
     ]
    },
    {
     "name": "stdout",
     "output_type": "stream",
     "text": [
      "Epoch [76], Train Loss : [0.37289] Val Loss : [0.42233]\n",
      "Early stopping triggered! No improvement in validation loss.\n"
     ]
    },
    {
     "name": "stderr",
     "output_type": "stream",
     "text": [
      "100%|██████████| 36/36 [00:10<00:00,  3.44it/s]\n",
      "  0%|          | 0/144 [00:11<?, ?it/s]\n"
     ]
    },
    {
     "name": "stdout",
     "output_type": "stream",
     "text": [
      "Epoch [77], Train Loss : [0.36031] Val Loss : [0.42033]\n",
      "Early stopping triggered! No improvement in validation loss.\n"
     ]
    },
    {
     "name": "stderr",
     "output_type": "stream",
     "text": [
      "100%|██████████| 36/36 [00:10<00:00,  3.44it/s]\n",
      "  0%|          | 0/144 [00:10<?, ?it/s]\n"
     ]
    },
    {
     "name": "stdout",
     "output_type": "stream",
     "text": [
      "Epoch [78], Train Loss : [0.41389] Val Loss : [0.41493]\n",
      "Early stopping triggered! No improvement in validation loss.\n"
     ]
    },
    {
     "name": "stderr",
     "output_type": "stream",
     "text": [
      "100%|██████████| 36/36 [00:10<00:00,  3.36it/s]\n",
      "  0%|          | 0/144 [00:11<?, ?it/s]\n"
     ]
    },
    {
     "name": "stdout",
     "output_type": "stream",
     "text": [
      "Epoch [79], Train Loss : [0.41826] Val Loss : [0.41320]\n",
      "Epoch 00104: reducing learning rate of group 0 to 7.3242e-08.\n",
      "Early stopping triggered! No improvement in validation loss.\n"
     ]
    },
    {
     "name": "stderr",
     "output_type": "stream",
     "text": [
      "100%|██████████| 36/36 [00:10<00:00,  3.45it/s]\n",
      "  0%|          | 0/144 [00:11<?, ?it/s]\n"
     ]
    },
    {
     "name": "stdout",
     "output_type": "stream",
     "text": [
      "Epoch [80], Train Loss : [0.37421] Val Loss : [0.41122]\n",
      "Early stopping triggered! No improvement in validation loss.\n"
     ]
    },
    {
     "name": "stderr",
     "output_type": "stream",
     "text": [
      "100%|██████████| 36/36 [00:10<00:00,  3.44it/s]\n",
      "  0%|          | 0/144 [00:11<?, ?it/s]\n"
     ]
    },
    {
     "name": "stdout",
     "output_type": "stream",
     "text": [
      "Epoch [81], Train Loss : [0.34724] Val Loss : [0.40970]\n",
      "Early stopping triggered! No improvement in validation loss.\n"
     ]
    },
    {
     "name": "stderr",
     "output_type": "stream",
     "text": [
      "100%|██████████| 36/36 [00:10<00:00,  3.45it/s]\n",
      "  0%|          | 0/144 [00:10<?, ?it/s]\n"
     ]
    },
    {
     "name": "stdout",
     "output_type": "stream",
     "text": [
      "Epoch [82], Train Loss : [0.47892] Val Loss : [0.41112]\n",
      "Early stopping triggered! No improvement in validation loss.\n"
     ]
    },
    {
     "name": "stderr",
     "output_type": "stream",
     "text": [
      "100%|██████████| 36/36 [00:10<00:00,  3.35it/s]\n",
      "  0%|          | 0/144 [00:11<?, ?it/s]\n"
     ]
    },
    {
     "name": "stdout",
     "output_type": "stream",
     "text": [
      "Epoch [83], Train Loss : [0.41570] Val Loss : [0.41180]\n",
      "Early stopping triggered! No improvement in validation loss.\n"
     ]
    },
    {
     "name": "stderr",
     "output_type": "stream",
     "text": [
      "100%|██████████| 36/36 [00:10<00:00,  3.45it/s]\n",
      "  0%|          | 0/144 [00:10<?, ?it/s]\n"
     ]
    },
    {
     "name": "stdout",
     "output_type": "stream",
     "text": [
      "Epoch [84], Train Loss : [0.34939] Val Loss : [0.41030]\n",
      "Early stopping triggered! No improvement in validation loss.\n"
     ]
    },
    {
     "name": "stderr",
     "output_type": "stream",
     "text": [
      "100%|██████████| 36/36 [00:10<00:00,  3.44it/s]\n",
      "  0%|          | 0/144 [00:11<?, ?it/s]\n"
     ]
    },
    {
     "name": "stdout",
     "output_type": "stream",
     "text": [
      "Epoch [85], Train Loss : [0.43929] Val Loss : [0.41153]\n",
      "Early stopping triggered! No improvement in validation loss.\n"
     ]
    },
    {
     "name": "stderr",
     "output_type": "stream",
     "text": [
      "100%|██████████| 36/36 [00:10<00:00,  3.44it/s]\n",
      "  0%|          | 0/144 [00:11<?, ?it/s]\n"
     ]
    },
    {
     "name": "stdout",
     "output_type": "stream",
     "text": [
      "Epoch [86], Train Loss : [0.45498] Val Loss : [0.41312]\n",
      "Epoch 00111: reducing learning rate of group 0 to 3.6621e-08.\n",
      "Early stopping triggered! No improvement in validation loss.\n"
     ]
    },
    {
     "name": "stderr",
     "output_type": "stream",
     "text": [
      "100%|██████████| 36/36 [00:10<00:00,  3.36it/s]\n",
      "  0%|          | 0/144 [00:11<?, ?it/s]\n"
     ]
    },
    {
     "name": "stdout",
     "output_type": "stream",
     "text": [
      "Epoch [87], Train Loss : [0.46060] Val Loss : [0.41504]\n",
      "Early stopping triggered! No improvement in validation loss.\n"
     ]
    },
    {
     "name": "stderr",
     "output_type": "stream",
     "text": [
      "100%|██████████| 36/36 [00:10<00:00,  3.43it/s]\n",
      "  0%|          | 0/144 [00:11<?, ?it/s]\n"
     ]
    },
    {
     "name": "stdout",
     "output_type": "stream",
     "text": [
      "Epoch [88], Train Loss : [0.41093] Val Loss : [0.41374]\n",
      "Early stopping triggered! No improvement in validation loss.\n"
     ]
    },
    {
     "name": "stderr",
     "output_type": "stream",
     "text": [
      "100%|██████████| 36/36 [00:10<00:00,  3.46it/s]\n",
      "  0%|          | 0/144 [00:10<?, ?it/s]\n"
     ]
    },
    {
     "name": "stdout",
     "output_type": "stream",
     "text": [
      "Epoch [89], Train Loss : [0.38936] Val Loss : [0.41409]\n",
      "Early stopping triggered! No improvement in validation loss.\n"
     ]
    },
    {
     "name": "stderr",
     "output_type": "stream",
     "text": [
      "100%|██████████| 36/36 [00:10<00:00,  3.45it/s]\n",
      "  0%|          | 0/144 [00:11<?, ?it/s]\n"
     ]
    },
    {
     "name": "stdout",
     "output_type": "stream",
     "text": [
      "Epoch [90], Train Loss : [0.40732] Val Loss : [0.41736]\n",
      "Early stopping triggered! No improvement in validation loss.\n"
     ]
    },
    {
     "name": "stderr",
     "output_type": "stream",
     "text": [
      "100%|██████████| 36/36 [00:10<00:00,  3.44it/s]\n",
      "  0%|          | 0/144 [00:11<?, ?it/s]\n"
     ]
    },
    {
     "name": "stdout",
     "output_type": "stream",
     "text": [
      "Epoch [91], Train Loss : [0.52020] Val Loss : [0.41657]\n",
      "Early stopping triggered! No improvement in validation loss.\n"
     ]
    },
    {
     "name": "stderr",
     "output_type": "stream",
     "text": [
      "100%|██████████| 36/36 [00:10<00:00,  3.44it/s]\n",
      "  0%|          | 0/144 [00:11<?, ?it/s]\n"
     ]
    },
    {
     "name": "stdout",
     "output_type": "stream",
     "text": [
      "Epoch [92], Train Loss : [0.41303] Val Loss : [0.41592]\n",
      "Early stopping triggered! No improvement in validation loss.\n"
     ]
    },
    {
     "name": "stderr",
     "output_type": "stream",
     "text": [
      "100%|██████████| 36/36 [00:10<00:00,  3.44it/s]\n",
      "  0%|          | 0/144 [00:11<?, ?it/s]\n"
     ]
    },
    {
     "name": "stdout",
     "output_type": "stream",
     "text": [
      "Epoch [93], Train Loss : [0.49777] Val Loss : [0.41788]\n",
      "Epoch 00118: reducing learning rate of group 0 to 1.8311e-08.\n",
      "Early stopping triggered! No improvement in validation loss.\n"
     ]
    },
    {
     "name": "stderr",
     "output_type": "stream",
     "text": [
      "100%|██████████| 36/36 [00:10<00:00,  3.44it/s]\n",
      "  0%|          | 0/144 [00:10<?, ?it/s]\n"
     ]
    },
    {
     "name": "stdout",
     "output_type": "stream",
     "text": [
      "Epoch [94], Train Loss : [0.47048] Val Loss : [0.41786]\n",
      "Early stopping triggered! No improvement in validation loss.\n"
     ]
    },
    {
     "name": "stderr",
     "output_type": "stream",
     "text": [
      "100%|██████████| 36/36 [00:10<00:00,  3.45it/s]\n",
      "  0%|          | 0/144 [00:10<?, ?it/s]\n"
     ]
    },
    {
     "name": "stdout",
     "output_type": "stream",
     "text": [
      "Epoch [95], Train Loss : [0.35431] Val Loss : [0.41587]\n",
      "Early stopping triggered! No improvement in validation loss.\n"
     ]
    },
    {
     "name": "stderr",
     "output_type": "stream",
     "text": [
      "100%|██████████| 36/36 [00:10<00:00,  3.43it/s]\n",
      "  0%|          | 0/144 [00:11<?, ?it/s]\n"
     ]
    },
    {
     "name": "stdout",
     "output_type": "stream",
     "text": [
      "Epoch [96], Train Loss : [0.37448] Val Loss : [0.41618]\n",
      "Early stopping triggered! No improvement in validation loss.\n"
     ]
    },
    {
     "name": "stderr",
     "output_type": "stream",
     "text": [
      "100%|██████████| 36/36 [00:10<00:00,  3.37it/s]\n",
      "  0%|          | 0/144 [00:11<?, ?it/s]\n"
     ]
    },
    {
     "name": "stdout",
     "output_type": "stream",
     "text": [
      "Epoch [97], Train Loss : [0.32421] Val Loss : [0.41560]\n",
      "Early stopping triggered! No improvement in validation loss.\n"
     ]
    },
    {
     "name": "stderr",
     "output_type": "stream",
     "text": [
      "100%|██████████| 36/36 [00:10<00:00,  3.45it/s]\n",
      "  0%|          | 0/144 [00:11<?, ?it/s]\n"
     ]
    },
    {
     "name": "stdout",
     "output_type": "stream",
     "text": [
      "Epoch [98], Train Loss : [0.45697] Val Loss : [0.41590]\n",
      "Early stopping triggered! No improvement in validation loss.\n"
     ]
    },
    {
     "name": "stderr",
     "output_type": "stream",
     "text": [
      "100%|██████████| 36/36 [00:10<00:00,  3.43it/s]\n",
      "  0%|          | 0/144 [00:11<?, ?it/s]\n"
     ]
    },
    {
     "name": "stdout",
     "output_type": "stream",
     "text": [
      "Epoch [99], Train Loss : [0.40546] Val Loss : [0.41638]\n",
      "Early stopping triggered! No improvement in validation loss.\n"
     ]
    },
    {
     "name": "stderr",
     "output_type": "stream",
     "text": [
      "100%|██████████| 36/36 [00:10<00:00,  3.35it/s]\n",
      "  0%|          | 0/144 [00:11<?, ?it/s]\n"
     ]
    },
    {
     "name": "stdout",
     "output_type": "stream",
     "text": [
      "Epoch [100], Train Loss : [0.34037] Val Loss : [0.41981]\n",
      "Early stopping triggered! No improvement in validation loss.\n"
     ]
    },
    {
     "name": "stderr",
     "output_type": "stream",
     "text": [
      "100%|██████████| 36/36 [00:11<00:00,  3.26it/s]\n"
     ]
    },
    {
     "name": "stdout",
     "output_type": "stream",
     "text": [
      "Validation Loss: 0.4198078513145447\n"
     ]
    },
    {
     "name": "stderr",
     "output_type": "stream",
     "text": [
      "100%|██████████| 25/25 [00:13<00:00,  1.88it/s]\n"
     ]
    },
    {
     "name": "stdout",
     "output_type": "stream",
     "text": [
      "Fold: 1\n"
     ]
    },
    {
     "name": "stderr",
     "output_type": "stream",
     "text": [
      "100%|██████████| 36/36 [00:12<00:00,  2.91it/s]\n",
      "  1%|          | 1/144 [00:12<30:44, 12.90s/it]"
     ]
    },
    {
     "name": "stdout",
     "output_type": "stream",
     "text": [
      "Epoch [1], Train Loss : [1.06748] Val Loss : [1.14964]\n"
     ]
    },
    {
     "name": "stderr",
     "output_type": "stream",
     "text": [
      "100%|██████████| 36/36 [00:10<00:00,  3.48it/s]\n",
      "  1%|▏         | 2/144 [00:23<27:37, 11.67s/it]"
     ]
    },
    {
     "name": "stdout",
     "output_type": "stream",
     "text": [
      "Epoch [1], Train Loss : [1.19557] Val Loss : [0.72326]\n"
     ]
    },
    {
     "name": "stderr",
     "output_type": "stream",
     "text": [
      "100%|██████████| 36/36 [00:10<00:00,  3.34it/s]\n",
      "  2%|▏         | 3/144 [00:35<27:06, 11.54s/it]"
     ]
    },
    {
     "name": "stdout",
     "output_type": "stream",
     "text": [
      "Epoch [1], Train Loss : [1.04085] Val Loss : [0.63778]\n"
     ]
    },
    {
     "name": "stderr",
     "output_type": "stream",
     "text": [
      "100%|██████████| 36/36 [00:10<00:00,  3.43it/s]\n",
      "  3%|▎         | 4/144 [00:46<26:25, 11.32s/it]"
     ]
    },
    {
     "name": "stdout",
     "output_type": "stream",
     "text": [
      "Epoch [1], Train Loss : [0.95629] Val Loss : [0.67993]\n"
     ]
    },
    {
     "name": "stderr",
     "output_type": "stream",
     "text": [
      "100%|██████████| 36/36 [00:10<00:00,  3.44it/s]\n",
      "  3%|▎         | 5/144 [00:57<26:03, 11.25s/it]"
     ]
    },
    {
     "name": "stdout",
     "output_type": "stream",
     "text": [
      "Epoch [1], Train Loss : [0.90516] Val Loss : [0.56965]\n"
     ]
    },
    {
     "name": "stderr",
     "output_type": "stream",
     "text": [
      "100%|██████████| 36/36 [00:10<00:00,  3.44it/s]\n",
      "  4%|▍         | 6/144 [01:08<25:46, 11.20s/it]"
     ]
    },
    {
     "name": "stdout",
     "output_type": "stream",
     "text": [
      "Epoch [1], Train Loss : [0.82994] Val Loss : [0.51586]\n"
     ]
    },
    {
     "name": "stderr",
     "output_type": "stream",
     "text": [
      "100%|██████████| 36/36 [00:10<00:00,  3.44it/s]\n",
      "  5%|▍         | 7/144 [01:19<25:30, 11.17s/it]"
     ]
    },
    {
     "name": "stdout",
     "output_type": "stream",
     "text": [
      "Epoch [1], Train Loss : [0.78240] Val Loss : [0.49412]\n"
     ]
    },
    {
     "name": "stderr",
     "output_type": "stream",
     "text": [
      "100%|██████████| 36/36 [00:10<00:00,  3.42it/s]\n",
      "  6%|▌         | 8/144 [01:30<25:14, 11.13s/it]"
     ]
    },
    {
     "name": "stdout",
     "output_type": "stream",
     "text": [
      "Epoch [1], Train Loss : [0.74257] Val Loss : [0.50182]\n"
     ]
    },
    {
     "name": "stderr",
     "output_type": "stream",
     "text": [
      "100%|██████████| 36/36 [00:10<00:00,  3.45it/s]\n",
      "  6%|▋         | 9/144 [01:41<24:55, 11.08s/it]"
     ]
    },
    {
     "name": "stdout",
     "output_type": "stream",
     "text": [
      "Epoch [1], Train Loss : [0.71901] Val Loss : [0.57451]\n"
     ]
    },
    {
     "name": "stderr",
     "output_type": "stream",
     "text": [
      "100%|██████████| 36/36 [00:10<00:00,  3.42it/s]\n",
      "  7%|▋         | 10/144 [01:52<24:43, 11.07s/it]"
     ]
    },
    {
     "name": "stdout",
     "output_type": "stream",
     "text": [
      "Epoch [1], Train Loss : [0.70496] Val Loss : [0.49817]\n"
     ]
    },
    {
     "name": "stderr",
     "output_type": "stream",
     "text": [
      "100%|██████████| 36/36 [00:10<00:00,  3.44it/s]\n",
      "  8%|▊         | 11/144 [02:03<24:34, 11.08s/it]"
     ]
    },
    {
     "name": "stdout",
     "output_type": "stream",
     "text": [
      "Epoch [1], Train Loss : [0.68043] Val Loss : [0.44186]\n"
     ]
    },
    {
     "name": "stderr",
     "output_type": "stream",
     "text": [
      "100%|██████████| 36/36 [00:10<00:00,  3.42it/s]\n",
      "  8%|▊         | 12/144 [02:14<24:23, 11.09s/it]"
     ]
    },
    {
     "name": "stdout",
     "output_type": "stream",
     "text": [
      "Epoch [1], Train Loss : [0.66101] Val Loss : [0.44639]\n"
     ]
    },
    {
     "name": "stderr",
     "output_type": "stream",
     "text": [
      "100%|██████████| 36/36 [00:10<00:00,  3.43it/s]\n",
      "  9%|▉         | 13/144 [02:25<24:16, 11.12s/it]"
     ]
    },
    {
     "name": "stdout",
     "output_type": "stream",
     "text": [
      "Epoch [1], Train Loss : [0.64523] Val Loss : [0.42970]\n"
     ]
    },
    {
     "name": "stderr",
     "output_type": "stream",
     "text": [
      "100%|██████████| 36/36 [00:10<00:00,  3.36it/s]\n",
      " 10%|▉         | 14/144 [02:37<24:13, 11.18s/it]"
     ]
    },
    {
     "name": "stdout",
     "output_type": "stream",
     "text": [
      "Epoch [1], Train Loss : [0.63271] Val Loss : [0.38980]\n"
     ]
    },
    {
     "name": "stderr",
     "output_type": "stream",
     "text": [
      "100%|██████████| 36/36 [00:10<00:00,  3.45it/s]\n",
      " 10%|█         | 15/144 [02:48<23:57, 11.15s/it]"
     ]
    },
    {
     "name": "stdout",
     "output_type": "stream",
     "text": [
      "Epoch [1], Train Loss : [0.61331] Val Loss : [0.38326]\n"
     ]
    },
    {
     "name": "stderr",
     "output_type": "stream",
     "text": [
      "100%|██████████| 36/36 [00:10<00:00,  3.45it/s]\n",
      " 11%|█         | 16/144 [02:59<23:44, 11.13s/it]"
     ]
    },
    {
     "name": "stdout",
     "output_type": "stream",
     "text": [
      "Epoch [1], Train Loss : [0.59866] Val Loss : [0.37390]\n"
     ]
    },
    {
     "name": "stderr",
     "output_type": "stream",
     "text": [
      "100%|██████████| 36/36 [00:10<00:00,  3.43it/s]\n",
      " 12%|█▏        | 17/144 [03:10<23:33, 11.13s/it]"
     ]
    },
    {
     "name": "stdout",
     "output_type": "stream",
     "text": [
      "Epoch [1], Train Loss : [0.58943] Val Loss : [0.35291]\n"
     ]
    },
    {
     "name": "stderr",
     "output_type": "stream",
     "text": [
      "100%|██████████| 36/36 [00:10<00:00,  3.44it/s]\n",
      " 12%|█▎        | 18/144 [03:21<23:20, 11.12s/it]"
     ]
    },
    {
     "name": "stdout",
     "output_type": "stream",
     "text": [
      "Epoch [1], Train Loss : [0.57629] Val Loss : [0.36440]\n"
     ]
    },
    {
     "name": "stderr",
     "output_type": "stream",
     "text": [
      "100%|██████████| 36/36 [00:10<00:00,  3.45it/s]\n",
      " 13%|█▎        | 19/144 [03:32<23:05, 11.08s/it]"
     ]
    },
    {
     "name": "stdout",
     "output_type": "stream",
     "text": [
      "Epoch [1], Train Loss : [0.56205] Val Loss : [0.37674]\n"
     ]
    },
    {
     "name": "stderr",
     "output_type": "stream",
     "text": [
      "100%|██████████| 36/36 [00:10<00:00,  3.43it/s]\n",
      " 14%|█▍        | 20/144 [03:43<22:53, 11.07s/it]"
     ]
    },
    {
     "name": "stdout",
     "output_type": "stream",
     "text": [
      "Epoch [1], Train Loss : [0.54989] Val Loss : [0.36597]\n"
     ]
    },
    {
     "name": "stderr",
     "output_type": "stream",
     "text": [
      "100%|██████████| 36/36 [00:10<00:00,  3.44it/s]\n",
      " 15%|█▍        | 21/144 [03:54<22:38, 11.05s/it]"
     ]
    },
    {
     "name": "stdout",
     "output_type": "stream",
     "text": [
      "Epoch [1], Train Loss : [0.54030] Val Loss : [0.36106]\n"
     ]
    },
    {
     "name": "stderr",
     "output_type": "stream",
     "text": [
      "100%|██████████| 36/36 [00:10<00:00,  3.43it/s]\n",
      " 15%|█▌        | 22/144 [04:05<22:26, 11.03s/it]"
     ]
    },
    {
     "name": "stdout",
     "output_type": "stream",
     "text": [
      "Epoch [1], Train Loss : [0.53607] Val Loss : [0.37320]\n"
     ]
    },
    {
     "name": "stderr",
     "output_type": "stream",
     "text": [
      "100%|██████████| 36/36 [00:10<00:00,  3.45it/s]\n",
      " 16%|█▌        | 23/144 [04:16<22:14, 11.03s/it]"
     ]
    },
    {
     "name": "stdout",
     "output_type": "stream",
     "text": [
      "Epoch [1], Train Loss : [0.52771] Val Loss : [0.34907]\n"
     ]
    },
    {
     "name": "stderr",
     "output_type": "stream",
     "text": [
      "100%|██████████| 36/36 [00:10<00:00,  3.43it/s]\n",
      " 17%|█▋        | 24/144 [04:27<22:04, 11.04s/it]"
     ]
    },
    {
     "name": "stdout",
     "output_type": "stream",
     "text": [
      "Epoch [1], Train Loss : [0.52121] Val Loss : [0.33036]\n"
     ]
    },
    {
     "name": "stderr",
     "output_type": "stream",
     "text": [
      "100%|██████████| 36/36 [00:10<00:00,  3.45it/s]\n",
      " 17%|█▋        | 25/144 [04:38<21:55, 11.05s/it]"
     ]
    },
    {
     "name": "stdout",
     "output_type": "stream",
     "text": [
      "Epoch [1], Train Loss : [0.51494] Val Loss : [0.31642]\n"
     ]
    },
    {
     "name": "stderr",
     "output_type": "stream",
     "text": [
      "100%|██████████| 36/36 [00:10<00:00,  3.44it/s]\n",
      " 18%|█▊        | 26/144 [04:49<21:45, 11.06s/it]"
     ]
    },
    {
     "name": "stdout",
     "output_type": "stream",
     "text": [
      "Epoch [1], Train Loss : [0.50835] Val Loss : [0.30928]\n"
     ]
    },
    {
     "name": "stderr",
     "output_type": "stream",
     "text": [
      "100%|██████████| 36/36 [00:10<00:00,  3.46it/s]\n",
      " 19%|█▉        | 27/144 [05:00<21:31, 11.04s/it]"
     ]
    },
    {
     "name": "stdout",
     "output_type": "stream",
     "text": [
      "Epoch [1], Train Loss : [0.50006] Val Loss : [0.30970]\n"
     ]
    },
    {
     "name": "stderr",
     "output_type": "stream",
     "text": [
      "100%|██████████| 36/36 [00:10<00:00,  3.35it/s]\n",
      " 19%|█▉        | 28/144 [05:12<21:32, 11.14s/it]"
     ]
    },
    {
     "name": "stdout",
     "output_type": "stream",
     "text": [
      "Epoch [1], Train Loss : [0.49574] Val Loss : [0.29781]\n"
     ]
    },
    {
     "name": "stderr",
     "output_type": "stream",
     "text": [
      "100%|██████████| 36/36 [00:10<00:00,  3.45it/s]\n",
      " 20%|██        | 29/144 [05:23<21:15, 11.10s/it]"
     ]
    },
    {
     "name": "stdout",
     "output_type": "stream",
     "text": [
      "Epoch [1], Train Loss : [0.48927] Val Loss : [0.28052]\n"
     ]
    },
    {
     "name": "stderr",
     "output_type": "stream",
     "text": [
      "100%|██████████| 36/36 [00:10<00:00,  3.44it/s]\n",
      " 21%|██        | 30/144 [05:34<21:02, 11.07s/it]"
     ]
    },
    {
     "name": "stdout",
     "output_type": "stream",
     "text": [
      "Epoch [1], Train Loss : [0.48644] Val Loss : [0.27910]\n"
     ]
    },
    {
     "name": "stderr",
     "output_type": "stream",
     "text": [
      "100%|██████████| 36/36 [00:10<00:00,  3.45it/s]\n",
      " 22%|██▏       | 31/144 [05:45<20:49, 11.06s/it]"
     ]
    },
    {
     "name": "stdout",
     "output_type": "stream",
     "text": [
      "Epoch [1], Train Loss : [0.47715] Val Loss : [0.28036]\n"
     ]
    },
    {
     "name": "stderr",
     "output_type": "stream",
     "text": [
      "100%|██████████| 36/36 [00:10<00:00,  3.44it/s]\n",
      " 22%|██▏       | 32/144 [05:56<20:40, 11.08s/it]"
     ]
    },
    {
     "name": "stdout",
     "output_type": "stream",
     "text": [
      "Epoch [1], Train Loss : [0.47229] Val Loss : [0.27809]\n"
     ]
    },
    {
     "name": "stderr",
     "output_type": "stream",
     "text": [
      "100%|██████████| 36/36 [00:10<00:00,  3.45it/s]\n",
      " 23%|██▎       | 33/144 [06:07<20:27, 11.06s/it]"
     ]
    },
    {
     "name": "stdout",
     "output_type": "stream",
     "text": [
      "Epoch [1], Train Loss : [0.46793] Val Loss : [0.27597]\n"
     ]
    },
    {
     "name": "stderr",
     "output_type": "stream",
     "text": [
      "100%|██████████| 36/36 [00:10<00:00,  3.44it/s]\n",
      " 24%|██▎       | 34/144 [06:18<20:19, 11.08s/it]"
     ]
    },
    {
     "name": "stdout",
     "output_type": "stream",
     "text": [
      "Epoch [1], Train Loss : [0.46210] Val Loss : [0.27048]\n"
     ]
    },
    {
     "name": "stderr",
     "output_type": "stream",
     "text": [
      "100%|██████████| 36/36 [00:10<00:00,  3.44it/s]\n",
      " 24%|██▍       | 35/144 [06:29<20:07, 11.08s/it]"
     ]
    },
    {
     "name": "stdout",
     "output_type": "stream",
     "text": [
      "Epoch [1], Train Loss : [0.45667] Val Loss : [0.26819]\n"
     ]
    },
    {
     "name": "stderr",
     "output_type": "stream",
     "text": [
      "100%|██████████| 36/36 [00:10<00:00,  3.46it/s]\n",
      " 25%|██▌       | 36/144 [06:40<19:53, 11.05s/it]"
     ]
    },
    {
     "name": "stdout",
     "output_type": "stream",
     "text": [
      "Epoch [1], Train Loss : [0.45222] Val Loss : [0.27097]\n"
     ]
    },
    {
     "name": "stderr",
     "output_type": "stream",
     "text": [
      "100%|██████████| 36/36 [00:10<00:00,  3.46it/s]\n",
      " 26%|██▌       | 37/144 [06:51<19:42, 11.05s/it]"
     ]
    },
    {
     "name": "stdout",
     "output_type": "stream",
     "text": [
      "Epoch [1], Train Loss : [0.45032] Val Loss : [0.25550]\n"
     ]
    },
    {
     "name": "stderr",
     "output_type": "stream",
     "text": [
      "100%|██████████| 36/36 [00:10<00:00,  3.44it/s]\n",
      " 26%|██▋       | 38/144 [07:02<19:29, 11.03s/it]"
     ]
    },
    {
     "name": "stdout",
     "output_type": "stream",
     "text": [
      "Epoch [1], Train Loss : [0.44744] Val Loss : [0.25909]\n"
     ]
    },
    {
     "name": "stderr",
     "output_type": "stream",
     "text": [
      "100%|██████████| 36/36 [00:10<00:00,  3.44it/s]\n",
      " 27%|██▋       | 39/144 [07:13<19:19, 11.04s/it]"
     ]
    },
    {
     "name": "stdout",
     "output_type": "stream",
     "text": [
      "Epoch [1], Train Loss : [0.44137] Val Loss : [0.26973]\n"
     ]
    },
    {
     "name": "stderr",
     "output_type": "stream",
     "text": [
      "100%|██████████| 36/36 [00:10<00:00,  3.45it/s]\n",
      " 28%|██▊       | 40/144 [07:24<19:07, 11.04s/it]"
     ]
    },
    {
     "name": "stdout",
     "output_type": "stream",
     "text": [
      "Epoch [1], Train Loss : [0.43671] Val Loss : [0.26636]\n"
     ]
    },
    {
     "name": "stderr",
     "output_type": "stream",
     "text": [
      "100%|██████████| 36/36 [00:10<00:00,  3.43it/s]\n",
      " 28%|██▊       | 41/144 [07:35<18:58, 11.05s/it]"
     ]
    },
    {
     "name": "stdout",
     "output_type": "stream",
     "text": [
      "Epoch [1], Train Loss : [0.43414] Val Loss : [0.25221]\n"
     ]
    },
    {
     "name": "stderr",
     "output_type": "stream",
     "text": [
      "100%|██████████| 36/36 [00:10<00:00,  3.43it/s]\n",
      " 29%|██▉       | 42/144 [07:46<18:48, 11.07s/it]"
     ]
    },
    {
     "name": "stdout",
     "output_type": "stream",
     "text": [
      "Epoch [1], Train Loss : [0.43010] Val Loss : [0.25380]\n"
     ]
    },
    {
     "name": "stderr",
     "output_type": "stream",
     "text": [
      "100%|██████████| 36/36 [00:10<00:00,  3.45it/s]\n",
      " 30%|██▉       | 43/144 [07:57<18:35, 11.04s/it]"
     ]
    },
    {
     "name": "stdout",
     "output_type": "stream",
     "text": [
      "Epoch [1], Train Loss : [0.42730] Val Loss : [0.26524]\n"
     ]
    },
    {
     "name": "stderr",
     "output_type": "stream",
     "text": [
      "100%|██████████| 36/36 [00:10<00:00,  3.45it/s]\n",
      " 31%|███       | 44/144 [08:08<18:22, 11.02s/it]"
     ]
    },
    {
     "name": "stdout",
     "output_type": "stream",
     "text": [
      "Epoch [1], Train Loss : [0.42335] Val Loss : [0.27863]\n"
     ]
    },
    {
     "name": "stderr",
     "output_type": "stream",
     "text": [
      "100%|██████████| 36/36 [00:10<00:00,  3.44it/s]\n",
      " 31%|███▏      | 45/144 [08:19<18:10, 11.02s/it]"
     ]
    },
    {
     "name": "stdout",
     "output_type": "stream",
     "text": [
      "Epoch [1], Train Loss : [0.42008] Val Loss : [0.26182]\n"
     ]
    },
    {
     "name": "stderr",
     "output_type": "stream",
     "text": [
      "100%|██████████| 36/36 [00:10<00:00,  3.43it/s]\n",
      " 32%|███▏      | 46/144 [08:30<18:02, 11.05s/it]"
     ]
    },
    {
     "name": "stdout",
     "output_type": "stream",
     "text": [
      "Epoch [1], Train Loss : [0.41758] Val Loss : [0.23031]\n"
     ]
    },
    {
     "name": "stderr",
     "output_type": "stream",
     "text": [
      "100%|██████████| 36/36 [00:10<00:00,  3.44it/s]\n",
      " 33%|███▎      | 47/144 [08:42<17:52, 11.06s/it]"
     ]
    },
    {
     "name": "stdout",
     "output_type": "stream",
     "text": [
      "Epoch [1], Train Loss : [0.41550] Val Loss : [0.20513]\n"
     ]
    },
    {
     "name": "stderr",
     "output_type": "stream",
     "text": [
      "100%|██████████| 36/36 [00:10<00:00,  3.45it/s]\n",
      " 33%|███▎      | 48/144 [08:53<17:39, 11.04s/it]"
     ]
    },
    {
     "name": "stdout",
     "output_type": "stream",
     "text": [
      "Epoch [1], Train Loss : [0.40976] Val Loss : [0.20524]\n"
     ]
    },
    {
     "name": "stderr",
     "output_type": "stream",
     "text": [
      "100%|██████████| 36/36 [00:10<00:00,  3.44it/s]\n",
      " 34%|███▍      | 49/144 [09:04<17:28, 11.03s/it]"
     ]
    },
    {
     "name": "stdout",
     "output_type": "stream",
     "text": [
      "Epoch [1], Train Loss : [0.40667] Val Loss : [0.21521]\n"
     ]
    },
    {
     "name": "stderr",
     "output_type": "stream",
     "text": [
      "100%|██████████| 36/36 [00:10<00:00,  3.44it/s]\n",
      " 35%|███▍      | 50/144 [09:15<17:16, 11.02s/it]"
     ]
    },
    {
     "name": "stdout",
     "output_type": "stream",
     "text": [
      "Epoch [1], Train Loss : [0.40143] Val Loss : [0.21732]\n"
     ]
    },
    {
     "name": "stderr",
     "output_type": "stream",
     "text": [
      "100%|██████████| 36/36 [00:10<00:00,  3.44it/s]\n",
      " 35%|███▌      | 51/144 [09:26<17:04, 11.02s/it]"
     ]
    },
    {
     "name": "stdout",
     "output_type": "stream",
     "text": [
      "Epoch [1], Train Loss : [0.39679] Val Loss : [0.21009]\n"
     ]
    },
    {
     "name": "stderr",
     "output_type": "stream",
     "text": [
      "100%|██████████| 36/36 [00:10<00:00,  3.45it/s]\n",
      " 36%|███▌      | 52/144 [09:37<16:53, 11.02s/it]"
     ]
    },
    {
     "name": "stdout",
     "output_type": "stream",
     "text": [
      "Epoch [1], Train Loss : [0.39305] Val Loss : [0.20345]\n"
     ]
    },
    {
     "name": "stderr",
     "output_type": "stream",
     "text": [
      "100%|██████████| 36/36 [00:10<00:00,  3.46it/s]\n",
      " 37%|███▋      | 53/144 [09:48<16:39, 10.99s/it]"
     ]
    },
    {
     "name": "stdout",
     "output_type": "stream",
     "text": [
      "Epoch [1], Train Loss : [0.38886] Val Loss : [0.20644]\n"
     ]
    },
    {
     "name": "stderr",
     "output_type": "stream",
     "text": [
      "100%|██████████| 36/36 [00:10<00:00,  3.44it/s]\n",
      " 38%|███▊      | 54/144 [09:59<16:29, 11.00s/it]"
     ]
    },
    {
     "name": "stdout",
     "output_type": "stream",
     "text": [
      "Epoch [1], Train Loss : [0.38684] Val Loss : [0.21611]\n"
     ]
    },
    {
     "name": "stderr",
     "output_type": "stream",
     "text": [
      "100%|██████████| 36/36 [00:10<00:00,  3.41it/s]\n",
      " 38%|███▊      | 55/144 [10:10<16:21, 11.03s/it]"
     ]
    },
    {
     "name": "stdout",
     "output_type": "stream",
     "text": [
      "Epoch [1], Train Loss : [0.38484] Val Loss : [0.22918]\n"
     ]
    },
    {
     "name": "stderr",
     "output_type": "stream",
     "text": [
      "100%|██████████| 36/36 [00:10<00:00,  3.46it/s]\n",
      " 39%|███▉      | 56/144 [10:21<16:09, 11.01s/it]"
     ]
    },
    {
     "name": "stdout",
     "output_type": "stream",
     "text": [
      "Epoch [1], Train Loss : [0.38076] Val Loss : [0.22776]\n"
     ]
    },
    {
     "name": "stderr",
     "output_type": "stream",
     "text": [
      "100%|██████████| 36/36 [00:10<00:00,  3.45it/s]\n",
      " 40%|███▉      | 57/144 [10:32<15:56, 10.99s/it]"
     ]
    },
    {
     "name": "stdout",
     "output_type": "stream",
     "text": [
      "Epoch [1], Train Loss : [0.37709] Val Loss : [0.22464]\n"
     ]
    },
    {
     "name": "stderr",
     "output_type": "stream",
     "text": [
      "100%|██████████| 36/36 [00:10<00:00,  3.43it/s]\n",
      " 40%|███▉      | 57/144 [10:43<16:21, 11.28s/it]\n"
     ]
    },
    {
     "name": "stdout",
     "output_type": "stream",
     "text": [
      "Epoch [1], Train Loss : [0.37283] Val Loss : [0.21865]\n",
      "Early stopping triggered! No improvement in validation loss.\n"
     ]
    },
    {
     "name": "stderr",
     "output_type": "stream",
     "text": [
      "100%|██████████| 36/36 [00:10<00:00,  3.38it/s]\n",
      "  0%|          | 0/144 [00:11<?, ?it/s]\n"
     ]
    },
    {
     "name": "stdout",
     "output_type": "stream",
     "text": [
      "Epoch [2], Train Loss : [0.84454] Val Loss : [0.21754]\n",
      "Epoch 00059: reducing learning rate of group 0 to 1.5000e-04.\n",
      "Early stopping triggered! No improvement in validation loss.\n"
     ]
    },
    {
     "name": "stderr",
     "output_type": "stream",
     "text": [
      "100%|██████████| 36/36 [00:10<00:00,  3.45it/s]\n",
      "  0%|          | 0/144 [00:11<?, ?it/s]\n"
     ]
    },
    {
     "name": "stdout",
     "output_type": "stream",
     "text": [
      "Epoch [3], Train Loss : [0.55499] Val Loss : [0.21864]\n",
      "Early stopping triggered! No improvement in validation loss.\n"
     ]
    },
    {
     "name": "stderr",
     "output_type": "stream",
     "text": [
      "100%|██████████| 36/36 [00:10<00:00,  3.44it/s]\n",
      "  0%|          | 0/144 [00:11<?, ?it/s]\n"
     ]
    },
    {
     "name": "stdout",
     "output_type": "stream",
     "text": [
      "Epoch [4], Train Loss : [0.77602] Val Loss : [0.22334]\n",
      "Early stopping triggered! No improvement in validation loss.\n"
     ]
    },
    {
     "name": "stderr",
     "output_type": "stream",
     "text": [
      "100%|██████████| 36/36 [00:10<00:00,  3.44it/s]\n",
      "  0%|          | 0/144 [00:11<?, ?it/s]\n"
     ]
    },
    {
     "name": "stdout",
     "output_type": "stream",
     "text": [
      "Epoch [5], Train Loss : [0.57153] Val Loss : [0.22965]\n",
      "Early stopping triggered! No improvement in validation loss.\n"
     ]
    },
    {
     "name": "stderr",
     "output_type": "stream",
     "text": [
      "100%|██████████| 36/36 [00:10<00:00,  3.43it/s]\n",
      "  0%|          | 0/144 [00:11<?, ?it/s]\n"
     ]
    },
    {
     "name": "stdout",
     "output_type": "stream",
     "text": [
      "Epoch [6], Train Loss : [0.69710] Val Loss : [0.23700]\n",
      "Early stopping triggered! No improvement in validation loss.\n"
     ]
    },
    {
     "name": "stderr",
     "output_type": "stream",
     "text": [
      "100%|██████████| 36/36 [00:10<00:00,  3.44it/s]\n",
      "  0%|          | 0/144 [00:10<?, ?it/s]\n"
     ]
    },
    {
     "name": "stdout",
     "output_type": "stream",
     "text": [
      "Epoch [7], Train Loss : [0.42547] Val Loss : [0.24452]\n",
      "Early stopping triggered! No improvement in validation loss.\n"
     ]
    },
    {
     "name": "stderr",
     "output_type": "stream",
     "text": [
      "100%|██████████| 36/36 [00:10<00:00,  3.43it/s]\n",
      "  0%|          | 0/144 [00:11<?, ?it/s]\n"
     ]
    },
    {
     "name": "stdout",
     "output_type": "stream",
     "text": [
      "Epoch [8], Train Loss : [0.40659] Val Loss : [0.25335]\n",
      "Early stopping triggered! No improvement in validation loss.\n"
     ]
    },
    {
     "name": "stderr",
     "output_type": "stream",
     "text": [
      "100%|██████████| 36/36 [00:10<00:00,  3.43it/s]\n",
      "  0%|          | 0/144 [00:10<?, ?it/s]\n"
     ]
    },
    {
     "name": "stdout",
     "output_type": "stream",
     "text": [
      "Epoch [9], Train Loss : [0.44651] Val Loss : [0.26044]\n",
      "Epoch 00066: reducing learning rate of group 0 to 7.5000e-05.\n",
      "Early stopping triggered! No improvement in validation loss.\n"
     ]
    },
    {
     "name": "stderr",
     "output_type": "stream",
     "text": [
      "100%|██████████| 36/36 [00:10<00:00,  3.33it/s]\n",
      "  0%|          | 0/144 [00:11<?, ?it/s]\n"
     ]
    },
    {
     "name": "stdout",
     "output_type": "stream",
     "text": [
      "Epoch [10], Train Loss : [0.39648] Val Loss : [0.26329]\n",
      "Early stopping triggered! No improvement in validation loss.\n"
     ]
    },
    {
     "name": "stderr",
     "output_type": "stream",
     "text": [
      "100%|██████████| 36/36 [00:10<00:00,  3.45it/s]\n",
      "  0%|          | 0/144 [00:10<?, ?it/s]\n"
     ]
    },
    {
     "name": "stdout",
     "output_type": "stream",
     "text": [
      "Epoch [11], Train Loss : [0.35706] Val Loss : [0.26742]\n",
      "Early stopping triggered! No improvement in validation loss.\n"
     ]
    },
    {
     "name": "stderr",
     "output_type": "stream",
     "text": [
      "100%|██████████| 36/36 [00:10<00:00,  3.43it/s]\n",
      "  0%|          | 0/144 [00:11<?, ?it/s]\n"
     ]
    },
    {
     "name": "stdout",
     "output_type": "stream",
     "text": [
      "Epoch [12], Train Loss : [0.42562] Val Loss : [0.27080]\n",
      "Early stopping triggered! No improvement in validation loss.\n"
     ]
    },
    {
     "name": "stderr",
     "output_type": "stream",
     "text": [
      "100%|██████████| 36/36 [00:10<00:00,  3.44it/s]\n",
      "  0%|          | 0/144 [00:10<?, ?it/s]\n"
     ]
    },
    {
     "name": "stdout",
     "output_type": "stream",
     "text": [
      "Epoch [13], Train Loss : [0.45527] Val Loss : [0.27455]\n",
      "Early stopping triggered! No improvement in validation loss.\n"
     ]
    },
    {
     "name": "stderr",
     "output_type": "stream",
     "text": [
      "100%|██████████| 36/36 [00:10<00:00,  3.42it/s]\n",
      "  0%|          | 0/144 [00:11<?, ?it/s]\n"
     ]
    },
    {
     "name": "stdout",
     "output_type": "stream",
     "text": [
      "Epoch [14], Train Loss : [0.46981] Val Loss : [0.27820]\n",
      "Early stopping triggered! No improvement in validation loss.\n"
     ]
    },
    {
     "name": "stderr",
     "output_type": "stream",
     "text": [
      "100%|██████████| 36/36 [00:10<00:00,  3.44it/s]\n",
      "  0%|          | 0/144 [00:11<?, ?it/s]\n"
     ]
    },
    {
     "name": "stdout",
     "output_type": "stream",
     "text": [
      "Epoch [15], Train Loss : [0.35656] Val Loss : [0.28065]\n",
      "Early stopping triggered! No improvement in validation loss.\n"
     ]
    },
    {
     "name": "stderr",
     "output_type": "stream",
     "text": [
      "100%|██████████| 36/36 [00:10<00:00,  3.46it/s]\n",
      "  0%|          | 0/144 [00:10<?, ?it/s]\n"
     ]
    },
    {
     "name": "stdout",
     "output_type": "stream",
     "text": [
      "Epoch [16], Train Loss : [0.41918] Val Loss : [0.28261]\n",
      "Epoch 00073: reducing learning rate of group 0 to 3.7500e-05.\n",
      "Early stopping triggered! No improvement in validation loss.\n"
     ]
    },
    {
     "name": "stderr",
     "output_type": "stream",
     "text": [
      "100%|██████████| 36/36 [00:10<00:00,  3.45it/s]\n",
      "  0%|          | 0/144 [00:10<?, ?it/s]\n"
     ]
    },
    {
     "name": "stdout",
     "output_type": "stream",
     "text": [
      "Epoch [17], Train Loss : [0.36251] Val Loss : [0.28399]\n",
      "Early stopping triggered! No improvement in validation loss.\n"
     ]
    },
    {
     "name": "stderr",
     "output_type": "stream",
     "text": [
      "100%|██████████| 36/36 [00:10<00:00,  3.44it/s]\n",
      "  0%|          | 0/144 [00:11<?, ?it/s]\n"
     ]
    },
    {
     "name": "stdout",
     "output_type": "stream",
     "text": [
      "Epoch [18], Train Loss : [0.45686] Val Loss : [0.28638]\n",
      "Early stopping triggered! No improvement in validation loss.\n"
     ]
    },
    {
     "name": "stderr",
     "output_type": "stream",
     "text": [
      "100%|██████████| 36/36 [00:10<00:00,  3.43it/s]\n",
      "  0%|          | 0/144 [00:11<?, ?it/s]\n"
     ]
    },
    {
     "name": "stdout",
     "output_type": "stream",
     "text": [
      "Epoch [19], Train Loss : [0.34108] Val Loss : [0.28852]\n",
      "Early stopping triggered! No improvement in validation loss.\n"
     ]
    },
    {
     "name": "stderr",
     "output_type": "stream",
     "text": [
      "100%|██████████| 36/36 [00:10<00:00,  3.43it/s]\n",
      "  0%|          | 0/144 [00:11<?, ?it/s]\n"
     ]
    },
    {
     "name": "stdout",
     "output_type": "stream",
     "text": [
      "Epoch [20], Train Loss : [0.46655] Val Loss : [0.29230]\n",
      "Early stopping triggered! No improvement in validation loss.\n"
     ]
    },
    {
     "name": "stderr",
     "output_type": "stream",
     "text": [
      "100%|██████████| 36/36 [00:10<00:00,  3.45it/s]\n",
      "  0%|          | 0/144 [00:10<?, ?it/s]\n"
     ]
    },
    {
     "name": "stdout",
     "output_type": "stream",
     "text": [
      "Epoch [21], Train Loss : [0.40013] Val Loss : [0.29312]\n",
      "Early stopping triggered! No improvement in validation loss.\n"
     ]
    },
    {
     "name": "stderr",
     "output_type": "stream",
     "text": [
      "100%|██████████| 36/36 [00:10<00:00,  3.44it/s]\n",
      "  0%|          | 0/144 [00:11<?, ?it/s]\n"
     ]
    },
    {
     "name": "stdout",
     "output_type": "stream",
     "text": [
      "Epoch [22], Train Loss : [0.34496] Val Loss : [0.29475]\n",
      "Early stopping triggered! No improvement in validation loss.\n"
     ]
    },
    {
     "name": "stderr",
     "output_type": "stream",
     "text": [
      "100%|██████████| 36/36 [00:10<00:00,  3.46it/s]\n",
      "  0%|          | 0/144 [00:10<?, ?it/s]\n"
     ]
    },
    {
     "name": "stdout",
     "output_type": "stream",
     "text": [
      "Epoch [23], Train Loss : [0.35045] Val Loss : [0.29500]\n",
      "Epoch 00080: reducing learning rate of group 0 to 1.8750e-05.\n",
      "Early stopping triggered! No improvement in validation loss.\n"
     ]
    },
    {
     "name": "stderr",
     "output_type": "stream",
     "text": [
      "100%|██████████| 36/36 [00:10<00:00,  3.45it/s]\n",
      "  0%|          | 0/144 [00:10<?, ?it/s]\n"
     ]
    },
    {
     "name": "stdout",
     "output_type": "stream",
     "text": [
      "Epoch [24], Train Loss : [0.38891] Val Loss : [0.29784]\n",
      "Early stopping triggered! No improvement in validation loss.\n"
     ]
    },
    {
     "name": "stderr",
     "output_type": "stream",
     "text": [
      "100%|██████████| 36/36 [00:10<00:00,  3.45it/s]\n",
      "  0%|          | 0/144 [00:10<?, ?it/s]\n"
     ]
    },
    {
     "name": "stdout",
     "output_type": "stream",
     "text": [
      "Epoch [25], Train Loss : [0.31931] Val Loss : [0.29977]\n",
      "Early stopping triggered! No improvement in validation loss.\n"
     ]
    },
    {
     "name": "stderr",
     "output_type": "stream",
     "text": [
      "100%|██████████| 36/36 [00:10<00:00,  3.45it/s]\n",
      "  0%|          | 0/144 [00:10<?, ?it/s]\n"
     ]
    },
    {
     "name": "stdout",
     "output_type": "stream",
     "text": [
      "Epoch [26], Train Loss : [0.24657] Val Loss : [0.29979]\n",
      "Early stopping triggered! No improvement in validation loss.\n"
     ]
    },
    {
     "name": "stderr",
     "output_type": "stream",
     "text": [
      "100%|██████████| 36/36 [00:10<00:00,  3.45it/s]\n",
      "  0%|          | 0/144 [00:10<?, ?it/s]\n"
     ]
    },
    {
     "name": "stdout",
     "output_type": "stream",
     "text": [
      "Epoch [27], Train Loss : [0.36695] Val Loss : [0.30239]\n",
      "Early stopping triggered! No improvement in validation loss.\n"
     ]
    },
    {
     "name": "stderr",
     "output_type": "stream",
     "text": [
      "100%|██████████| 36/36 [00:10<00:00,  3.45it/s]\n",
      "  0%|          | 0/144 [00:11<?, ?it/s]\n"
     ]
    },
    {
     "name": "stdout",
     "output_type": "stream",
     "text": [
      "Epoch [28], Train Loss : [0.43338] Val Loss : [0.30635]\n",
      "Early stopping triggered! No improvement in validation loss.\n"
     ]
    },
    {
     "name": "stderr",
     "output_type": "stream",
     "text": [
      "100%|██████████| 36/36 [00:10<00:00,  3.44it/s]\n",
      "  0%|          | 0/144 [00:10<?, ?it/s]\n"
     ]
    },
    {
     "name": "stdout",
     "output_type": "stream",
     "text": [
      "Epoch [29], Train Loss : [0.32920] Val Loss : [0.30681]\n",
      "Early stopping triggered! No improvement in validation loss.\n"
     ]
    },
    {
     "name": "stderr",
     "output_type": "stream",
     "text": [
      "100%|██████████| 36/36 [00:10<00:00,  3.43it/s]\n",
      "  0%|          | 0/144 [00:11<?, ?it/s]\n"
     ]
    },
    {
     "name": "stdout",
     "output_type": "stream",
     "text": [
      "Epoch [30], Train Loss : [0.43574] Val Loss : [0.30639]\n",
      "Epoch 00087: reducing learning rate of group 0 to 9.3750e-06.\n",
      "Early stopping triggered! No improvement in validation loss.\n"
     ]
    },
    {
     "name": "stderr",
     "output_type": "stream",
     "text": [
      "100%|██████████| 36/36 [00:10<00:00,  3.44it/s]\n",
      "  0%|          | 0/144 [00:10<?, ?it/s]\n"
     ]
    },
    {
     "name": "stdout",
     "output_type": "stream",
     "text": [
      "Epoch [31], Train Loss : [0.37783] Val Loss : [0.30623]\n",
      "Early stopping triggered! No improvement in validation loss.\n"
     ]
    },
    {
     "name": "stderr",
     "output_type": "stream",
     "text": [
      "100%|██████████| 36/36 [00:10<00:00,  3.37it/s]\n",
      "  0%|          | 0/144 [00:11<?, ?it/s]\n"
     ]
    },
    {
     "name": "stdout",
     "output_type": "stream",
     "text": [
      "Epoch [32], Train Loss : [0.38805] Val Loss : [0.30683]\n",
      "Early stopping triggered! No improvement in validation loss.\n"
     ]
    },
    {
     "name": "stderr",
     "output_type": "stream",
     "text": [
      "100%|██████████| 36/36 [00:10<00:00,  3.43it/s]\n",
      "  0%|          | 0/144 [00:11<?, ?it/s]\n"
     ]
    },
    {
     "name": "stdout",
     "output_type": "stream",
     "text": [
      "Epoch [33], Train Loss : [0.31018] Val Loss : [0.30791]\n",
      "Early stopping triggered! No improvement in validation loss.\n"
     ]
    },
    {
     "name": "stderr",
     "output_type": "stream",
     "text": [
      "100%|██████████| 36/36 [00:10<00:00,  3.43it/s]\n",
      "  0%|          | 0/144 [00:11<?, ?it/s]\n"
     ]
    },
    {
     "name": "stdout",
     "output_type": "stream",
     "text": [
      "Epoch [34], Train Loss : [0.29800] Val Loss : [0.30832]\n",
      "Early stopping triggered! No improvement in validation loss.\n"
     ]
    },
    {
     "name": "stderr",
     "output_type": "stream",
     "text": [
      "100%|██████████| 36/36 [00:10<00:00,  3.44it/s]\n",
      "  0%|          | 0/144 [00:10<?, ?it/s]\n"
     ]
    },
    {
     "name": "stdout",
     "output_type": "stream",
     "text": [
      "Epoch [35], Train Loss : [0.38497] Val Loss : [0.30929]\n",
      "Early stopping triggered! No improvement in validation loss.\n"
     ]
    },
    {
     "name": "stderr",
     "output_type": "stream",
     "text": [
      "100%|██████████| 36/36 [00:10<00:00,  3.44it/s]\n",
      "  0%|          | 0/144 [00:10<?, ?it/s]\n"
     ]
    },
    {
     "name": "stdout",
     "output_type": "stream",
     "text": [
      "Epoch [36], Train Loss : [0.31492] Val Loss : [0.31118]\n",
      "Early stopping triggered! No improvement in validation loss.\n"
     ]
    },
    {
     "name": "stderr",
     "output_type": "stream",
     "text": [
      "100%|██████████| 36/36 [00:10<00:00,  3.42it/s]\n",
      "  0%|          | 0/144 [00:11<?, ?it/s]\n"
     ]
    },
    {
     "name": "stdout",
     "output_type": "stream",
     "text": [
      "Epoch [37], Train Loss : [0.26012] Val Loss : [0.31320]\n",
      "Epoch 00094: reducing learning rate of group 0 to 4.6875e-06.\n",
      "Early stopping triggered! No improvement in validation loss.\n"
     ]
    },
    {
     "name": "stderr",
     "output_type": "stream",
     "text": [
      "100%|██████████| 36/36 [00:10<00:00,  3.44it/s]\n",
      "  0%|          | 0/144 [00:11<?, ?it/s]\n"
     ]
    },
    {
     "name": "stdout",
     "output_type": "stream",
     "text": [
      "Epoch [38], Train Loss : [0.36576] Val Loss : [0.31521]\n",
      "Early stopping triggered! No improvement in validation loss.\n"
     ]
    },
    {
     "name": "stderr",
     "output_type": "stream",
     "text": [
      "100%|██████████| 36/36 [00:10<00:00,  3.42it/s]\n",
      "  0%|          | 0/144 [00:11<?, ?it/s]\n"
     ]
    },
    {
     "name": "stdout",
     "output_type": "stream",
     "text": [
      "Epoch [39], Train Loss : [0.34610] Val Loss : [0.31510]\n",
      "Early stopping triggered! No improvement in validation loss.\n"
     ]
    },
    {
     "name": "stderr",
     "output_type": "stream",
     "text": [
      "100%|██████████| 36/36 [00:10<00:00,  3.45it/s]\n",
      "  0%|          | 0/144 [00:10<?, ?it/s]\n"
     ]
    },
    {
     "name": "stdout",
     "output_type": "stream",
     "text": [
      "Epoch [40], Train Loss : [0.32638] Val Loss : [0.31502]\n",
      "Early stopping triggered! No improvement in validation loss.\n"
     ]
    },
    {
     "name": "stderr",
     "output_type": "stream",
     "text": [
      "100%|██████████| 36/36 [00:10<00:00,  3.43it/s]\n",
      "  0%|          | 0/144 [00:11<?, ?it/s]\n"
     ]
    },
    {
     "name": "stdout",
     "output_type": "stream",
     "text": [
      "Epoch [41], Train Loss : [0.36041] Val Loss : [0.31417]\n",
      "Early stopping triggered! No improvement in validation loss.\n"
     ]
    },
    {
     "name": "stderr",
     "output_type": "stream",
     "text": [
      "100%|██████████| 36/36 [00:10<00:00,  3.43it/s]\n",
      "  0%|          | 0/144 [00:11<?, ?it/s]\n"
     ]
    },
    {
     "name": "stdout",
     "output_type": "stream",
     "text": [
      "Epoch [42], Train Loss : [0.30634] Val Loss : [0.31373]\n",
      "Early stopping triggered! No improvement in validation loss.\n"
     ]
    },
    {
     "name": "stderr",
     "output_type": "stream",
     "text": [
      "100%|██████████| 36/36 [00:10<00:00,  3.44it/s]\n",
      "  0%|          | 0/144 [00:10<?, ?it/s]\n"
     ]
    },
    {
     "name": "stdout",
     "output_type": "stream",
     "text": [
      "Epoch [43], Train Loss : [0.34750] Val Loss : [0.31562]\n",
      "Early stopping triggered! No improvement in validation loss.\n"
     ]
    },
    {
     "name": "stderr",
     "output_type": "stream",
     "text": [
      "100%|██████████| 36/36 [00:10<00:00,  3.37it/s]\n",
      "  0%|          | 0/144 [00:11<?, ?it/s]\n"
     ]
    },
    {
     "name": "stdout",
     "output_type": "stream",
     "text": [
      "Epoch [44], Train Loss : [0.38579] Val Loss : [0.31686]\n",
      "Epoch 00101: reducing learning rate of group 0 to 2.3437e-06.\n",
      "Early stopping triggered! No improvement in validation loss.\n"
     ]
    },
    {
     "name": "stderr",
     "output_type": "stream",
     "text": [
      "100%|██████████| 36/36 [00:10<00:00,  3.45it/s]\n",
      "  0%|          | 0/144 [00:11<?, ?it/s]\n"
     ]
    },
    {
     "name": "stdout",
     "output_type": "stream",
     "text": [
      "Epoch [45], Train Loss : [0.31076] Val Loss : [0.31814]\n",
      "Early stopping triggered! No improvement in validation loss.\n"
     ]
    },
    {
     "name": "stderr",
     "output_type": "stream",
     "text": [
      "100%|██████████| 36/36 [00:10<00:00,  3.44it/s]\n",
      "  0%|          | 0/144 [00:11<?, ?it/s]\n"
     ]
    },
    {
     "name": "stdout",
     "output_type": "stream",
     "text": [
      "Epoch [46], Train Loss : [0.38467] Val Loss : [0.31518]\n",
      "Early stopping triggered! No improvement in validation loss.\n"
     ]
    },
    {
     "name": "stderr",
     "output_type": "stream",
     "text": [
      "100%|██████████| 36/36 [00:10<00:00,  3.44it/s]\n",
      "  0%|          | 0/144 [00:10<?, ?it/s]\n"
     ]
    },
    {
     "name": "stdout",
     "output_type": "stream",
     "text": [
      "Epoch [47], Train Loss : [0.43563] Val Loss : [0.31720]\n",
      "Early stopping triggered! No improvement in validation loss.\n"
     ]
    },
    {
     "name": "stderr",
     "output_type": "stream",
     "text": [
      "100%|██████████| 36/36 [00:10<00:00,  3.46it/s]\n",
      "  0%|          | 0/144 [00:10<?, ?it/s]\n"
     ]
    },
    {
     "name": "stdout",
     "output_type": "stream",
     "text": [
      "Epoch [48], Train Loss : [0.33555] Val Loss : [0.31899]\n",
      "Early stopping triggered! No improvement in validation loss.\n"
     ]
    },
    {
     "name": "stderr",
     "output_type": "stream",
     "text": [
      "100%|██████████| 36/36 [00:10<00:00,  3.45it/s]\n",
      "  0%|          | 0/144 [00:11<?, ?it/s]\n"
     ]
    },
    {
     "name": "stdout",
     "output_type": "stream",
     "text": [
      "Epoch [49], Train Loss : [0.39294] Val Loss : [0.31860]\n",
      "Early stopping triggered! No improvement in validation loss.\n"
     ]
    },
    {
     "name": "stderr",
     "output_type": "stream",
     "text": [
      "100%|██████████| 36/36 [00:10<00:00,  3.44it/s]\n",
      "  0%|          | 0/144 [00:11<?, ?it/s]\n"
     ]
    },
    {
     "name": "stdout",
     "output_type": "stream",
     "text": [
      "Epoch [50], Train Loss : [0.30953] Val Loss : [0.31940]\n",
      "Early stopping triggered! No improvement in validation loss.\n"
     ]
    },
    {
     "name": "stderr",
     "output_type": "stream",
     "text": [
      "100%|██████████| 36/36 [00:10<00:00,  3.44it/s]\n",
      "  0%|          | 0/144 [00:11<?, ?it/s]\n"
     ]
    },
    {
     "name": "stdout",
     "output_type": "stream",
     "text": [
      "Epoch [51], Train Loss : [0.33721] Val Loss : [0.31568]\n",
      "Epoch 00108: reducing learning rate of group 0 to 1.1719e-06.\n",
      "Early stopping triggered! No improvement in validation loss.\n"
     ]
    },
    {
     "name": "stderr",
     "output_type": "stream",
     "text": [
      "100%|██████████| 36/36 [00:10<00:00,  3.44it/s]\n",
      "  0%|          | 0/144 [00:10<?, ?it/s]\n"
     ]
    },
    {
     "name": "stdout",
     "output_type": "stream",
     "text": [
      "Epoch [52], Train Loss : [0.39205] Val Loss : [0.31708]\n",
      "Early stopping triggered! No improvement in validation loss.\n"
     ]
    },
    {
     "name": "stderr",
     "output_type": "stream",
     "text": [
      "100%|██████████| 36/36 [00:10<00:00,  3.45it/s]\n",
      "  0%|          | 0/144 [00:10<?, ?it/s]\n"
     ]
    },
    {
     "name": "stdout",
     "output_type": "stream",
     "text": [
      "Epoch [53], Train Loss : [0.27714] Val Loss : [0.31807]\n",
      "Early stopping triggered! No improvement in validation loss.\n"
     ]
    },
    {
     "name": "stderr",
     "output_type": "stream",
     "text": [
      "100%|██████████| 36/36 [00:10<00:00,  3.45it/s]\n",
      "  0%|          | 0/144 [00:10<?, ?it/s]\n"
     ]
    },
    {
     "name": "stdout",
     "output_type": "stream",
     "text": [
      "Epoch [54], Train Loss : [0.35242] Val Loss : [0.31792]\n",
      "Early stopping triggered! No improvement in validation loss.\n"
     ]
    },
    {
     "name": "stderr",
     "output_type": "stream",
     "text": [
      "100%|██████████| 36/36 [00:10<00:00,  3.44it/s]\n",
      "  0%|          | 0/144 [00:11<?, ?it/s]\n"
     ]
    },
    {
     "name": "stdout",
     "output_type": "stream",
     "text": [
      "Epoch [55], Train Loss : [0.34614] Val Loss : [0.31888]\n",
      "Early stopping triggered! No improvement in validation loss.\n"
     ]
    },
    {
     "name": "stderr",
     "output_type": "stream",
     "text": [
      "100%|██████████| 36/36 [00:10<00:00,  3.45it/s]\n",
      "  0%|          | 0/144 [00:10<?, ?it/s]\n"
     ]
    },
    {
     "name": "stdout",
     "output_type": "stream",
     "text": [
      "Epoch [56], Train Loss : [0.30613] Val Loss : [0.31725]\n",
      "Early stopping triggered! No improvement in validation loss.\n"
     ]
    },
    {
     "name": "stderr",
     "output_type": "stream",
     "text": [
      "100%|██████████| 36/36 [00:10<00:00,  3.44it/s]\n",
      "  0%|          | 0/144 [00:10<?, ?it/s]\n"
     ]
    },
    {
     "name": "stdout",
     "output_type": "stream",
     "text": [
      "Epoch [57], Train Loss : [0.33614] Val Loss : [0.31736]\n",
      "Early stopping triggered! No improvement in validation loss.\n"
     ]
    },
    {
     "name": "stderr",
     "output_type": "stream",
     "text": [
      "100%|██████████| 36/36 [00:10<00:00,  3.45it/s]\n",
      "  0%|          | 0/144 [00:10<?, ?it/s]\n"
     ]
    },
    {
     "name": "stdout",
     "output_type": "stream",
     "text": [
      "Epoch [58], Train Loss : [0.37597] Val Loss : [0.31802]\n",
      "Epoch 00115: reducing learning rate of group 0 to 5.8594e-07.\n",
      "Early stopping triggered! No improvement in validation loss.\n"
     ]
    },
    {
     "name": "stderr",
     "output_type": "stream",
     "text": [
      "100%|██████████| 36/36 [00:10<00:00,  3.43it/s]\n",
      "  0%|          | 0/144 [00:11<?, ?it/s]\n"
     ]
    },
    {
     "name": "stdout",
     "output_type": "stream",
     "text": [
      "Epoch [59], Train Loss : [0.41430] Val Loss : [0.31614]\n",
      "Early stopping triggered! No improvement in validation loss.\n"
     ]
    },
    {
     "name": "stderr",
     "output_type": "stream",
     "text": [
      "100%|██████████| 36/36 [00:10<00:00,  3.45it/s]\n",
      "  0%|          | 0/144 [00:10<?, ?it/s]\n"
     ]
    },
    {
     "name": "stdout",
     "output_type": "stream",
     "text": [
      "Epoch [60], Train Loss : [0.42940] Val Loss : [0.31832]\n",
      "Early stopping triggered! No improvement in validation loss.\n"
     ]
    },
    {
     "name": "stderr",
     "output_type": "stream",
     "text": [
      "100%|██████████| 36/36 [00:10<00:00,  3.44it/s]\n",
      "  0%|          | 0/144 [00:11<?, ?it/s]\n"
     ]
    },
    {
     "name": "stdout",
     "output_type": "stream",
     "text": [
      "Epoch [61], Train Loss : [0.39028] Val Loss : [0.31753]\n",
      "Early stopping triggered! No improvement in validation loss.\n"
     ]
    },
    {
     "name": "stderr",
     "output_type": "stream",
     "text": [
      "100%|██████████| 36/36 [00:10<00:00,  3.44it/s]\n",
      "  0%|          | 0/144 [00:10<?, ?it/s]\n"
     ]
    },
    {
     "name": "stdout",
     "output_type": "stream",
     "text": [
      "Epoch [62], Train Loss : [0.30916] Val Loss : [0.31607]\n",
      "Early stopping triggered! No improvement in validation loss.\n"
     ]
    },
    {
     "name": "stderr",
     "output_type": "stream",
     "text": [
      "100%|██████████| 36/36 [00:10<00:00,  3.43it/s]\n",
      "  0%|          | 0/144 [00:11<?, ?it/s]\n"
     ]
    },
    {
     "name": "stdout",
     "output_type": "stream",
     "text": [
      "Epoch [63], Train Loss : [0.35269] Val Loss : [0.31844]\n",
      "Early stopping triggered! No improvement in validation loss.\n"
     ]
    },
    {
     "name": "stderr",
     "output_type": "stream",
     "text": [
      "100%|██████████| 36/36 [00:10<00:00,  3.44it/s]\n",
      "  0%|          | 0/144 [00:10<?, ?it/s]\n"
     ]
    },
    {
     "name": "stdout",
     "output_type": "stream",
     "text": [
      "Epoch [64], Train Loss : [0.29278] Val Loss : [0.31980]\n",
      "Early stopping triggered! No improvement in validation loss.\n"
     ]
    },
    {
     "name": "stderr",
     "output_type": "stream",
     "text": [
      "100%|██████████| 36/36 [00:10<00:00,  3.45it/s]\n",
      "  0%|          | 0/144 [00:10<?, ?it/s]\n"
     ]
    },
    {
     "name": "stdout",
     "output_type": "stream",
     "text": [
      "Epoch [65], Train Loss : [0.37008] Val Loss : [0.32158]\n",
      "Epoch 00122: reducing learning rate of group 0 to 2.9297e-07.\n",
      "Early stopping triggered! No improvement in validation loss.\n"
     ]
    },
    {
     "name": "stderr",
     "output_type": "stream",
     "text": [
      "100%|██████████| 36/36 [00:10<00:00,  3.44it/s]\n",
      "  0%|          | 0/144 [00:10<?, ?it/s]\n"
     ]
    },
    {
     "name": "stdout",
     "output_type": "stream",
     "text": [
      "Epoch [66], Train Loss : [0.36157] Val Loss : [0.32115]\n",
      "Early stopping triggered! No improvement in validation loss.\n"
     ]
    },
    {
     "name": "stderr",
     "output_type": "stream",
     "text": [
      "100%|██████████| 36/36 [00:10<00:00,  3.46it/s]\n",
      "  0%|          | 0/144 [00:10<?, ?it/s]\n"
     ]
    },
    {
     "name": "stdout",
     "output_type": "stream",
     "text": [
      "Epoch [67], Train Loss : [0.34402] Val Loss : [0.31985]\n",
      "Early stopping triggered! No improvement in validation loss.\n"
     ]
    },
    {
     "name": "stderr",
     "output_type": "stream",
     "text": [
      "100%|██████████| 36/36 [00:10<00:00,  3.55it/s]\n",
      "  0%|          | 0/144 [00:10<?, ?it/s]\n"
     ]
    },
    {
     "name": "stdout",
     "output_type": "stream",
     "text": [
      "Epoch [68], Train Loss : [0.32421] Val Loss : [0.31666]\n",
      "Early stopping triggered! No improvement in validation loss.\n"
     ]
    },
    {
     "name": "stderr",
     "output_type": "stream",
     "text": [
      "100%|██████████| 36/36 [00:10<00:00,  3.44it/s]\n",
      "  0%|          | 0/144 [00:10<?, ?it/s]\n"
     ]
    },
    {
     "name": "stdout",
     "output_type": "stream",
     "text": [
      "Epoch [69], Train Loss : [0.39151] Val Loss : [0.31589]\n",
      "Early stopping triggered! No improvement in validation loss.\n"
     ]
    },
    {
     "name": "stderr",
     "output_type": "stream",
     "text": [
      "100%|██████████| 36/36 [00:10<00:00,  3.45it/s]\n",
      "  0%|          | 0/144 [00:10<?, ?it/s]\n"
     ]
    },
    {
     "name": "stdout",
     "output_type": "stream",
     "text": [
      "Epoch [70], Train Loss : [0.29666] Val Loss : [0.31796]\n",
      "Early stopping triggered! No improvement in validation loss.\n"
     ]
    },
    {
     "name": "stderr",
     "output_type": "stream",
     "text": [
      "100%|██████████| 36/36 [00:10<00:00,  3.53it/s]\n",
      "  0%|          | 0/144 [00:10<?, ?it/s]\n"
     ]
    },
    {
     "name": "stdout",
     "output_type": "stream",
     "text": [
      "Epoch [71], Train Loss : [0.26799] Val Loss : [0.31661]\n",
      "Early stopping triggered! No improvement in validation loss.\n"
     ]
    },
    {
     "name": "stderr",
     "output_type": "stream",
     "text": [
      "100%|██████████| 36/36 [00:10<00:00,  3.55it/s]\n",
      "  0%|          | 0/144 [00:10<?, ?it/s]\n"
     ]
    },
    {
     "name": "stdout",
     "output_type": "stream",
     "text": [
      "Epoch [72], Train Loss : [0.39918] Val Loss : [0.31878]\n",
      "Epoch 00129: reducing learning rate of group 0 to 1.4648e-07.\n",
      "Early stopping triggered! No improvement in validation loss.\n"
     ]
    },
    {
     "name": "stderr",
     "output_type": "stream",
     "text": [
      "100%|██████████| 36/36 [00:10<00:00,  3.54it/s]\n",
      "  0%|          | 0/144 [00:10<?, ?it/s]\n"
     ]
    },
    {
     "name": "stdout",
     "output_type": "stream",
     "text": [
      "Epoch [73], Train Loss : [0.33100] Val Loss : [0.31857]\n",
      "Early stopping triggered! No improvement in validation loss.\n"
     ]
    },
    {
     "name": "stderr",
     "output_type": "stream",
     "text": [
      "100%|██████████| 36/36 [00:10<00:00,  3.55it/s]\n",
      "  0%|          | 0/144 [00:10<?, ?it/s]\n"
     ]
    },
    {
     "name": "stdout",
     "output_type": "stream",
     "text": [
      "Epoch [74], Train Loss : [0.30322] Val Loss : [0.31641]\n",
      "Early stopping triggered! No improvement in validation loss.\n"
     ]
    },
    {
     "name": "stderr",
     "output_type": "stream",
     "text": [
      "100%|██████████| 36/36 [00:10<00:00,  3.45it/s]\n",
      "  0%|          | 0/144 [00:10<?, ?it/s]\n"
     ]
    },
    {
     "name": "stdout",
     "output_type": "stream",
     "text": [
      "Epoch [75], Train Loss : [0.39015] Val Loss : [0.31663]\n",
      "Early stopping triggered! No improvement in validation loss.\n"
     ]
    },
    {
     "name": "stderr",
     "output_type": "stream",
     "text": [
      "100%|██████████| 36/36 [00:10<00:00,  3.54it/s]\n",
      "  0%|          | 0/144 [00:10<?, ?it/s]\n"
     ]
    },
    {
     "name": "stdout",
     "output_type": "stream",
     "text": [
      "Epoch [76], Train Loss : [0.26549] Val Loss : [0.31623]\n",
      "Early stopping triggered! No improvement in validation loss.\n"
     ]
    },
    {
     "name": "stderr",
     "output_type": "stream",
     "text": [
      "100%|██████████| 36/36 [00:10<00:00,  3.55it/s]\n",
      "  0%|          | 0/144 [00:10<?, ?it/s]\n"
     ]
    },
    {
     "name": "stdout",
     "output_type": "stream",
     "text": [
      "Epoch [77], Train Loss : [0.33342] Val Loss : [0.31721]\n",
      "Early stopping triggered! No improvement in validation loss.\n"
     ]
    },
    {
     "name": "stderr",
     "output_type": "stream",
     "text": [
      "100%|██████████| 36/36 [00:10<00:00,  3.55it/s]\n",
      "  0%|          | 0/144 [00:10<?, ?it/s]\n"
     ]
    },
    {
     "name": "stdout",
     "output_type": "stream",
     "text": [
      "Epoch [78], Train Loss : [0.40801] Val Loss : [0.31850]\n",
      "Early stopping triggered! No improvement in validation loss.\n"
     ]
    },
    {
     "name": "stderr",
     "output_type": "stream",
     "text": [
      "100%|██████████| 36/36 [00:10<00:00,  3.54it/s]\n",
      "  0%|          | 0/144 [00:10<?, ?it/s]\n"
     ]
    },
    {
     "name": "stdout",
     "output_type": "stream",
     "text": [
      "Epoch [79], Train Loss : [0.36609] Val Loss : [0.31809]\n",
      "Epoch 00136: reducing learning rate of group 0 to 7.3242e-08.\n",
      "Early stopping triggered! No improvement in validation loss.\n"
     ]
    },
    {
     "name": "stderr",
     "output_type": "stream",
     "text": [
      "100%|██████████| 36/36 [00:10<00:00,  3.54it/s]\n",
      "  0%|          | 0/144 [00:10<?, ?it/s]\n"
     ]
    },
    {
     "name": "stdout",
     "output_type": "stream",
     "text": [
      "Epoch [80], Train Loss : [0.33647] Val Loss : [0.32096]\n",
      "Early stopping triggered! No improvement in validation loss.\n"
     ]
    },
    {
     "name": "stderr",
     "output_type": "stream",
     "text": [
      "100%|██████████| 36/36 [00:10<00:00,  3.46it/s]\n",
      "  0%|          | 0/144 [00:10<?, ?it/s]\n"
     ]
    },
    {
     "name": "stdout",
     "output_type": "stream",
     "text": [
      "Epoch [81], Train Loss : [0.39387] Val Loss : [0.32307]\n",
      "Early stopping triggered! No improvement in validation loss.\n"
     ]
    },
    {
     "name": "stderr",
     "output_type": "stream",
     "text": [
      "100%|██████████| 36/36 [00:10<00:00,  3.54it/s]\n",
      "  0%|          | 0/144 [00:10<?, ?it/s]\n"
     ]
    },
    {
     "name": "stdout",
     "output_type": "stream",
     "text": [
      "Epoch [82], Train Loss : [0.25670] Val Loss : [0.32199]\n",
      "Early stopping triggered! No improvement in validation loss.\n"
     ]
    },
    {
     "name": "stderr",
     "output_type": "stream",
     "text": [
      "100%|██████████| 36/36 [00:10<00:00,  3.46it/s]\n",
      "  0%|          | 0/144 [00:10<?, ?it/s]\n"
     ]
    },
    {
     "name": "stdout",
     "output_type": "stream",
     "text": [
      "Epoch [83], Train Loss : [0.41611] Val Loss : [0.32377]\n",
      "Early stopping triggered! No improvement in validation loss.\n"
     ]
    },
    {
     "name": "stderr",
     "output_type": "stream",
     "text": [
      "100%|██████████| 36/36 [00:10<00:00,  3.55it/s]\n",
      "  0%|          | 0/144 [00:10<?, ?it/s]\n"
     ]
    },
    {
     "name": "stdout",
     "output_type": "stream",
     "text": [
      "Epoch [84], Train Loss : [0.32069] Val Loss : [0.32196]\n",
      "Early stopping triggered! No improvement in validation loss.\n"
     ]
    },
    {
     "name": "stderr",
     "output_type": "stream",
     "text": [
      "100%|██████████| 36/36 [00:10<00:00,  3.55it/s]\n",
      "  0%|          | 0/144 [00:10<?, ?it/s]\n"
     ]
    },
    {
     "name": "stdout",
     "output_type": "stream",
     "text": [
      "Epoch [85], Train Loss : [0.37015] Val Loss : [0.32139]\n",
      "Early stopping triggered! No improvement in validation loss.\n"
     ]
    },
    {
     "name": "stderr",
     "output_type": "stream",
     "text": [
      "100%|██████████| 36/36 [00:10<00:00,  3.45it/s]\n",
      "  0%|          | 0/144 [00:10<?, ?it/s]\n"
     ]
    },
    {
     "name": "stdout",
     "output_type": "stream",
     "text": [
      "Epoch [86], Train Loss : [0.30872] Val Loss : [0.32196]\n",
      "Epoch 00143: reducing learning rate of group 0 to 3.6621e-08.\n",
      "Early stopping triggered! No improvement in validation loss.\n"
     ]
    },
    {
     "name": "stderr",
     "output_type": "stream",
     "text": [
      "100%|██████████| 36/36 [00:10<00:00,  3.54it/s]\n",
      "  0%|          | 0/144 [00:10<?, ?it/s]\n"
     ]
    },
    {
     "name": "stdout",
     "output_type": "stream",
     "text": [
      "Epoch [87], Train Loss : [0.43311] Val Loss : [0.32072]\n",
      "Early stopping triggered! No improvement in validation loss.\n"
     ]
    },
    {
     "name": "stderr",
     "output_type": "stream",
     "text": [
      "100%|██████████| 36/36 [00:10<00:00,  3.55it/s]\n",
      "  0%|          | 0/144 [00:10<?, ?it/s]\n"
     ]
    },
    {
     "name": "stdout",
     "output_type": "stream",
     "text": [
      "Epoch [88], Train Loss : [0.40774] Val Loss : [0.32111]\n",
      "Early stopping triggered! No improvement in validation loss.\n"
     ]
    },
    {
     "name": "stderr",
     "output_type": "stream",
     "text": [
      "100%|██████████| 36/36 [00:10<00:00,  3.55it/s]\n",
      "  0%|          | 0/144 [00:10<?, ?it/s]\n"
     ]
    },
    {
     "name": "stdout",
     "output_type": "stream",
     "text": [
      "Epoch [89], Train Loss : [0.36016] Val Loss : [0.32129]\n",
      "Early stopping triggered! No improvement in validation loss.\n"
     ]
    },
    {
     "name": "stderr",
     "output_type": "stream",
     "text": [
      "100%|██████████| 36/36 [00:10<00:00,  3.46it/s]\n",
      "  0%|          | 0/144 [00:10<?, ?it/s]\n"
     ]
    },
    {
     "name": "stdout",
     "output_type": "stream",
     "text": [
      "Epoch [90], Train Loss : [0.35362] Val Loss : [0.31830]\n",
      "Early stopping triggered! No improvement in validation loss.\n"
     ]
    },
    {
     "name": "stderr",
     "output_type": "stream",
     "text": [
      "100%|██████████| 36/36 [00:10<00:00,  3.54it/s]\n",
      "  0%|          | 0/144 [00:10<?, ?it/s]\n"
     ]
    },
    {
     "name": "stdout",
     "output_type": "stream",
     "text": [
      "Epoch [91], Train Loss : [0.36215] Val Loss : [0.32041]\n",
      "Early stopping triggered! No improvement in validation loss.\n"
     ]
    },
    {
     "name": "stderr",
     "output_type": "stream",
     "text": [
      "100%|██████████| 36/36 [00:10<00:00,  3.51it/s]\n",
      "  0%|          | 0/144 [00:10<?, ?it/s]\n"
     ]
    },
    {
     "name": "stdout",
     "output_type": "stream",
     "text": [
      "Epoch [92], Train Loss : [0.34550] Val Loss : [0.32211]\n",
      "Early stopping triggered! No improvement in validation loss.\n"
     ]
    },
    {
     "name": "stderr",
     "output_type": "stream",
     "text": [
      "100%|██████████| 36/36 [00:10<00:00,  3.55it/s]\n",
      "  0%|          | 0/144 [00:10<?, ?it/s]\n"
     ]
    },
    {
     "name": "stdout",
     "output_type": "stream",
     "text": [
      "Epoch [93], Train Loss : [0.35606] Val Loss : [0.32187]\n",
      "Epoch 00150: reducing learning rate of group 0 to 1.8311e-08.\n",
      "Early stopping triggered! No improvement in validation loss.\n"
     ]
    },
    {
     "name": "stderr",
     "output_type": "stream",
     "text": [
      "100%|██████████| 36/36 [00:10<00:00,  3.55it/s]\n",
      "  0%|          | 0/144 [00:10<?, ?it/s]\n"
     ]
    },
    {
     "name": "stdout",
     "output_type": "stream",
     "text": [
      "Epoch [94], Train Loss : [0.38056] Val Loss : [0.32131]\n",
      "Early stopping triggered! No improvement in validation loss.\n"
     ]
    },
    {
     "name": "stderr",
     "output_type": "stream",
     "text": [
      "100%|██████████| 36/36 [00:10<00:00,  3.53it/s]\n",
      "  0%|          | 0/144 [00:10<?, ?it/s]\n"
     ]
    },
    {
     "name": "stdout",
     "output_type": "stream",
     "text": [
      "Epoch [95], Train Loss : [0.35723] Val Loss : [0.32165]\n",
      "Early stopping triggered! No improvement in validation loss.\n"
     ]
    },
    {
     "name": "stderr",
     "output_type": "stream",
     "text": [
      "100%|██████████| 36/36 [00:10<00:00,  3.53it/s]\n",
      "  0%|          | 0/144 [00:10<?, ?it/s]\n"
     ]
    },
    {
     "name": "stdout",
     "output_type": "stream",
     "text": [
      "Epoch [96], Train Loss : [0.33464] Val Loss : [0.32202]\n",
      "Early stopping triggered! No improvement in validation loss.\n"
     ]
    },
    {
     "name": "stderr",
     "output_type": "stream",
     "text": [
      "100%|██████████| 36/36 [00:10<00:00,  3.39it/s]\n",
      "  0%|          | 0/144 [00:11<?, ?it/s]\n"
     ]
    },
    {
     "name": "stdout",
     "output_type": "stream",
     "text": [
      "Epoch [97], Train Loss : [0.40757] Val Loss : [0.32135]\n",
      "Early stopping triggered! No improvement in validation loss.\n"
     ]
    },
    {
     "name": "stderr",
     "output_type": "stream",
     "text": [
      "100%|██████████| 36/36 [00:10<00:00,  3.54it/s]\n",
      "  0%|          | 0/144 [00:10<?, ?it/s]\n"
     ]
    },
    {
     "name": "stdout",
     "output_type": "stream",
     "text": [
      "Epoch [98], Train Loss : [0.31527] Val Loss : [0.31992]\n",
      "Early stopping triggered! No improvement in validation loss.\n"
     ]
    },
    {
     "name": "stderr",
     "output_type": "stream",
     "text": [
      "100%|██████████| 36/36 [00:10<00:00,  3.44it/s]\n",
      "  0%|          | 0/144 [00:10<?, ?it/s]\n"
     ]
    },
    {
     "name": "stdout",
     "output_type": "stream",
     "text": [
      "Epoch [99], Train Loss : [0.41243] Val Loss : [0.31726]\n",
      "Early stopping triggered! No improvement in validation loss.\n"
     ]
    },
    {
     "name": "stderr",
     "output_type": "stream",
     "text": [
      "100%|██████████| 36/36 [00:10<00:00,  3.56it/s]\n",
      "  0%|          | 0/144 [00:10<?, ?it/s]\n"
     ]
    },
    {
     "name": "stdout",
     "output_type": "stream",
     "text": [
      "Epoch [100], Train Loss : [0.36071] Val Loss : [0.31691]\n",
      "Early stopping triggered! No improvement in validation loss.\n"
     ]
    },
    {
     "name": "stderr",
     "output_type": "stream",
     "text": [
      "100%|██████████| 36/36 [00:10<00:00,  3.36it/s]\n"
     ]
    },
    {
     "name": "stdout",
     "output_type": "stream",
     "text": [
      "Validation Loss: 0.31690553741322625\n"
     ]
    },
    {
     "name": "stderr",
     "output_type": "stream",
     "text": [
      "100%|██████████| 25/25 [00:07<00:00,  3.38it/s]\n"
     ]
    },
    {
     "name": "stdout",
     "output_type": "stream",
     "text": [
      "Fold: 2\n"
     ]
    },
    {
     "name": "stderr",
     "output_type": "stream",
     "text": [
      "100%|██████████| 36/36 [00:10<00:00,  3.42it/s]\n",
      "  1%|          | 1/144 [00:11<26:35, 11.16s/it]"
     ]
    },
    {
     "name": "stdout",
     "output_type": "stream",
     "text": [
      "Epoch [1], Train Loss : [1.17501] Val Loss : [1.16990]\n"
     ]
    },
    {
     "name": "stderr",
     "output_type": "stream",
     "text": [
      "100%|██████████| 36/36 [00:10<00:00,  3.57it/s]\n",
      "  1%|▏         | 2/144 [00:21<25:42, 10.86s/it]"
     ]
    },
    {
     "name": "stdout",
     "output_type": "stream",
     "text": [
      "Epoch [1], Train Loss : [1.14163] Val Loss : [0.70256]\n"
     ]
    },
    {
     "name": "stderr",
     "output_type": "stream",
     "text": [
      "100%|██████████| 36/36 [00:10<00:00,  3.57it/s]\n",
      "  2%|▏         | 3/144 [00:32<25:18, 10.77s/it]"
     ]
    },
    {
     "name": "stdout",
     "output_type": "stream",
     "text": [
      "Epoch [1], Train Loss : [0.97451] Val Loss : [0.66351]\n"
     ]
    },
    {
     "name": "stderr",
     "output_type": "stream",
     "text": [
      "100%|██████████| 36/36 [00:10<00:00,  3.57it/s]\n",
      "  3%|▎         | 4/144 [00:43<24:59, 10.71s/it]"
     ]
    },
    {
     "name": "stdout",
     "output_type": "stream",
     "text": [
      "Epoch [1], Train Loss : [0.90250] Val Loss : [0.63894]\n"
     ]
    },
    {
     "name": "stderr",
     "output_type": "stream",
     "text": [
      "100%|██████████| 36/36 [00:10<00:00,  3.57it/s]\n",
      "  3%|▎         | 5/144 [00:53<24:41, 10.66s/it]"
     ]
    },
    {
     "name": "stdout",
     "output_type": "stream",
     "text": [
      "Epoch [1], Train Loss : [0.86589] Val Loss : [0.75252]\n"
     ]
    },
    {
     "name": "stderr",
     "output_type": "stream",
     "text": [
      "100%|██████████| 36/36 [00:10<00:00,  3.51it/s]\n",
      "  4%|▍         | 6/144 [01:04<24:34, 10.69s/it]"
     ]
    },
    {
     "name": "stdout",
     "output_type": "stream",
     "text": [
      "Epoch [1], Train Loss : [0.83922] Val Loss : [0.70810]\n"
     ]
    },
    {
     "name": "stderr",
     "output_type": "stream",
     "text": [
      "100%|██████████| 36/36 [00:10<00:00,  3.53it/s]\n",
      "  5%|▍         | 7/144 [01:15<24:27, 10.71s/it]"
     ]
    },
    {
     "name": "stdout",
     "output_type": "stream",
     "text": [
      "Epoch [1], Train Loss : [0.81965] Val Loss : [0.54647]\n"
     ]
    },
    {
     "name": "stderr",
     "output_type": "stream",
     "text": [
      "100%|██████████| 36/36 [00:10<00:00,  3.57it/s]\n",
      "  6%|▌         | 8/144 [01:25<24:12, 10.68s/it]"
     ]
    },
    {
     "name": "stdout",
     "output_type": "stream",
     "text": [
      "Epoch [1], Train Loss : [0.77572] Val Loss : [0.58161]\n"
     ]
    },
    {
     "name": "stderr",
     "output_type": "stream",
     "text": [
      "100%|██████████| 36/36 [00:10<00:00,  3.56it/s]\n",
      "  6%|▋         | 9/144 [01:36<24:00, 10.67s/it]"
     ]
    },
    {
     "name": "stdout",
     "output_type": "stream",
     "text": [
      "Epoch [1], Train Loss : [0.74853] Val Loss : [0.54785]\n"
     ]
    },
    {
     "name": "stderr",
     "output_type": "stream",
     "text": [
      "100%|██████████| 36/36 [00:10<00:00,  3.55it/s]\n",
      "  7%|▋         | 10/144 [01:47<23:51, 10.69s/it]"
     ]
    },
    {
     "name": "stdout",
     "output_type": "stream",
     "text": [
      "Epoch [1], Train Loss : [0.72691] Val Loss : [0.54013]\n"
     ]
    },
    {
     "name": "stderr",
     "output_type": "stream",
     "text": [
      "100%|██████████| 36/36 [00:10<00:00,  3.58it/s]\n",
      "  8%|▊         | 11/144 [01:57<23:37, 10.66s/it]"
     ]
    },
    {
     "name": "stdout",
     "output_type": "stream",
     "text": [
      "Epoch [1], Train Loss : [0.70832] Val Loss : [0.64239]\n"
     ]
    },
    {
     "name": "stderr",
     "output_type": "stream",
     "text": [
      "100%|██████████| 36/36 [00:10<00:00,  3.56it/s]\n",
      "  8%|▊         | 12/144 [02:08<23:24, 10.64s/it]"
     ]
    },
    {
     "name": "stdout",
     "output_type": "stream",
     "text": [
      "Epoch [1], Train Loss : [0.70019] Val Loss : [0.57667]\n"
     ]
    },
    {
     "name": "stderr",
     "output_type": "stream",
     "text": [
      "100%|██████████| 36/36 [00:10<00:00,  3.58it/s]\n",
      "  9%|▉         | 13/144 [02:18<23:14, 10.65s/it]"
     ]
    },
    {
     "name": "stdout",
     "output_type": "stream",
     "text": [
      "Epoch [1], Train Loss : [0.68221] Val Loss : [0.44570]\n"
     ]
    },
    {
     "name": "stderr",
     "output_type": "stream",
     "text": [
      "100%|██████████| 36/36 [00:10<00:00,  3.57it/s]\n",
      " 10%|▉         | 14/144 [02:29<23:04, 10.65s/it]"
     ]
    },
    {
     "name": "stdout",
     "output_type": "stream",
     "text": [
      "Epoch [1], Train Loss : [0.67509] Val Loss : [0.43948]\n"
     ]
    },
    {
     "name": "stderr",
     "output_type": "stream",
     "text": [
      "100%|██████████| 36/36 [00:10<00:00,  3.54it/s]\n",
      " 10%|█         | 15/144 [02:40<22:54, 10.66s/it]"
     ]
    },
    {
     "name": "stdout",
     "output_type": "stream",
     "text": [
      "Epoch [1], Train Loss : [0.66600] Val Loss : [0.43615]\n"
     ]
    },
    {
     "name": "stderr",
     "output_type": "stream",
     "text": [
      "100%|██████████| 36/36 [00:10<00:00,  3.58it/s]\n",
      " 11%|█         | 16/144 [02:50<22:43, 10.65s/it]"
     ]
    },
    {
     "name": "stdout",
     "output_type": "stream",
     "text": [
      "Epoch [1], Train Loss : [0.65826] Val Loss : [0.41332]\n"
     ]
    },
    {
     "name": "stderr",
     "output_type": "stream",
     "text": [
      "100%|██████████| 36/36 [00:10<00:00,  3.56it/s]\n",
      " 12%|█▏        | 17/144 [03:01<22:32, 10.65s/it]"
     ]
    },
    {
     "name": "stdout",
     "output_type": "stream",
     "text": [
      "Epoch [1], Train Loss : [0.63859] Val Loss : [0.47030]\n"
     ]
    },
    {
     "name": "stderr",
     "output_type": "stream",
     "text": [
      "100%|██████████| 36/36 [00:10<00:00,  3.56it/s]\n",
      " 12%|█▎        | 18/144 [03:12<22:20, 10.64s/it]"
     ]
    },
    {
     "name": "stdout",
     "output_type": "stream",
     "text": [
      "Epoch [1], Train Loss : [0.62584] Val Loss : [0.43886]\n"
     ]
    },
    {
     "name": "stderr",
     "output_type": "stream",
     "text": [
      "100%|██████████| 36/36 [00:10<00:00,  3.53it/s]\n",
      " 13%|█▎        | 19/144 [03:22<22:13, 10.67s/it]"
     ]
    },
    {
     "name": "stdout",
     "output_type": "stream",
     "text": [
      "Epoch [1], Train Loss : [0.62013] Val Loss : [0.38980]\n"
     ]
    },
    {
     "name": "stderr",
     "output_type": "stream",
     "text": [
      "100%|██████████| 36/36 [00:10<00:00,  3.57it/s]\n",
      " 14%|█▍        | 20/144 [03:33<22:03, 10.67s/it]"
     ]
    },
    {
     "name": "stdout",
     "output_type": "stream",
     "text": [
      "Epoch [1], Train Loss : [0.60454] Val Loss : [0.36640]\n"
     ]
    },
    {
     "name": "stderr",
     "output_type": "stream",
     "text": [
      "100%|██████████| 36/36 [00:10<00:00,  3.55it/s]\n",
      " 15%|█▍        | 21/144 [03:44<21:51, 10.66s/it]"
     ]
    },
    {
     "name": "stdout",
     "output_type": "stream",
     "text": [
      "Epoch [1], Train Loss : [0.59562] Val Loss : [0.35844]\n"
     ]
    },
    {
     "name": "stderr",
     "output_type": "stream",
     "text": [
      "100%|██████████| 36/36 [00:10<00:00,  3.47it/s]\n",
      " 15%|█▌        | 22/144 [03:55<21:48, 10.73s/it]"
     ]
    },
    {
     "name": "stdout",
     "output_type": "stream",
     "text": [
      "Epoch [1], Train Loss : [0.58387] Val Loss : [0.36336]\n"
     ]
    },
    {
     "name": "stderr",
     "output_type": "stream",
     "text": [
      "100%|██████████| 36/36 [00:10<00:00,  3.56it/s]\n",
      " 16%|█▌        | 23/144 [04:05<21:34, 10.70s/it]"
     ]
    },
    {
     "name": "stdout",
     "output_type": "stream",
     "text": [
      "Epoch [1], Train Loss : [0.57507] Val Loss : [0.36050]\n"
     ]
    },
    {
     "name": "stderr",
     "output_type": "stream",
     "text": [
      "100%|██████████| 36/36 [00:10<00:00,  3.55it/s]\n",
      " 17%|█▋        | 24/144 [04:16<21:23, 10.70s/it]"
     ]
    },
    {
     "name": "stdout",
     "output_type": "stream",
     "text": [
      "Epoch [1], Train Loss : [0.56324] Val Loss : [0.35267]\n"
     ]
    },
    {
     "name": "stderr",
     "output_type": "stream",
     "text": [
      "100%|██████████| 36/36 [00:10<00:00,  3.51it/s]\n",
      " 17%|█▋        | 25/144 [04:27<21:16, 10.73s/it]"
     ]
    },
    {
     "name": "stdout",
     "output_type": "stream",
     "text": [
      "Epoch [1], Train Loss : [0.55610] Val Loss : [0.34598]\n"
     ]
    },
    {
     "name": "stderr",
     "output_type": "stream",
     "text": [
      "100%|██████████| 36/36 [00:10<00:00,  3.57it/s]\n",
      " 18%|█▊        | 26/144 [04:37<21:03, 10.70s/it]"
     ]
    },
    {
     "name": "stdout",
     "output_type": "stream",
     "text": [
      "Epoch [1], Train Loss : [0.54733] Val Loss : [0.33816]\n"
     ]
    },
    {
     "name": "stderr",
     "output_type": "stream",
     "text": [
      "100%|██████████| 36/36 [00:10<00:00,  3.56it/s]\n",
      " 19%|█▉        | 27/144 [04:48<20:51, 10.70s/it]"
     ]
    },
    {
     "name": "stdout",
     "output_type": "stream",
     "text": [
      "Epoch [1], Train Loss : [0.54203] Val Loss : [0.33011]\n"
     ]
    },
    {
     "name": "stderr",
     "output_type": "stream",
     "text": [
      "100%|██████████| 36/36 [00:10<00:00,  3.55it/s]\n",
      " 19%|█▉        | 28/144 [04:59<20:38, 10.68s/it]"
     ]
    },
    {
     "name": "stdout",
     "output_type": "stream",
     "text": [
      "Epoch [1], Train Loss : [0.53407] Val Loss : [0.33405]\n"
     ]
    },
    {
     "name": "stderr",
     "output_type": "stream",
     "text": [
      "100%|██████████| 36/36 [00:10<00:00,  3.57it/s]\n",
      " 20%|██        | 29/144 [05:09<20:27, 10.67s/it]"
     ]
    },
    {
     "name": "stdout",
     "output_type": "stream",
     "text": [
      "Epoch [1], Train Loss : [0.53242] Val Loss : [0.32618]\n"
     ]
    },
    {
     "name": "stderr",
     "output_type": "stream",
     "text": [
      "100%|██████████| 36/36 [00:10<00:00,  3.56it/s]\n",
      " 21%|██        | 30/144 [05:20<20:17, 10.68s/it]"
     ]
    },
    {
     "name": "stdout",
     "output_type": "stream",
     "text": [
      "Epoch [1], Train Loss : [0.52512] Val Loss : [0.32321]\n"
     ]
    },
    {
     "name": "stderr",
     "output_type": "stream",
     "text": [
      "100%|██████████| 36/36 [00:10<00:00,  3.56it/s]\n",
      " 22%|██▏       | 31/144 [05:31<20:05, 10.66s/it]"
     ]
    },
    {
     "name": "stdout",
     "output_type": "stream",
     "text": [
      "Epoch [1], Train Loss : [0.51618] Val Loss : [0.31632]\n"
     ]
    },
    {
     "name": "stderr",
     "output_type": "stream",
     "text": [
      "100%|██████████| 36/36 [00:10<00:00,  3.47it/s]\n",
      " 22%|██▏       | 32/144 [05:42<20:02, 10.74s/it]"
     ]
    },
    {
     "name": "stdout",
     "output_type": "stream",
     "text": [
      "Epoch [1], Train Loss : [0.51106] Val Loss : [0.31097]\n"
     ]
    },
    {
     "name": "stderr",
     "output_type": "stream",
     "text": [
      "100%|██████████| 36/36 [00:10<00:00,  3.58it/s]\n",
      " 23%|██▎       | 33/144 [05:52<19:47, 10.69s/it]"
     ]
    },
    {
     "name": "stdout",
     "output_type": "stream",
     "text": [
      "Epoch [1], Train Loss : [0.50541] Val Loss : [0.29411]\n"
     ]
    },
    {
     "name": "stderr",
     "output_type": "stream",
     "text": [
      "100%|██████████| 36/36 [00:10<00:00,  3.52it/s]\n",
      " 24%|██▎       | 34/144 [06:03<19:39, 10.72s/it]"
     ]
    },
    {
     "name": "stdout",
     "output_type": "stream",
     "text": [
      "Epoch [1], Train Loss : [0.49972] Val Loss : [0.28540]\n"
     ]
    },
    {
     "name": "stderr",
     "output_type": "stream",
     "text": [
      "100%|██████████| 36/36 [00:10<00:00,  3.54it/s]\n",
      " 24%|██▍       | 35/144 [06:14<19:28, 10.72s/it]"
     ]
    },
    {
     "name": "stdout",
     "output_type": "stream",
     "text": [
      "Epoch [1], Train Loss : [0.49376] Val Loss : [0.28566]\n"
     ]
    },
    {
     "name": "stderr",
     "output_type": "stream",
     "text": [
      "100%|██████████| 36/36 [00:10<00:00,  3.43it/s]\n",
      " 25%|██▌       | 36/144 [06:25<19:26, 10.80s/it]"
     ]
    },
    {
     "name": "stdout",
     "output_type": "stream",
     "text": [
      "Epoch [1], Train Loss : [0.48640] Val Loss : [0.30095]\n"
     ]
    },
    {
     "name": "stderr",
     "output_type": "stream",
     "text": [
      "100%|██████████| 36/36 [00:10<00:00,  3.55it/s]\n",
      " 26%|██▌       | 37/144 [06:35<19:11, 10.76s/it]"
     ]
    },
    {
     "name": "stdout",
     "output_type": "stream",
     "text": [
      "Epoch [1], Train Loss : [0.48024] Val Loss : [0.31365]\n"
     ]
    },
    {
     "name": "stderr",
     "output_type": "stream",
     "text": [
      "100%|██████████| 36/36 [00:10<00:00,  3.53it/s]\n",
      " 26%|██▋       | 38/144 [06:46<18:59, 10.75s/it]"
     ]
    },
    {
     "name": "stdout",
     "output_type": "stream",
     "text": [
      "Epoch [1], Train Loss : [0.47642] Val Loss : [0.29929]\n"
     ]
    },
    {
     "name": "stderr",
     "output_type": "stream",
     "text": [
      "100%|██████████| 36/36 [00:10<00:00,  3.56it/s]\n",
      " 27%|██▋       | 39/144 [06:57<18:47, 10.74s/it]"
     ]
    },
    {
     "name": "stdout",
     "output_type": "stream",
     "text": [
      "Epoch [1], Train Loss : [0.47402] Val Loss : [0.28318]\n"
     ]
    },
    {
     "name": "stderr",
     "output_type": "stream",
     "text": [
      "100%|██████████| 36/36 [00:10<00:00,  3.55it/s]\n",
      " 28%|██▊       | 40/144 [07:08<18:34, 10.72s/it]"
     ]
    },
    {
     "name": "stdout",
     "output_type": "stream",
     "text": [
      "Epoch [1], Train Loss : [0.46967] Val Loss : [0.26369]\n"
     ]
    },
    {
     "name": "stderr",
     "output_type": "stream",
     "text": [
      "100%|██████████| 36/36 [00:10<00:00,  3.47it/s]\n",
      " 28%|██▊       | 41/144 [07:18<18:30, 10.78s/it]"
     ]
    },
    {
     "name": "stdout",
     "output_type": "stream",
     "text": [
      "Epoch [1], Train Loss : [0.46282] Val Loss : [0.24834]\n"
     ]
    },
    {
     "name": "stderr",
     "output_type": "stream",
     "text": [
      "100%|██████████| 36/36 [00:10<00:00,  3.57it/s]\n",
      " 29%|██▉       | 42/144 [07:29<18:15, 10.74s/it]"
     ]
    },
    {
     "name": "stdout",
     "output_type": "stream",
     "text": [
      "Epoch [1], Train Loss : [0.45529] Val Loss : [0.24449]\n"
     ]
    },
    {
     "name": "stderr",
     "output_type": "stream",
     "text": [
      "100%|██████████| 36/36 [00:10<00:00,  3.57it/s]\n",
      " 30%|██▉       | 43/144 [07:40<17:58, 10.68s/it]"
     ]
    },
    {
     "name": "stdout",
     "output_type": "stream",
     "text": [
      "Epoch [1], Train Loss : [0.45015] Val Loss : [0.24934]\n"
     ]
    },
    {
     "name": "stderr",
     "output_type": "stream",
     "text": [
      "100%|██████████| 36/36 [00:10<00:00,  3.57it/s]\n",
      " 31%|███       | 44/144 [07:50<17:47, 10.67s/it]"
     ]
    },
    {
     "name": "stdout",
     "output_type": "stream",
     "text": [
      "Epoch [1], Train Loss : [0.44653] Val Loss : [0.24282]\n"
     ]
    },
    {
     "name": "stderr",
     "output_type": "stream",
     "text": [
      "100%|██████████| 36/36 [00:10<00:00,  3.54it/s]\n",
      " 31%|███▏      | 45/144 [08:01<17:36, 10.67s/it]"
     ]
    },
    {
     "name": "stdout",
     "output_type": "stream",
     "text": [
      "Epoch [1], Train Loss : [0.44165] Val Loss : [0.23893]\n"
     ]
    },
    {
     "name": "stderr",
     "output_type": "stream",
     "text": [
      "100%|██████████| 36/36 [00:10<00:00,  3.51it/s]\n",
      " 32%|███▏      | 46/144 [08:12<17:29, 10.71s/it]"
     ]
    },
    {
     "name": "stdout",
     "output_type": "stream",
     "text": [
      "Epoch [1], Train Loss : [0.43630] Val Loss : [0.23973]\n"
     ]
    },
    {
     "name": "stderr",
     "output_type": "stream",
     "text": [
      "100%|██████████| 36/36 [00:10<00:00,  3.52it/s]\n",
      " 33%|███▎      | 47/144 [08:23<17:22, 10.75s/it]"
     ]
    },
    {
     "name": "stdout",
     "output_type": "stream",
     "text": [
      "Epoch [1], Train Loss : [0.43326] Val Loss : [0.23414]\n"
     ]
    },
    {
     "name": "stderr",
     "output_type": "stream",
     "text": [
      "100%|██████████| 36/36 [00:10<00:00,  3.56it/s]\n",
      " 33%|███▎      | 48/144 [08:33<17:09, 10.73s/it]"
     ]
    },
    {
     "name": "stdout",
     "output_type": "stream",
     "text": [
      "Epoch [1], Train Loss : [0.42953] Val Loss : [0.22358]\n"
     ]
    },
    {
     "name": "stderr",
     "output_type": "stream",
     "text": [
      "100%|██████████| 36/36 [00:10<00:00,  3.57it/s]\n",
      " 34%|███▍      | 49/144 [08:44<16:54, 10.68s/it]"
     ]
    },
    {
     "name": "stdout",
     "output_type": "stream",
     "text": [
      "Epoch [1], Train Loss : [0.42643] Val Loss : [0.22131]\n"
     ]
    },
    {
     "name": "stderr",
     "output_type": "stream",
     "text": [
      "100%|██████████| 36/36 [00:10<00:00,  3.56it/s]\n",
      " 35%|███▍      | 50/144 [08:54<16:42, 10.66s/it]"
     ]
    },
    {
     "name": "stdout",
     "output_type": "stream",
     "text": [
      "Epoch [1], Train Loss : [0.42409] Val Loss : [0.21891]\n"
     ]
    },
    {
     "name": "stderr",
     "output_type": "stream",
     "text": [
      "100%|██████████| 36/36 [00:10<00:00,  3.48it/s]\n",
      " 35%|███▌      | 51/144 [09:05<16:38, 10.74s/it]"
     ]
    },
    {
     "name": "stdout",
     "output_type": "stream",
     "text": [
      "Epoch [1], Train Loss : [0.41924] Val Loss : [0.21421]\n"
     ]
    },
    {
     "name": "stderr",
     "output_type": "stream",
     "text": [
      "100%|██████████| 36/36 [00:10<00:00,  3.57it/s]\n",
      " 36%|███▌      | 52/144 [09:16<16:24, 10.71s/it]"
     ]
    },
    {
     "name": "stdout",
     "output_type": "stream",
     "text": [
      "Epoch [1], Train Loss : [0.41415] Val Loss : [0.21168]\n"
     ]
    },
    {
     "name": "stderr",
     "output_type": "stream",
     "text": [
      "100%|██████████| 36/36 [00:10<00:00,  3.57it/s]\n",
      " 37%|███▋      | 53/144 [09:27<16:12, 10.69s/it]"
     ]
    },
    {
     "name": "stdout",
     "output_type": "stream",
     "text": [
      "Epoch [1], Train Loss : [0.41043] Val Loss : [0.20592]\n"
     ]
    },
    {
     "name": "stderr",
     "output_type": "stream",
     "text": [
      "100%|██████████| 36/36 [00:10<00:00,  3.28it/s]\n",
      " 38%|███▊      | 54/144 [09:38<16:25, 10.95s/it]"
     ]
    },
    {
     "name": "stdout",
     "output_type": "stream",
     "text": [
      "Epoch [1], Train Loss : [0.40709] Val Loss : [0.20403]\n"
     ]
    },
    {
     "name": "stderr",
     "output_type": "stream",
     "text": [
      "100%|██████████| 36/36 [00:10<00:00,  3.47it/s]\n",
      " 38%|███▊      | 55/144 [09:49<16:13, 10.94s/it]"
     ]
    },
    {
     "name": "stdout",
     "output_type": "stream",
     "text": [
      "Epoch [1], Train Loss : [0.40347] Val Loss : [0.20256]\n"
     ]
    },
    {
     "name": "stderr",
     "output_type": "stream",
     "text": [
      "100%|██████████| 36/36 [00:10<00:00,  3.52it/s]\n",
      " 39%|███▉      | 56/144 [10:00<15:59, 10.91s/it]"
     ]
    },
    {
     "name": "stdout",
     "output_type": "stream",
     "text": [
      "Epoch [1], Train Loss : [0.39937] Val Loss : [0.19832]\n"
     ]
    },
    {
     "name": "stderr",
     "output_type": "stream",
     "text": [
      "100%|██████████| 36/36 [00:10<00:00,  3.50it/s]\n",
      " 40%|███▉      | 57/144 [10:11<15:47, 10.89s/it]"
     ]
    },
    {
     "name": "stdout",
     "output_type": "stream",
     "text": [
      "Epoch [1], Train Loss : [0.39577] Val Loss : [0.19831]\n"
     ]
    },
    {
     "name": "stderr",
     "output_type": "stream",
     "text": [
      "100%|██████████| 36/36 [00:10<00:00,  3.52it/s]\n",
      " 40%|████      | 58/144 [10:22<15:32, 10.84s/it]"
     ]
    },
    {
     "name": "stdout",
     "output_type": "stream",
     "text": [
      "Epoch [1], Train Loss : [0.39412] Val Loss : [0.19986]\n"
     ]
    },
    {
     "name": "stderr",
     "output_type": "stream",
     "text": [
      "100%|██████████| 36/36 [00:10<00:00,  3.52it/s]\n",
      " 41%|████      | 59/144 [10:32<15:20, 10.83s/it]"
     ]
    },
    {
     "name": "stdout",
     "output_type": "stream",
     "text": [
      "Epoch [1], Train Loss : [0.39083] Val Loss : [0.19638]\n"
     ]
    },
    {
     "name": "stderr",
     "output_type": "stream",
     "text": [
      "100%|██████████| 36/36 [00:10<00:00,  3.51it/s]\n",
      " 42%|████▏     | 60/144 [10:43<15:09, 10.83s/it]"
     ]
    },
    {
     "name": "stdout",
     "output_type": "stream",
     "text": [
      "Epoch [1], Train Loss : [0.38885] Val Loss : [0.18243]\n"
     ]
    },
    {
     "name": "stderr",
     "output_type": "stream",
     "text": [
      "100%|██████████| 36/36 [00:10<00:00,  3.52it/s]\n",
      " 42%|████▏     | 61/144 [10:54<14:57, 10.81s/it]"
     ]
    },
    {
     "name": "stdout",
     "output_type": "stream",
     "text": [
      "Epoch [1], Train Loss : [0.38598] Val Loss : [0.17493]\n"
     ]
    },
    {
     "name": "stderr",
     "output_type": "stream",
     "text": [
      "100%|██████████| 36/36 [00:10<00:00,  3.51it/s]\n",
      " 43%|████▎     | 62/144 [11:05<14:46, 10.80s/it]"
     ]
    },
    {
     "name": "stdout",
     "output_type": "stream",
     "text": [
      "Epoch [1], Train Loss : [0.38304] Val Loss : [0.17871]\n"
     ]
    },
    {
     "name": "stderr",
     "output_type": "stream",
     "text": [
      "100%|██████████| 36/36 [00:10<00:00,  3.51it/s]\n",
      " 44%|████▍     | 63/144 [11:16<14:34, 10.80s/it]"
     ]
    },
    {
     "name": "stdout",
     "output_type": "stream",
     "text": [
      "Epoch [1], Train Loss : [0.38027] Val Loss : [0.18730]\n"
     ]
    },
    {
     "name": "stderr",
     "output_type": "stream",
     "text": [
      "100%|██████████| 36/36 [00:10<00:00,  3.50it/s]\n",
      " 44%|████▍     | 64/144 [11:26<14:24, 10.81s/it]"
     ]
    },
    {
     "name": "stdout",
     "output_type": "stream",
     "text": [
      "Epoch [1], Train Loss : [0.37714] Val Loss : [0.19450]\n"
     ]
    },
    {
     "name": "stderr",
     "output_type": "stream",
     "text": [
      "100%|██████████| 36/36 [00:10<00:00,  3.52it/s]\n",
      " 45%|████▌     | 65/144 [11:37<14:12, 10.79s/it]"
     ]
    },
    {
     "name": "stdout",
     "output_type": "stream",
     "text": [
      "Epoch [1], Train Loss : [0.37456] Val Loss : [0.19693]\n"
     ]
    },
    {
     "name": "stderr",
     "output_type": "stream",
     "text": [
      "100%|██████████| 36/36 [00:10<00:00,  3.50it/s]\n",
      " 46%|████▌     | 66/144 [11:48<14:02, 10.80s/it]"
     ]
    },
    {
     "name": "stdout",
     "output_type": "stream",
     "text": [
      "Epoch [1], Train Loss : [0.37228] Val Loss : [0.19750]\n"
     ]
    },
    {
     "name": "stderr",
     "output_type": "stream",
     "text": [
      "100%|██████████| 36/36 [00:10<00:00,  3.51it/s]\n",
      " 46%|████▌     | 66/144 [11:59<14:09, 10.90s/it]\n"
     ]
    },
    {
     "name": "stdout",
     "output_type": "stream",
     "text": [
      "Epoch [1], Train Loss : [0.36932] Val Loss : [0.18773]\n",
      "Early stopping triggered! No improvement in validation loss.\n"
     ]
    },
    {
     "name": "stderr",
     "output_type": "stream",
     "text": [
      "100%|██████████| 36/36 [00:10<00:00,  3.52it/s]\n",
      "  0%|          | 0/144 [00:10<?, ?it/s]\n"
     ]
    },
    {
     "name": "stdout",
     "output_type": "stream",
     "text": [
      "Epoch [2], Train Loss : [0.56828] Val Loss : [0.18296]\n",
      "Epoch 00068: reducing learning rate of group 0 to 1.5000e-04.\n",
      "Early stopping triggered! No improvement in validation loss.\n"
     ]
    },
    {
     "name": "stderr",
     "output_type": "stream",
     "text": [
      "100%|██████████| 36/36 [00:10<00:00,  3.52it/s]\n",
      "  0%|          | 0/144 [00:10<?, ?it/s]\n"
     ]
    },
    {
     "name": "stdout",
     "output_type": "stream",
     "text": [
      "Epoch [3], Train Loss : [0.58329] Val Loss : [0.18477]\n",
      "Early stopping triggered! No improvement in validation loss.\n"
     ]
    },
    {
     "name": "stderr",
     "output_type": "stream",
     "text": [
      "100%|██████████| 36/36 [00:10<00:00,  3.52it/s]\n",
      "  0%|          | 0/144 [00:10<?, ?it/s]\n"
     ]
    },
    {
     "name": "stdout",
     "output_type": "stream",
     "text": [
      "Epoch [4], Train Loss : [0.66833] Val Loss : [0.19056]\n",
      "Early stopping triggered! No improvement in validation loss.\n"
     ]
    },
    {
     "name": "stderr",
     "output_type": "stream",
     "text": [
      "100%|██████████| 36/36 [00:10<00:00,  3.41it/s]\n",
      "  0%|          | 0/144 [00:11<?, ?it/s]\n"
     ]
    },
    {
     "name": "stdout",
     "output_type": "stream",
     "text": [
      "Epoch [5], Train Loss : [0.53188] Val Loss : [0.19825]\n",
      "Early stopping triggered! No improvement in validation loss.\n"
     ]
    },
    {
     "name": "stderr",
     "output_type": "stream",
     "text": [
      "100%|██████████| 36/36 [00:10<00:00,  3.51it/s]\n",
      "  0%|          | 0/144 [00:10<?, ?it/s]\n"
     ]
    },
    {
     "name": "stdout",
     "output_type": "stream",
     "text": [
      "Epoch [6], Train Loss : [0.54751] Val Loss : [0.20653]\n",
      "Early stopping triggered! No improvement in validation loss.\n"
     ]
    },
    {
     "name": "stderr",
     "output_type": "stream",
     "text": [
      "100%|██████████| 36/36 [00:10<00:00,  3.51it/s]\n",
      "  0%|          | 0/144 [00:10<?, ?it/s]\n"
     ]
    },
    {
     "name": "stdout",
     "output_type": "stream",
     "text": [
      "Epoch [7], Train Loss : [0.35365] Val Loss : [0.21494]\n",
      "Early stopping triggered! No improvement in validation loss.\n"
     ]
    },
    {
     "name": "stderr",
     "output_type": "stream",
     "text": [
      "100%|██████████| 36/36 [00:10<00:00,  3.49it/s]\n",
      "  0%|          | 0/144 [00:10<?, ?it/s]\n"
     ]
    },
    {
     "name": "stdout",
     "output_type": "stream",
     "text": [
      "Epoch [8], Train Loss : [0.52070] Val Loss : [0.22186]\n",
      "Early stopping triggered! No improvement in validation loss.\n"
     ]
    },
    {
     "name": "stderr",
     "output_type": "stream",
     "text": [
      "100%|██████████| 36/36 [00:10<00:00,  3.50it/s]\n",
      "  0%|          | 0/144 [00:10<?, ?it/s]\n"
     ]
    },
    {
     "name": "stdout",
     "output_type": "stream",
     "text": [
      "Epoch [9], Train Loss : [0.47267] Val Loss : [0.22868]\n",
      "Epoch 00075: reducing learning rate of group 0 to 7.5000e-05.\n",
      "Early stopping triggered! No improvement in validation loss.\n"
     ]
    },
    {
     "name": "stderr",
     "output_type": "stream",
     "text": [
      "100%|██████████| 36/36 [00:10<00:00,  3.51it/s]\n",
      "  0%|          | 0/144 [00:10<?, ?it/s]\n"
     ]
    },
    {
     "name": "stdout",
     "output_type": "stream",
     "text": [
      "Epoch [10], Train Loss : [0.42719] Val Loss : [0.23867]\n",
      "Early stopping triggered! No improvement in validation loss.\n"
     ]
    },
    {
     "name": "stderr",
     "output_type": "stream",
     "text": [
      "100%|██████████| 36/36 [00:10<00:00,  3.51it/s]\n",
      "  0%|          | 0/144 [00:10<?, ?it/s]\n"
     ]
    },
    {
     "name": "stdout",
     "output_type": "stream",
     "text": [
      "Epoch [11], Train Loss : [0.38984] Val Loss : [0.24629]\n",
      "Early stopping triggered! No improvement in validation loss.\n"
     ]
    },
    {
     "name": "stderr",
     "output_type": "stream",
     "text": [
      "100%|██████████| 36/36 [00:10<00:00,  3.52it/s]\n",
      "  0%|          | 0/144 [00:10<?, ?it/s]\n"
     ]
    },
    {
     "name": "stdout",
     "output_type": "stream",
     "text": [
      "Epoch [12], Train Loss : [0.50308] Val Loss : [0.25248]\n",
      "Early stopping triggered! No improvement in validation loss.\n"
     ]
    },
    {
     "name": "stderr",
     "output_type": "stream",
     "text": [
      "100%|██████████| 36/36 [00:10<00:00,  3.51it/s]\n",
      "  0%|          | 0/144 [00:10<?, ?it/s]\n"
     ]
    },
    {
     "name": "stdout",
     "output_type": "stream",
     "text": [
      "Epoch [13], Train Loss : [0.41486] Val Loss : [0.25749]\n",
      "Early stopping triggered! No improvement in validation loss.\n"
     ]
    },
    {
     "name": "stderr",
     "output_type": "stream",
     "text": [
      "100%|██████████| 36/36 [00:10<00:00,  3.51it/s]\n",
      "  0%|          | 0/144 [00:10<?, ?it/s]\n"
     ]
    },
    {
     "name": "stdout",
     "output_type": "stream",
     "text": [
      "Epoch [14], Train Loss : [0.41972] Val Loss : [0.25880]\n",
      "Early stopping triggered! No improvement in validation loss.\n"
     ]
    },
    {
     "name": "stderr",
     "output_type": "stream",
     "text": [
      "100%|██████████| 36/36 [00:10<00:00,  3.52it/s]\n",
      "  0%|          | 0/144 [00:10<?, ?it/s]\n"
     ]
    },
    {
     "name": "stdout",
     "output_type": "stream",
     "text": [
      "Epoch [15], Train Loss : [0.38531] Val Loss : [0.26563]\n",
      "Early stopping triggered! No improvement in validation loss.\n"
     ]
    },
    {
     "name": "stderr",
     "output_type": "stream",
     "text": [
      "100%|██████████| 36/36 [00:10<00:00,  3.51it/s]\n",
      "  0%|          | 0/144 [00:10<?, ?it/s]\n"
     ]
    },
    {
     "name": "stdout",
     "output_type": "stream",
     "text": [
      "Epoch [16], Train Loss : [0.32991] Val Loss : [0.27069]\n",
      "Epoch 00082: reducing learning rate of group 0 to 3.7500e-05.\n",
      "Early stopping triggered! No improvement in validation loss.\n"
     ]
    },
    {
     "name": "stderr",
     "output_type": "stream",
     "text": [
      "100%|██████████| 36/36 [00:10<00:00,  3.52it/s]\n",
      "  0%|          | 0/144 [00:10<?, ?it/s]\n"
     ]
    },
    {
     "name": "stdout",
     "output_type": "stream",
     "text": [
      "Epoch [17], Train Loss : [0.37642] Val Loss : [0.27282]\n",
      "Early stopping triggered! No improvement in validation loss.\n"
     ]
    },
    {
     "name": "stderr",
     "output_type": "stream",
     "text": [
      "100%|██████████| 36/36 [00:10<00:00,  3.53it/s]\n",
      "  0%|          | 0/144 [00:10<?, ?it/s]\n"
     ]
    },
    {
     "name": "stdout",
     "output_type": "stream",
     "text": [
      "Epoch [18], Train Loss : [0.44611] Val Loss : [0.27797]\n",
      "Early stopping triggered! No improvement in validation loss.\n"
     ]
    },
    {
     "name": "stderr",
     "output_type": "stream",
     "text": [
      "100%|██████████| 36/36 [00:10<00:00,  3.51it/s]\n",
      "  0%|          | 0/144 [00:10<?, ?it/s]\n"
     ]
    },
    {
     "name": "stdout",
     "output_type": "stream",
     "text": [
      "Epoch [19], Train Loss : [0.35614] Val Loss : [0.28451]\n",
      "Early stopping triggered! No improvement in validation loss.\n"
     ]
    },
    {
     "name": "stderr",
     "output_type": "stream",
     "text": [
      "100%|██████████| 36/36 [00:10<00:00,  3.53it/s]\n",
      "  0%|          | 0/144 [00:10<?, ?it/s]\n"
     ]
    },
    {
     "name": "stdout",
     "output_type": "stream",
     "text": [
      "Epoch [20], Train Loss : [0.29684] Val Loss : [0.28701]\n",
      "Early stopping triggered! No improvement in validation loss.\n"
     ]
    },
    {
     "name": "stderr",
     "output_type": "stream",
     "text": [
      "100%|██████████| 36/36 [00:10<00:00,  3.53it/s]\n",
      "  0%|          | 0/144 [00:10<?, ?it/s]\n"
     ]
    },
    {
     "name": "stdout",
     "output_type": "stream",
     "text": [
      "Epoch [21], Train Loss : [0.47838] Val Loss : [0.29002]\n",
      "Early stopping triggered! No improvement in validation loss.\n"
     ]
    },
    {
     "name": "stderr",
     "output_type": "stream",
     "text": [
      "100%|██████████| 36/36 [00:10<00:00,  3.42it/s]\n",
      "  0%|          | 0/144 [00:11<?, ?it/s]\n"
     ]
    },
    {
     "name": "stdout",
     "output_type": "stream",
     "text": [
      "Epoch [22], Train Loss : [0.36931] Val Loss : [0.29226]\n",
      "Early stopping triggered! No improvement in validation loss.\n"
     ]
    },
    {
     "name": "stderr",
     "output_type": "stream",
     "text": [
      "100%|██████████| 36/36 [00:10<00:00,  3.53it/s]\n",
      "  0%|          | 0/144 [00:10<?, ?it/s]\n"
     ]
    },
    {
     "name": "stdout",
     "output_type": "stream",
     "text": [
      "Epoch [23], Train Loss : [0.30541] Val Loss : [0.29662]\n",
      "Epoch 00089: reducing learning rate of group 0 to 1.8750e-05.\n",
      "Early stopping triggered! No improvement in validation loss.\n"
     ]
    },
    {
     "name": "stderr",
     "output_type": "stream",
     "text": [
      "100%|██████████| 36/36 [00:10<00:00,  3.42it/s]\n",
      "  0%|          | 0/144 [00:11<?, ?it/s]\n"
     ]
    },
    {
     "name": "stdout",
     "output_type": "stream",
     "text": [
      "Epoch [24], Train Loss : [0.37083] Val Loss : [0.29880]\n",
      "Early stopping triggered! No improvement in validation loss.\n"
     ]
    },
    {
     "name": "stderr",
     "output_type": "stream",
     "text": [
      "100%|██████████| 36/36 [00:10<00:00,  3.52it/s]\n",
      "  0%|          | 0/144 [00:10<?, ?it/s]\n"
     ]
    },
    {
     "name": "stdout",
     "output_type": "stream",
     "text": [
      "Epoch [25], Train Loss : [0.30130] Val Loss : [0.30333]\n",
      "Early stopping triggered! No improvement in validation loss.\n"
     ]
    },
    {
     "name": "stderr",
     "output_type": "stream",
     "text": [
      "100%|██████████| 36/36 [00:10<00:00,  3.43it/s]\n",
      "  0%|          | 0/144 [00:10<?, ?it/s]\n"
     ]
    },
    {
     "name": "stdout",
     "output_type": "stream",
     "text": [
      "Epoch [26], Train Loss : [0.42339] Val Loss : [0.30418]\n",
      "Early stopping triggered! No improvement in validation loss.\n"
     ]
    },
    {
     "name": "stderr",
     "output_type": "stream",
     "text": [
      "100%|██████████| 36/36 [00:10<00:00,  3.42it/s]\n",
      "  0%|          | 0/144 [00:11<?, ?it/s]\n"
     ]
    },
    {
     "name": "stdout",
     "output_type": "stream",
     "text": [
      "Epoch [27], Train Loss : [0.29737] Val Loss : [0.30181]\n",
      "Early stopping triggered! No improvement in validation loss.\n"
     ]
    },
    {
     "name": "stderr",
     "output_type": "stream",
     "text": [
      "100%|██████████| 36/36 [00:10<00:00,  3.54it/s]\n",
      "  0%|          | 0/144 [00:10<?, ?it/s]\n"
     ]
    },
    {
     "name": "stdout",
     "output_type": "stream",
     "text": [
      "Epoch [28], Train Loss : [0.34104] Val Loss : [0.30989]\n",
      "Early stopping triggered! No improvement in validation loss.\n"
     ]
    },
    {
     "name": "stderr",
     "output_type": "stream",
     "text": [
      "100%|██████████| 36/36 [00:10<00:00,  3.50it/s]\n",
      "  0%|          | 0/144 [00:10<?, ?it/s]\n"
     ]
    },
    {
     "name": "stdout",
     "output_type": "stream",
     "text": [
      "Epoch [29], Train Loss : [0.36093] Val Loss : [0.30728]\n",
      "Early stopping triggered! No improvement in validation loss.\n"
     ]
    },
    {
     "name": "stderr",
     "output_type": "stream",
     "text": [
      "100%|██████████| 36/36 [00:10<00:00,  3.52it/s]\n",
      "  0%|          | 0/144 [00:10<?, ?it/s]\n"
     ]
    },
    {
     "name": "stdout",
     "output_type": "stream",
     "text": [
      "Epoch [30], Train Loss : [0.29383] Val Loss : [0.30669]\n",
      "Epoch 00096: reducing learning rate of group 0 to 9.3750e-06.\n",
      "Early stopping triggered! No improvement in validation loss.\n"
     ]
    },
    {
     "name": "stderr",
     "output_type": "stream",
     "text": [
      "100%|██████████| 36/36 [00:10<00:00,  3.51it/s]\n",
      "  0%|          | 0/144 [00:10<?, ?it/s]\n"
     ]
    },
    {
     "name": "stdout",
     "output_type": "stream",
     "text": [
      "Epoch [31], Train Loss : [0.26538] Val Loss : [0.30714]\n",
      "Early stopping triggered! No improvement in validation loss.\n"
     ]
    },
    {
     "name": "stderr",
     "output_type": "stream",
     "text": [
      "100%|██████████| 36/36 [00:10<00:00,  3.53it/s]\n",
      "  0%|          | 0/144 [00:10<?, ?it/s]\n"
     ]
    },
    {
     "name": "stdout",
     "output_type": "stream",
     "text": [
      "Epoch [32], Train Loss : [0.30935] Val Loss : [0.30727]\n",
      "Early stopping triggered! No improvement in validation loss.\n"
     ]
    },
    {
     "name": "stderr",
     "output_type": "stream",
     "text": [
      "100%|██████████| 36/36 [00:10<00:00,  3.52it/s]\n",
      "  0%|          | 0/144 [00:10<?, ?it/s]\n"
     ]
    },
    {
     "name": "stdout",
     "output_type": "stream",
     "text": [
      "Epoch [33], Train Loss : [0.30565] Val Loss : [0.30950]\n",
      "Early stopping triggered! No improvement in validation loss.\n"
     ]
    },
    {
     "name": "stderr",
     "output_type": "stream",
     "text": [
      "100%|██████████| 36/36 [00:10<00:00,  3.52it/s]\n",
      "  0%|          | 0/144 [00:10<?, ?it/s]\n"
     ]
    },
    {
     "name": "stdout",
     "output_type": "stream",
     "text": [
      "Epoch [34], Train Loss : [0.32279] Val Loss : [0.30825]\n",
      "Early stopping triggered! No improvement in validation loss.\n"
     ]
    },
    {
     "name": "stderr",
     "output_type": "stream",
     "text": [
      "100%|██████████| 36/36 [00:10<00:00,  3.51it/s]\n",
      "  0%|          | 0/144 [00:10<?, ?it/s]\n"
     ]
    },
    {
     "name": "stdout",
     "output_type": "stream",
     "text": [
      "Epoch [35], Train Loss : [0.28124] Val Loss : [0.31143]\n",
      "Early stopping triggered! No improvement in validation loss.\n"
     ]
    },
    {
     "name": "stderr",
     "output_type": "stream",
     "text": [
      "100%|██████████| 36/36 [00:10<00:00,  3.50it/s]\n",
      "  0%|          | 0/144 [00:10<?, ?it/s]\n"
     ]
    },
    {
     "name": "stdout",
     "output_type": "stream",
     "text": [
      "Epoch [36], Train Loss : [0.32153] Val Loss : [0.31339]\n",
      "Early stopping triggered! No improvement in validation loss.\n"
     ]
    },
    {
     "name": "stderr",
     "output_type": "stream",
     "text": [
      "100%|██████████| 36/36 [00:10<00:00,  3.51it/s]\n",
      "  0%|          | 0/144 [00:10<?, ?it/s]\n"
     ]
    },
    {
     "name": "stdout",
     "output_type": "stream",
     "text": [
      "Epoch [37], Train Loss : [0.30865] Val Loss : [0.31609]\n",
      "Epoch 00103: reducing learning rate of group 0 to 4.6875e-06.\n",
      "Early stopping triggered! No improvement in validation loss.\n"
     ]
    },
    {
     "name": "stderr",
     "output_type": "stream",
     "text": [
      "100%|██████████| 36/36 [00:10<00:00,  3.52it/s]\n",
      "  0%|          | 0/144 [00:10<?, ?it/s]\n"
     ]
    },
    {
     "name": "stdout",
     "output_type": "stream",
     "text": [
      "Epoch [38], Train Loss : [0.33696] Val Loss : [0.31806]\n",
      "Early stopping triggered! No improvement in validation loss.\n"
     ]
    },
    {
     "name": "stderr",
     "output_type": "stream",
     "text": [
      "100%|██████████| 36/36 [00:10<00:00,  3.54it/s]\n",
      "  0%|          | 0/144 [00:10<?, ?it/s]\n"
     ]
    },
    {
     "name": "stdout",
     "output_type": "stream",
     "text": [
      "Epoch [39], Train Loss : [0.25094] Val Loss : [0.31923]\n",
      "Early stopping triggered! No improvement in validation loss.\n"
     ]
    },
    {
     "name": "stderr",
     "output_type": "stream",
     "text": [
      "100%|██████████| 36/36 [00:10<00:00,  3.52it/s]\n",
      "  0%|          | 0/144 [00:10<?, ?it/s]\n"
     ]
    },
    {
     "name": "stdout",
     "output_type": "stream",
     "text": [
      "Epoch [40], Train Loss : [0.39842] Val Loss : [0.31979]\n",
      "Early stopping triggered! No improvement in validation loss.\n"
     ]
    },
    {
     "name": "stderr",
     "output_type": "stream",
     "text": [
      "100%|██████████| 36/36 [00:10<00:00,  3.50it/s]\n",
      "  0%|          | 0/144 [00:10<?, ?it/s]\n"
     ]
    },
    {
     "name": "stdout",
     "output_type": "stream",
     "text": [
      "Epoch [41], Train Loss : [0.32583] Val Loss : [0.31878]\n",
      "Early stopping triggered! No improvement in validation loss.\n"
     ]
    },
    {
     "name": "stderr",
     "output_type": "stream",
     "text": [
      "100%|██████████| 36/36 [00:10<00:00,  3.51it/s]\n",
      "  0%|          | 0/144 [00:10<?, ?it/s]\n"
     ]
    },
    {
     "name": "stdout",
     "output_type": "stream",
     "text": [
      "Epoch [42], Train Loss : [0.32233] Val Loss : [0.32358]\n",
      "Early stopping triggered! No improvement in validation loss.\n"
     ]
    },
    {
     "name": "stderr",
     "output_type": "stream",
     "text": [
      "100%|██████████| 36/36 [00:10<00:00,  3.51it/s]\n",
      "  0%|          | 0/144 [00:10<?, ?it/s]\n"
     ]
    },
    {
     "name": "stdout",
     "output_type": "stream",
     "text": [
      "Epoch [43], Train Loss : [0.34388] Val Loss : [0.32560]\n",
      "Early stopping triggered! No improvement in validation loss.\n"
     ]
    },
    {
     "name": "stderr",
     "output_type": "stream",
     "text": [
      "100%|██████████| 36/36 [00:10<00:00,  3.52it/s]\n",
      "  0%|          | 0/144 [00:10<?, ?it/s]\n"
     ]
    },
    {
     "name": "stdout",
     "output_type": "stream",
     "text": [
      "Epoch [44], Train Loss : [0.21165] Val Loss : [0.32344]\n",
      "Epoch 00110: reducing learning rate of group 0 to 2.3437e-06.\n",
      "Early stopping triggered! No improvement in validation loss.\n"
     ]
    },
    {
     "name": "stderr",
     "output_type": "stream",
     "text": [
      "100%|██████████| 36/36 [00:10<00:00,  3.52it/s]\n",
      "  0%|          | 0/144 [00:10<?, ?it/s]\n"
     ]
    },
    {
     "name": "stdout",
     "output_type": "stream",
     "text": [
      "Epoch [45], Train Loss : [0.32856] Val Loss : [0.32217]\n",
      "Early stopping triggered! No improvement in validation loss.\n"
     ]
    },
    {
     "name": "stderr",
     "output_type": "stream",
     "text": [
      "100%|██████████| 36/36 [00:10<00:00,  3.51it/s]\n",
      "  0%|          | 0/144 [00:10<?, ?it/s]\n"
     ]
    },
    {
     "name": "stdout",
     "output_type": "stream",
     "text": [
      "Epoch [46], Train Loss : [0.30624] Val Loss : [0.32278]\n",
      "Early stopping triggered! No improvement in validation loss.\n"
     ]
    },
    {
     "name": "stderr",
     "output_type": "stream",
     "text": [
      "100%|██████████| 36/36 [00:10<00:00,  3.52it/s]\n",
      "  0%|          | 0/144 [00:10<?, ?it/s]\n"
     ]
    },
    {
     "name": "stdout",
     "output_type": "stream",
     "text": [
      "Epoch [47], Train Loss : [0.43758] Val Loss : [0.32306]\n",
      "Early stopping triggered! No improvement in validation loss.\n"
     ]
    },
    {
     "name": "stderr",
     "output_type": "stream",
     "text": [
      "100%|██████████| 36/36 [00:10<00:00,  3.52it/s]\n",
      "  0%|          | 0/144 [00:10<?, ?it/s]\n"
     ]
    },
    {
     "name": "stdout",
     "output_type": "stream",
     "text": [
      "Epoch [48], Train Loss : [0.36396] Val Loss : [0.32538]\n",
      "Early stopping triggered! No improvement in validation loss.\n"
     ]
    },
    {
     "name": "stderr",
     "output_type": "stream",
     "text": [
      "100%|██████████| 36/36 [00:10<00:00,  3.53it/s]\n",
      "  0%|          | 0/144 [00:10<?, ?it/s]\n"
     ]
    },
    {
     "name": "stdout",
     "output_type": "stream",
     "text": [
      "Epoch [49], Train Loss : [0.38258] Val Loss : [0.32620]\n",
      "Early stopping triggered! No improvement in validation loss.\n"
     ]
    },
    {
     "name": "stderr",
     "output_type": "stream",
     "text": [
      "100%|██████████| 36/36 [00:10<00:00,  3.52it/s]\n",
      "  0%|          | 0/144 [00:10<?, ?it/s]\n"
     ]
    },
    {
     "name": "stdout",
     "output_type": "stream",
     "text": [
      "Epoch [50], Train Loss : [0.34639] Val Loss : [0.32239]\n",
      "Early stopping triggered! No improvement in validation loss.\n"
     ]
    },
    {
     "name": "stderr",
     "output_type": "stream",
     "text": [
      "100%|██████████| 36/36 [00:10<00:00,  3.50it/s]\n",
      "  0%|          | 0/144 [00:10<?, ?it/s]\n"
     ]
    },
    {
     "name": "stdout",
     "output_type": "stream",
     "text": [
      "Epoch [51], Train Loss : [0.37267] Val Loss : [0.32304]\n",
      "Epoch 00117: reducing learning rate of group 0 to 1.1719e-06.\n",
      "Early stopping triggered! No improvement in validation loss.\n"
     ]
    },
    {
     "name": "stderr",
     "output_type": "stream",
     "text": [
      "100%|██████████| 36/36 [00:10<00:00,  3.49it/s]\n",
      "  0%|          | 0/144 [00:10<?, ?it/s]\n"
     ]
    },
    {
     "name": "stdout",
     "output_type": "stream",
     "text": [
      "Epoch [52], Train Loss : [0.29118] Val Loss : [0.32413]\n",
      "Early stopping triggered! No improvement in validation loss.\n"
     ]
    },
    {
     "name": "stderr",
     "output_type": "stream",
     "text": [
      "100%|██████████| 36/36 [00:10<00:00,  3.52it/s]\n",
      "  0%|          | 0/144 [00:10<?, ?it/s]\n"
     ]
    },
    {
     "name": "stdout",
     "output_type": "stream",
     "text": [
      "Epoch [53], Train Loss : [0.35930] Val Loss : [0.32218]\n",
      "Early stopping triggered! No improvement in validation loss.\n"
     ]
    },
    {
     "name": "stderr",
     "output_type": "stream",
     "text": [
      "100%|██████████| 36/36 [00:10<00:00,  3.52it/s]\n",
      "  0%|          | 0/144 [00:10<?, ?it/s]\n"
     ]
    },
    {
     "name": "stdout",
     "output_type": "stream",
     "text": [
      "Epoch [54], Train Loss : [0.27898] Val Loss : [0.32228]\n",
      "Early stopping triggered! No improvement in validation loss.\n"
     ]
    },
    {
     "name": "stderr",
     "output_type": "stream",
     "text": [
      "100%|██████████| 36/36 [00:10<00:00,  3.53it/s]\n",
      "  0%|          | 0/144 [00:10<?, ?it/s]\n"
     ]
    },
    {
     "name": "stdout",
     "output_type": "stream",
     "text": [
      "Epoch [55], Train Loss : [0.31398] Val Loss : [0.32254]\n",
      "Early stopping triggered! No improvement in validation loss.\n"
     ]
    },
    {
     "name": "stderr",
     "output_type": "stream",
     "text": [
      "100%|██████████| 36/36 [00:10<00:00,  3.43it/s]\n",
      "  0%|          | 0/144 [00:10<?, ?it/s]\n"
     ]
    },
    {
     "name": "stdout",
     "output_type": "stream",
     "text": [
      "Epoch [56], Train Loss : [0.38610] Val Loss : [0.32898]\n",
      "Early stopping triggered! No improvement in validation loss.\n"
     ]
    },
    {
     "name": "stderr",
     "output_type": "stream",
     "text": [
      "100%|██████████| 36/36 [00:10<00:00,  3.53it/s]\n",
      "  0%|          | 0/144 [00:10<?, ?it/s]\n"
     ]
    },
    {
     "name": "stdout",
     "output_type": "stream",
     "text": [
      "Epoch [57], Train Loss : [0.39057] Val Loss : [0.33068]\n",
      "Early stopping triggered! No improvement in validation loss.\n"
     ]
    },
    {
     "name": "stderr",
     "output_type": "stream",
     "text": [
      "100%|██████████| 36/36 [00:10<00:00,  3.53it/s]\n",
      "  0%|          | 0/144 [00:10<?, ?it/s]\n"
     ]
    },
    {
     "name": "stdout",
     "output_type": "stream",
     "text": [
      "Epoch [58], Train Loss : [0.46889] Val Loss : [0.33088]\n",
      "Epoch 00124: reducing learning rate of group 0 to 5.8594e-07.\n",
      "Early stopping triggered! No improvement in validation loss.\n"
     ]
    },
    {
     "name": "stderr",
     "output_type": "stream",
     "text": [
      "100%|██████████| 36/36 [00:10<00:00,  3.52it/s]\n",
      "  0%|          | 0/144 [00:10<?, ?it/s]\n"
     ]
    },
    {
     "name": "stdout",
     "output_type": "stream",
     "text": [
      "Epoch [59], Train Loss : [0.32593] Val Loss : [0.33133]\n",
      "Early stopping triggered! No improvement in validation loss.\n"
     ]
    },
    {
     "name": "stderr",
     "output_type": "stream",
     "text": [
      "100%|██████████| 36/36 [00:10<00:00,  3.54it/s]\n",
      "  0%|          | 0/144 [00:10<?, ?it/s]\n"
     ]
    },
    {
     "name": "stdout",
     "output_type": "stream",
     "text": [
      "Epoch [60], Train Loss : [0.34795] Val Loss : [0.32873]\n",
      "Early stopping triggered! No improvement in validation loss.\n"
     ]
    },
    {
     "name": "stderr",
     "output_type": "stream",
     "text": [
      "100%|██████████| 36/36 [00:10<00:00,  3.52it/s]\n",
      "  0%|          | 0/144 [00:10<?, ?it/s]\n"
     ]
    },
    {
     "name": "stdout",
     "output_type": "stream",
     "text": [
      "Epoch [61], Train Loss : [0.32643] Val Loss : [0.32782]\n",
      "Early stopping triggered! No improvement in validation loss.\n"
     ]
    },
    {
     "name": "stderr",
     "output_type": "stream",
     "text": [
      "100%|██████████| 36/36 [00:10<00:00,  3.51it/s]\n",
      "  0%|          | 0/144 [00:10<?, ?it/s]\n"
     ]
    },
    {
     "name": "stdout",
     "output_type": "stream",
     "text": [
      "Epoch [62], Train Loss : [0.39500] Val Loss : [0.32438]\n",
      "Early stopping triggered! No improvement in validation loss.\n"
     ]
    },
    {
     "name": "stderr",
     "output_type": "stream",
     "text": [
      "100%|██████████| 36/36 [00:10<00:00,  3.51it/s]\n",
      "  0%|          | 0/144 [00:10<?, ?it/s]\n"
     ]
    },
    {
     "name": "stdout",
     "output_type": "stream",
     "text": [
      "Epoch [63], Train Loss : [0.36694] Val Loss : [0.32408]\n",
      "Early stopping triggered! No improvement in validation loss.\n"
     ]
    },
    {
     "name": "stderr",
     "output_type": "stream",
     "text": [
      "100%|██████████| 36/36 [00:10<00:00,  3.51it/s]\n",
      "  0%|          | 0/144 [00:10<?, ?it/s]\n"
     ]
    },
    {
     "name": "stdout",
     "output_type": "stream",
     "text": [
      "Epoch [64], Train Loss : [0.36689] Val Loss : [0.32582]\n",
      "Early stopping triggered! No improvement in validation loss.\n"
     ]
    },
    {
     "name": "stderr",
     "output_type": "stream",
     "text": [
      "100%|██████████| 36/36 [00:10<00:00,  3.50it/s]\n",
      "  0%|          | 0/144 [00:10<?, ?it/s]\n"
     ]
    },
    {
     "name": "stdout",
     "output_type": "stream",
     "text": [
      "Epoch [65], Train Loss : [0.36463] Val Loss : [0.32636]\n",
      "Epoch 00131: reducing learning rate of group 0 to 2.9297e-07.\n",
      "Early stopping triggered! No improvement in validation loss.\n"
     ]
    },
    {
     "name": "stderr",
     "output_type": "stream",
     "text": [
      "100%|██████████| 36/36 [00:10<00:00,  3.51it/s]\n",
      "  0%|          | 0/144 [00:10<?, ?it/s]\n"
     ]
    },
    {
     "name": "stdout",
     "output_type": "stream",
     "text": [
      "Epoch [66], Train Loss : [0.34486] Val Loss : [0.32059]\n",
      "Early stopping triggered! No improvement in validation loss.\n"
     ]
    },
    {
     "name": "stderr",
     "output_type": "stream",
     "text": [
      "100%|██████████| 36/36 [00:10<00:00,  3.51it/s]\n",
      "  0%|          | 0/144 [00:10<?, ?it/s]\n"
     ]
    },
    {
     "name": "stdout",
     "output_type": "stream",
     "text": [
      "Epoch [67], Train Loss : [0.30923] Val Loss : [0.32007]\n",
      "Early stopping triggered! No improvement in validation loss.\n"
     ]
    },
    {
     "name": "stderr",
     "output_type": "stream",
     "text": [
      "100%|██████████| 36/36 [00:10<00:00,  3.52it/s]\n",
      "  0%|          | 0/144 [00:10<?, ?it/s]\n"
     ]
    },
    {
     "name": "stdout",
     "output_type": "stream",
     "text": [
      "Epoch [68], Train Loss : [0.36056] Val Loss : [0.31669]\n",
      "Early stopping triggered! No improvement in validation loss.\n"
     ]
    },
    {
     "name": "stderr",
     "output_type": "stream",
     "text": [
      "100%|██████████| 36/36 [00:10<00:00,  3.50it/s]\n",
      "  0%|          | 0/144 [00:10<?, ?it/s]\n"
     ]
    },
    {
     "name": "stdout",
     "output_type": "stream",
     "text": [
      "Epoch [69], Train Loss : [0.38509] Val Loss : [0.32063]\n",
      "Early stopping triggered! No improvement in validation loss.\n"
     ]
    },
    {
     "name": "stderr",
     "output_type": "stream",
     "text": [
      "100%|██████████| 36/36 [00:10<00:00,  3.51it/s]\n",
      "  0%|          | 0/144 [00:10<?, ?it/s]\n"
     ]
    },
    {
     "name": "stdout",
     "output_type": "stream",
     "text": [
      "Epoch [70], Train Loss : [0.32679] Val Loss : [0.32057]\n",
      "Early stopping triggered! No improvement in validation loss.\n"
     ]
    },
    {
     "name": "stderr",
     "output_type": "stream",
     "text": [
      "100%|██████████| 36/36 [00:10<00:00,  3.50it/s]\n",
      "  0%|          | 0/144 [00:10<?, ?it/s]\n"
     ]
    },
    {
     "name": "stdout",
     "output_type": "stream",
     "text": [
      "Epoch [71], Train Loss : [0.30281] Val Loss : [0.32259]\n",
      "Early stopping triggered! No improvement in validation loss.\n"
     ]
    },
    {
     "name": "stderr",
     "output_type": "stream",
     "text": [
      "100%|██████████| 36/36 [00:10<00:00,  3.51it/s]\n",
      "  0%|          | 0/144 [00:10<?, ?it/s]\n"
     ]
    },
    {
     "name": "stdout",
     "output_type": "stream",
     "text": [
      "Epoch [72], Train Loss : [0.28889] Val Loss : [0.32449]\n",
      "Epoch 00138: reducing learning rate of group 0 to 1.4648e-07.\n",
      "Early stopping triggered! No improvement in validation loss.\n"
     ]
    },
    {
     "name": "stderr",
     "output_type": "stream",
     "text": [
      "100%|██████████| 36/36 [00:10<00:00,  3.50it/s]\n",
      "  0%|          | 0/144 [00:10<?, ?it/s]\n"
     ]
    },
    {
     "name": "stdout",
     "output_type": "stream",
     "text": [
      "Epoch [73], Train Loss : [0.21118] Val Loss : [0.32649]\n",
      "Early stopping triggered! No improvement in validation loss.\n"
     ]
    },
    {
     "name": "stderr",
     "output_type": "stream",
     "text": [
      "100%|██████████| 36/36 [00:10<00:00,  3.51it/s]\n",
      "  0%|          | 0/144 [00:10<?, ?it/s]\n"
     ]
    },
    {
     "name": "stdout",
     "output_type": "stream",
     "text": [
      "Epoch [74], Train Loss : [0.40989] Val Loss : [0.32256]\n",
      "Early stopping triggered! No improvement in validation loss.\n"
     ]
    },
    {
     "name": "stderr",
     "output_type": "stream",
     "text": [
      "100%|██████████| 36/36 [00:10<00:00,  3.50it/s]\n",
      "  0%|          | 0/144 [00:10<?, ?it/s]\n"
     ]
    },
    {
     "name": "stdout",
     "output_type": "stream",
     "text": [
      "Epoch [75], Train Loss : [0.34767] Val Loss : [0.32429]\n",
      "Early stopping triggered! No improvement in validation loss.\n"
     ]
    },
    {
     "name": "stderr",
     "output_type": "stream",
     "text": [
      "100%|██████████| 36/36 [00:10<00:00,  3.52it/s]\n",
      "  0%|          | 0/144 [00:10<?, ?it/s]\n"
     ]
    },
    {
     "name": "stdout",
     "output_type": "stream",
     "text": [
      "Epoch [76], Train Loss : [0.26564] Val Loss : [0.32474]\n",
      "Early stopping triggered! No improvement in validation loss.\n"
     ]
    },
    {
     "name": "stderr",
     "output_type": "stream",
     "text": [
      "100%|██████████| 36/36 [00:10<00:00,  3.51it/s]\n",
      "  0%|          | 0/144 [00:10<?, ?it/s]\n"
     ]
    },
    {
     "name": "stdout",
     "output_type": "stream",
     "text": [
      "Epoch [77], Train Loss : [0.39925] Val Loss : [0.32589]\n",
      "Early stopping triggered! No improvement in validation loss.\n"
     ]
    },
    {
     "name": "stderr",
     "output_type": "stream",
     "text": [
      "100%|██████████| 36/36 [00:10<00:00,  3.52it/s]\n",
      "  0%|          | 0/144 [00:10<?, ?it/s]\n"
     ]
    },
    {
     "name": "stdout",
     "output_type": "stream",
     "text": [
      "Epoch [78], Train Loss : [0.35597] Val Loss : [0.32787]\n",
      "Early stopping triggered! No improvement in validation loss.\n"
     ]
    },
    {
     "name": "stderr",
     "output_type": "stream",
     "text": [
      "100%|██████████| 36/36 [00:10<00:00,  3.53it/s]\n",
      "  0%|          | 0/144 [00:10<?, ?it/s]\n"
     ]
    },
    {
     "name": "stdout",
     "output_type": "stream",
     "text": [
      "Epoch [79], Train Loss : [0.39402] Val Loss : [0.32547]\n",
      "Epoch 00145: reducing learning rate of group 0 to 7.3242e-08.\n",
      "Early stopping triggered! No improvement in validation loss.\n"
     ]
    },
    {
     "name": "stderr",
     "output_type": "stream",
     "text": [
      "100%|██████████| 36/36 [00:10<00:00,  3.43it/s]\n",
      "  0%|          | 0/144 [00:11<?, ?it/s]\n"
     ]
    },
    {
     "name": "stdout",
     "output_type": "stream",
     "text": [
      "Epoch [80], Train Loss : [0.30761] Val Loss : [0.32494]\n",
      "Early stopping triggered! No improvement in validation loss.\n"
     ]
    },
    {
     "name": "stderr",
     "output_type": "stream",
     "text": [
      "100%|██████████| 36/36 [00:10<00:00,  3.52it/s]\n",
      "  0%|          | 0/144 [00:10<?, ?it/s]\n"
     ]
    },
    {
     "name": "stdout",
     "output_type": "stream",
     "text": [
      "Epoch [81], Train Loss : [0.41030] Val Loss : [0.32266]\n",
      "Early stopping triggered! No improvement in validation loss.\n"
     ]
    },
    {
     "name": "stderr",
     "output_type": "stream",
     "text": [
      "100%|██████████| 36/36 [00:10<00:00,  3.53it/s]\n",
      "  0%|          | 0/144 [00:10<?, ?it/s]\n"
     ]
    },
    {
     "name": "stdout",
     "output_type": "stream",
     "text": [
      "Epoch [82], Train Loss : [0.37069] Val Loss : [0.32644]\n",
      "Early stopping triggered! No improvement in validation loss.\n"
     ]
    },
    {
     "name": "stderr",
     "output_type": "stream",
     "text": [
      "100%|██████████| 36/36 [00:10<00:00,  3.51it/s]\n",
      "  0%|          | 0/144 [00:10<?, ?it/s]\n"
     ]
    },
    {
     "name": "stdout",
     "output_type": "stream",
     "text": [
      "Epoch [83], Train Loss : [0.30767] Val Loss : [0.32431]\n",
      "Early stopping triggered! No improvement in validation loss.\n"
     ]
    },
    {
     "name": "stderr",
     "output_type": "stream",
     "text": [
      "100%|██████████| 36/36 [00:10<00:00,  3.51it/s]\n",
      "  0%|          | 0/144 [00:10<?, ?it/s]\n"
     ]
    },
    {
     "name": "stdout",
     "output_type": "stream",
     "text": [
      "Epoch [84], Train Loss : [0.34509] Val Loss : [0.32258]\n",
      "Early stopping triggered! No improvement in validation loss.\n"
     ]
    },
    {
     "name": "stderr",
     "output_type": "stream",
     "text": [
      "100%|██████████| 36/36 [00:10<00:00,  3.50it/s]\n",
      "  0%|          | 0/144 [00:10<?, ?it/s]\n"
     ]
    },
    {
     "name": "stdout",
     "output_type": "stream",
     "text": [
      "Epoch [85], Train Loss : [0.42329] Val Loss : [0.32296]\n",
      "Early stopping triggered! No improvement in validation loss.\n"
     ]
    },
    {
     "name": "stderr",
     "output_type": "stream",
     "text": [
      "100%|██████████| 36/36 [00:10<00:00,  3.52it/s]\n",
      "  0%|          | 0/144 [00:10<?, ?it/s]\n"
     ]
    },
    {
     "name": "stdout",
     "output_type": "stream",
     "text": [
      "Epoch [86], Train Loss : [0.38371] Val Loss : [0.32487]\n",
      "Epoch 00152: reducing learning rate of group 0 to 3.6621e-08.\n",
      "Early stopping triggered! No improvement in validation loss.\n"
     ]
    },
    {
     "name": "stderr",
     "output_type": "stream",
     "text": [
      "100%|██████████| 36/36 [00:10<00:00,  3.51it/s]\n",
      "  0%|          | 0/144 [00:10<?, ?it/s]\n"
     ]
    },
    {
     "name": "stdout",
     "output_type": "stream",
     "text": [
      "Epoch [87], Train Loss : [0.28848] Val Loss : [0.32740]\n",
      "Early stopping triggered! No improvement in validation loss.\n"
     ]
    },
    {
     "name": "stderr",
     "output_type": "stream",
     "text": [
      "100%|██████████| 36/36 [00:10<00:00,  3.51it/s]\n",
      "  0%|          | 0/144 [00:10<?, ?it/s]\n"
     ]
    },
    {
     "name": "stdout",
     "output_type": "stream",
     "text": [
      "Epoch [88], Train Loss : [0.47538] Val Loss : [0.32997]\n",
      "Early stopping triggered! No improvement in validation loss.\n"
     ]
    },
    {
     "name": "stderr",
     "output_type": "stream",
     "text": [
      "100%|██████████| 36/36 [00:10<00:00,  3.52it/s]\n",
      "  0%|          | 0/144 [00:10<?, ?it/s]\n"
     ]
    },
    {
     "name": "stdout",
     "output_type": "stream",
     "text": [
      "Epoch [89], Train Loss : [0.26582] Val Loss : [0.32818]\n",
      "Early stopping triggered! No improvement in validation loss.\n"
     ]
    },
    {
     "name": "stderr",
     "output_type": "stream",
     "text": [
      "100%|██████████| 36/36 [00:10<00:00,  3.51it/s]\n",
      "  0%|          | 0/144 [00:10<?, ?it/s]\n"
     ]
    },
    {
     "name": "stdout",
     "output_type": "stream",
     "text": [
      "Epoch [90], Train Loss : [0.28327] Val Loss : [0.32415]\n",
      "Early stopping triggered! No improvement in validation loss.\n"
     ]
    },
    {
     "name": "stderr",
     "output_type": "stream",
     "text": [
      "100%|██████████| 36/36 [00:10<00:00,  3.51it/s]\n",
      "  0%|          | 0/144 [00:10<?, ?it/s]\n"
     ]
    },
    {
     "name": "stdout",
     "output_type": "stream",
     "text": [
      "Epoch [91], Train Loss : [0.25710] Val Loss : [0.32246]\n",
      "Early stopping triggered! No improvement in validation loss.\n"
     ]
    },
    {
     "name": "stderr",
     "output_type": "stream",
     "text": [
      "100%|██████████| 36/36 [00:10<00:00,  3.50it/s]\n",
      "  0%|          | 0/144 [00:10<?, ?it/s]\n"
     ]
    },
    {
     "name": "stdout",
     "output_type": "stream",
     "text": [
      "Epoch [92], Train Loss : [0.39047] Val Loss : [0.32260]\n",
      "Early stopping triggered! No improvement in validation loss.\n"
     ]
    },
    {
     "name": "stderr",
     "output_type": "stream",
     "text": [
      "100%|██████████| 36/36 [00:10<00:00,  3.52it/s]\n",
      "  0%|          | 0/144 [00:10<?, ?it/s]\n"
     ]
    },
    {
     "name": "stdout",
     "output_type": "stream",
     "text": [
      "Epoch [93], Train Loss : [0.36763] Val Loss : [0.32284]\n",
      "Epoch 00159: reducing learning rate of group 0 to 1.8311e-08.\n",
      "Early stopping triggered! No improvement in validation loss.\n"
     ]
    },
    {
     "name": "stderr",
     "output_type": "stream",
     "text": [
      "100%|██████████| 36/36 [00:10<00:00,  3.52it/s]\n",
      "  0%|          | 0/144 [00:10<?, ?it/s]\n"
     ]
    },
    {
     "name": "stdout",
     "output_type": "stream",
     "text": [
      "Epoch [94], Train Loss : [0.32629] Val Loss : [0.32309]\n",
      "Early stopping triggered! No improvement in validation loss.\n"
     ]
    },
    {
     "name": "stderr",
     "output_type": "stream",
     "text": [
      "100%|██████████| 36/36 [00:10<00:00,  3.47it/s]\n",
      "  0%|          | 0/144 [00:10<?, ?it/s]\n"
     ]
    },
    {
     "name": "stdout",
     "output_type": "stream",
     "text": [
      "Epoch [95], Train Loss : [0.32880] Val Loss : [0.32141]\n",
      "Early stopping triggered! No improvement in validation loss.\n"
     ]
    },
    {
     "name": "stderr",
     "output_type": "stream",
     "text": [
      "100%|██████████| 36/36 [00:11<00:00,  3.13it/s]\n",
      "  0%|          | 0/144 [00:12<?, ?it/s]\n"
     ]
    },
    {
     "name": "stdout",
     "output_type": "stream",
     "text": [
      "Epoch [96], Train Loss : [0.30450] Val Loss : [0.32079]\n",
      "Early stopping triggered! No improvement in validation loss.\n"
     ]
    },
    {
     "name": "stderr",
     "output_type": "stream",
     "text": [
      "100%|██████████| 36/36 [00:11<00:00,  3.23it/s]\n",
      "  0%|          | 0/144 [00:11<?, ?it/s]\n"
     ]
    },
    {
     "name": "stdout",
     "output_type": "stream",
     "text": [
      "Epoch [97], Train Loss : [0.36975] Val Loss : [0.32412]\n",
      "Early stopping triggered! No improvement in validation loss.\n"
     ]
    },
    {
     "name": "stderr",
     "output_type": "stream",
     "text": [
      "100%|██████████| 36/36 [00:10<00:00,  3.30it/s]\n",
      "  0%|          | 0/144 [00:11<?, ?it/s]\n"
     ]
    },
    {
     "name": "stdout",
     "output_type": "stream",
     "text": [
      "Epoch [98], Train Loss : [0.28453] Val Loss : [0.32288]\n",
      "Early stopping triggered! No improvement in validation loss.\n"
     ]
    },
    {
     "name": "stderr",
     "output_type": "stream",
     "text": [
      "100%|██████████| 36/36 [00:11<00:00,  3.24it/s]\n",
      "  0%|          | 0/144 [00:11<?, ?it/s]\n"
     ]
    },
    {
     "name": "stdout",
     "output_type": "stream",
     "text": [
      "Epoch [99], Train Loss : [0.34152] Val Loss : [0.32067]\n",
      "Early stopping triggered! No improvement in validation loss.\n"
     ]
    },
    {
     "name": "stderr",
     "output_type": "stream",
     "text": [
      "100%|██████████| 36/36 [00:10<00:00,  3.51it/s]\n",
      "  0%|          | 0/144 [00:10<?, ?it/s]\n"
     ]
    },
    {
     "name": "stdout",
     "output_type": "stream",
     "text": [
      "Epoch [100], Train Loss : [0.33393] Val Loss : [0.31982]\n",
      "Early stopping triggered! No improvement in validation loss.\n"
     ]
    },
    {
     "name": "stderr",
     "output_type": "stream",
     "text": [
      "100%|██████████| 36/36 [00:10<00:00,  3.35it/s]\n"
     ]
    },
    {
     "name": "stdout",
     "output_type": "stream",
     "text": [
      "Validation Loss: 0.31981874505678815\n"
     ]
    },
    {
     "name": "stderr",
     "output_type": "stream",
     "text": [
      "100%|██████████| 25/25 [00:07<00:00,  3.36it/s]\n"
     ]
    },
    {
     "name": "stdout",
     "output_type": "stream",
     "text": [
      "Fold: 3\n"
     ]
    },
    {
     "name": "stderr",
     "output_type": "stream",
     "text": [
      "100%|██████████| 36/36 [00:10<00:00,  3.47it/s]\n",
      "  1%|          | 1/144 [00:11<26:18, 11.04s/it]"
     ]
    },
    {
     "name": "stdout",
     "output_type": "stream",
     "text": [
      "Epoch [1], Train Loss : [0.91385] Val Loss : [1.01830]\n"
     ]
    },
    {
     "name": "stderr",
     "output_type": "stream",
     "text": [
      "100%|██████████| 36/36 [00:10<00:00,  3.54it/s]\n",
      "  1%|▏         | 2/144 [00:21<25:45, 10.88s/it]"
     ]
    },
    {
     "name": "stdout",
     "output_type": "stream",
     "text": [
      "Epoch [1], Train Loss : [0.94905] Val Loss : [0.62873]\n"
     ]
    },
    {
     "name": "stderr",
     "output_type": "stream",
     "text": [
      "100%|██████████| 36/36 [00:10<00:00,  3.51it/s]\n",
      "  2%|▏         | 3/144 [00:32<25:29, 10.85s/it]"
     ]
    },
    {
     "name": "stdout",
     "output_type": "stream",
     "text": [
      "Epoch [1], Train Loss : [0.84774] Val Loss : [0.58779]\n"
     ]
    },
    {
     "name": "stderr",
     "output_type": "stream",
     "text": [
      "100%|██████████| 36/36 [00:10<00:00,  3.53it/s]\n",
      "  3%|▎         | 4/144 [00:43<25:13, 10.81s/it]"
     ]
    },
    {
     "name": "stdout",
     "output_type": "stream",
     "text": [
      "Epoch [1], Train Loss : [0.76707] Val Loss : [0.57981]\n"
     ]
    },
    {
     "name": "stderr",
     "output_type": "stream",
     "text": [
      "100%|██████████| 36/36 [00:10<00:00,  3.52it/s]\n",
      "  3%|▎         | 5/144 [00:54<25:00, 10.79s/it]"
     ]
    },
    {
     "name": "stdout",
     "output_type": "stream",
     "text": [
      "Epoch [1], Train Loss : [0.72150] Val Loss : [0.65155]\n"
     ]
    },
    {
     "name": "stderr",
     "output_type": "stream",
     "text": [
      "100%|██████████| 36/36 [00:10<00:00,  3.41it/s]\n",
      "  4%|▍         | 6/144 [01:05<25:03, 10.89s/it]"
     ]
    },
    {
     "name": "stdout",
     "output_type": "stream",
     "text": [
      "Epoch [1], Train Loss : [0.72051] Val Loss : [0.51407]\n"
     ]
    },
    {
     "name": "stderr",
     "output_type": "stream",
     "text": [
      "100%|██████████| 36/36 [00:10<00:00,  3.51it/s]\n",
      "  5%|▍         | 7/144 [01:16<24:49, 10.87s/it]"
     ]
    },
    {
     "name": "stdout",
     "output_type": "stream",
     "text": [
      "Epoch [1], Train Loss : [0.69027] Val Loss : [0.47954]\n"
     ]
    },
    {
     "name": "stderr",
     "output_type": "stream",
     "text": [
      "100%|██████████| 36/36 [00:10<00:00,  3.53it/s]\n",
      "  6%|▌         | 8/144 [01:26<24:33, 10.84s/it]"
     ]
    },
    {
     "name": "stdout",
     "output_type": "stream",
     "text": [
      "Epoch [1], Train Loss : [0.66992] Val Loss : [0.44633]\n"
     ]
    },
    {
     "name": "stderr",
     "output_type": "stream",
     "text": [
      "100%|██████████| 36/36 [00:10<00:00,  3.51it/s]\n",
      "  6%|▋         | 9/144 [01:37<24:21, 10.83s/it]"
     ]
    },
    {
     "name": "stdout",
     "output_type": "stream",
     "text": [
      "Epoch [1], Train Loss : [0.65256] Val Loss : [0.44838]\n"
     ]
    },
    {
     "name": "stderr",
     "output_type": "stream",
     "text": [
      "100%|██████████| 36/36 [00:10<00:00,  3.51it/s]\n",
      "  7%|▋         | 10/144 [01:48<24:08, 10.81s/it]"
     ]
    },
    {
     "name": "stdout",
     "output_type": "stream",
     "text": [
      "Epoch [1], Train Loss : [0.63266] Val Loss : [0.46842]\n"
     ]
    },
    {
     "name": "stderr",
     "output_type": "stream",
     "text": [
      "100%|██████████| 36/36 [00:10<00:00,  3.53it/s]\n",
      "  8%|▊         | 11/144 [01:59<23:57, 10.81s/it]"
     ]
    },
    {
     "name": "stdout",
     "output_type": "stream",
     "text": [
      "Epoch [1], Train Loss : [0.62006] Val Loss : [0.42289]\n"
     ]
    },
    {
     "name": "stderr",
     "output_type": "stream",
     "text": [
      "100%|██████████| 36/36 [00:10<00:00,  3.53it/s]\n",
      "  8%|▊         | 12/144 [02:09<23:45, 10.80s/it]"
     ]
    },
    {
     "name": "stdout",
     "output_type": "stream",
     "text": [
      "Epoch [1], Train Loss : [0.61013] Val Loss : [0.37954]\n"
     ]
    },
    {
     "name": "stderr",
     "output_type": "stream",
     "text": [
      "100%|██████████| 36/36 [00:10<00:00,  3.54it/s]\n",
      "  9%|▉         | 13/144 [02:20<23:34, 10.80s/it]"
     ]
    },
    {
     "name": "stdout",
     "output_type": "stream",
     "text": [
      "Epoch [1], Train Loss : [0.58942] Val Loss : [0.37149]\n"
     ]
    },
    {
     "name": "stderr",
     "output_type": "stream",
     "text": [
      "100%|██████████| 36/36 [00:10<00:00,  3.54it/s]\n",
      " 10%|▉         | 14/144 [02:31<23:20, 10.78s/it]"
     ]
    },
    {
     "name": "stdout",
     "output_type": "stream",
     "text": [
      "Epoch [1], Train Loss : [0.57509] Val Loss : [0.35958]\n"
     ]
    },
    {
     "name": "stderr",
     "output_type": "stream",
     "text": [
      "100%|██████████| 36/36 [00:11<00:00,  3.27it/s]\n",
      " 10%|█         | 15/144 [02:43<23:41, 11.02s/it]"
     ]
    },
    {
     "name": "stdout",
     "output_type": "stream",
     "text": [
      "Epoch [1], Train Loss : [0.55852] Val Loss : [0.35869]\n"
     ]
    },
    {
     "name": "stderr",
     "output_type": "stream",
     "text": [
      "100%|██████████| 36/36 [00:10<00:00,  3.49it/s]\n",
      " 11%|█         | 16/144 [02:53<23:21, 10.95s/it]"
     ]
    },
    {
     "name": "stdout",
     "output_type": "stream",
     "text": [
      "Epoch [1], Train Loss : [0.54553] Val Loss : [0.36311]\n"
     ]
    },
    {
     "name": "stderr",
     "output_type": "stream",
     "text": [
      "100%|██████████| 36/36 [00:10<00:00,  3.51it/s]\n",
      " 12%|█▏        | 17/144 [03:04<23:04, 10.90s/it]"
     ]
    },
    {
     "name": "stdout",
     "output_type": "stream",
     "text": [
      "Epoch [1], Train Loss : [0.53941] Val Loss : [0.34868]\n"
     ]
    },
    {
     "name": "stderr",
     "output_type": "stream",
     "text": [
      "100%|██████████| 36/36 [00:10<00:00,  3.53it/s]\n",
      " 12%|█▎        | 18/144 [03:15<22:47, 10.85s/it]"
     ]
    },
    {
     "name": "stdout",
     "output_type": "stream",
     "text": [
      "Epoch [1], Train Loss : [0.52500] Val Loss : [0.34021]\n"
     ]
    },
    {
     "name": "stderr",
     "output_type": "stream",
     "text": [
      "100%|██████████| 36/36 [00:10<00:00,  3.53it/s]\n",
      " 13%|█▎        | 19/144 [03:26<22:34, 10.83s/it]"
     ]
    },
    {
     "name": "stdout",
     "output_type": "stream",
     "text": [
      "Epoch [1], Train Loss : [0.51197] Val Loss : [0.33912]\n"
     ]
    },
    {
     "name": "stderr",
     "output_type": "stream",
     "text": [
      "100%|██████████| 36/36 [00:10<00:00,  3.54it/s]\n",
      " 14%|█▍        | 20/144 [03:36<22:19, 10.80s/it]"
     ]
    },
    {
     "name": "stdout",
     "output_type": "stream",
     "text": [
      "Epoch [1], Train Loss : [0.50503] Val Loss : [0.31672]\n"
     ]
    },
    {
     "name": "stderr",
     "output_type": "stream",
     "text": [
      "100%|██████████| 36/36 [00:10<00:00,  3.42it/s]\n",
      " 15%|█▍        | 21/144 [03:47<22:17, 10.87s/it]"
     ]
    },
    {
     "name": "stdout",
     "output_type": "stream",
     "text": [
      "Epoch [1], Train Loss : [0.49166] Val Loss : [0.31153]\n"
     ]
    },
    {
     "name": "stderr",
     "output_type": "stream",
     "text": [
      "100%|██████████| 36/36 [00:10<00:00,  3.53it/s]\n",
      " 15%|█▌        | 22/144 [03:58<22:02, 10.84s/it]"
     ]
    },
    {
     "name": "stdout",
     "output_type": "stream",
     "text": [
      "Epoch [1], Train Loss : [0.48572] Val Loss : [0.30479]\n"
     ]
    },
    {
     "name": "stderr",
     "output_type": "stream",
     "text": [
      "100%|██████████| 36/36 [00:10<00:00,  3.52it/s]\n",
      " 16%|█▌        | 23/144 [04:09<21:49, 10.83s/it]"
     ]
    },
    {
     "name": "stdout",
     "output_type": "stream",
     "text": [
      "Epoch [1], Train Loss : [0.47721] Val Loss : [0.30050]\n"
     ]
    },
    {
     "name": "stderr",
     "output_type": "stream",
     "text": [
      "100%|██████████| 36/36 [00:10<00:00,  3.44it/s]\n",
      " 17%|█▋        | 24/144 [04:20<21:43, 10.87s/it]"
     ]
    },
    {
     "name": "stdout",
     "output_type": "stream",
     "text": [
      "Epoch [1], Train Loss : [0.47004] Val Loss : [0.32649]\n"
     ]
    },
    {
     "name": "stderr",
     "output_type": "stream",
     "text": [
      "100%|██████████| 36/36 [00:10<00:00,  3.44it/s]\n",
      " 17%|█▋        | 25/144 [04:31<21:40, 10.93s/it]"
     ]
    },
    {
     "name": "stdout",
     "output_type": "stream",
     "text": [
      "Epoch [1], Train Loss : [0.46789] Val Loss : [0.29855]\n"
     ]
    },
    {
     "name": "stderr",
     "output_type": "stream",
     "text": [
      "100%|██████████| 36/36 [00:10<00:00,  3.54it/s]\n",
      " 18%|█▊        | 26/144 [04:42<21:22, 10.87s/it]"
     ]
    },
    {
     "name": "stdout",
     "output_type": "stream",
     "text": [
      "Epoch [1], Train Loss : [0.45965] Val Loss : [0.28909]\n"
     ]
    },
    {
     "name": "stderr",
     "output_type": "stream",
     "text": [
      "100%|██████████| 36/36 [00:10<00:00,  3.44it/s]\n",
      " 19%|█▉        | 27/144 [04:53<21:15, 10.90s/it]"
     ]
    },
    {
     "name": "stdout",
     "output_type": "stream",
     "text": [
      "Epoch [1], Train Loss : [0.45229] Val Loss : [0.29007]\n"
     ]
    },
    {
     "name": "stderr",
     "output_type": "stream",
     "text": [
      "100%|██████████| 36/36 [00:10<00:00,  3.45it/s]\n",
      " 19%|█▉        | 28/144 [05:04<21:05, 10.91s/it]"
     ]
    },
    {
     "name": "stdout",
     "output_type": "stream",
     "text": [
      "Epoch [1], Train Loss : [0.44737] Val Loss : [0.29080]\n"
     ]
    },
    {
     "name": "stderr",
     "output_type": "stream",
     "text": [
      "100%|██████████| 36/36 [00:10<00:00,  3.53it/s]\n",
      " 20%|██        | 29/144 [05:14<20:49, 10.87s/it]"
     ]
    },
    {
     "name": "stdout",
     "output_type": "stream",
     "text": [
      "Epoch [1], Train Loss : [0.44095] Val Loss : [0.27437]\n"
     ]
    },
    {
     "name": "stderr",
     "output_type": "stream",
     "text": [
      "100%|██████████| 36/36 [00:10<00:00,  3.53it/s]\n",
      " 21%|██        | 30/144 [05:25<20:35, 10.84s/it]"
     ]
    },
    {
     "name": "stdout",
     "output_type": "stream",
     "text": [
      "Epoch [1], Train Loss : [0.43702] Val Loss : [0.26703]\n"
     ]
    },
    {
     "name": "stderr",
     "output_type": "stream",
     "text": [
      "100%|██████████| 36/36 [00:10<00:00,  3.53it/s]\n",
      " 22%|██▏       | 31/144 [05:36<20:21, 10.81s/it]"
     ]
    },
    {
     "name": "stdout",
     "output_type": "stream",
     "text": [
      "Epoch [1], Train Loss : [0.42894] Val Loss : [0.27576]\n"
     ]
    },
    {
     "name": "stderr",
     "output_type": "stream",
     "text": [
      "100%|██████████| 36/36 [00:10<00:00,  3.45it/s]\n",
      " 22%|██▏       | 32/144 [05:47<20:15, 10.85s/it]"
     ]
    },
    {
     "name": "stdout",
     "output_type": "stream",
     "text": [
      "Epoch [1], Train Loss : [0.42427] Val Loss : [0.26900]\n"
     ]
    },
    {
     "name": "stderr",
     "output_type": "stream",
     "text": [
      "100%|██████████| 36/36 [00:10<00:00,  3.52it/s]\n",
      " 23%|██▎       | 33/144 [05:58<20:01, 10.82s/it]"
     ]
    },
    {
     "name": "stdout",
     "output_type": "stream",
     "text": [
      "Epoch [1], Train Loss : [0.41872] Val Loss : [0.25485]\n"
     ]
    },
    {
     "name": "stderr",
     "output_type": "stream",
     "text": [
      "100%|██████████| 36/36 [00:10<00:00,  3.54it/s]\n",
      " 24%|██▎       | 34/144 [06:08<19:48, 10.80s/it]"
     ]
    },
    {
     "name": "stdout",
     "output_type": "stream",
     "text": [
      "Epoch [1], Train Loss : [0.41525] Val Loss : [0.24588]\n"
     ]
    },
    {
     "name": "stderr",
     "output_type": "stream",
     "text": [
      "100%|██████████| 36/36 [00:10<00:00,  3.52it/s]\n",
      " 24%|██▍       | 35/144 [06:19<19:37, 10.80s/it]"
     ]
    },
    {
     "name": "stdout",
     "output_type": "stream",
     "text": [
      "Epoch [1], Train Loss : [0.40728] Val Loss : [0.24538]\n"
     ]
    },
    {
     "name": "stderr",
     "output_type": "stream",
     "text": [
      "100%|██████████| 36/36 [00:10<00:00,  3.54it/s]\n",
      " 25%|██▌       | 36/144 [06:30<19:25, 10.79s/it]"
     ]
    },
    {
     "name": "stdout",
     "output_type": "stream",
     "text": [
      "Epoch [1], Train Loss : [0.40556] Val Loss : [0.24299]\n"
     ]
    },
    {
     "name": "stderr",
     "output_type": "stream",
     "text": [
      "100%|██████████| 36/36 [00:10<00:00,  3.53it/s]\n",
      " 26%|██▌       | 37/144 [06:41<19:12, 10.78s/it]"
     ]
    },
    {
     "name": "stdout",
     "output_type": "stream",
     "text": [
      "Epoch [1], Train Loss : [0.40040] Val Loss : [0.23503]\n"
     ]
    },
    {
     "name": "stderr",
     "output_type": "stream",
     "text": [
      "100%|██████████| 36/36 [00:10<00:00,  3.45it/s]\n",
      " 26%|██▋       | 38/144 [06:52<19:09, 10.84s/it]"
     ]
    },
    {
     "name": "stdout",
     "output_type": "stream",
     "text": [
      "Epoch [1], Train Loss : [0.39587] Val Loss : [0.22914]\n"
     ]
    },
    {
     "name": "stderr",
     "output_type": "stream",
     "text": [
      "100%|██████████| 36/36 [00:10<00:00,  3.31it/s]\n",
      " 27%|██▋       | 39/144 [07:03<19:16, 11.01s/it]"
     ]
    },
    {
     "name": "stdout",
     "output_type": "stream",
     "text": [
      "Epoch [1], Train Loss : [0.39212] Val Loss : [0.22420]\n"
     ]
    },
    {
     "name": "stderr",
     "output_type": "stream",
     "text": [
      "100%|██████████| 36/36 [00:10<00:00,  3.40it/s]\n",
      " 28%|██▊       | 40/144 [07:14<19:07, 11.04s/it]"
     ]
    },
    {
     "name": "stdout",
     "output_type": "stream",
     "text": [
      "Epoch [1], Train Loss : [0.38875] Val Loss : [0.23858]\n"
     ]
    },
    {
     "name": "stderr",
     "output_type": "stream",
     "text": [
      "100%|██████████| 36/36 [00:10<00:00,  3.54it/s]\n",
      " 28%|██▊       | 41/144 [07:25<18:45, 10.93s/it]"
     ]
    },
    {
     "name": "stdout",
     "output_type": "stream",
     "text": [
      "Epoch [1], Train Loss : [0.38562] Val Loss : [0.25158]\n"
     ]
    },
    {
     "name": "stderr",
     "output_type": "stream",
     "text": [
      "100%|██████████| 36/36 [00:10<00:00,  3.42it/s]\n",
      " 29%|██▉       | 42/144 [07:36<18:38, 10.96s/it]"
     ]
    },
    {
     "name": "stdout",
     "output_type": "stream",
     "text": [
      "Epoch [1], Train Loss : [0.38215] Val Loss : [0.23719]\n"
     ]
    },
    {
     "name": "stderr",
     "output_type": "stream",
     "text": [
      "100%|██████████| 36/36 [00:10<00:00,  3.54it/s]\n",
      " 30%|██▉       | 43/144 [07:47<18:21, 10.90s/it]"
     ]
    },
    {
     "name": "stdout",
     "output_type": "stream",
     "text": [
      "Epoch [1], Train Loss : [0.37834] Val Loss : [0.21580]\n"
     ]
    },
    {
     "name": "stderr",
     "output_type": "stream",
     "text": [
      "100%|██████████| 36/36 [00:10<00:00,  3.44it/s]\n",
      " 31%|███       | 44/144 [07:58<18:13, 10.94s/it]"
     ]
    },
    {
     "name": "stdout",
     "output_type": "stream",
     "text": [
      "Epoch [1], Train Loss : [0.37413] Val Loss : [0.20764]\n"
     ]
    },
    {
     "name": "stderr",
     "output_type": "stream",
     "text": [
      "100%|██████████| 36/36 [00:10<00:00,  3.43it/s]\n",
      " 31%|███▏      | 45/144 [08:09<18:04, 10.96s/it]"
     ]
    },
    {
     "name": "stdout",
     "output_type": "stream",
     "text": [
      "Epoch [1], Train Loss : [0.37149] Val Loss : [0.21191]\n"
     ]
    },
    {
     "name": "stderr",
     "output_type": "stream",
     "text": [
      "100%|██████████| 36/36 [00:10<00:00,  3.45it/s]\n",
      " 32%|███▏      | 46/144 [08:20<17:52, 10.95s/it]"
     ]
    },
    {
     "name": "stdout",
     "output_type": "stream",
     "text": [
      "Epoch [1], Train Loss : [0.36854] Val Loss : [0.21347]\n"
     ]
    },
    {
     "name": "stderr",
     "output_type": "stream",
     "text": [
      "100%|██████████| 36/36 [00:10<00:00,  3.52it/s]\n",
      " 33%|███▎      | 47/144 [08:30<17:35, 10.88s/it]"
     ]
    },
    {
     "name": "stdout",
     "output_type": "stream",
     "text": [
      "Epoch [1], Train Loss : [0.36410] Val Loss : [0.21368]\n"
     ]
    },
    {
     "name": "stderr",
     "output_type": "stream",
     "text": [
      "100%|██████████| 36/36 [00:10<00:00,  3.53it/s]\n",
      " 33%|███▎      | 48/144 [08:41<17:20, 10.83s/it]"
     ]
    },
    {
     "name": "stdout",
     "output_type": "stream",
     "text": [
      "Epoch [1], Train Loss : [0.36212] Val Loss : [0.21050]\n"
     ]
    },
    {
     "name": "stderr",
     "output_type": "stream",
     "text": [
      "100%|██████████| 36/36 [00:10<00:00,  3.43it/s]\n",
      " 34%|███▍      | 49/144 [08:52<17:12, 10.87s/it]"
     ]
    },
    {
     "name": "stdout",
     "output_type": "stream",
     "text": [
      "Epoch [1], Train Loss : [0.35898] Val Loss : [0.20777]\n"
     ]
    },
    {
     "name": "stderr",
     "output_type": "stream",
     "text": [
      "100%|██████████| 36/36 [00:10<00:00,  3.53it/s]\n",
      " 35%|███▍      | 50/144 [09:03<16:56, 10.82s/it]"
     ]
    },
    {
     "name": "stdout",
     "output_type": "stream",
     "text": [
      "Epoch [1], Train Loss : [0.35599] Val Loss : [0.20719]\n"
     ]
    },
    {
     "name": "stderr",
     "output_type": "stream",
     "text": [
      "100%|██████████| 36/36 [00:10<00:00,  3.51it/s]\n",
      " 35%|███▌      | 51/144 [09:14<16:46, 10.83s/it]"
     ]
    },
    {
     "name": "stdout",
     "output_type": "stream",
     "text": [
      "Epoch [1], Train Loss : [0.35310] Val Loss : [0.19841]\n"
     ]
    },
    {
     "name": "stderr",
     "output_type": "stream",
     "text": [
      "100%|██████████| 36/36 [00:10<00:00,  3.53it/s]\n",
      " 36%|███▌      | 52/144 [09:24<16:33, 10.80s/it]"
     ]
    },
    {
     "name": "stdout",
     "output_type": "stream",
     "text": [
      "Epoch [1], Train Loss : [0.35009] Val Loss : [0.19326]\n"
     ]
    },
    {
     "name": "stderr",
     "output_type": "stream",
     "text": [
      "100%|██████████| 36/36 [00:10<00:00,  3.53it/s]\n",
      " 37%|███▋      | 53/144 [09:35<16:22, 10.80s/it]"
     ]
    },
    {
     "name": "stdout",
     "output_type": "stream",
     "text": [
      "Epoch [1], Train Loss : [0.34567] Val Loss : [0.18960]\n"
     ]
    },
    {
     "name": "stderr",
     "output_type": "stream",
     "text": [
      "100%|██████████| 36/36 [00:10<00:00,  3.55it/s]\n",
      " 38%|███▊      | 54/144 [09:46<16:09, 10.78s/it]"
     ]
    },
    {
     "name": "stdout",
     "output_type": "stream",
     "text": [
      "Epoch [1], Train Loss : [0.34398] Val Loss : [0.18200]\n"
     ]
    },
    {
     "name": "stderr",
     "output_type": "stream",
     "text": [
      "100%|██████████| 36/36 [00:10<00:00,  3.44it/s]\n",
      " 38%|███▊      | 55/144 [09:57<16:05, 10.85s/it]"
     ]
    },
    {
     "name": "stdout",
     "output_type": "stream",
     "text": [
      "Epoch [1], Train Loss : [0.34064] Val Loss : [0.18123]\n"
     ]
    },
    {
     "name": "stderr",
     "output_type": "stream",
     "text": [
      "100%|██████████| 36/36 [00:10<00:00,  3.43it/s]\n",
      " 39%|███▉      | 56/144 [10:08<15:59, 10.90s/it]"
     ]
    },
    {
     "name": "stdout",
     "output_type": "stream",
     "text": [
      "Epoch [1], Train Loss : [0.33632] Val Loss : [0.18651]\n"
     ]
    },
    {
     "name": "stderr",
     "output_type": "stream",
     "text": [
      "100%|██████████| 36/36 [00:10<00:00,  3.52it/s]\n",
      " 40%|███▉      | 57/144 [10:19<15:44, 10.86s/it]"
     ]
    },
    {
     "name": "stdout",
     "output_type": "stream",
     "text": [
      "Epoch [1], Train Loss : [0.33245] Val Loss : [0.19253]\n"
     ]
    },
    {
     "name": "stderr",
     "output_type": "stream",
     "text": [
      "100%|██████████| 36/36 [00:10<00:00,  3.55it/s]\n",
      " 40%|████      | 58/144 [10:29<15:29, 10.81s/it]"
     ]
    },
    {
     "name": "stdout",
     "output_type": "stream",
     "text": [
      "Epoch [1], Train Loss : [0.33025] Val Loss : [0.20172]\n"
     ]
    },
    {
     "name": "stderr",
     "output_type": "stream",
     "text": [
      "100%|██████████| 36/36 [00:10<00:00,  3.53it/s]\n",
      " 41%|████      | 59/144 [10:40<15:16, 10.78s/it]"
     ]
    },
    {
     "name": "stdout",
     "output_type": "stream",
     "text": [
      "Epoch [1], Train Loss : [0.32871] Val Loss : [0.20465]\n"
     ]
    },
    {
     "name": "stderr",
     "output_type": "stream",
     "text": [
      "100%|██████████| 36/36 [00:10<00:00,  3.40it/s]\n",
      " 42%|████▏     | 60/144 [10:51<15:13, 10.87s/it]"
     ]
    },
    {
     "name": "stdout",
     "output_type": "stream",
     "text": [
      "Epoch [1], Train Loss : [0.32684] Val Loss : [0.18683]\n"
     ]
    },
    {
     "name": "stderr",
     "output_type": "stream",
     "text": [
      "100%|██████████| 36/36 [00:10<00:00,  3.53it/s]\n",
      " 42%|████▏     | 61/144 [11:02<14:59, 10.83s/it]"
     ]
    },
    {
     "name": "stdout",
     "output_type": "stream",
     "text": [
      "Epoch [1], Train Loss : [0.32431] Val Loss : [0.17716]\n"
     ]
    },
    {
     "name": "stderr",
     "output_type": "stream",
     "text": [
      "100%|██████████| 36/36 [00:10<00:00,  3.54it/s]\n",
      " 43%|████▎     | 62/144 [11:13<14:45, 10.80s/it]"
     ]
    },
    {
     "name": "stdout",
     "output_type": "stream",
     "text": [
      "Epoch [1], Train Loss : [0.32131] Val Loss : [0.18833]\n"
     ]
    },
    {
     "name": "stderr",
     "output_type": "stream",
     "text": [
      "100%|██████████| 36/36 [00:10<00:00,  3.51it/s]\n",
      " 44%|████▍     | 63/144 [11:23<14:32, 10.77s/it]"
     ]
    },
    {
     "name": "stdout",
     "output_type": "stream",
     "text": [
      "Epoch [1], Train Loss : [0.31943] Val Loss : [0.20816]\n"
     ]
    },
    {
     "name": "stderr",
     "output_type": "stream",
     "text": [
      "100%|██████████| 36/36 [00:10<00:00,  3.54it/s]\n",
      " 44%|████▍     | 64/144 [11:34<14:19, 10.75s/it]"
     ]
    },
    {
     "name": "stdout",
     "output_type": "stream",
     "text": [
      "Epoch [1], Train Loss : [0.31790] Val Loss : [0.19923]\n"
     ]
    },
    {
     "name": "stderr",
     "output_type": "stream",
     "text": [
      "100%|██████████| 36/36 [00:10<00:00,  3.50it/s]\n",
      " 45%|████▌     | 65/144 [11:45<14:09, 10.75s/it]"
     ]
    },
    {
     "name": "stdout",
     "output_type": "stream",
     "text": [
      "Epoch [1], Train Loss : [0.31588] Val Loss : [0.19231]\n"
     ]
    },
    {
     "name": "stderr",
     "output_type": "stream",
     "text": [
      "100%|██████████| 36/36 [00:10<00:00,  3.49it/s]\n",
      " 46%|████▌     | 66/144 [11:56<14:00, 10.77s/it]"
     ]
    },
    {
     "name": "stdout",
     "output_type": "stream",
     "text": [
      "Epoch [1], Train Loss : [0.31387] Val Loss : [0.18967]\n"
     ]
    },
    {
     "name": "stderr",
     "output_type": "stream",
     "text": [
      "100%|██████████| 36/36 [00:10<00:00,  3.33it/s]\n",
      " 46%|████▌     | 66/144 [12:07<14:19, 11.02s/it]\n"
     ]
    },
    {
     "name": "stdout",
     "output_type": "stream",
     "text": [
      "Epoch [1], Train Loss : [0.31140] Val Loss : [0.18708]\n",
      "Early stopping triggered! No improvement in validation loss.\n"
     ]
    },
    {
     "name": "stderr",
     "output_type": "stream",
     "text": [
      "100%|██████████| 36/36 [00:10<00:00,  3.54it/s]\n",
      "  0%|          | 0/144 [00:10<?, ?it/s]\n"
     ]
    },
    {
     "name": "stdout",
     "output_type": "stream",
     "text": [
      "Epoch [2], Train Loss : [0.63073] Val Loss : [0.17721]\n",
      "Epoch 00068: reducing learning rate of group 0 to 1.5000e-04.\n",
      "Early stopping triggered! No improvement in validation loss.\n"
     ]
    },
    {
     "name": "stderr",
     "output_type": "stream",
     "text": [
      "100%|██████████| 36/36 [00:10<00:00,  3.54it/s]\n",
      "  1%|          | 1/144 [00:10<25:36, 10.75s/it]"
     ]
    },
    {
     "name": "stdout",
     "output_type": "stream",
     "text": [
      "Epoch [3], Train Loss : [0.73477] Val Loss : [0.17184]\n"
     ]
    },
    {
     "name": "stderr",
     "output_type": "stream",
     "text": [
      "100%|██████████| 36/36 [00:10<00:00,  3.49it/s]\n",
      "  1%|▏         | 2/144 [00:21<25:29, 10.77s/it]"
     ]
    },
    {
     "name": "stdout",
     "output_type": "stream",
     "text": [
      "Epoch [3], Train Loss : [0.45792] Val Loss : [0.17358]\n"
     ]
    },
    {
     "name": "stderr",
     "output_type": "stream",
     "text": [
      "100%|██████████| 36/36 [00:10<00:00,  3.51it/s]\n",
      "  2%|▏         | 3/144 [00:32<25:20, 10.78s/it]"
     ]
    },
    {
     "name": "stdout",
     "output_type": "stream",
     "text": [
      "Epoch [3], Train Loss : [0.35318] Val Loss : [0.17162]\n"
     ]
    },
    {
     "name": "stderr",
     "output_type": "stream",
     "text": [
      "100%|██████████| 36/36 [00:10<00:00,  3.51it/s]\n",
      "  3%|▎         | 4/144 [00:43<25:09, 10.78s/it]"
     ]
    },
    {
     "name": "stdout",
     "output_type": "stream",
     "text": [
      "Epoch [3], Train Loss : [0.30660] Val Loss : [0.16721]\n"
     ]
    },
    {
     "name": "stderr",
     "output_type": "stream",
     "text": [
      "100%|██████████| 36/36 [00:10<00:00,  3.53it/s]\n",
      "  3%|▎         | 5/144 [00:53<24:57, 10.77s/it]"
     ]
    },
    {
     "name": "stdout",
     "output_type": "stream",
     "text": [
      "Epoch [3], Train Loss : [0.27255] Val Loss : [0.16109]\n"
     ]
    },
    {
     "name": "stderr",
     "output_type": "stream",
     "text": [
      "100%|██████████| 36/36 [00:10<00:00,  3.55it/s]\n",
      "  4%|▍         | 6/144 [01:04<24:43, 10.75s/it]"
     ]
    },
    {
     "name": "stdout",
     "output_type": "stream",
     "text": [
      "Epoch [3], Train Loss : [0.24223] Val Loss : [0.15708]\n"
     ]
    },
    {
     "name": "stderr",
     "output_type": "stream",
     "text": [
      "100%|██████████| 36/36 [00:10<00:00,  3.43it/s]\n",
      "  5%|▍         | 7/144 [01:15<24:45, 10.84s/it]"
     ]
    },
    {
     "name": "stdout",
     "output_type": "stream",
     "text": [
      "Epoch [3], Train Loss : [0.22660] Val Loss : [0.15590]\n"
     ]
    },
    {
     "name": "stderr",
     "output_type": "stream",
     "text": [
      "100%|██████████| 36/36 [00:10<00:00,  3.54it/s]\n",
      "  6%|▌         | 8/144 [01:26<24:29, 10.80s/it]"
     ]
    },
    {
     "name": "stdout",
     "output_type": "stream",
     "text": [
      "Epoch [3], Train Loss : [0.21181] Val Loss : [0.15766]\n"
     ]
    },
    {
     "name": "stderr",
     "output_type": "stream",
     "text": [
      "100%|██████████| 36/36 [00:10<00:00,  3.54it/s]\n",
      "  6%|▋         | 9/144 [01:36<24:11, 10.75s/it]"
     ]
    },
    {
     "name": "stdout",
     "output_type": "stream",
     "text": [
      "Epoch [3], Train Loss : [0.20313] Val Loss : [0.15671]\n"
     ]
    },
    {
     "name": "stderr",
     "output_type": "stream",
     "text": [
      "100%|██████████| 36/36 [00:10<00:00,  3.43it/s]\n",
      "  7%|▋         | 10/144 [01:48<24:13, 10.85s/it]"
     ]
    },
    {
     "name": "stdout",
     "output_type": "stream",
     "text": [
      "Epoch [3], Train Loss : [0.19153] Val Loss : [0.15432]\n"
     ]
    },
    {
     "name": "stderr",
     "output_type": "stream",
     "text": [
      "100%|██████████| 36/36 [00:10<00:00,  3.54it/s]\n",
      "  8%|▊         | 11/144 [01:58<23:58, 10.82s/it]"
     ]
    },
    {
     "name": "stdout",
     "output_type": "stream",
     "text": [
      "Epoch [3], Train Loss : [0.18431] Val Loss : [0.14804]\n"
     ]
    },
    {
     "name": "stderr",
     "output_type": "stream",
     "text": [
      "100%|██████████| 36/36 [00:10<00:00,  3.53it/s]\n",
      "  8%|▊         | 12/144 [02:09<23:45, 10.80s/it]"
     ]
    },
    {
     "name": "stdout",
     "output_type": "stream",
     "text": [
      "Epoch [3], Train Loss : [0.18034] Val Loss : [0.14148]\n"
     ]
    },
    {
     "name": "stderr",
     "output_type": "stream",
     "text": [
      "100%|██████████| 36/36 [00:10<00:00,  3.45it/s]\n",
      "  9%|▉         | 13/144 [02:20<23:42, 10.86s/it]"
     ]
    },
    {
     "name": "stdout",
     "output_type": "stream",
     "text": [
      "Epoch [3], Train Loss : [0.17348] Val Loss : [0.13606]\n"
     ]
    },
    {
     "name": "stderr",
     "output_type": "stream",
     "text": [
      "100%|██████████| 36/36 [00:10<00:00,  3.54it/s]\n",
      " 10%|▉         | 14/144 [02:31<23:24, 10.81s/it]"
     ]
    },
    {
     "name": "stdout",
     "output_type": "stream",
     "text": [
      "Epoch [3], Train Loss : [0.17153] Val Loss : [0.13387]\n"
     ]
    },
    {
     "name": "stderr",
     "output_type": "stream",
     "text": [
      "100%|██████████| 36/36 [00:10<00:00,  3.54it/s]\n",
      " 10%|█         | 15/144 [02:41<23:09, 10.78s/it]"
     ]
    },
    {
     "name": "stdout",
     "output_type": "stream",
     "text": [
      "Epoch [3], Train Loss : [0.17128] Val Loss : [0.13390]\n"
     ]
    },
    {
     "name": "stderr",
     "output_type": "stream",
     "text": [
      "100%|██████████| 36/36 [00:10<00:00,  3.51it/s]\n",
      " 11%|█         | 16/144 [02:52<22:56, 10.76s/it]"
     ]
    },
    {
     "name": "stdout",
     "output_type": "stream",
     "text": [
      "Epoch [3], Train Loss : [0.16531] Val Loss : [0.13523]\n"
     ]
    },
    {
     "name": "stderr",
     "output_type": "stream",
     "text": [
      "100%|██████████| 36/36 [00:10<00:00,  3.55it/s]\n",
      " 12%|█▏        | 17/144 [03:03<22:43, 10.73s/it]"
     ]
    },
    {
     "name": "stdout",
     "output_type": "stream",
     "text": [
      "Epoch [3], Train Loss : [0.16187] Val Loss : [0.13606]\n"
     ]
    },
    {
     "name": "stderr",
     "output_type": "stream",
     "text": [
      "100%|██████████| 36/36 [00:10<00:00,  3.54it/s]\n",
      " 12%|█▎        | 18/144 [03:13<22:27, 10.70s/it]"
     ]
    },
    {
     "name": "stdout",
     "output_type": "stream",
     "text": [
      "Epoch [3], Train Loss : [0.15834] Val Loss : [0.13937]\n"
     ]
    },
    {
     "name": "stderr",
     "output_type": "stream",
     "text": [
      "100%|██████████| 36/36 [00:10<00:00,  3.44it/s]\n",
      " 13%|█▎        | 19/144 [03:24<22:28, 10.79s/it]"
     ]
    },
    {
     "name": "stdout",
     "output_type": "stream",
     "text": [
      "Epoch [3], Train Loss : [0.15602] Val Loss : [0.14058]\n"
     ]
    },
    {
     "name": "stderr",
     "output_type": "stream",
     "text": [
      "100%|██████████| 36/36 [00:10<00:00,  3.50it/s]\n",
      " 13%|█▎        | 19/144 [03:35<23:38, 11.35s/it]\n"
     ]
    },
    {
     "name": "stdout",
     "output_type": "stream",
     "text": [
      "Epoch [3], Train Loss : [0.15714] Val Loss : [0.13872]\n",
      "Early stopping triggered! No improvement in validation loss.\n"
     ]
    },
    {
     "name": "stderr",
     "output_type": "stream",
     "text": [
      "100%|██████████| 36/36 [00:10<00:00,  3.54it/s]\n",
      "  0%|          | 0/144 [00:10<?, ?it/s]\n"
     ]
    },
    {
     "name": "stdout",
     "output_type": "stream",
     "text": [
      "Epoch [4], Train Loss : [0.34376] Val Loss : [0.13807]\n",
      "Epoch 00089: reducing learning rate of group 0 to 7.5000e-05.\n",
      "Early stopping triggered! No improvement in validation loss.\n"
     ]
    },
    {
     "name": "stderr",
     "output_type": "stream",
     "text": [
      "100%|██████████| 36/36 [00:10<00:00,  3.46it/s]\n",
      "  0%|          | 0/144 [00:10<?, ?it/s]\n"
     ]
    },
    {
     "name": "stdout",
     "output_type": "stream",
     "text": [
      "Epoch [5], Train Loss : [0.40797] Val Loss : [0.14137]\n",
      "Early stopping triggered! No improvement in validation loss.\n"
     ]
    },
    {
     "name": "stderr",
     "output_type": "stream",
     "text": [
      "100%|██████████| 36/36 [00:10<00:00,  3.55it/s]\n",
      "  0%|          | 0/144 [00:10<?, ?it/s]\n"
     ]
    },
    {
     "name": "stdout",
     "output_type": "stream",
     "text": [
      "Epoch [6], Train Loss : [0.48710] Val Loss : [0.14531]\n",
      "Early stopping triggered! No improvement in validation loss.\n"
     ]
    },
    {
     "name": "stderr",
     "output_type": "stream",
     "text": [
      "100%|██████████| 36/36 [00:10<00:00,  3.44it/s]\n",
      "  0%|          | 0/144 [00:10<?, ?it/s]\n"
     ]
    },
    {
     "name": "stdout",
     "output_type": "stream",
     "text": [
      "Epoch [7], Train Loss : [0.47175] Val Loss : [0.15131]\n",
      "Early stopping triggered! No improvement in validation loss.\n"
     ]
    },
    {
     "name": "stderr",
     "output_type": "stream",
     "text": [
      "100%|██████████| 36/36 [00:10<00:00,  3.55it/s]\n",
      "  0%|          | 0/144 [00:10<?, ?it/s]\n"
     ]
    },
    {
     "name": "stdout",
     "output_type": "stream",
     "text": [
      "Epoch [8], Train Loss : [0.40595] Val Loss : [0.15897]\n",
      "Early stopping triggered! No improvement in validation loss.\n"
     ]
    },
    {
     "name": "stderr",
     "output_type": "stream",
     "text": [
      "100%|██████████| 36/36 [00:10<00:00,  3.54it/s]\n",
      "  0%|          | 0/144 [00:10<?, ?it/s]\n"
     ]
    },
    {
     "name": "stdout",
     "output_type": "stream",
     "text": [
      "Epoch [9], Train Loss : [0.49934] Val Loss : [0.16652]\n",
      "Early stopping triggered! No improvement in validation loss.\n"
     ]
    },
    {
     "name": "stderr",
     "output_type": "stream",
     "text": [
      "100%|██████████| 36/36 [00:10<00:00,  3.45it/s]\n",
      "  0%|          | 0/144 [00:10<?, ?it/s]\n"
     ]
    },
    {
     "name": "stdout",
     "output_type": "stream",
     "text": [
      "Epoch [10], Train Loss : [0.43794] Val Loss : [0.17399]\n",
      "Early stopping triggered! No improvement in validation loss.\n"
     ]
    },
    {
     "name": "stderr",
     "output_type": "stream",
     "text": [
      "100%|██████████| 36/36 [00:10<00:00,  3.55it/s]\n",
      "  0%|          | 0/144 [00:10<?, ?it/s]\n"
     ]
    },
    {
     "name": "stdout",
     "output_type": "stream",
     "text": [
      "Epoch [11], Train Loss : [0.48673] Val Loss : [0.18627]\n",
      "Epoch 00096: reducing learning rate of group 0 to 3.7500e-05.\n",
      "Early stopping triggered! No improvement in validation loss.\n"
     ]
    },
    {
     "name": "stderr",
     "output_type": "stream",
     "text": [
      "100%|██████████| 36/36 [00:10<00:00,  3.54it/s]\n",
      "  0%|          | 0/144 [00:10<?, ?it/s]\n"
     ]
    },
    {
     "name": "stdout",
     "output_type": "stream",
     "text": [
      "Epoch [12], Train Loss : [0.51882] Val Loss : [0.19756]\n",
      "Early stopping triggered! No improvement in validation loss.\n"
     ]
    },
    {
     "name": "stderr",
     "output_type": "stream",
     "text": [
      "100%|██████████| 36/36 [00:10<00:00,  3.53it/s]\n",
      "  0%|          | 0/144 [00:10<?, ?it/s]\n"
     ]
    },
    {
     "name": "stdout",
     "output_type": "stream",
     "text": [
      "Epoch [13], Train Loss : [0.36958] Val Loss : [0.20404]\n",
      "Early stopping triggered! No improvement in validation loss.\n"
     ]
    },
    {
     "name": "stderr",
     "output_type": "stream",
     "text": [
      "100%|██████████| 36/36 [00:10<00:00,  3.52it/s]\n",
      "  0%|          | 0/144 [00:10<?, ?it/s]\n"
     ]
    },
    {
     "name": "stdout",
     "output_type": "stream",
     "text": [
      "Epoch [14], Train Loss : [0.37644] Val Loss : [0.21410]\n",
      "Early stopping triggered! No improvement in validation loss.\n"
     ]
    },
    {
     "name": "stderr",
     "output_type": "stream",
     "text": [
      "100%|██████████| 36/36 [00:10<00:00,  3.53it/s]\n",
      "  0%|          | 0/144 [00:10<?, ?it/s]\n"
     ]
    },
    {
     "name": "stdout",
     "output_type": "stream",
     "text": [
      "Epoch [15], Train Loss : [0.47541] Val Loss : [0.22422]\n",
      "Early stopping triggered! No improvement in validation loss.\n"
     ]
    },
    {
     "name": "stderr",
     "output_type": "stream",
     "text": [
      "100%|██████████| 36/36 [00:10<00:00,  3.54it/s]\n",
      "  0%|          | 0/144 [00:10<?, ?it/s]\n"
     ]
    },
    {
     "name": "stdout",
     "output_type": "stream",
     "text": [
      "Epoch [16], Train Loss : [0.34407] Val Loss : [0.23095]\n",
      "Early stopping triggered! No improvement in validation loss.\n"
     ]
    },
    {
     "name": "stderr",
     "output_type": "stream",
     "text": [
      "100%|██████████| 36/36 [00:10<00:00,  3.45it/s]\n",
      "  0%|          | 0/144 [00:10<?, ?it/s]\n"
     ]
    },
    {
     "name": "stdout",
     "output_type": "stream",
     "text": [
      "Epoch [17], Train Loss : [0.44465] Val Loss : [0.23666]\n",
      "Early stopping triggered! No improvement in validation loss.\n"
     ]
    },
    {
     "name": "stderr",
     "output_type": "stream",
     "text": [
      "100%|██████████| 36/36 [00:10<00:00,  3.46it/s]\n",
      "  0%|          | 0/144 [00:10<?, ?it/s]\n"
     ]
    },
    {
     "name": "stdout",
     "output_type": "stream",
     "text": [
      "Epoch [18], Train Loss : [0.33212] Val Loss : [0.24271]\n",
      "Epoch 00103: reducing learning rate of group 0 to 1.8750e-05.\n",
      "Early stopping triggered! No improvement in validation loss.\n"
     ]
    },
    {
     "name": "stderr",
     "output_type": "stream",
     "text": [
      "100%|██████████| 36/36 [00:10<00:00,  3.49it/s]\n",
      "  0%|          | 0/144 [00:10<?, ?it/s]\n"
     ]
    },
    {
     "name": "stdout",
     "output_type": "stream",
     "text": [
      "Epoch [19], Train Loss : [0.37346] Val Loss : [0.25182]\n",
      "Early stopping triggered! No improvement in validation loss.\n"
     ]
    },
    {
     "name": "stderr",
     "output_type": "stream",
     "text": [
      "100%|██████████| 36/36 [00:10<00:00,  3.56it/s]\n",
      "  0%|          | 0/144 [00:10<?, ?it/s]\n"
     ]
    },
    {
     "name": "stdout",
     "output_type": "stream",
     "text": [
      "Epoch [20], Train Loss : [0.35803] Val Loss : [0.25650]\n",
      "Early stopping triggered! No improvement in validation loss.\n"
     ]
    },
    {
     "name": "stderr",
     "output_type": "stream",
     "text": [
      "100%|██████████| 36/36 [00:10<00:00,  3.54it/s]\n",
      "  0%|          | 0/144 [00:10<?, ?it/s]\n"
     ]
    },
    {
     "name": "stdout",
     "output_type": "stream",
     "text": [
      "Epoch [21], Train Loss : [0.43649] Val Loss : [0.26040]\n",
      "Early stopping triggered! No improvement in validation loss.\n"
     ]
    },
    {
     "name": "stderr",
     "output_type": "stream",
     "text": [
      "100%|██████████| 36/36 [00:10<00:00,  3.44it/s]\n",
      "  0%|          | 0/144 [00:10<?, ?it/s]\n"
     ]
    },
    {
     "name": "stdout",
     "output_type": "stream",
     "text": [
      "Epoch [22], Train Loss : [0.32493] Val Loss : [0.26728]\n",
      "Early stopping triggered! No improvement in validation loss.\n"
     ]
    },
    {
     "name": "stderr",
     "output_type": "stream",
     "text": [
      "100%|██████████| 36/36 [00:10<00:00,  3.47it/s]\n",
      "  0%|          | 0/144 [00:10<?, ?it/s]\n"
     ]
    },
    {
     "name": "stdout",
     "output_type": "stream",
     "text": [
      "Epoch [23], Train Loss : [0.37614] Val Loss : [0.27211]\n",
      "Early stopping triggered! No improvement in validation loss.\n"
     ]
    },
    {
     "name": "stderr",
     "output_type": "stream",
     "text": [
      "100%|██████████| 36/36 [00:10<00:00,  3.54it/s]\n",
      "  0%|          | 0/144 [00:10<?, ?it/s]\n"
     ]
    },
    {
     "name": "stdout",
     "output_type": "stream",
     "text": [
      "Epoch [24], Train Loss : [0.35729] Val Loss : [0.27733]\n",
      "Early stopping triggered! No improvement in validation loss.\n"
     ]
    },
    {
     "name": "stderr",
     "output_type": "stream",
     "text": [
      "100%|██████████| 36/36 [00:10<00:00,  3.45it/s]\n",
      "  0%|          | 0/144 [00:10<?, ?it/s]\n"
     ]
    },
    {
     "name": "stdout",
     "output_type": "stream",
     "text": [
      "Epoch [25], Train Loss : [0.25240] Val Loss : [0.27898]\n",
      "Epoch 00110: reducing learning rate of group 0 to 9.3750e-06.\n",
      "Early stopping triggered! No improvement in validation loss.\n"
     ]
    },
    {
     "name": "stderr",
     "output_type": "stream",
     "text": [
      "100%|██████████| 36/36 [00:10<00:00,  3.56it/s]\n",
      "  0%|          | 0/144 [00:10<?, ?it/s]\n"
     ]
    },
    {
     "name": "stdout",
     "output_type": "stream",
     "text": [
      "Epoch [26], Train Loss : [0.40633] Val Loss : [0.28208]\n",
      "Early stopping triggered! No improvement in validation loss.\n"
     ]
    },
    {
     "name": "stderr",
     "output_type": "stream",
     "text": [
      "100%|██████████| 36/36 [00:10<00:00,  3.55it/s]\n",
      "  0%|          | 0/144 [00:10<?, ?it/s]\n"
     ]
    },
    {
     "name": "stdout",
     "output_type": "stream",
     "text": [
      "Epoch [27], Train Loss : [0.33731] Val Loss : [0.28198]\n",
      "Early stopping triggered! No improvement in validation loss.\n"
     ]
    },
    {
     "name": "stderr",
     "output_type": "stream",
     "text": [
      "100%|██████████| 36/36 [00:10<00:00,  3.56it/s]\n",
      "  0%|          | 0/144 [00:10<?, ?it/s]\n"
     ]
    },
    {
     "name": "stdout",
     "output_type": "stream",
     "text": [
      "Epoch [28], Train Loss : [0.44428] Val Loss : [0.28466]\n",
      "Early stopping triggered! No improvement in validation loss.\n"
     ]
    },
    {
     "name": "stderr",
     "output_type": "stream",
     "text": [
      "100%|██████████| 36/36 [00:10<00:00,  3.52it/s]\n",
      "  0%|          | 0/144 [00:10<?, ?it/s]\n"
     ]
    },
    {
     "name": "stdout",
     "output_type": "stream",
     "text": [
      "Epoch [29], Train Loss : [0.27308] Val Loss : [0.28565]\n",
      "Early stopping triggered! No improvement in validation loss.\n"
     ]
    },
    {
     "name": "stderr",
     "output_type": "stream",
     "text": [
      "100%|██████████| 36/36 [00:10<00:00,  3.56it/s]\n",
      "  0%|          | 0/144 [00:10<?, ?it/s]\n"
     ]
    },
    {
     "name": "stdout",
     "output_type": "stream",
     "text": [
      "Epoch [30], Train Loss : [0.46442] Val Loss : [0.29012]\n",
      "Early stopping triggered! No improvement in validation loss.\n"
     ]
    },
    {
     "name": "stderr",
     "output_type": "stream",
     "text": [
      "100%|██████████| 36/36 [00:10<00:00,  3.49it/s]\n",
      "  0%|          | 0/144 [00:10<?, ?it/s]\n"
     ]
    },
    {
     "name": "stdout",
     "output_type": "stream",
     "text": [
      "Epoch [31], Train Loss : [0.27327] Val Loss : [0.29361]\n",
      "Early stopping triggered! No improvement in validation loss.\n"
     ]
    },
    {
     "name": "stderr",
     "output_type": "stream",
     "text": [
      "100%|██████████| 36/36 [00:10<00:00,  3.50it/s]\n",
      "  0%|          | 0/144 [00:10<?, ?it/s]\n"
     ]
    },
    {
     "name": "stdout",
     "output_type": "stream",
     "text": [
      "Epoch [32], Train Loss : [0.30506] Val Loss : [0.29810]\n",
      "Epoch 00117: reducing learning rate of group 0 to 4.6875e-06.\n",
      "Early stopping triggered! No improvement in validation loss.\n"
     ]
    },
    {
     "name": "stderr",
     "output_type": "stream",
     "text": [
      "100%|██████████| 36/36 [00:10<00:00,  3.52it/s]\n",
      "  0%|          | 0/144 [00:10<?, ?it/s]\n"
     ]
    },
    {
     "name": "stdout",
     "output_type": "stream",
     "text": [
      "Epoch [33], Train Loss : [0.37078] Val Loss : [0.29850]\n",
      "Early stopping triggered! No improvement in validation loss.\n"
     ]
    },
    {
     "name": "stderr",
     "output_type": "stream",
     "text": [
      "100%|██████████| 36/36 [00:10<00:00,  3.50it/s]\n",
      "  0%|          | 0/144 [00:10<?, ?it/s]\n"
     ]
    },
    {
     "name": "stdout",
     "output_type": "stream",
     "text": [
      "Epoch [34], Train Loss : [0.36256] Val Loss : [0.30104]\n",
      "Early stopping triggered! No improvement in validation loss.\n"
     ]
    },
    {
     "name": "stderr",
     "output_type": "stream",
     "text": [
      "100%|██████████| 36/36 [00:10<00:00,  3.49it/s]\n",
      "  0%|          | 0/144 [00:10<?, ?it/s]\n"
     ]
    },
    {
     "name": "stdout",
     "output_type": "stream",
     "text": [
      "Epoch [35], Train Loss : [0.35078] Val Loss : [0.30388]\n",
      "Early stopping triggered! No improvement in validation loss.\n"
     ]
    },
    {
     "name": "stderr",
     "output_type": "stream",
     "text": [
      "100%|██████████| 36/36 [00:10<00:00,  3.54it/s]\n",
      "  0%|          | 0/144 [00:10<?, ?it/s]\n"
     ]
    },
    {
     "name": "stdout",
     "output_type": "stream",
     "text": [
      "Epoch [36], Train Loss : [0.33997] Val Loss : [0.30662]\n",
      "Early stopping triggered! No improvement in validation loss.\n"
     ]
    },
    {
     "name": "stderr",
     "output_type": "stream",
     "text": [
      "100%|██████████| 36/36 [00:10<00:00,  3.52it/s]\n",
      "  0%|          | 0/144 [00:10<?, ?it/s]\n"
     ]
    },
    {
     "name": "stdout",
     "output_type": "stream",
     "text": [
      "Epoch [37], Train Loss : [0.33795] Val Loss : [0.30532]\n",
      "Early stopping triggered! No improvement in validation loss.\n"
     ]
    },
    {
     "name": "stderr",
     "output_type": "stream",
     "text": [
      "100%|██████████| 36/36 [00:10<00:00,  3.52it/s]\n",
      "  0%|          | 0/144 [00:10<?, ?it/s]\n"
     ]
    },
    {
     "name": "stdout",
     "output_type": "stream",
     "text": [
      "Epoch [38], Train Loss : [0.38242] Val Loss : [0.30567]\n",
      "Early stopping triggered! No improvement in validation loss.\n"
     ]
    },
    {
     "name": "stderr",
     "output_type": "stream",
     "text": [
      "100%|██████████| 36/36 [00:10<00:00,  3.51it/s]\n",
      "  0%|          | 0/144 [00:10<?, ?it/s]\n"
     ]
    },
    {
     "name": "stdout",
     "output_type": "stream",
     "text": [
      "Epoch [39], Train Loss : [0.25031] Val Loss : [0.30613]\n",
      "Epoch 00124: reducing learning rate of group 0 to 2.3437e-06.\n",
      "Early stopping triggered! No improvement in validation loss.\n"
     ]
    },
    {
     "name": "stderr",
     "output_type": "stream",
     "text": [
      "100%|██████████| 36/36 [00:10<00:00,  3.51it/s]\n",
      "  0%|          | 0/144 [00:10<?, ?it/s]\n"
     ]
    },
    {
     "name": "stdout",
     "output_type": "stream",
     "text": [
      "Epoch [40], Train Loss : [0.41494] Val Loss : [0.30707]\n",
      "Early stopping triggered! No improvement in validation loss.\n"
     ]
    },
    {
     "name": "stderr",
     "output_type": "stream",
     "text": [
      "100%|██████████| 36/36 [00:10<00:00,  3.55it/s]\n",
      "  0%|          | 0/144 [00:10<?, ?it/s]\n"
     ]
    },
    {
     "name": "stdout",
     "output_type": "stream",
     "text": [
      "Epoch [41], Train Loss : [0.37085] Val Loss : [0.31063]\n",
      "Early stopping triggered! No improvement in validation loss.\n"
     ]
    },
    {
     "name": "stderr",
     "output_type": "stream",
     "text": [
      "100%|██████████| 36/36 [00:10<00:00,  3.53it/s]\n",
      "  0%|          | 0/144 [00:10<?, ?it/s]\n"
     ]
    },
    {
     "name": "stdout",
     "output_type": "stream",
     "text": [
      "Epoch [42], Train Loss : [0.32694] Val Loss : [0.31326]\n",
      "Early stopping triggered! No improvement in validation loss.\n"
     ]
    },
    {
     "name": "stderr",
     "output_type": "stream",
     "text": [
      "100%|██████████| 36/36 [00:10<00:00,  3.49it/s]\n",
      "  0%|          | 0/144 [00:10<?, ?it/s]\n"
     ]
    },
    {
     "name": "stdout",
     "output_type": "stream",
     "text": [
      "Epoch [43], Train Loss : [0.40431] Val Loss : [0.31262]\n",
      "Early stopping triggered! No improvement in validation loss.\n"
     ]
    },
    {
     "name": "stderr",
     "output_type": "stream",
     "text": [
      "100%|██████████| 36/36 [00:10<00:00,  3.53it/s]\n",
      "  0%|          | 0/144 [00:10<?, ?it/s]\n"
     ]
    },
    {
     "name": "stdout",
     "output_type": "stream",
     "text": [
      "Epoch [44], Train Loss : [0.37762] Val Loss : [0.31108]\n",
      "Early stopping triggered! No improvement in validation loss.\n"
     ]
    },
    {
     "name": "stderr",
     "output_type": "stream",
     "text": [
      "100%|██████████| 36/36 [00:10<00:00,  3.55it/s]\n",
      "  0%|          | 0/144 [00:10<?, ?it/s]\n"
     ]
    },
    {
     "name": "stdout",
     "output_type": "stream",
     "text": [
      "Epoch [45], Train Loss : [0.31483] Val Loss : [0.31346]\n",
      "Early stopping triggered! No improvement in validation loss.\n"
     ]
    },
    {
     "name": "stderr",
     "output_type": "stream",
     "text": [
      "100%|██████████| 36/36 [00:10<00:00,  3.45it/s]\n",
      "  0%|          | 0/144 [00:10<?, ?it/s]\n"
     ]
    },
    {
     "name": "stdout",
     "output_type": "stream",
     "text": [
      "Epoch [46], Train Loss : [0.38943] Val Loss : [0.31162]\n",
      "Epoch 00131: reducing learning rate of group 0 to 1.1719e-06.\n",
      "Early stopping triggered! No improvement in validation loss.\n"
     ]
    },
    {
     "name": "stderr",
     "output_type": "stream",
     "text": [
      "100%|██████████| 36/36 [00:10<00:00,  3.55it/s]\n",
      "  0%|          | 0/144 [00:10<?, ?it/s]\n"
     ]
    },
    {
     "name": "stdout",
     "output_type": "stream",
     "text": [
      "Epoch [47], Train Loss : [0.33468] Val Loss : [0.31144]\n",
      "Early stopping triggered! No improvement in validation loss.\n"
     ]
    },
    {
     "name": "stderr",
     "output_type": "stream",
     "text": [
      "100%|██████████| 36/36 [00:10<00:00,  3.44it/s]\n",
      "  0%|          | 0/144 [00:10<?, ?it/s]\n"
     ]
    },
    {
     "name": "stdout",
     "output_type": "stream",
     "text": [
      "Epoch [48], Train Loss : [0.48144] Val Loss : [0.31078]\n",
      "Early stopping triggered! No improvement in validation loss.\n"
     ]
    },
    {
     "name": "stderr",
     "output_type": "stream",
     "text": [
      "100%|██████████| 36/36 [00:10<00:00,  3.47it/s]\n",
      "  0%|          | 0/144 [00:10<?, ?it/s]\n"
     ]
    },
    {
     "name": "stdout",
     "output_type": "stream",
     "text": [
      "Epoch [49], Train Loss : [0.43917] Val Loss : [0.30936]\n",
      "Early stopping triggered! No improvement in validation loss.\n"
     ]
    },
    {
     "name": "stderr",
     "output_type": "stream",
     "text": [
      "100%|██████████| 36/36 [00:10<00:00,  3.42it/s]\n",
      "  0%|          | 0/144 [00:11<?, ?it/s]\n"
     ]
    },
    {
     "name": "stdout",
     "output_type": "stream",
     "text": [
      "Epoch [50], Train Loss : [0.46088] Val Loss : [0.31590]\n",
      "Early stopping triggered! No improvement in validation loss.\n"
     ]
    },
    {
     "name": "stderr",
     "output_type": "stream",
     "text": [
      "100%|██████████| 36/36 [00:10<00:00,  3.55it/s]\n",
      "  0%|          | 0/144 [00:10<?, ?it/s]\n"
     ]
    },
    {
     "name": "stdout",
     "output_type": "stream",
     "text": [
      "Epoch [51], Train Loss : [0.34785] Val Loss : [0.31620]\n",
      "Early stopping triggered! No improvement in validation loss.\n"
     ]
    },
    {
     "name": "stderr",
     "output_type": "stream",
     "text": [
      "100%|██████████| 36/36 [00:10<00:00,  3.53it/s]\n",
      "  0%|          | 0/144 [00:10<?, ?it/s]\n"
     ]
    },
    {
     "name": "stdout",
     "output_type": "stream",
     "text": [
      "Epoch [52], Train Loss : [0.31358] Val Loss : [0.31622]\n",
      "Early stopping triggered! No improvement in validation loss.\n"
     ]
    },
    {
     "name": "stderr",
     "output_type": "stream",
     "text": [
      "100%|██████████| 36/36 [00:10<00:00,  3.53it/s]\n",
      "  0%|          | 0/144 [00:10<?, ?it/s]\n"
     ]
    },
    {
     "name": "stdout",
     "output_type": "stream",
     "text": [
      "Epoch [53], Train Loss : [0.34182] Val Loss : [0.31646]\n",
      "Epoch 00138: reducing learning rate of group 0 to 5.8594e-07.\n",
      "Early stopping triggered! No improvement in validation loss.\n"
     ]
    },
    {
     "name": "stderr",
     "output_type": "stream",
     "text": [
      "100%|██████████| 36/36 [00:10<00:00,  3.39it/s]\n",
      "  0%|          | 0/144 [00:11<?, ?it/s]\n"
     ]
    },
    {
     "name": "stdout",
     "output_type": "stream",
     "text": [
      "Epoch [54], Train Loss : [0.31824] Val Loss : [0.31522]\n",
      "Early stopping triggered! No improvement in validation loss.\n"
     ]
    },
    {
     "name": "stderr",
     "output_type": "stream",
     "text": [
      "100%|██████████| 36/36 [00:10<00:00,  3.47it/s]\n",
      "  0%|          | 0/144 [00:10<?, ?it/s]\n"
     ]
    },
    {
     "name": "stdout",
     "output_type": "stream",
     "text": [
      "Epoch [55], Train Loss : [0.27161] Val Loss : [0.31701]\n",
      "Early stopping triggered! No improvement in validation loss.\n"
     ]
    },
    {
     "name": "stderr",
     "output_type": "stream",
     "text": [
      "100%|██████████| 36/36 [00:11<00:00,  3.24it/s]\n",
      "  0%|          | 0/144 [00:11<?, ?it/s]\n"
     ]
    },
    {
     "name": "stdout",
     "output_type": "stream",
     "text": [
      "Epoch [56], Train Loss : [0.26927] Val Loss : [0.31610]\n",
      "Early stopping triggered! No improvement in validation loss.\n"
     ]
    },
    {
     "name": "stderr",
     "output_type": "stream",
     "text": [
      "100%|██████████| 36/36 [00:10<00:00,  3.49it/s]\n",
      "  0%|          | 0/144 [00:10<?, ?it/s]\n"
     ]
    },
    {
     "name": "stdout",
     "output_type": "stream",
     "text": [
      "Epoch [57], Train Loss : [0.33886] Val Loss : [0.31585]\n",
      "Early stopping triggered! No improvement in validation loss.\n"
     ]
    },
    {
     "name": "stderr",
     "output_type": "stream",
     "text": [
      "100%|██████████| 36/36 [00:10<00:00,  3.52it/s]\n",
      "  0%|          | 0/144 [00:10<?, ?it/s]\n"
     ]
    },
    {
     "name": "stdout",
     "output_type": "stream",
     "text": [
      "Epoch [58], Train Loss : [0.45006] Val Loss : [0.31642]\n",
      "Early stopping triggered! No improvement in validation loss.\n"
     ]
    },
    {
     "name": "stderr",
     "output_type": "stream",
     "text": [
      "100%|██████████| 36/36 [00:10<00:00,  3.47it/s]\n",
      "  0%|          | 0/144 [00:10<?, ?it/s]\n"
     ]
    },
    {
     "name": "stdout",
     "output_type": "stream",
     "text": [
      "Epoch [59], Train Loss : [0.37454] Val Loss : [0.32132]\n",
      "Early stopping triggered! No improvement in validation loss.\n"
     ]
    },
    {
     "name": "stderr",
     "output_type": "stream",
     "text": [
      "100%|██████████| 36/36 [00:10<00:00,  3.39it/s]\n",
      "  0%|          | 0/144 [00:11<?, ?it/s]\n"
     ]
    },
    {
     "name": "stdout",
     "output_type": "stream",
     "text": [
      "Epoch [60], Train Loss : [0.29578] Val Loss : [0.31893]\n",
      "Epoch 00145: reducing learning rate of group 0 to 2.9297e-07.\n",
      "Early stopping triggered! No improvement in validation loss.\n"
     ]
    },
    {
     "name": "stderr",
     "output_type": "stream",
     "text": [
      "100%|██████████| 36/36 [00:10<00:00,  3.54it/s]\n",
      "  0%|          | 0/144 [00:10<?, ?it/s]\n"
     ]
    },
    {
     "name": "stdout",
     "output_type": "stream",
     "text": [
      "Epoch [61], Train Loss : [0.30718] Val Loss : [0.31656]\n",
      "Early stopping triggered! No improvement in validation loss.\n"
     ]
    },
    {
     "name": "stderr",
     "output_type": "stream",
     "text": [
      "100%|██████████| 36/36 [00:10<00:00,  3.54it/s]\n",
      "  0%|          | 0/144 [00:10<?, ?it/s]\n"
     ]
    },
    {
     "name": "stdout",
     "output_type": "stream",
     "text": [
      "Epoch [62], Train Loss : [0.41816] Val Loss : [0.31636]\n",
      "Early stopping triggered! No improvement in validation loss.\n"
     ]
    },
    {
     "name": "stderr",
     "output_type": "stream",
     "text": [
      "100%|██████████| 36/36 [00:10<00:00,  3.54it/s]\n",
      "  0%|          | 0/144 [00:10<?, ?it/s]\n"
     ]
    },
    {
     "name": "stdout",
     "output_type": "stream",
     "text": [
      "Epoch [63], Train Loss : [0.29254] Val Loss : [0.31769]\n",
      "Early stopping triggered! No improvement in validation loss.\n"
     ]
    },
    {
     "name": "stderr",
     "output_type": "stream",
     "text": [
      "100%|██████████| 36/36 [00:10<00:00,  3.43it/s]\n",
      "  0%|          | 0/144 [00:10<?, ?it/s]\n"
     ]
    },
    {
     "name": "stdout",
     "output_type": "stream",
     "text": [
      "Epoch [64], Train Loss : [0.26230] Val Loss : [0.31483]\n",
      "Early stopping triggered! No improvement in validation loss.\n"
     ]
    },
    {
     "name": "stderr",
     "output_type": "stream",
     "text": [
      "100%|██████████| 36/36 [00:10<00:00,  3.53it/s]\n",
      "  0%|          | 0/144 [00:10<?, ?it/s]\n"
     ]
    },
    {
     "name": "stdout",
     "output_type": "stream",
     "text": [
      "Epoch [65], Train Loss : [0.43023] Val Loss : [0.31676]\n",
      "Early stopping triggered! No improvement in validation loss.\n"
     ]
    },
    {
     "name": "stderr",
     "output_type": "stream",
     "text": [
      "100%|██████████| 36/36 [00:10<00:00,  3.55it/s]\n",
      "  0%|          | 0/144 [00:10<?, ?it/s]\n"
     ]
    },
    {
     "name": "stdout",
     "output_type": "stream",
     "text": [
      "Epoch [66], Train Loss : [0.37506] Val Loss : [0.31725]\n",
      "Early stopping triggered! No improvement in validation loss.\n"
     ]
    },
    {
     "name": "stderr",
     "output_type": "stream",
     "text": [
      "100%|██████████| 36/36 [00:10<00:00,  3.44it/s]\n",
      "  0%|          | 0/144 [00:10<?, ?it/s]\n"
     ]
    },
    {
     "name": "stdout",
     "output_type": "stream",
     "text": [
      "Epoch [67], Train Loss : [0.41729] Val Loss : [0.31525]\n",
      "Epoch 00152: reducing learning rate of group 0 to 1.4648e-07.\n",
      "Early stopping triggered! No improvement in validation loss.\n"
     ]
    },
    {
     "name": "stderr",
     "output_type": "stream",
     "text": [
      "100%|██████████| 36/36 [00:10<00:00,  3.42it/s]\n",
      "  0%|          | 0/144 [00:11<?, ?it/s]\n"
     ]
    },
    {
     "name": "stdout",
     "output_type": "stream",
     "text": [
      "Epoch [68], Train Loss : [0.36798] Val Loss : [0.31398]\n",
      "Early stopping triggered! No improvement in validation loss.\n"
     ]
    },
    {
     "name": "stderr",
     "output_type": "stream",
     "text": [
      "100%|██████████| 36/36 [00:10<00:00,  3.47it/s]\n",
      "  0%|          | 0/144 [00:10<?, ?it/s]\n"
     ]
    },
    {
     "name": "stdout",
     "output_type": "stream",
     "text": [
      "Epoch [69], Train Loss : [0.46393] Val Loss : [0.31797]\n",
      "Early stopping triggered! No improvement in validation loss.\n"
     ]
    },
    {
     "name": "stderr",
     "output_type": "stream",
     "text": [
      "100%|██████████| 36/36 [00:10<00:00,  3.43it/s]\n",
      "  0%|          | 0/144 [00:10<?, ?it/s]\n"
     ]
    },
    {
     "name": "stdout",
     "output_type": "stream",
     "text": [
      "Epoch [70], Train Loss : [0.36365] Val Loss : [0.31487]\n",
      "Early stopping triggered! No improvement in validation loss.\n"
     ]
    },
    {
     "name": "stderr",
     "output_type": "stream",
     "text": [
      "100%|██████████| 36/36 [00:10<00:00,  3.43it/s]\n",
      "  0%|          | 0/144 [00:11<?, ?it/s]\n"
     ]
    },
    {
     "name": "stdout",
     "output_type": "stream",
     "text": [
      "Epoch [71], Train Loss : [0.40006] Val Loss : [0.31777]\n",
      "Early stopping triggered! No improvement in validation loss.\n"
     ]
    },
    {
     "name": "stderr",
     "output_type": "stream",
     "text": [
      "100%|██████████| 36/36 [00:10<00:00,  3.54it/s]\n",
      "  0%|          | 0/144 [00:10<?, ?it/s]\n"
     ]
    },
    {
     "name": "stdout",
     "output_type": "stream",
     "text": [
      "Epoch [72], Train Loss : [0.30968] Val Loss : [0.31641]\n",
      "Early stopping triggered! No improvement in validation loss.\n"
     ]
    },
    {
     "name": "stderr",
     "output_type": "stream",
     "text": [
      "100%|██████████| 36/36 [00:10<00:00,  3.55it/s]\n",
      "  0%|          | 0/144 [00:10<?, ?it/s]\n"
     ]
    },
    {
     "name": "stdout",
     "output_type": "stream",
     "text": [
      "Epoch [73], Train Loss : [0.36823] Val Loss : [0.31662]\n",
      "Early stopping triggered! No improvement in validation loss.\n"
     ]
    },
    {
     "name": "stderr",
     "output_type": "stream",
     "text": [
      "100%|██████████| 36/36 [00:10<00:00,  3.51it/s]\n",
      "  0%|          | 0/144 [00:10<?, ?it/s]\n"
     ]
    },
    {
     "name": "stdout",
     "output_type": "stream",
     "text": [
      "Epoch [74], Train Loss : [0.35988] Val Loss : [0.31423]\n",
      "Epoch 00159: reducing learning rate of group 0 to 7.3242e-08.\n",
      "Early stopping triggered! No improvement in validation loss.\n"
     ]
    },
    {
     "name": "stderr",
     "output_type": "stream",
     "text": [
      "100%|██████████| 36/36 [00:10<00:00,  3.54it/s]\n",
      "  0%|          | 0/144 [00:10<?, ?it/s]\n"
     ]
    },
    {
     "name": "stdout",
     "output_type": "stream",
     "text": [
      "Epoch [75], Train Loss : [0.27029] Val Loss : [0.31438]\n",
      "Early stopping triggered! No improvement in validation loss.\n"
     ]
    },
    {
     "name": "stderr",
     "output_type": "stream",
     "text": [
      "100%|██████████| 36/36 [00:10<00:00,  3.36it/s]\n",
      "  0%|          | 0/144 [00:11<?, ?it/s]\n"
     ]
    },
    {
     "name": "stdout",
     "output_type": "stream",
     "text": [
      "Epoch [76], Train Loss : [0.30483] Val Loss : [0.31363]\n",
      "Early stopping triggered! No improvement in validation loss.\n"
     ]
    },
    {
     "name": "stderr",
     "output_type": "stream",
     "text": [
      "100%|██████████| 36/36 [00:10<00:00,  3.43it/s]\n",
      "  0%|          | 0/144 [00:11<?, ?it/s]\n"
     ]
    },
    {
     "name": "stdout",
     "output_type": "stream",
     "text": [
      "Epoch [77], Train Loss : [0.30112] Val Loss : [0.31096]\n",
      "Early stopping triggered! No improvement in validation loss.\n"
     ]
    },
    {
     "name": "stderr",
     "output_type": "stream",
     "text": [
      "100%|██████████| 36/36 [00:10<00:00,  3.45it/s]\n",
      "  0%|          | 0/144 [00:10<?, ?it/s]\n"
     ]
    },
    {
     "name": "stdout",
     "output_type": "stream",
     "text": [
      "Epoch [78], Train Loss : [0.38087] Val Loss : [0.31220]\n",
      "Early stopping triggered! No improvement in validation loss.\n"
     ]
    },
    {
     "name": "stderr",
     "output_type": "stream",
     "text": [
      "100%|██████████| 36/36 [00:10<00:00,  3.54it/s]\n",
      "  0%|          | 0/144 [00:10<?, ?it/s]\n"
     ]
    },
    {
     "name": "stdout",
     "output_type": "stream",
     "text": [
      "Epoch [79], Train Loss : [0.31391] Val Loss : [0.31384]\n",
      "Early stopping triggered! No improvement in validation loss.\n"
     ]
    },
    {
     "name": "stderr",
     "output_type": "stream",
     "text": [
      "100%|██████████| 36/36 [00:10<00:00,  3.55it/s]\n",
      "  0%|          | 0/144 [00:10<?, ?it/s]\n"
     ]
    },
    {
     "name": "stdout",
     "output_type": "stream",
     "text": [
      "Epoch [80], Train Loss : [0.25721] Val Loss : [0.31530]\n",
      "Early stopping triggered! No improvement in validation loss.\n"
     ]
    },
    {
     "name": "stderr",
     "output_type": "stream",
     "text": [
      "100%|██████████| 36/36 [00:10<00:00,  3.54it/s]\n",
      "  0%|          | 0/144 [00:10<?, ?it/s]\n"
     ]
    },
    {
     "name": "stdout",
     "output_type": "stream",
     "text": [
      "Epoch [81], Train Loss : [0.28653] Val Loss : [0.31356]\n",
      "Epoch 00166: reducing learning rate of group 0 to 3.6621e-08.\n",
      "Early stopping triggered! No improvement in validation loss.\n"
     ]
    },
    {
     "name": "stderr",
     "output_type": "stream",
     "text": [
      "100%|██████████| 36/36 [00:10<00:00,  3.45it/s]\n",
      "  0%|          | 0/144 [00:10<?, ?it/s]\n"
     ]
    },
    {
     "name": "stdout",
     "output_type": "stream",
     "text": [
      "Epoch [82], Train Loss : [0.29904] Val Loss : [0.31323]\n",
      "Early stopping triggered! No improvement in validation loss.\n"
     ]
    },
    {
     "name": "stderr",
     "output_type": "stream",
     "text": [
      "100%|██████████| 36/36 [00:10<00:00,  3.54it/s]\n",
      "  0%|          | 0/144 [00:10<?, ?it/s]\n"
     ]
    },
    {
     "name": "stdout",
     "output_type": "stream",
     "text": [
      "Epoch [83], Train Loss : [0.43205] Val Loss : [0.31243]\n",
      "Early stopping triggered! No improvement in validation loss.\n"
     ]
    },
    {
     "name": "stderr",
     "output_type": "stream",
     "text": [
      "100%|██████████| 36/36 [00:10<00:00,  3.54it/s]\n",
      "  0%|          | 0/144 [00:10<?, ?it/s]\n"
     ]
    },
    {
     "name": "stdout",
     "output_type": "stream",
     "text": [
      "Epoch [84], Train Loss : [0.39777] Val Loss : [0.31241]\n",
      "Early stopping triggered! No improvement in validation loss.\n"
     ]
    },
    {
     "name": "stderr",
     "output_type": "stream",
     "text": [
      "100%|██████████| 36/36 [00:10<00:00,  3.54it/s]\n",
      "  0%|          | 0/144 [00:10<?, ?it/s]\n"
     ]
    },
    {
     "name": "stdout",
     "output_type": "stream",
     "text": [
      "Epoch [85], Train Loss : [0.22948] Val Loss : [0.31413]\n",
      "Early stopping triggered! No improvement in validation loss.\n"
     ]
    },
    {
     "name": "stderr",
     "output_type": "stream",
     "text": [
      "100%|██████████| 36/36 [00:10<00:00,  3.53it/s]\n",
      "  0%|          | 0/144 [00:10<?, ?it/s]\n"
     ]
    },
    {
     "name": "stdout",
     "output_type": "stream",
     "text": [
      "Epoch [86], Train Loss : [0.29202] Val Loss : [0.31513]\n",
      "Early stopping triggered! No improvement in validation loss.\n"
     ]
    },
    {
     "name": "stderr",
     "output_type": "stream",
     "text": [
      "100%|██████████| 36/36 [00:10<00:00,  3.52it/s]\n",
      "  0%|          | 0/144 [00:10<?, ?it/s]\n"
     ]
    },
    {
     "name": "stdout",
     "output_type": "stream",
     "text": [
      "Epoch [87], Train Loss : [0.40479] Val Loss : [0.31182]\n",
      "Early stopping triggered! No improvement in validation loss.\n"
     ]
    },
    {
     "name": "stderr",
     "output_type": "stream",
     "text": [
      "100%|██████████| 36/36 [00:10<00:00,  3.47it/s]\n",
      "  0%|          | 0/144 [00:10<?, ?it/s]\n"
     ]
    },
    {
     "name": "stdout",
     "output_type": "stream",
     "text": [
      "Epoch [88], Train Loss : [0.35616] Val Loss : [0.31294]\n",
      "Epoch 00173: reducing learning rate of group 0 to 1.8311e-08.\n",
      "Early stopping triggered! No improvement in validation loss.\n"
     ]
    },
    {
     "name": "stderr",
     "output_type": "stream",
     "text": [
      "100%|██████████| 36/36 [00:10<00:00,  3.44it/s]\n",
      "  0%|          | 0/144 [00:10<?, ?it/s]\n"
     ]
    },
    {
     "name": "stdout",
     "output_type": "stream",
     "text": [
      "Epoch [89], Train Loss : [0.30078] Val Loss : [0.31759]\n",
      "Early stopping triggered! No improvement in validation loss.\n"
     ]
    },
    {
     "name": "stderr",
     "output_type": "stream",
     "text": [
      "100%|██████████| 36/36 [00:10<00:00,  3.45it/s]\n",
      "  0%|          | 0/144 [00:10<?, ?it/s]\n"
     ]
    },
    {
     "name": "stdout",
     "output_type": "stream",
     "text": [
      "Epoch [90], Train Loss : [0.44302] Val Loss : [0.32036]\n",
      "Early stopping triggered! No improvement in validation loss.\n"
     ]
    },
    {
     "name": "stderr",
     "output_type": "stream",
     "text": [
      "100%|██████████| 36/36 [00:10<00:00,  3.54it/s]\n",
      "  0%|          | 0/144 [00:10<?, ?it/s]\n"
     ]
    },
    {
     "name": "stdout",
     "output_type": "stream",
     "text": [
      "Epoch [91], Train Loss : [0.33716] Val Loss : [0.31998]\n",
      "Early stopping triggered! No improvement in validation loss.\n"
     ]
    },
    {
     "name": "stderr",
     "output_type": "stream",
     "text": [
      "100%|██████████| 36/36 [00:10<00:00,  3.45it/s]\n",
      "  0%|          | 0/144 [00:10<?, ?it/s]\n"
     ]
    },
    {
     "name": "stdout",
     "output_type": "stream",
     "text": [
      "Epoch [92], Train Loss : [0.40123] Val Loss : [0.32271]\n",
      "Early stopping triggered! No improvement in validation loss.\n"
     ]
    },
    {
     "name": "stderr",
     "output_type": "stream",
     "text": [
      "100%|██████████| 36/36 [00:10<00:00,  3.52it/s]\n",
      "  0%|          | 0/144 [00:10<?, ?it/s]\n"
     ]
    },
    {
     "name": "stdout",
     "output_type": "stream",
     "text": [
      "Epoch [93], Train Loss : [0.32187] Val Loss : [0.32271]\n",
      "Early stopping triggered! No improvement in validation loss.\n"
     ]
    },
    {
     "name": "stderr",
     "output_type": "stream",
     "text": [
      "100%|██████████| 36/36 [00:10<00:00,  3.55it/s]\n",
      "  0%|          | 0/144 [00:10<?, ?it/s]\n"
     ]
    },
    {
     "name": "stdout",
     "output_type": "stream",
     "text": [
      "Epoch [94], Train Loss : [0.31532] Val Loss : [0.32206]\n",
      "Early stopping triggered! No improvement in validation loss.\n"
     ]
    },
    {
     "name": "stderr",
     "output_type": "stream",
     "text": [
      "100%|██████████| 36/36 [00:10<00:00,  3.53it/s]\n",
      "  0%|          | 0/144 [00:10<?, ?it/s]\n"
     ]
    },
    {
     "name": "stdout",
     "output_type": "stream",
     "text": [
      "Epoch [95], Train Loss : [0.40275] Val Loss : [0.31838]\n",
      "Early stopping triggered! No improvement in validation loss.\n"
     ]
    },
    {
     "name": "stderr",
     "output_type": "stream",
     "text": [
      "100%|██████████| 36/36 [00:10<00:00,  3.47it/s]\n",
      "  0%|          | 0/144 [00:10<?, ?it/s]\n"
     ]
    },
    {
     "name": "stdout",
     "output_type": "stream",
     "text": [
      "Epoch [96], Train Loss : [0.42112] Val Loss : [0.31771]\n",
      "Early stopping triggered! No improvement in validation loss.\n"
     ]
    },
    {
     "name": "stderr",
     "output_type": "stream",
     "text": [
      "100%|██████████| 36/36 [00:10<00:00,  3.55it/s]\n",
      "  0%|          | 0/144 [00:10<?, ?it/s]\n"
     ]
    },
    {
     "name": "stdout",
     "output_type": "stream",
     "text": [
      "Epoch [97], Train Loss : [0.41844] Val Loss : [0.32242]\n",
      "Early stopping triggered! No improvement in validation loss.\n"
     ]
    },
    {
     "name": "stderr",
     "output_type": "stream",
     "text": [
      "100%|██████████| 36/36 [00:10<00:00,  3.54it/s]\n",
      "  0%|          | 0/144 [00:10<?, ?it/s]\n"
     ]
    },
    {
     "name": "stdout",
     "output_type": "stream",
     "text": [
      "Epoch [98], Train Loss : [0.33666] Val Loss : [0.32357]\n",
      "Early stopping triggered! No improvement in validation loss.\n"
     ]
    },
    {
     "name": "stderr",
     "output_type": "stream",
     "text": [
      "100%|██████████| 36/36 [00:10<00:00,  3.54it/s]\n",
      "  0%|          | 0/144 [00:10<?, ?it/s]\n"
     ]
    },
    {
     "name": "stdout",
     "output_type": "stream",
     "text": [
      "Epoch [99], Train Loss : [0.39876] Val Loss : [0.32289]\n",
      "Early stopping triggered! No improvement in validation loss.\n"
     ]
    },
    {
     "name": "stderr",
     "output_type": "stream",
     "text": [
      "100%|██████████| 36/36 [00:10<00:00,  3.54it/s]\n",
      "  0%|          | 0/144 [00:10<?, ?it/s]\n"
     ]
    },
    {
     "name": "stdout",
     "output_type": "stream",
     "text": [
      "Epoch [100], Train Loss : [0.36802] Val Loss : [0.32389]\n",
      "Early stopping triggered! No improvement in validation loss.\n"
     ]
    },
    {
     "name": "stderr",
     "output_type": "stream",
     "text": [
      "100%|██████████| 36/36 [00:10<00:00,  3.34it/s]\n"
     ]
    },
    {
     "name": "stdout",
     "output_type": "stream",
     "text": [
      "Validation Loss: 0.32389216249187786\n"
     ]
    },
    {
     "name": "stderr",
     "output_type": "stream",
     "text": [
      "100%|██████████| 25/25 [00:07<00:00,  3.35it/s]\n"
     ]
    },
    {
     "name": "stdout",
     "output_type": "stream",
     "text": [
      "Fold: 4\n"
     ]
    },
    {
     "name": "stderr",
     "output_type": "stream",
     "text": [
      "100%|██████████| 36/36 [00:11<00:00,  3.20it/s]\n",
      "  1%|          | 1/144 [00:11<28:19, 11.89s/it]"
     ]
    },
    {
     "name": "stdout",
     "output_type": "stream",
     "text": [
      "Epoch [1], Train Loss : [1.27149] Val Loss : [0.91814]\n"
     ]
    },
    {
     "name": "stderr",
     "output_type": "stream",
     "text": [
      "100%|██████████| 36/36 [00:11<00:00,  3.20it/s]\n",
      "  1%|▏         | 2/144 [00:23<28:01, 11.84s/it]"
     ]
    },
    {
     "name": "stdout",
     "output_type": "stream",
     "text": [
      "Epoch [1], Train Loss : [1.12438] Val Loss : [0.69754]\n"
     ]
    },
    {
     "name": "stderr",
     "output_type": "stream",
     "text": [
      "100%|██████████| 36/36 [00:11<00:00,  3.24it/s]\n",
      "  2%|▏         | 3/144 [00:35<27:42, 11.79s/it]"
     ]
    },
    {
     "name": "stdout",
     "output_type": "stream",
     "text": [
      "Epoch [1], Train Loss : [0.96525] Val Loss : [0.65734]\n"
     ]
    },
    {
     "name": "stderr",
     "output_type": "stream",
     "text": [
      "100%|██████████| 36/36 [00:10<00:00,  3.50it/s]\n",
      "  3%|▎         | 4/144 [00:46<26:40, 11.43s/it]"
     ]
    },
    {
     "name": "stdout",
     "output_type": "stream",
     "text": [
      "Epoch [1], Train Loss : [0.91338] Val Loss : [0.60777]\n"
     ]
    },
    {
     "name": "stderr",
     "output_type": "stream",
     "text": [
      "100%|██████████| 36/36 [00:11<00:00,  3.01it/s]\n",
      "  3%|▎         | 5/144 [00:58<27:19, 11.79s/it]"
     ]
    },
    {
     "name": "stdout",
     "output_type": "stream",
     "text": [
      "Epoch [1], Train Loss : [0.84431] Val Loss : [0.69978]\n"
     ]
    },
    {
     "name": "stderr",
     "output_type": "stream",
     "text": [
      "100%|██████████| 36/36 [00:10<00:00,  3.35it/s]\n",
      "  4%|▍         | 6/144 [01:10<26:44, 11.62s/it]"
     ]
    },
    {
     "name": "stdout",
     "output_type": "stream",
     "text": [
      "Epoch [1], Train Loss : [0.80731] Val Loss : [0.62722]\n"
     ]
    },
    {
     "name": "stderr",
     "output_type": "stream",
     "text": [
      "100%|██████████| 36/36 [00:10<00:00,  3.42it/s]\n",
      "  5%|▍         | 7/144 [01:21<26:09, 11.46s/it]"
     ]
    },
    {
     "name": "stdout",
     "output_type": "stream",
     "text": [
      "Epoch [1], Train Loss : [0.77628] Val Loss : [0.49565]\n"
     ]
    },
    {
     "name": "stderr",
     "output_type": "stream",
     "text": [
      "100%|██████████| 36/36 [00:10<00:00,  3.52it/s]\n",
      "  6%|▌         | 8/144 [01:31<25:27, 11.23s/it]"
     ]
    },
    {
     "name": "stdout",
     "output_type": "stream",
     "text": [
      "Epoch [1], Train Loss : [0.74050] Val Loss : [0.49714]\n"
     ]
    },
    {
     "name": "stderr",
     "output_type": "stream",
     "text": [
      "100%|██████████| 36/36 [00:10<00:00,  3.51it/s]\n",
      "  6%|▋         | 9/144 [01:42<24:57, 11.09s/it]"
     ]
    },
    {
     "name": "stdout",
     "output_type": "stream",
     "text": [
      "Epoch [1], Train Loss : [0.71326] Val Loss : [0.49322]\n"
     ]
    },
    {
     "name": "stderr",
     "output_type": "stream",
     "text": [
      "100%|██████████| 36/36 [00:10<00:00,  3.50it/s]\n",
      "  7%|▋         | 10/144 [01:53<24:32, 10.99s/it]"
     ]
    },
    {
     "name": "stdout",
     "output_type": "stream",
     "text": [
      "Epoch [1], Train Loss : [0.69784] Val Loss : [0.51072]\n"
     ]
    },
    {
     "name": "stderr",
     "output_type": "stream",
     "text": [
      "100%|██████████| 36/36 [00:10<00:00,  3.52it/s]\n",
      "  8%|▊         | 11/144 [02:04<24:12, 10.92s/it]"
     ]
    },
    {
     "name": "stdout",
     "output_type": "stream",
     "text": [
      "Epoch [1], Train Loss : [0.68678] Val Loss : [0.48586]\n"
     ]
    },
    {
     "name": "stderr",
     "output_type": "stream",
     "text": [
      "100%|██████████| 36/36 [00:10<00:00,  3.51it/s]\n",
      "  8%|▊         | 12/144 [02:15<23:57, 10.89s/it]"
     ]
    },
    {
     "name": "stdout",
     "output_type": "stream",
     "text": [
      "Epoch [1], Train Loss : [0.68258] Val Loss : [0.44492]\n"
     ]
    },
    {
     "name": "stderr",
     "output_type": "stream",
     "text": [
      "100%|██████████| 36/36 [00:10<00:00,  3.51it/s]\n",
      "  9%|▉         | 13/144 [02:25<23:42, 10.86s/it]"
     ]
    },
    {
     "name": "stdout",
     "output_type": "stream",
     "text": [
      "Epoch [1], Train Loss : [0.66203] Val Loss : [0.47518]\n"
     ]
    },
    {
     "name": "stderr",
     "output_type": "stream",
     "text": [
      "100%|██████████| 36/36 [00:10<00:00,  3.52it/s]\n",
      " 10%|▉         | 14/144 [02:36<23:26, 10.82s/it]"
     ]
    },
    {
     "name": "stdout",
     "output_type": "stream",
     "text": [
      "Epoch [1], Train Loss : [0.65102] Val Loss : [0.46536]\n"
     ]
    },
    {
     "name": "stderr",
     "output_type": "stream",
     "text": [
      "100%|██████████| 36/36 [00:10<00:00,  3.52it/s]\n",
      " 10%|█         | 15/144 [02:47<23:12, 10.80s/it]"
     ]
    },
    {
     "name": "stdout",
     "output_type": "stream",
     "text": [
      "Epoch [1], Train Loss : [0.64337] Val Loss : [0.48599]\n"
     ]
    },
    {
     "name": "stderr",
     "output_type": "stream",
     "text": [
      "100%|██████████| 36/36 [00:10<00:00,  3.51it/s]\n",
      " 11%|█         | 16/144 [02:58<22:59, 10.78s/it]"
     ]
    },
    {
     "name": "stdout",
     "output_type": "stream",
     "text": [
      "Epoch [1], Train Loss : [0.63080] Val Loss : [0.50768]\n"
     ]
    },
    {
     "name": "stderr",
     "output_type": "stream",
     "text": [
      "100%|██████████| 36/36 [00:10<00:00,  3.52it/s]\n",
      " 12%|█▏        | 17/144 [03:08<22:46, 10.76s/it]"
     ]
    },
    {
     "name": "stdout",
     "output_type": "stream",
     "text": [
      "Epoch [1], Train Loss : [0.62237] Val Loss : [0.45636]\n"
     ]
    },
    {
     "name": "stderr",
     "output_type": "stream",
     "text": [
      "100%|██████████| 36/36 [00:10<00:00,  3.50it/s]\n",
      " 12%|█▎        | 18/144 [03:19<22:40, 10.79s/it]"
     ]
    },
    {
     "name": "stdout",
     "output_type": "stream",
     "text": [
      "Epoch [1], Train Loss : [0.61424] Val Loss : [0.42142]\n"
     ]
    },
    {
     "name": "stderr",
     "output_type": "stream",
     "text": [
      "100%|██████████| 36/36 [00:10<00:00,  3.53it/s]\n",
      " 13%|█▎        | 19/144 [03:30<22:28, 10.79s/it]"
     ]
    },
    {
     "name": "stdout",
     "output_type": "stream",
     "text": [
      "Epoch [1], Train Loss : [0.60928] Val Loss : [0.40540]\n"
     ]
    },
    {
     "name": "stderr",
     "output_type": "stream",
     "text": [
      "100%|██████████| 36/36 [00:10<00:00,  3.50it/s]\n",
      " 14%|█▍        | 20/144 [03:41<22:21, 10.82s/it]"
     ]
    },
    {
     "name": "stdout",
     "output_type": "stream",
     "text": [
      "Epoch [1], Train Loss : [0.59432] Val Loss : [0.39243]\n"
     ]
    },
    {
     "name": "stderr",
     "output_type": "stream",
     "text": [
      "100%|██████████| 36/36 [00:10<00:00,  3.52it/s]\n",
      " 15%|█▍        | 21/144 [03:52<22:07, 10.79s/it]"
     ]
    },
    {
     "name": "stdout",
     "output_type": "stream",
     "text": [
      "Epoch [1], Train Loss : [0.57979] Val Loss : [0.38450]\n"
     ]
    },
    {
     "name": "stderr",
     "output_type": "stream",
     "text": [
      "100%|██████████| 36/36 [00:10<00:00,  3.50it/s]\n",
      " 15%|█▌        | 22/144 [04:02<21:59, 10.82s/it]"
     ]
    },
    {
     "name": "stdout",
     "output_type": "stream",
     "text": [
      "Epoch [1], Train Loss : [0.56992] Val Loss : [0.37917]\n"
     ]
    },
    {
     "name": "stderr",
     "output_type": "stream",
     "text": [
      "100%|██████████| 36/36 [00:10<00:00,  3.44it/s]\n",
      " 16%|█▌        | 23/144 [04:13<21:53, 10.86s/it]"
     ]
    },
    {
     "name": "stdout",
     "output_type": "stream",
     "text": [
      "Epoch [1], Train Loss : [0.55659] Val Loss : [0.38348]\n"
     ]
    },
    {
     "name": "stderr",
     "output_type": "stream",
     "text": [
      "100%|██████████| 36/36 [00:10<00:00,  3.50it/s]\n",
      " 17%|█▋        | 24/144 [04:24<21:42, 10.85s/it]"
     ]
    },
    {
     "name": "stdout",
     "output_type": "stream",
     "text": [
      "Epoch [1], Train Loss : [0.55202] Val Loss : [0.37042]\n"
     ]
    },
    {
     "name": "stderr",
     "output_type": "stream",
     "text": [
      "100%|██████████| 36/36 [00:10<00:00,  3.41it/s]\n",
      " 17%|█▋        | 25/144 [04:35<21:39, 10.92s/it]"
     ]
    },
    {
     "name": "stdout",
     "output_type": "stream",
     "text": [
      "Epoch [1], Train Loss : [0.55006] Val Loss : [0.34170]\n"
     ]
    },
    {
     "name": "stderr",
     "output_type": "stream",
     "text": [
      "100%|██████████| 36/36 [00:10<00:00,  3.52it/s]\n",
      " 18%|█▊        | 26/144 [04:46<21:24, 10.89s/it]"
     ]
    },
    {
     "name": "stdout",
     "output_type": "stream",
     "text": [
      "Epoch [1], Train Loss : [0.54025] Val Loss : [0.33692]\n"
     ]
    },
    {
     "name": "stderr",
     "output_type": "stream",
     "text": [
      "100%|██████████| 36/36 [00:10<00:00,  3.52it/s]\n",
      " 19%|█▉        | 27/144 [04:57<21:08, 10.85s/it]"
     ]
    },
    {
     "name": "stdout",
     "output_type": "stream",
     "text": [
      "Epoch [1], Train Loss : [0.53140] Val Loss : [0.33884]\n"
     ]
    },
    {
     "name": "stderr",
     "output_type": "stream",
     "text": [
      "100%|██████████| 36/36 [00:10<00:00,  3.54it/s]\n",
      " 19%|█▉        | 28/144 [05:08<20:54, 10.81s/it]"
     ]
    },
    {
     "name": "stdout",
     "output_type": "stream",
     "text": [
      "Epoch [1], Train Loss : [0.52564] Val Loss : [0.35446]\n"
     ]
    },
    {
     "name": "stderr",
     "output_type": "stream",
     "text": [
      "100%|██████████| 36/36 [00:10<00:00,  3.51it/s]\n",
      " 20%|██        | 29/144 [05:18<20:39, 10.78s/it]"
     ]
    },
    {
     "name": "stdout",
     "output_type": "stream",
     "text": [
      "Epoch [1], Train Loss : [0.51606] Val Loss : [0.35524]\n"
     ]
    },
    {
     "name": "stderr",
     "output_type": "stream",
     "text": [
      "100%|██████████| 36/36 [00:10<00:00,  3.50it/s]\n",
      " 21%|██        | 30/144 [05:29<20:29, 10.79s/it]"
     ]
    },
    {
     "name": "stdout",
     "output_type": "stream",
     "text": [
      "Epoch [1], Train Loss : [0.51240] Val Loss : [0.33755]\n"
     ]
    },
    {
     "name": "stderr",
     "output_type": "stream",
     "text": [
      "100%|██████████| 36/36 [00:10<00:00,  3.54it/s]\n",
      " 22%|██▏       | 31/144 [05:40<20:17, 10.78s/it]"
     ]
    },
    {
     "name": "stdout",
     "output_type": "stream",
     "text": [
      "Epoch [1], Train Loss : [0.50740] Val Loss : [0.33477]\n"
     ]
    },
    {
     "name": "stderr",
     "output_type": "stream",
     "text": [
      "100%|██████████| 36/36 [00:10<00:00,  3.51it/s]\n",
      " 22%|██▏       | 32/144 [05:51<20:07, 10.78s/it]"
     ]
    },
    {
     "name": "stdout",
     "output_type": "stream",
     "text": [
      "Epoch [1], Train Loss : [0.50453] Val Loss : [0.35297]\n"
     ]
    },
    {
     "name": "stderr",
     "output_type": "stream",
     "text": [
      "100%|██████████| 36/36 [00:10<00:00,  3.53it/s]\n",
      " 23%|██▎       | 33/144 [06:01<19:55, 10.77s/it]"
     ]
    },
    {
     "name": "stdout",
     "output_type": "stream",
     "text": [
      "Epoch [1], Train Loss : [0.50073] Val Loss : [0.32813]\n"
     ]
    },
    {
     "name": "stderr",
     "output_type": "stream",
     "text": [
      "100%|██████████| 36/36 [00:10<00:00,  3.43it/s]\n",
      " 24%|██▎       | 34/144 [06:12<19:54, 10.86s/it]"
     ]
    },
    {
     "name": "stdout",
     "output_type": "stream",
     "text": [
      "Epoch [1], Train Loss : [0.49567] Val Loss : [0.30549]\n"
     ]
    },
    {
     "name": "stderr",
     "output_type": "stream",
     "text": [
      "100%|██████████| 36/36 [00:10<00:00,  3.51it/s]\n",
      " 24%|██▍       | 35/144 [06:23<19:43, 10.86s/it]"
     ]
    },
    {
     "name": "stdout",
     "output_type": "stream",
     "text": [
      "Epoch [1], Train Loss : [0.49051] Val Loss : [0.29921]\n"
     ]
    },
    {
     "name": "stderr",
     "output_type": "stream",
     "text": [
      "100%|██████████| 36/36 [00:10<00:00,  3.50it/s]\n",
      " 25%|██▌       | 36/144 [06:34<19:32, 10.85s/it]"
     ]
    },
    {
     "name": "stdout",
     "output_type": "stream",
     "text": [
      "Epoch [1], Train Loss : [0.48591] Val Loss : [0.29071]\n"
     ]
    },
    {
     "name": "stderr",
     "output_type": "stream",
     "text": [
      "100%|██████████| 36/36 [00:10<00:00,  3.41it/s]\n",
      " 26%|██▌       | 37/144 [06:45<19:29, 10.93s/it]"
     ]
    },
    {
     "name": "stdout",
     "output_type": "stream",
     "text": [
      "Epoch [1], Train Loss : [0.47832] Val Loss : [0.28049]\n"
     ]
    },
    {
     "name": "stderr",
     "output_type": "stream",
     "text": [
      "100%|██████████| 36/36 [00:10<00:00,  3.54it/s]\n",
      " 26%|██▋       | 38/144 [06:56<19:13, 10.88s/it]"
     ]
    },
    {
     "name": "stdout",
     "output_type": "stream",
     "text": [
      "Epoch [1], Train Loss : [0.47310] Val Loss : [0.27440]\n"
     ]
    },
    {
     "name": "stderr",
     "output_type": "stream",
     "text": [
      "100%|██████████| 36/36 [00:10<00:00,  3.52it/s]\n",
      " 27%|██▋       | 39/144 [07:07<18:59, 10.86s/it]"
     ]
    },
    {
     "name": "stdout",
     "output_type": "stream",
     "text": [
      "Epoch [1], Train Loss : [0.47048] Val Loss : [0.26934]\n"
     ]
    },
    {
     "name": "stderr",
     "output_type": "stream",
     "text": [
      "100%|██████████| 36/36 [00:10<00:00,  3.51it/s]\n",
      " 28%|██▊       | 40/144 [07:18<18:47, 10.84s/it]"
     ]
    },
    {
     "name": "stdout",
     "output_type": "stream",
     "text": [
      "Epoch [1], Train Loss : [0.46488] Val Loss : [0.26949]\n"
     ]
    },
    {
     "name": "stderr",
     "output_type": "stream",
     "text": [
      "100%|██████████| 36/36 [00:10<00:00,  3.52it/s]\n",
      " 28%|██▊       | 41/144 [07:28<18:34, 10.82s/it]"
     ]
    },
    {
     "name": "stdout",
     "output_type": "stream",
     "text": [
      "Epoch [1], Train Loss : [0.45864] Val Loss : [0.27070]\n"
     ]
    },
    {
     "name": "stderr",
     "output_type": "stream",
     "text": [
      "100%|██████████| 36/36 [00:10<00:00,  3.54it/s]\n",
      " 29%|██▉       | 42/144 [07:39<18:19, 10.78s/it]"
     ]
    },
    {
     "name": "stdout",
     "output_type": "stream",
     "text": [
      "Epoch [1], Train Loss : [0.45433] Val Loss : [0.27056]\n"
     ]
    },
    {
     "name": "stderr",
     "output_type": "stream",
     "text": [
      "100%|██████████| 36/36 [00:10<00:00,  3.51it/s]\n",
      " 30%|██▉       | 43/144 [07:50<18:09, 10.79s/it]"
     ]
    },
    {
     "name": "stdout",
     "output_type": "stream",
     "text": [
      "Epoch [1], Train Loss : [0.45016] Val Loss : [0.26570]\n"
     ]
    },
    {
     "name": "stderr",
     "output_type": "stream",
     "text": [
      "100%|██████████| 36/36 [00:10<00:00,  3.54it/s]\n",
      " 31%|███       | 44/144 [08:01<17:56, 10.77s/it]"
     ]
    },
    {
     "name": "stdout",
     "output_type": "stream",
     "text": [
      "Epoch [1], Train Loss : [0.44492] Val Loss : [0.26503]\n"
     ]
    },
    {
     "name": "stderr",
     "output_type": "stream",
     "text": [
      "100%|██████████| 36/36 [00:10<00:00,  3.52it/s]\n",
      " 31%|███▏      | 45/144 [08:11<17:46, 10.78s/it]"
     ]
    },
    {
     "name": "stdout",
     "output_type": "stream",
     "text": [
      "Epoch [1], Train Loss : [0.44263] Val Loss : [0.27895]\n"
     ]
    },
    {
     "name": "stderr",
     "output_type": "stream",
     "text": [
      "100%|██████████| 36/36 [00:10<00:00,  3.52it/s]\n",
      " 32%|███▏      | 46/144 [08:22<17:36, 10.78s/it]"
     ]
    },
    {
     "name": "stdout",
     "output_type": "stream",
     "text": [
      "Epoch [1], Train Loss : [0.43958] Val Loss : [0.28054]\n"
     ]
    },
    {
     "name": "stderr",
     "output_type": "stream",
     "text": [
      "100%|██████████| 36/36 [00:10<00:00,  3.53it/s]\n",
      " 33%|███▎      | 47/144 [08:33<17:24, 10.77s/it]"
     ]
    },
    {
     "name": "stdout",
     "output_type": "stream",
     "text": [
      "Epoch [1], Train Loss : [0.43491] Val Loss : [0.26202]\n"
     ]
    },
    {
     "name": "stderr",
     "output_type": "stream",
     "text": [
      "100%|██████████| 36/36 [00:10<00:00,  3.52it/s]\n",
      " 33%|███▎      | 48/144 [08:44<17:11, 10.75s/it]"
     ]
    },
    {
     "name": "stdout",
     "output_type": "stream",
     "text": [
      "Epoch [1], Train Loss : [0.43059] Val Loss : [0.29159]\n"
     ]
    },
    {
     "name": "stderr",
     "output_type": "stream",
     "text": [
      "100%|██████████| 36/36 [00:10<00:00,  3.54it/s]\n",
      " 34%|███▍      | 49/144 [08:54<16:59, 10.73s/it]"
     ]
    },
    {
     "name": "stdout",
     "output_type": "stream",
     "text": [
      "Epoch [1], Train Loss : [0.42737] Val Loss : [0.36031]\n"
     ]
    },
    {
     "name": "stderr",
     "output_type": "stream",
     "text": [
      "100%|██████████| 36/36 [00:10<00:00,  3.52it/s]\n",
      " 35%|███▍      | 50/144 [09:05<16:47, 10.72s/it]"
     ]
    },
    {
     "name": "stdout",
     "output_type": "stream",
     "text": [
      "Epoch [1], Train Loss : [0.42751] Val Loss : [0.32147]\n"
     ]
    },
    {
     "name": "stderr",
     "output_type": "stream",
     "text": [
      "100%|██████████| 36/36 [00:10<00:00,  3.52it/s]\n",
      " 35%|███▌      | 51/144 [09:16<16:39, 10.74s/it]"
     ]
    },
    {
     "name": "stdout",
     "output_type": "stream",
     "text": [
      "Epoch [1], Train Loss : [0.42697] Val Loss : [0.26628]\n"
     ]
    },
    {
     "name": "stderr",
     "output_type": "stream",
     "text": [
      "100%|██████████| 36/36 [00:10<00:00,  3.51it/s]\n",
      " 36%|███▌      | 52/144 [09:27<16:30, 10.77s/it]"
     ]
    },
    {
     "name": "stdout",
     "output_type": "stream",
     "text": [
      "Epoch [1], Train Loss : [0.42357] Val Loss : [0.23554]\n"
     ]
    },
    {
     "name": "stderr",
     "output_type": "stream",
     "text": [
      "100%|██████████| 36/36 [00:10<00:00,  3.52it/s]\n",
      " 37%|███▋      | 53/144 [09:37<16:20, 10.78s/it]"
     ]
    },
    {
     "name": "stdout",
     "output_type": "stream",
     "text": [
      "Epoch [1], Train Loss : [0.41894] Val Loss : [0.23501]\n"
     ]
    },
    {
     "name": "stderr",
     "output_type": "stream",
     "text": [
      "100%|██████████| 36/36 [00:10<00:00,  3.52it/s]\n",
      " 38%|███▊      | 54/144 [09:48<16:09, 10.77s/it]"
     ]
    },
    {
     "name": "stdout",
     "output_type": "stream",
     "text": [
      "Epoch [1], Train Loss : [0.41519] Val Loss : [0.23890]\n"
     ]
    },
    {
     "name": "stderr",
     "output_type": "stream",
     "text": [
      "100%|██████████| 36/36 [00:10<00:00,  3.52it/s]\n",
      " 38%|███▊      | 55/144 [09:59<15:58, 10.77s/it]"
     ]
    },
    {
     "name": "stdout",
     "output_type": "stream",
     "text": [
      "Epoch [1], Train Loss : [0.41238] Val Loss : [0.23674]\n"
     ]
    },
    {
     "name": "stderr",
     "output_type": "stream",
     "text": [
      "100%|██████████| 36/36 [00:10<00:00,  3.52it/s]\n",
      " 39%|███▉      | 56/144 [10:10<15:49, 10.79s/it]"
     ]
    },
    {
     "name": "stdout",
     "output_type": "stream",
     "text": [
      "Epoch [1], Train Loss : [0.40903] Val Loss : [0.22881]\n"
     ]
    },
    {
     "name": "stderr",
     "output_type": "stream",
     "text": [
      "100%|██████████| 36/36 [00:10<00:00,  3.53it/s]\n",
      " 40%|███▉      | 57/144 [10:21<15:38, 10.79s/it]"
     ]
    },
    {
     "name": "stdout",
     "output_type": "stream",
     "text": [
      "Epoch [1], Train Loss : [0.40747] Val Loss : [0.22180]\n"
     ]
    },
    {
     "name": "stderr",
     "output_type": "stream",
     "text": [
      "100%|██████████| 36/36 [00:10<00:00,  3.52it/s]\n",
      " 40%|████      | 58/144 [10:31<15:27, 10.78s/it]"
     ]
    },
    {
     "name": "stdout",
     "output_type": "stream",
     "text": [
      "Epoch [1], Train Loss : [0.40337] Val Loss : [0.22841]\n"
     ]
    },
    {
     "name": "stderr",
     "output_type": "stream",
     "text": [
      "100%|██████████| 36/36 [00:10<00:00,  3.51it/s]\n",
      " 41%|████      | 59/144 [10:42<15:18, 10.80s/it]"
     ]
    },
    {
     "name": "stdout",
     "output_type": "stream",
     "text": [
      "Epoch [1], Train Loss : [0.39929] Val Loss : [0.24234]\n"
     ]
    },
    {
     "name": "stderr",
     "output_type": "stream",
     "text": [
      "100%|██████████| 36/36 [00:10<00:00,  3.51it/s]\n",
      " 42%|████▏     | 60/144 [10:53<15:07, 10.80s/it]"
     ]
    },
    {
     "name": "stdout",
     "output_type": "stream",
     "text": [
      "Epoch [1], Train Loss : [0.39761] Val Loss : [0.24744]\n"
     ]
    },
    {
     "name": "stderr",
     "output_type": "stream",
     "text": [
      "100%|██████████| 36/36 [00:10<00:00,  3.54it/s]\n",
      " 42%|████▏     | 61/144 [11:04<14:54, 10.77s/it]"
     ]
    },
    {
     "name": "stdout",
     "output_type": "stream",
     "text": [
      "Epoch [1], Train Loss : [0.39426] Val Loss : [0.24926]\n"
     ]
    },
    {
     "name": "stderr",
     "output_type": "stream",
     "text": [
      "100%|██████████| 36/36 [00:10<00:00,  3.52it/s]\n",
      " 43%|████▎     | 62/144 [11:14<14:40, 10.74s/it]"
     ]
    },
    {
     "name": "stdout",
     "output_type": "stream",
     "text": [
      "Epoch [1], Train Loss : [0.39062] Val Loss : [0.23937]\n"
     ]
    },
    {
     "name": "stderr",
     "output_type": "stream",
     "text": [
      "100%|██████████| 36/36 [00:10<00:00,  3.52it/s]\n",
      " 43%|████▎     | 62/144 [11:25<15:06, 11.06s/it]\n"
     ]
    },
    {
     "name": "stdout",
     "output_type": "stream",
     "text": [
      "Epoch [1], Train Loss : [0.38699] Val Loss : [0.22393]\n",
      "Early stopping triggered! No improvement in validation loss.\n"
     ]
    },
    {
     "name": "stderr",
     "output_type": "stream",
     "text": [
      "100%|██████████| 36/36 [00:10<00:00,  3.52it/s]\n",
      "  1%|          | 1/144 [00:10<25:47, 10.82s/it]"
     ]
    },
    {
     "name": "stdout",
     "output_type": "stream",
     "text": [
      "Epoch [2], Train Loss : [0.75914] Val Loss : [0.21047]\n"
     ]
    },
    {
     "name": "stderr",
     "output_type": "stream",
     "text": [
      "100%|██████████| 36/36 [00:10<00:00,  3.52it/s]\n",
      "  1%|▏         | 2/144 [00:21<25:35, 10.81s/it]"
     ]
    },
    {
     "name": "stdout",
     "output_type": "stream",
     "text": [
      "Epoch [2], Train Loss : [0.43805] Val Loss : [0.20597]\n"
     ]
    },
    {
     "name": "stderr",
     "output_type": "stream",
     "text": [
      "100%|██████████| 36/36 [00:10<00:00,  3.53it/s]\n",
      "  2%|▏         | 3/144 [00:32<25:20, 10.78s/it]"
     ]
    },
    {
     "name": "stdout",
     "output_type": "stream",
     "text": [
      "Epoch [2], Train Loss : [0.33951] Val Loss : [0.20539]\n"
     ]
    },
    {
     "name": "stderr",
     "output_type": "stream",
     "text": [
      "100%|██████████| 36/36 [00:10<00:00,  3.52it/s]\n",
      "  3%|▎         | 4/144 [00:43<25:11, 10.79s/it]"
     ]
    },
    {
     "name": "stdout",
     "output_type": "stream",
     "text": [
      "Epoch [2], Train Loss : [0.31560] Val Loss : [0.20494]\n"
     ]
    },
    {
     "name": "stderr",
     "output_type": "stream",
     "text": [
      "100%|██████████| 36/36 [00:10<00:00,  3.52it/s]\n",
      "  3%|▎         | 5/144 [00:54<25:01, 10.80s/it]"
     ]
    },
    {
     "name": "stdout",
     "output_type": "stream",
     "text": [
      "Epoch [2], Train Loss : [0.27563] Val Loss : [0.20258]\n"
     ]
    },
    {
     "name": "stderr",
     "output_type": "stream",
     "text": [
      "100%|██████████| 36/36 [00:10<00:00,  3.53it/s]\n",
      "  4%|▍         | 6/144 [01:04<24:47, 10.78s/it]"
     ]
    },
    {
     "name": "stdout",
     "output_type": "stream",
     "text": [
      "Epoch [2], Train Loss : [0.26205] Val Loss : [0.20468]\n"
     ]
    },
    {
     "name": "stderr",
     "output_type": "stream",
     "text": [
      "100%|██████████| 36/36 [00:10<00:00,  3.54it/s]\n",
      "  5%|▍         | 7/144 [01:15<24:35, 10.77s/it]"
     ]
    },
    {
     "name": "stdout",
     "output_type": "stream",
     "text": [
      "Epoch [2], Train Loss : [0.24806] Val Loss : [0.19879]\n"
     ]
    },
    {
     "name": "stderr",
     "output_type": "stream",
     "text": [
      "100%|██████████| 36/36 [00:10<00:00,  3.50it/s]\n",
      "  6%|▌         | 8/144 [01:26<24:26, 10.78s/it]"
     ]
    },
    {
     "name": "stdout",
     "output_type": "stream",
     "text": [
      "Epoch [2], Train Loss : [0.23767] Val Loss : [0.17729]\n"
     ]
    },
    {
     "name": "stderr",
     "output_type": "stream",
     "text": [
      "100%|██████████| 36/36 [00:10<00:00,  3.52it/s]\n",
      "  6%|▋         | 9/144 [01:37<24:12, 10.76s/it]"
     ]
    },
    {
     "name": "stdout",
     "output_type": "stream",
     "text": [
      "Epoch [2], Train Loss : [0.22812] Val Loss : [0.16883]\n"
     ]
    },
    {
     "name": "stderr",
     "output_type": "stream",
     "text": [
      "100%|██████████| 36/36 [00:10<00:00,  3.51it/s]\n",
      "  7%|▋         | 10/144 [01:47<24:01, 10.76s/it]"
     ]
    },
    {
     "name": "stdout",
     "output_type": "stream",
     "text": [
      "Epoch [2], Train Loss : [0.22824] Val Loss : [0.17177]\n"
     ]
    },
    {
     "name": "stderr",
     "output_type": "stream",
     "text": [
      "100%|██████████| 36/36 [00:10<00:00,  3.53it/s]\n",
      "  8%|▊         | 11/144 [01:58<23:49, 10.75s/it]"
     ]
    },
    {
     "name": "stdout",
     "output_type": "stream",
     "text": [
      "Epoch [2], Train Loss : [0.22642] Val Loss : [0.18777]\n"
     ]
    },
    {
     "name": "stderr",
     "output_type": "stream",
     "text": [
      "100%|██████████| 36/36 [00:10<00:00,  3.41it/s]\n",
      "  8%|▊         | 12/144 [02:09<23:51, 10.84s/it]"
     ]
    },
    {
     "name": "stdout",
     "output_type": "stream",
     "text": [
      "Epoch [2], Train Loss : [0.22106] Val Loss : [0.19160]\n"
     ]
    },
    {
     "name": "stderr",
     "output_type": "stream",
     "text": [
      "100%|██████████| 36/36 [00:10<00:00,  3.52it/s]\n",
      "  9%|▉         | 13/144 [02:20<23:37, 10.82s/it]"
     ]
    },
    {
     "name": "stdout",
     "output_type": "stream",
     "text": [
      "Epoch [2], Train Loss : [0.22308] Val Loss : [0.19250]\n"
     ]
    },
    {
     "name": "stderr",
     "output_type": "stream",
     "text": [
      "100%|██████████| 36/36 [00:10<00:00,  3.43it/s]\n",
      " 10%|▉         | 14/144 [02:31<23:33, 10.87s/it]"
     ]
    },
    {
     "name": "stdout",
     "output_type": "stream",
     "text": [
      "Epoch [2], Train Loss : [0.21687] Val Loss : [0.19205]\n"
     ]
    },
    {
     "name": "stderr",
     "output_type": "stream",
     "text": [
      "100%|██████████| 36/36 [00:10<00:00,  3.42it/s]\n",
      " 10%|▉         | 14/144 [02:42<25:07, 11.60s/it]\n"
     ]
    },
    {
     "name": "stdout",
     "output_type": "stream",
     "text": [
      "Epoch [2], Train Loss : [0.21453] Val Loss : [0.18136]\n",
      "Early stopping triggered! No improvement in validation loss.\n"
     ]
    },
    {
     "name": "stderr",
     "output_type": "stream",
     "text": [
      "100%|██████████| 36/36 [00:10<00:00,  3.54it/s]\n",
      "  0%|          | 0/144 [00:10<?, ?it/s]\n"
     ]
    },
    {
     "name": "stdout",
     "output_type": "stream",
     "text": [
      "Epoch [3], Train Loss : [0.53631] Val Loss : [0.18035]\n",
      "Epoch 00079: reducing learning rate of group 0 to 1.5000e-04.\n",
      "Early stopping triggered! No improvement in validation loss.\n"
     ]
    },
    {
     "name": "stderr",
     "output_type": "stream",
     "text": [
      "100%|██████████| 36/36 [00:10<00:00,  3.49it/s]\n",
      "  0%|          | 0/144 [00:10<?, ?it/s]\n"
     ]
    },
    {
     "name": "stdout",
     "output_type": "stream",
     "text": [
      "Epoch [4], Train Loss : [0.59146] Val Loss : [0.18291]\n",
      "Early stopping triggered! No improvement in validation loss.\n"
     ]
    },
    {
     "name": "stderr",
     "output_type": "stream",
     "text": [
      "100%|██████████| 36/36 [00:10<00:00,  3.51it/s]\n",
      "  0%|          | 0/144 [00:10<?, ?it/s]\n"
     ]
    },
    {
     "name": "stdout",
     "output_type": "stream",
     "text": [
      "Epoch [5], Train Loss : [0.54937] Val Loss : [0.18869]\n",
      "Early stopping triggered! No improvement in validation loss.\n"
     ]
    },
    {
     "name": "stderr",
     "output_type": "stream",
     "text": [
      "100%|██████████| 36/36 [00:10<00:00,  3.54it/s]\n",
      "  0%|          | 0/144 [00:10<?, ?it/s]\n"
     ]
    },
    {
     "name": "stdout",
     "output_type": "stream",
     "text": [
      "Epoch [6], Train Loss : [0.51034] Val Loss : [0.19496]\n",
      "Early stopping triggered! No improvement in validation loss.\n"
     ]
    },
    {
     "name": "stderr",
     "output_type": "stream",
     "text": [
      "100%|██████████| 36/36 [00:10<00:00,  3.53it/s]\n",
      "  0%|          | 0/144 [00:10<?, ?it/s]\n"
     ]
    },
    {
     "name": "stdout",
     "output_type": "stream",
     "text": [
      "Epoch [7], Train Loss : [0.57160] Val Loss : [0.20244]\n",
      "Early stopping triggered! No improvement in validation loss.\n"
     ]
    },
    {
     "name": "stderr",
     "output_type": "stream",
     "text": [
      "100%|██████████| 36/36 [00:10<00:00,  3.53it/s]\n",
      "  0%|          | 0/144 [00:10<?, ?it/s]\n"
     ]
    },
    {
     "name": "stdout",
     "output_type": "stream",
     "text": [
      "Epoch [8], Train Loss : [0.58544] Val Loss : [0.21243]\n",
      "Early stopping triggered! No improvement in validation loss.\n"
     ]
    },
    {
     "name": "stderr",
     "output_type": "stream",
     "text": [
      "100%|██████████| 36/36 [00:10<00:00,  3.42it/s]\n",
      "  0%|          | 0/144 [00:11<?, ?it/s]\n"
     ]
    },
    {
     "name": "stdout",
     "output_type": "stream",
     "text": [
      "Epoch [9], Train Loss : [0.32668] Val Loss : [0.22258]\n",
      "Early stopping triggered! No improvement in validation loss.\n"
     ]
    },
    {
     "name": "stderr",
     "output_type": "stream",
     "text": [
      "100%|██████████| 36/36 [00:10<00:00,  3.52it/s]\n",
      "  0%|          | 0/144 [00:10<?, ?it/s]\n"
     ]
    },
    {
     "name": "stdout",
     "output_type": "stream",
     "text": [
      "Epoch [10], Train Loss : [0.34734] Val Loss : [0.23152]\n",
      "Epoch 00086: reducing learning rate of group 0 to 7.5000e-05.\n",
      "Early stopping triggered! No improvement in validation loss.\n"
     ]
    },
    {
     "name": "stderr",
     "output_type": "stream",
     "text": [
      "100%|██████████| 36/36 [00:10<00:00,  3.44it/s]\n",
      "  0%|          | 0/144 [00:10<?, ?it/s]\n"
     ]
    },
    {
     "name": "stdout",
     "output_type": "stream",
     "text": [
      "Epoch [11], Train Loss : [0.35722] Val Loss : [0.23702]\n",
      "Early stopping triggered! No improvement in validation loss.\n"
     ]
    },
    {
     "name": "stderr",
     "output_type": "stream",
     "text": [
      "100%|██████████| 36/36 [00:10<00:00,  3.44it/s]\n",
      "  0%|          | 0/144 [00:10<?, ?it/s]\n"
     ]
    },
    {
     "name": "stdout",
     "output_type": "stream",
     "text": [
      "Epoch [12], Train Loss : [0.49475] Val Loss : [0.24203]\n",
      "Early stopping triggered! No improvement in validation loss.\n"
     ]
    },
    {
     "name": "stderr",
     "output_type": "stream",
     "text": [
      "100%|██████████| 36/36 [00:10<00:00,  3.52it/s]\n",
      "  0%|          | 0/144 [00:10<?, ?it/s]\n"
     ]
    },
    {
     "name": "stdout",
     "output_type": "stream",
     "text": [
      "Epoch [13], Train Loss : [0.37217] Val Loss : [0.24435]\n",
      "Early stopping triggered! No improvement in validation loss.\n"
     ]
    },
    {
     "name": "stderr",
     "output_type": "stream",
     "text": [
      "100%|██████████| 36/36 [00:10<00:00,  3.51it/s]\n",
      "  0%|          | 0/144 [00:10<?, ?it/s]\n"
     ]
    },
    {
     "name": "stdout",
     "output_type": "stream",
     "text": [
      "Epoch [14], Train Loss : [0.34179] Val Loss : [0.24852]\n",
      "Early stopping triggered! No improvement in validation loss.\n"
     ]
    },
    {
     "name": "stderr",
     "output_type": "stream",
     "text": [
      "100%|██████████| 36/36 [00:10<00:00,  3.52it/s]\n",
      "  0%|          | 0/144 [00:10<?, ?it/s]\n"
     ]
    },
    {
     "name": "stdout",
     "output_type": "stream",
     "text": [
      "Epoch [15], Train Loss : [0.30151] Val Loss : [0.25174]\n",
      "Early stopping triggered! No improvement in validation loss.\n"
     ]
    },
    {
     "name": "stderr",
     "output_type": "stream",
     "text": [
      "100%|██████████| 36/36 [00:10<00:00,  3.52it/s]\n",
      "  0%|          | 0/144 [00:10<?, ?it/s]\n"
     ]
    },
    {
     "name": "stdout",
     "output_type": "stream",
     "text": [
      "Epoch [16], Train Loss : [0.28497] Val Loss : [0.25551]\n",
      "Early stopping triggered! No improvement in validation loss.\n"
     ]
    },
    {
     "name": "stderr",
     "output_type": "stream",
     "text": [
      "100%|██████████| 36/36 [00:10<00:00,  3.43it/s]\n",
      "  0%|          | 0/144 [00:10<?, ?it/s]\n"
     ]
    },
    {
     "name": "stdout",
     "output_type": "stream",
     "text": [
      "Epoch [17], Train Loss : [0.33435] Val Loss : [0.25909]\n",
      "Epoch 00093: reducing learning rate of group 0 to 3.7500e-05.\n",
      "Early stopping triggered! No improvement in validation loss.\n"
     ]
    },
    {
     "name": "stderr",
     "output_type": "stream",
     "text": [
      "100%|██████████| 36/36 [00:10<00:00,  3.44it/s]\n",
      "  0%|          | 0/144 [00:10<?, ?it/s]\n"
     ]
    },
    {
     "name": "stdout",
     "output_type": "stream",
     "text": [
      "Epoch [18], Train Loss : [0.40568] Val Loss : [0.26330]\n",
      "Early stopping triggered! No improvement in validation loss.\n"
     ]
    },
    {
     "name": "stderr",
     "output_type": "stream",
     "text": [
      "100%|██████████| 36/36 [00:10<00:00,  3.50it/s]\n",
      "  0%|          | 0/144 [00:10<?, ?it/s]\n"
     ]
    },
    {
     "name": "stdout",
     "output_type": "stream",
     "text": [
      "Epoch [19], Train Loss : [0.34929] Val Loss : [0.26846]\n",
      "Early stopping triggered! No improvement in validation loss.\n"
     ]
    },
    {
     "name": "stderr",
     "output_type": "stream",
     "text": [
      "100%|██████████| 36/36 [00:10<00:00,  3.53it/s]\n",
      "  0%|          | 0/144 [00:10<?, ?it/s]\n"
     ]
    },
    {
     "name": "stdout",
     "output_type": "stream",
     "text": [
      "Epoch [20], Train Loss : [0.32835] Val Loss : [0.27197]\n",
      "Early stopping triggered! No improvement in validation loss.\n"
     ]
    },
    {
     "name": "stderr",
     "output_type": "stream",
     "text": [
      "100%|██████████| 36/36 [00:10<00:00,  3.53it/s]\n",
      "  0%|          | 0/144 [00:10<?, ?it/s]\n"
     ]
    },
    {
     "name": "stdout",
     "output_type": "stream",
     "text": [
      "Epoch [21], Train Loss : [0.46945] Val Loss : [0.27390]\n",
      "Early stopping triggered! No improvement in validation loss.\n"
     ]
    },
    {
     "name": "stderr",
     "output_type": "stream",
     "text": [
      "100%|██████████| 36/36 [00:10<00:00,  3.53it/s]\n",
      "  0%|          | 0/144 [00:10<?, ?it/s]\n"
     ]
    },
    {
     "name": "stdout",
     "output_type": "stream",
     "text": [
      "Epoch [22], Train Loss : [0.37808] Val Loss : [0.27445]\n",
      "Early stopping triggered! No improvement in validation loss.\n"
     ]
    },
    {
     "name": "stderr",
     "output_type": "stream",
     "text": [
      "100%|██████████| 36/36 [00:10<00:00,  3.53it/s]\n",
      "  0%|          | 0/144 [00:10<?, ?it/s]\n"
     ]
    },
    {
     "name": "stdout",
     "output_type": "stream",
     "text": [
      "Epoch [23], Train Loss : [0.32657] Val Loss : [0.27644]\n",
      "Early stopping triggered! No improvement in validation loss.\n"
     ]
    },
    {
     "name": "stderr",
     "output_type": "stream",
     "text": [
      "100%|██████████| 36/36 [00:10<00:00,  3.51it/s]\n",
      "  0%|          | 0/144 [00:10<?, ?it/s]\n"
     ]
    },
    {
     "name": "stdout",
     "output_type": "stream",
     "text": [
      "Epoch [24], Train Loss : [0.26499] Val Loss : [0.27710]\n",
      "Epoch 00100: reducing learning rate of group 0 to 1.8750e-05.\n",
      "Early stopping triggered! No improvement in validation loss.\n"
     ]
    },
    {
     "name": "stderr",
     "output_type": "stream",
     "text": [
      "100%|██████████| 36/36 [00:10<00:00,  3.52it/s]\n",
      "  0%|          | 0/144 [00:10<?, ?it/s]\n"
     ]
    },
    {
     "name": "stdout",
     "output_type": "stream",
     "text": [
      "Epoch [25], Train Loss : [0.41487] Val Loss : [0.27789]\n",
      "Early stopping triggered! No improvement in validation loss.\n"
     ]
    },
    {
     "name": "stderr",
     "output_type": "stream",
     "text": [
      "100%|██████████| 36/36 [00:10<00:00,  3.49it/s]\n",
      "  0%|          | 0/144 [00:10<?, ?it/s]\n"
     ]
    },
    {
     "name": "stdout",
     "output_type": "stream",
     "text": [
      "Epoch [26], Train Loss : [0.41566] Val Loss : [0.28043]\n",
      "Early stopping triggered! No improvement in validation loss.\n"
     ]
    },
    {
     "name": "stderr",
     "output_type": "stream",
     "text": [
      "100%|██████████| 36/36 [00:10<00:00,  3.51it/s]\n",
      "  0%|          | 0/144 [00:10<?, ?it/s]\n"
     ]
    },
    {
     "name": "stdout",
     "output_type": "stream",
     "text": [
      "Epoch [27], Train Loss : [0.33360] Val Loss : [0.28229]\n",
      "Early stopping triggered! No improvement in validation loss.\n"
     ]
    },
    {
     "name": "stderr",
     "output_type": "stream",
     "text": [
      "100%|██████████| 36/36 [00:10<00:00,  3.52it/s]\n",
      "  0%|          | 0/144 [00:10<?, ?it/s]\n"
     ]
    },
    {
     "name": "stdout",
     "output_type": "stream",
     "text": [
      "Epoch [28], Train Loss : [0.33918] Val Loss : [0.28416]\n",
      "Early stopping triggered! No improvement in validation loss.\n"
     ]
    },
    {
     "name": "stderr",
     "output_type": "stream",
     "text": [
      "100%|██████████| 36/36 [00:10<00:00,  3.52it/s]\n",
      "  0%|          | 0/144 [00:10<?, ?it/s]\n"
     ]
    },
    {
     "name": "stdout",
     "output_type": "stream",
     "text": [
      "Epoch [29], Train Loss : [0.37758] Val Loss : [0.28461]\n",
      "Early stopping triggered! No improvement in validation loss.\n"
     ]
    },
    {
     "name": "stderr",
     "output_type": "stream",
     "text": [
      "100%|██████████| 36/36 [00:10<00:00,  3.52it/s]\n",
      "  0%|          | 0/144 [00:10<?, ?it/s]\n"
     ]
    },
    {
     "name": "stdout",
     "output_type": "stream",
     "text": [
      "Epoch [30], Train Loss : [0.39757] Val Loss : [0.28543]\n",
      "Early stopping triggered! No improvement in validation loss.\n"
     ]
    },
    {
     "name": "stderr",
     "output_type": "stream",
     "text": [
      "100%|██████████| 36/36 [00:10<00:00,  3.51it/s]\n",
      "  0%|          | 0/144 [00:10<?, ?it/s]\n"
     ]
    },
    {
     "name": "stdout",
     "output_type": "stream",
     "text": [
      "Epoch [31], Train Loss : [0.27915] Val Loss : [0.28711]\n",
      "Epoch 00107: reducing learning rate of group 0 to 9.3750e-06.\n",
      "Early stopping triggered! No improvement in validation loss.\n"
     ]
    },
    {
     "name": "stderr",
     "output_type": "stream",
     "text": [
      "100%|██████████| 36/36 [00:10<00:00,  3.52it/s]\n",
      "  0%|          | 0/144 [00:10<?, ?it/s]\n"
     ]
    },
    {
     "name": "stdout",
     "output_type": "stream",
     "text": [
      "Epoch [32], Train Loss : [0.39948] Val Loss : [0.28825]\n",
      "Early stopping triggered! No improvement in validation loss.\n"
     ]
    },
    {
     "name": "stderr",
     "output_type": "stream",
     "text": [
      "100%|██████████| 36/36 [00:10<00:00,  3.52it/s]\n",
      "  0%|          | 0/144 [00:10<?, ?it/s]\n"
     ]
    },
    {
     "name": "stdout",
     "output_type": "stream",
     "text": [
      "Epoch [33], Train Loss : [0.36325] Val Loss : [0.29003]\n",
      "Early stopping triggered! No improvement in validation loss.\n"
     ]
    },
    {
     "name": "stderr",
     "output_type": "stream",
     "text": [
      "100%|██████████| 36/36 [00:10<00:00,  3.52it/s]\n",
      "  0%|          | 0/144 [00:10<?, ?it/s]\n"
     ]
    },
    {
     "name": "stdout",
     "output_type": "stream",
     "text": [
      "Epoch [34], Train Loss : [0.36051] Val Loss : [0.29186]\n",
      "Early stopping triggered! No improvement in validation loss.\n"
     ]
    },
    {
     "name": "stderr",
     "output_type": "stream",
     "text": [
      "100%|██████████| 36/36 [00:10<00:00,  3.43it/s]\n",
      "  0%|          | 0/144 [00:10<?, ?it/s]\n"
     ]
    },
    {
     "name": "stdout",
     "output_type": "stream",
     "text": [
      "Epoch [35], Train Loss : [0.39978] Val Loss : [0.29329]\n",
      "Early stopping triggered! No improvement in validation loss.\n"
     ]
    },
    {
     "name": "stderr",
     "output_type": "stream",
     "text": [
      "100%|██████████| 36/36 [00:10<00:00,  3.53it/s]\n",
      "  0%|          | 0/144 [00:10<?, ?it/s]\n"
     ]
    },
    {
     "name": "stdout",
     "output_type": "stream",
     "text": [
      "Epoch [36], Train Loss : [0.37755] Val Loss : [0.29426]\n",
      "Early stopping triggered! No improvement in validation loss.\n"
     ]
    },
    {
     "name": "stderr",
     "output_type": "stream",
     "text": [
      "100%|██████████| 36/36 [00:10<00:00,  3.51it/s]\n",
      "  0%|          | 0/144 [00:10<?, ?it/s]\n"
     ]
    },
    {
     "name": "stdout",
     "output_type": "stream",
     "text": [
      "Epoch [37], Train Loss : [0.45888] Val Loss : [0.29479]\n",
      "Early stopping triggered! No improvement in validation loss.\n"
     ]
    },
    {
     "name": "stderr",
     "output_type": "stream",
     "text": [
      "100%|██████████| 36/36 [00:10<00:00,  3.54it/s]\n",
      "  0%|          | 0/144 [00:10<?, ?it/s]\n"
     ]
    },
    {
     "name": "stdout",
     "output_type": "stream",
     "text": [
      "Epoch [38], Train Loss : [0.36547] Val Loss : [0.29394]\n",
      "Epoch 00114: reducing learning rate of group 0 to 4.6875e-06.\n",
      "Early stopping triggered! No improvement in validation loss.\n"
     ]
    },
    {
     "name": "stderr",
     "output_type": "stream",
     "text": [
      "100%|██████████| 36/36 [00:10<00:00,  3.53it/s]\n",
      "  0%|          | 0/144 [00:10<?, ?it/s]\n"
     ]
    },
    {
     "name": "stdout",
     "output_type": "stream",
     "text": [
      "Epoch [39], Train Loss : [0.41321] Val Loss : [0.29595]\n",
      "Early stopping triggered! No improvement in validation loss.\n"
     ]
    },
    {
     "name": "stderr",
     "output_type": "stream",
     "text": [
      "100%|██████████| 36/36 [00:10<00:00,  3.52it/s]\n",
      "  0%|          | 0/144 [00:10<?, ?it/s]\n"
     ]
    },
    {
     "name": "stdout",
     "output_type": "stream",
     "text": [
      "Epoch [40], Train Loss : [0.34697] Val Loss : [0.29786]\n",
      "Early stopping triggered! No improvement in validation loss.\n"
     ]
    },
    {
     "name": "stderr",
     "output_type": "stream",
     "text": [
      "100%|██████████| 36/36 [00:10<00:00,  3.53it/s]\n",
      "  0%|          | 0/144 [00:10<?, ?it/s]\n"
     ]
    },
    {
     "name": "stdout",
     "output_type": "stream",
     "text": [
      "Epoch [41], Train Loss : [0.49204] Val Loss : [0.29886]\n",
      "Early stopping triggered! No improvement in validation loss.\n"
     ]
    },
    {
     "name": "stderr",
     "output_type": "stream",
     "text": [
      "100%|██████████| 36/36 [00:10<00:00,  3.51it/s]\n",
      "  0%|          | 0/144 [00:10<?, ?it/s]\n"
     ]
    },
    {
     "name": "stdout",
     "output_type": "stream",
     "text": [
      "Epoch [42], Train Loss : [0.40176] Val Loss : [0.29787]\n",
      "Early stopping triggered! No improvement in validation loss.\n"
     ]
    },
    {
     "name": "stderr",
     "output_type": "stream",
     "text": [
      "100%|██████████| 36/36 [00:10<00:00,  3.51it/s]\n",
      "  0%|          | 0/144 [00:10<?, ?it/s]\n"
     ]
    },
    {
     "name": "stdout",
     "output_type": "stream",
     "text": [
      "Epoch [43], Train Loss : [0.33567] Val Loss : [0.30033]\n",
      "Early stopping triggered! No improvement in validation loss.\n"
     ]
    },
    {
     "name": "stderr",
     "output_type": "stream",
     "text": [
      "100%|██████████| 36/36 [00:10<00:00,  3.52it/s]\n",
      "  0%|          | 0/144 [00:10<?, ?it/s]\n"
     ]
    },
    {
     "name": "stdout",
     "output_type": "stream",
     "text": [
      "Epoch [44], Train Loss : [0.37489] Val Loss : [0.30211]\n",
      "Early stopping triggered! No improvement in validation loss.\n"
     ]
    },
    {
     "name": "stderr",
     "output_type": "stream",
     "text": [
      "100%|██████████| 36/36 [00:10<00:00,  3.53it/s]\n",
      "  0%|          | 0/144 [00:10<?, ?it/s]\n"
     ]
    },
    {
     "name": "stdout",
     "output_type": "stream",
     "text": [
      "Epoch [45], Train Loss : [0.33751] Val Loss : [0.29997]\n",
      "Epoch 00121: reducing learning rate of group 0 to 2.3437e-06.\n",
      "Early stopping triggered! No improvement in validation loss.\n"
     ]
    },
    {
     "name": "stderr",
     "output_type": "stream",
     "text": [
      "100%|██████████| 36/36 [00:10<00:00,  3.52it/s]\n",
      "  0%|          | 0/144 [00:10<?, ?it/s]\n"
     ]
    },
    {
     "name": "stdout",
     "output_type": "stream",
     "text": [
      "Epoch [46], Train Loss : [0.28793] Val Loss : [0.30108]\n",
      "Early stopping triggered! No improvement in validation loss.\n"
     ]
    },
    {
     "name": "stderr",
     "output_type": "stream",
     "text": [
      "100%|██████████| 36/36 [00:10<00:00,  3.51it/s]\n",
      "  0%|          | 0/144 [00:10<?, ?it/s]\n"
     ]
    },
    {
     "name": "stdout",
     "output_type": "stream",
     "text": [
      "Epoch [47], Train Loss : [0.24405] Val Loss : [0.30307]\n",
      "Early stopping triggered! No improvement in validation loss.\n"
     ]
    },
    {
     "name": "stderr",
     "output_type": "stream",
     "text": [
      "100%|██████████| 36/36 [00:10<00:00,  3.51it/s]\n",
      "  0%|          | 0/144 [00:10<?, ?it/s]\n"
     ]
    },
    {
     "name": "stdout",
     "output_type": "stream",
     "text": [
      "Epoch [48], Train Loss : [0.36647] Val Loss : [0.30289]\n",
      "Early stopping triggered! No improvement in validation loss.\n"
     ]
    },
    {
     "name": "stderr",
     "output_type": "stream",
     "text": [
      "100%|██████████| 36/36 [00:10<00:00,  3.52it/s]\n",
      "  0%|          | 0/144 [00:10<?, ?it/s]\n"
     ]
    },
    {
     "name": "stdout",
     "output_type": "stream",
     "text": [
      "Epoch [49], Train Loss : [0.43401] Val Loss : [0.30596]\n",
      "Early stopping triggered! No improvement in validation loss.\n"
     ]
    },
    {
     "name": "stderr",
     "output_type": "stream",
     "text": [
      "100%|██████████| 36/36 [00:10<00:00,  3.54it/s]\n",
      "  0%|          | 0/144 [00:10<?, ?it/s]\n"
     ]
    },
    {
     "name": "stdout",
     "output_type": "stream",
     "text": [
      "Epoch [50], Train Loss : [0.30022] Val Loss : [0.30732]\n",
      "Early stopping triggered! No improvement in validation loss.\n"
     ]
    },
    {
     "name": "stderr",
     "output_type": "stream",
     "text": [
      "100%|██████████| 36/36 [00:10<00:00,  3.52it/s]\n",
      "  0%|          | 0/144 [00:10<?, ?it/s]\n"
     ]
    },
    {
     "name": "stdout",
     "output_type": "stream",
     "text": [
      "Epoch [51], Train Loss : [0.28820] Val Loss : [0.30545]\n",
      "Early stopping triggered! No improvement in validation loss.\n"
     ]
    },
    {
     "name": "stderr",
     "output_type": "stream",
     "text": [
      "100%|██████████| 36/36 [00:10<00:00,  3.54it/s]\n",
      "  0%|          | 0/144 [00:10<?, ?it/s]\n"
     ]
    },
    {
     "name": "stdout",
     "output_type": "stream",
     "text": [
      "Epoch [52], Train Loss : [0.27584] Val Loss : [0.30584]\n",
      "Epoch 00128: reducing learning rate of group 0 to 1.1719e-06.\n",
      "Early stopping triggered! No improvement in validation loss.\n"
     ]
    },
    {
     "name": "stderr",
     "output_type": "stream",
     "text": [
      "100%|██████████| 36/36 [00:10<00:00,  3.43it/s]\n",
      "  0%|          | 0/144 [00:11<?, ?it/s]\n"
     ]
    },
    {
     "name": "stdout",
     "output_type": "stream",
     "text": [
      "Epoch [53], Train Loss : [0.38564] Val Loss : [0.30716]\n",
      "Early stopping triggered! No improvement in validation loss.\n"
     ]
    },
    {
     "name": "stderr",
     "output_type": "stream",
     "text": [
      "100%|██████████| 36/36 [00:10<00:00,  3.43it/s]\n",
      "  0%|          | 0/144 [00:10<?, ?it/s]\n"
     ]
    },
    {
     "name": "stdout",
     "output_type": "stream",
     "text": [
      "Epoch [54], Train Loss : [0.30628] Val Loss : [0.30996]\n",
      "Early stopping triggered! No improvement in validation loss.\n"
     ]
    },
    {
     "name": "stderr",
     "output_type": "stream",
     "text": [
      "100%|██████████| 36/36 [00:10<00:00,  3.44it/s]\n",
      "  0%|          | 0/144 [00:10<?, ?it/s]\n"
     ]
    },
    {
     "name": "stdout",
     "output_type": "stream",
     "text": [
      "Epoch [55], Train Loss : [0.35811] Val Loss : [0.30969]\n",
      "Early stopping triggered! No improvement in validation loss.\n"
     ]
    },
    {
     "name": "stderr",
     "output_type": "stream",
     "text": [
      "100%|██████████| 36/36 [00:10<00:00,  3.53it/s]\n",
      "  0%|          | 0/144 [00:10<?, ?it/s]\n"
     ]
    },
    {
     "name": "stdout",
     "output_type": "stream",
     "text": [
      "Epoch [56], Train Loss : [0.41943] Val Loss : [0.30767]\n",
      "Early stopping triggered! No improvement in validation loss.\n"
     ]
    },
    {
     "name": "stderr",
     "output_type": "stream",
     "text": [
      "100%|██████████| 36/36 [00:10<00:00,  3.54it/s]\n",
      "  0%|          | 0/144 [00:10<?, ?it/s]\n"
     ]
    },
    {
     "name": "stdout",
     "output_type": "stream",
     "text": [
      "Epoch [57], Train Loss : [0.33976] Val Loss : [0.30778]\n",
      "Early stopping triggered! No improvement in validation loss.\n"
     ]
    },
    {
     "name": "stderr",
     "output_type": "stream",
     "text": [
      "100%|██████████| 36/36 [00:10<00:00,  3.40it/s]\n",
      "  0%|          | 0/144 [00:11<?, ?it/s]\n"
     ]
    },
    {
     "name": "stdout",
     "output_type": "stream",
     "text": [
      "Epoch [58], Train Loss : [0.38755] Val Loss : [0.31258]\n",
      "Early stopping triggered! No improvement in validation loss.\n"
     ]
    },
    {
     "name": "stderr",
     "output_type": "stream",
     "text": [
      "100%|██████████| 36/36 [00:10<00:00,  3.48it/s]\n",
      "  0%|          | 0/144 [00:10<?, ?it/s]\n"
     ]
    },
    {
     "name": "stdout",
     "output_type": "stream",
     "text": [
      "Epoch [59], Train Loss : [0.34451] Val Loss : [0.31124]\n",
      "Epoch 00135: reducing learning rate of group 0 to 5.8594e-07.\n",
      "Early stopping triggered! No improvement in validation loss.\n"
     ]
    },
    {
     "name": "stderr",
     "output_type": "stream",
     "text": [
      "100%|██████████| 36/36 [00:21<00:00,  1.65it/s]\n",
      "  0%|          | 0/144 [00:22<?, ?it/s]\n"
     ]
    },
    {
     "name": "stdout",
     "output_type": "stream",
     "text": [
      "Epoch [60], Train Loss : [0.33658] Val Loss : [0.31488]\n",
      "Early stopping triggered! No improvement in validation loss.\n"
     ]
    },
    {
     "name": "stderr",
     "output_type": "stream",
     "text": [
      "100%|██████████| 36/36 [00:25<00:00,  1.40it/s]\n",
      "  0%|          | 0/144 [00:27<?, ?it/s]\n"
     ]
    },
    {
     "name": "stdout",
     "output_type": "stream",
     "text": [
      "Epoch [61], Train Loss : [0.41546] Val Loss : [0.31497]\n",
      "Early stopping triggered! No improvement in validation loss.\n"
     ]
    },
    {
     "name": "stderr",
     "output_type": "stream",
     "text": [
      "100%|██████████| 36/36 [00:25<00:00,  1.39it/s]\n",
      "  0%|          | 0/144 [00:27<?, ?it/s]\n"
     ]
    },
    {
     "name": "stdout",
     "output_type": "stream",
     "text": [
      "Epoch [62], Train Loss : [0.36869] Val Loss : [0.31457]\n",
      "Early stopping triggered! No improvement in validation loss.\n"
     ]
    },
    {
     "name": "stderr",
     "output_type": "stream",
     "text": [
      "100%|██████████| 36/36 [00:26<00:00,  1.38it/s]\n",
      "  0%|          | 0/144 [00:28<?, ?it/s]\n"
     ]
    },
    {
     "name": "stdout",
     "output_type": "stream",
     "text": [
      "Epoch [63], Train Loss : [0.27390] Val Loss : [0.31008]\n",
      "Early stopping triggered! No improvement in validation loss.\n"
     ]
    },
    {
     "name": "stderr",
     "output_type": "stream",
     "text": [
      "100%|██████████| 36/36 [00:25<00:00,  1.40it/s]\n",
      "  0%|          | 0/144 [00:27<?, ?it/s]\n"
     ]
    },
    {
     "name": "stdout",
     "output_type": "stream",
     "text": [
      "Epoch [64], Train Loss : [0.35531] Val Loss : [0.31054]\n",
      "Early stopping triggered! No improvement in validation loss.\n"
     ]
    },
    {
     "name": "stderr",
     "output_type": "stream",
     "text": [
      "100%|██████████| 36/36 [00:25<00:00,  1.42it/s]\n",
      "  0%|          | 0/144 [00:27<?, ?it/s]\n"
     ]
    },
    {
     "name": "stdout",
     "output_type": "stream",
     "text": [
      "Epoch [65], Train Loss : [0.26624] Val Loss : [0.30908]\n",
      "Early stopping triggered! No improvement in validation loss.\n"
     ]
    },
    {
     "name": "stderr",
     "output_type": "stream",
     "text": [
      "100%|██████████| 36/36 [00:25<00:00,  1.42it/s]\n",
      "  0%|          | 0/144 [00:27<?, ?it/s]\n"
     ]
    },
    {
     "name": "stdout",
     "output_type": "stream",
     "text": [
      "Epoch [66], Train Loss : [0.25928] Val Loss : [0.30753]\n",
      "Epoch 00142: reducing learning rate of group 0 to 2.9297e-07.\n",
      "Early stopping triggered! No improvement in validation loss.\n"
     ]
    },
    {
     "name": "stderr",
     "output_type": "stream",
     "text": [
      "100%|██████████| 36/36 [00:17<00:00,  2.09it/s]\n",
      "  0%|          | 0/144 [00:19<?, ?it/s]\n"
     ]
    },
    {
     "name": "stdout",
     "output_type": "stream",
     "text": [
      "Epoch [67], Train Loss : [0.26430] Val Loss : [0.30733]\n",
      "Early stopping triggered! No improvement in validation loss.\n"
     ]
    },
    {
     "name": "stderr",
     "output_type": "stream",
     "text": [
      "100%|██████████| 36/36 [00:16<00:00,  2.21it/s]\n",
      "  0%|          | 0/144 [00:17<?, ?it/s]\n"
     ]
    },
    {
     "name": "stdout",
     "output_type": "stream",
     "text": [
      "Epoch [68], Train Loss : [0.32371] Val Loss : [0.30420]\n",
      "Early stopping triggered! No improvement in validation loss.\n"
     ]
    },
    {
     "name": "stderr",
     "output_type": "stream",
     "text": [
      "100%|██████████| 36/36 [00:16<00:00,  2.22it/s]\n",
      "  0%|          | 0/144 [00:17<?, ?it/s]\n"
     ]
    },
    {
     "name": "stdout",
     "output_type": "stream",
     "text": [
      "Epoch [69], Train Loss : [0.41379] Val Loss : [0.30598]\n",
      "Early stopping triggered! No improvement in validation loss.\n"
     ]
    },
    {
     "name": "stderr",
     "output_type": "stream",
     "text": [
      "100%|██████████| 36/36 [00:16<00:00,  2.22it/s]\n",
      "  0%|          | 0/144 [00:17<?, ?it/s]\n"
     ]
    },
    {
     "name": "stdout",
     "output_type": "stream",
     "text": [
      "Epoch [70], Train Loss : [0.39120] Val Loss : [0.30582]\n",
      "Early stopping triggered! No improvement in validation loss.\n"
     ]
    },
    {
     "name": "stderr",
     "output_type": "stream",
     "text": [
      "100%|██████████| 36/36 [00:16<00:00,  2.20it/s]\n",
      "  0%|          | 0/144 [00:17<?, ?it/s]\n"
     ]
    },
    {
     "name": "stdout",
     "output_type": "stream",
     "text": [
      "Epoch [71], Train Loss : [0.36779] Val Loss : [0.30556]\n",
      "Early stopping triggered! No improvement in validation loss.\n"
     ]
    },
    {
     "name": "stderr",
     "output_type": "stream",
     "text": [
      "100%|██████████| 36/36 [00:16<00:00,  2.16it/s]\n",
      "  0%|          | 0/144 [00:17<?, ?it/s]\n"
     ]
    },
    {
     "name": "stdout",
     "output_type": "stream",
     "text": [
      "Epoch [72], Train Loss : [0.36848] Val Loss : [0.30298]\n",
      "Early stopping triggered! No improvement in validation loss.\n"
     ]
    },
    {
     "name": "stderr",
     "output_type": "stream",
     "text": [
      "100%|██████████| 36/36 [00:16<00:00,  2.20it/s]\n",
      "  0%|          | 0/144 [00:17<?, ?it/s]\n"
     ]
    },
    {
     "name": "stdout",
     "output_type": "stream",
     "text": [
      "Epoch [73], Train Loss : [0.34405] Val Loss : [0.30295]\n",
      "Epoch 00149: reducing learning rate of group 0 to 1.4648e-07.\n",
      "Early stopping triggered! No improvement in validation loss.\n"
     ]
    },
    {
     "name": "stderr",
     "output_type": "stream",
     "text": [
      "100%|██████████| 36/36 [00:16<00:00,  2.22it/s]\n",
      "  0%|          | 0/144 [00:17<?, ?it/s]\n"
     ]
    },
    {
     "name": "stdout",
     "output_type": "stream",
     "text": [
      "Epoch [74], Train Loss : [0.32315] Val Loss : [0.30442]\n",
      "Early stopping triggered! No improvement in validation loss.\n"
     ]
    },
    {
     "name": "stderr",
     "output_type": "stream",
     "text": [
      "100%|██████████| 36/36 [00:16<00:00,  2.21it/s]\n",
      "  0%|          | 0/144 [00:17<?, ?it/s]\n"
     ]
    },
    {
     "name": "stdout",
     "output_type": "stream",
     "text": [
      "Epoch [75], Train Loss : [0.29280] Val Loss : [0.30241]\n",
      "Early stopping triggered! No improvement in validation loss.\n"
     ]
    },
    {
     "name": "stderr",
     "output_type": "stream",
     "text": [
      "100%|██████████| 36/36 [00:16<00:00,  2.21it/s]\n",
      "  0%|          | 0/144 [00:17<?, ?it/s]\n"
     ]
    },
    {
     "name": "stdout",
     "output_type": "stream",
     "text": [
      "Epoch [76], Train Loss : [0.33807] Val Loss : [0.30198]\n",
      "Early stopping triggered! No improvement in validation loss.\n"
     ]
    },
    {
     "name": "stderr",
     "output_type": "stream",
     "text": [
      "100%|██████████| 36/36 [00:16<00:00,  2.19it/s]\n",
      "  0%|          | 0/144 [00:17<?, ?it/s]\n"
     ]
    },
    {
     "name": "stdout",
     "output_type": "stream",
     "text": [
      "Epoch [77], Train Loss : [0.27474] Val Loss : [0.30439]\n",
      "Early stopping triggered! No improvement in validation loss.\n"
     ]
    },
    {
     "name": "stderr",
     "output_type": "stream",
     "text": [
      "100%|██████████| 36/36 [00:16<00:00,  2.20it/s]\n",
      "  0%|          | 0/144 [00:17<?, ?it/s]\n"
     ]
    },
    {
     "name": "stdout",
     "output_type": "stream",
     "text": [
      "Epoch [78], Train Loss : [0.27919] Val Loss : [0.30729]\n",
      "Early stopping triggered! No improvement in validation loss.\n"
     ]
    },
    {
     "name": "stderr",
     "output_type": "stream",
     "text": [
      "100%|██████████| 36/36 [00:16<00:00,  2.20it/s]\n",
      "  0%|          | 0/144 [00:17<?, ?it/s]\n"
     ]
    },
    {
     "name": "stdout",
     "output_type": "stream",
     "text": [
      "Epoch [79], Train Loss : [0.32998] Val Loss : [0.30393]\n",
      "Early stopping triggered! No improvement in validation loss.\n"
     ]
    },
    {
     "name": "stderr",
     "output_type": "stream",
     "text": [
      "100%|██████████| 36/36 [00:16<00:00,  2.21it/s]\n",
      "  0%|          | 0/144 [00:17<?, ?it/s]\n"
     ]
    },
    {
     "name": "stdout",
     "output_type": "stream",
     "text": [
      "Epoch [80], Train Loss : [0.36800] Val Loss : [0.30665]\n",
      "Epoch 00156: reducing learning rate of group 0 to 7.3242e-08.\n",
      "Early stopping triggered! No improvement in validation loss.\n"
     ]
    },
    {
     "name": "stderr",
     "output_type": "stream",
     "text": [
      "100%|██████████| 36/36 [00:16<00:00,  2.19it/s]\n",
      "  0%|          | 0/144 [00:17<?, ?it/s]\n"
     ]
    },
    {
     "name": "stdout",
     "output_type": "stream",
     "text": [
      "Epoch [81], Train Loss : [0.29010] Val Loss : [0.30630]\n",
      "Early stopping triggered! No improvement in validation loss.\n"
     ]
    },
    {
     "name": "stderr",
     "output_type": "stream",
     "text": [
      "100%|██████████| 36/36 [00:16<00:00,  2.19it/s]\n",
      "  0%|          | 0/144 [00:17<?, ?it/s]\n"
     ]
    },
    {
     "name": "stdout",
     "output_type": "stream",
     "text": [
      "Epoch [82], Train Loss : [0.29072] Val Loss : [0.30571]\n",
      "Early stopping triggered! No improvement in validation loss.\n"
     ]
    },
    {
     "name": "stderr",
     "output_type": "stream",
     "text": [
      "100%|██████████| 36/36 [00:16<00:00,  2.20it/s]\n",
      "  0%|          | 0/144 [00:17<?, ?it/s]\n"
     ]
    },
    {
     "name": "stdout",
     "output_type": "stream",
     "text": [
      "Epoch [83], Train Loss : [0.29203] Val Loss : [0.30782]\n",
      "Early stopping triggered! No improvement in validation loss.\n"
     ]
    },
    {
     "name": "stderr",
     "output_type": "stream",
     "text": [
      "100%|██████████| 36/36 [00:16<00:00,  2.17it/s]\n",
      "  0%|          | 0/144 [00:17<?, ?it/s]\n"
     ]
    },
    {
     "name": "stdout",
     "output_type": "stream",
     "text": [
      "Epoch [84], Train Loss : [0.45114] Val Loss : [0.30733]\n",
      "Early stopping triggered! No improvement in validation loss.\n"
     ]
    },
    {
     "name": "stderr",
     "output_type": "stream",
     "text": [
      "100%|██████████| 36/36 [00:17<00:00,  2.10it/s]\n",
      "  0%|          | 0/144 [00:18<?, ?it/s]\n"
     ]
    },
    {
     "name": "stdout",
     "output_type": "stream",
     "text": [
      "Epoch [85], Train Loss : [0.38912] Val Loss : [0.31032]\n",
      "Early stopping triggered! No improvement in validation loss.\n"
     ]
    },
    {
     "name": "stderr",
     "output_type": "stream",
     "text": [
      "100%|██████████| 36/36 [00:16<00:00,  2.20it/s]\n",
      "  0%|          | 0/144 [00:17<?, ?it/s]\n"
     ]
    },
    {
     "name": "stdout",
     "output_type": "stream",
     "text": [
      "Epoch [86], Train Loss : [0.39430] Val Loss : [0.31080]\n",
      "Early stopping triggered! No improvement in validation loss.\n"
     ]
    },
    {
     "name": "stderr",
     "output_type": "stream",
     "text": [
      "100%|██████████| 36/36 [00:16<00:00,  2.20it/s]\n",
      "  0%|          | 0/144 [00:17<?, ?it/s]\n"
     ]
    },
    {
     "name": "stdout",
     "output_type": "stream",
     "text": [
      "Epoch [87], Train Loss : [0.41199] Val Loss : [0.30576]\n",
      "Epoch 00163: reducing learning rate of group 0 to 3.6621e-08.\n",
      "Early stopping triggered! No improvement in validation loss.\n"
     ]
    },
    {
     "name": "stderr",
     "output_type": "stream",
     "text": [
      "100%|██████████| 36/36 [00:16<00:00,  2.19it/s]\n",
      "  0%|          | 0/144 [00:17<?, ?it/s]\n"
     ]
    },
    {
     "name": "stdout",
     "output_type": "stream",
     "text": [
      "Epoch [88], Train Loss : [0.32137] Val Loss : [0.30538]\n",
      "Early stopping triggered! No improvement in validation loss.\n"
     ]
    },
    {
     "name": "stderr",
     "output_type": "stream",
     "text": [
      "100%|██████████| 36/36 [00:16<00:00,  2.20it/s]\n",
      "  0%|          | 0/144 [00:17<?, ?it/s]\n"
     ]
    },
    {
     "name": "stdout",
     "output_type": "stream",
     "text": [
      "Epoch [89], Train Loss : [0.39755] Val Loss : [0.30445]\n",
      "Early stopping triggered! No improvement in validation loss.\n"
     ]
    },
    {
     "name": "stderr",
     "output_type": "stream",
     "text": [
      "100%|██████████| 36/36 [00:16<00:00,  2.18it/s]\n",
      "  0%|          | 0/144 [00:17<?, ?it/s]\n"
     ]
    },
    {
     "name": "stdout",
     "output_type": "stream",
     "text": [
      "Epoch [90], Train Loss : [0.31061] Val Loss : [0.30070]\n",
      "Early stopping triggered! No improvement in validation loss.\n"
     ]
    },
    {
     "name": "stderr",
     "output_type": "stream",
     "text": [
      "100%|██████████| 36/36 [00:16<00:00,  2.20it/s]\n",
      "  0%|          | 0/144 [00:17<?, ?it/s]\n"
     ]
    },
    {
     "name": "stdout",
     "output_type": "stream",
     "text": [
      "Epoch [91], Train Loss : [0.30986] Val Loss : [0.30398]\n",
      "Early stopping triggered! No improvement in validation loss.\n"
     ]
    },
    {
     "name": "stderr",
     "output_type": "stream",
     "text": [
      "100%|██████████| 36/36 [00:16<00:00,  2.18it/s]\n",
      "  0%|          | 0/144 [00:17<?, ?it/s]\n"
     ]
    },
    {
     "name": "stdout",
     "output_type": "stream",
     "text": [
      "Epoch [92], Train Loss : [0.46119] Val Loss : [0.30251]\n",
      "Early stopping triggered! No improvement in validation loss.\n"
     ]
    },
    {
     "name": "stderr",
     "output_type": "stream",
     "text": [
      "100%|██████████| 36/36 [00:16<00:00,  2.18it/s]\n",
      "  0%|          | 0/144 [00:17<?, ?it/s]\n"
     ]
    },
    {
     "name": "stdout",
     "output_type": "stream",
     "text": [
      "Epoch [93], Train Loss : [0.34149] Val Loss : [0.30281]\n",
      "Early stopping triggered! No improvement in validation loss.\n"
     ]
    },
    {
     "name": "stderr",
     "output_type": "stream",
     "text": [
      "100%|██████████| 36/36 [00:16<00:00,  2.19it/s]\n",
      "  0%|          | 0/144 [00:17<?, ?it/s]\n"
     ]
    },
    {
     "name": "stdout",
     "output_type": "stream",
     "text": [
      "Epoch [94], Train Loss : [0.31410] Val Loss : [0.30253]\n",
      "Epoch 00170: reducing learning rate of group 0 to 1.8311e-08.\n",
      "Early stopping triggered! No improvement in validation loss.\n"
     ]
    },
    {
     "name": "stderr",
     "output_type": "stream",
     "text": [
      "100%|██████████| 36/36 [00:16<00:00,  2.19it/s]\n",
      "  0%|          | 0/144 [00:17<?, ?it/s]\n"
     ]
    },
    {
     "name": "stdout",
     "output_type": "stream",
     "text": [
      "Epoch [95], Train Loss : [0.35874] Val Loss : [0.30344]\n",
      "Early stopping triggered! No improvement in validation loss.\n"
     ]
    },
    {
     "name": "stderr",
     "output_type": "stream",
     "text": [
      "100%|██████████| 36/36 [00:16<00:00,  2.19it/s]\n",
      "  0%|          | 0/144 [00:17<?, ?it/s]\n"
     ]
    },
    {
     "name": "stdout",
     "output_type": "stream",
     "text": [
      "Epoch [96], Train Loss : [0.35424] Val Loss : [0.30127]\n",
      "Early stopping triggered! No improvement in validation loss.\n"
     ]
    },
    {
     "name": "stderr",
     "output_type": "stream",
     "text": [
      "100%|██████████| 36/36 [00:16<00:00,  2.17it/s]\n",
      "  0%|          | 0/144 [00:17<?, ?it/s]\n"
     ]
    },
    {
     "name": "stdout",
     "output_type": "stream",
     "text": [
      "Epoch [97], Train Loss : [0.27482] Val Loss : [0.30215]\n",
      "Early stopping triggered! No improvement in validation loss.\n"
     ]
    },
    {
     "name": "stderr",
     "output_type": "stream",
     "text": [
      "100%|██████████| 36/36 [00:16<00:00,  2.18it/s]\n",
      "  0%|          | 0/144 [00:17<?, ?it/s]\n"
     ]
    },
    {
     "name": "stdout",
     "output_type": "stream",
     "text": [
      "Epoch [98], Train Loss : [0.30517] Val Loss : [0.30430]\n",
      "Early stopping triggered! No improvement in validation loss.\n"
     ]
    },
    {
     "name": "stderr",
     "output_type": "stream",
     "text": [
      "100%|██████████| 36/36 [00:16<00:00,  2.17it/s]\n",
      "  0%|          | 0/144 [00:17<?, ?it/s]\n"
     ]
    },
    {
     "name": "stdout",
     "output_type": "stream",
     "text": [
      "Epoch [99], Train Loss : [0.32155] Val Loss : [0.30566]\n",
      "Early stopping triggered! No improvement in validation loss.\n"
     ]
    },
    {
     "name": "stderr",
     "output_type": "stream",
     "text": [
      "100%|██████████| 36/36 [00:16<00:00,  2.17it/s]\n",
      "  0%|          | 0/144 [00:17<?, ?it/s]\n"
     ]
    },
    {
     "name": "stdout",
     "output_type": "stream",
     "text": [
      "Epoch [100], Train Loss : [0.32092] Val Loss : [0.30634]\n",
      "Early stopping triggered! No improvement in validation loss.\n"
     ]
    },
    {
     "name": "stderr",
     "output_type": "stream",
     "text": [
      "100%|██████████| 36/36 [00:16<00:00,  2.20it/s]\n"
     ]
    },
    {
     "name": "stdout",
     "output_type": "stream",
     "text": [
      "Validation Loss: 0.30634064185950494\n"
     ]
    },
    {
     "name": "stderr",
     "output_type": "stream",
     "text": [
      "100%|██████████| 25/25 [00:11<00:00,  2.18it/s]\n"
     ]
    },
    {
     "data": {
      "text/html": [
       "Waiting for W&B process to finish... <strong style=\"color:green\">(success).</strong>"
      ],
      "text/plain": [
       "<IPython.core.display.HTML object>"
      ]
     },
     "metadata": {},
     "output_type": "display_data"
    },
    {
     "data": {
      "text/html": [
       "<style>\n",
       "    table.wandb td:nth-child(1) { padding: 0 10px; text-align: left ; width: auto;} td:nth-child(2) {text-align: left ; width: 100%}\n",
       "    .wandb-row { display: flex; flex-direction: row; flex-wrap: wrap; justify-content: flex-start; width: 100% }\n",
       "    .wandb-col { display: flex; flex-direction: column; flex-basis: 100%; flex: 1; padding: 10px; }\n",
       "    </style>\n",
       "<div class=\"wandb-row\"><div class=\"wandb-col\"><h3>Run history:</h3><br/><table class=\"wandb\"><tr><td>Average Validation Loss</td><td>▁</td></tr><tr><td>Fold</td><td>▁▃▅▆█</td></tr><tr><td>Standard Deviation of Validation Loss</td><td>▁</td></tr><tr><td>Validation Loss</td><td>█▂▂▂▁</td></tr></table><br/></div><div class=\"wandb-col\"><h3>Run summary:</h3><br/><table class=\"wandb\"><tr><td>Average Validation Loss</td><td>0.33735</td></tr><tr><td>Fold</td><td>4</td></tr><tr><td>Standard Deviation of Validation Loss</td><td>0.04163</td></tr><tr><td>Validation Loss</td><td>0.30634</td></tr></table><br/></div></div>"
      ],
      "text/plain": [
       "<IPython.core.display.HTML object>"
      ]
     },
     "metadata": {},
     "output_type": "display_data"
    },
    {
     "data": {
      "text/html": [
       " View run <strong style=\"color:#cdcd00\">summer-night-85</strong> at: <a href='https://wandb.ai/anthoniy/Dacon-papering-competition/runs/m0rwpcgu' target=\"_blank\">https://wandb.ai/anthoniy/Dacon-papering-competition/runs/m0rwpcgu</a><br/>Synced 5 W&B file(s), 0 media file(s), 0 artifact file(s) and 0 other file(s)"
      ],
      "text/plain": [
       "<IPython.core.display.HTML object>"
      ]
     },
     "metadata": {},
     "output_type": "display_data"
    },
    {
     "data": {
      "text/html": [
       "Find logs at: <code>c:\\Users\\DoSungjin\\Documents\\GitHub\\Dacon_papering_classification\\BASELINE\\wandb\\run-20230522_125449-m0rwpcgu\\logs</code>"
      ],
      "text/plain": [
       "<IPython.core.display.HTML object>"
      ]
     },
     "metadata": {},
     "output_type": "display_data"
    }
   ],
   "source": [
    "from sklearn.model_selection import StratifiedKFold\n",
    "import gc\n",
    "from datetime import datetime, timezone, timedelta\n",
    "\n",
    "X = df['img_path']\n",
    "y = df['label']\n",
    "criterion = FocalLoss(gamma=2, alpha=0.25)\n",
    "# Define the number of folds and other parameters\n",
    "n_splits = 5\n",
    "seed = 42\n",
    "\n",
    "skf = StratifiedKFold(n_splits=n_splits, shuffle=True, random_state=seed)\n",
    "\n",
    "def validation(model, criterion, val_loader, device):\n",
    "    model.eval()\n",
    "    val_loss = []\n",
    "\n",
    "    with torch.no_grad():\n",
    "        for imgs, labels in tqdm(iter(val_loader)):\n",
    "            imgs = imgs.float().to(device)\n",
    "            labels = torch.tensor(labels, dtype=torch.int64).to(device)\n",
    "\n",
    "            output = model(imgs)\n",
    "            loss = criterion(output, labels)\n",
    "\n",
    "            val_loss.append(loss.item())\n",
    "\n",
    "    val_loss = np.mean(val_loss)\n",
    "    return val_loss\n",
    "\n",
    "def trains(model, optimizer, train_loader, val_loader, scheduler, device, freeze_backbone=True, patience=6):\n",
    "    model.to(device)\n",
    "    criterion = FocalLoss(gamma=2, alpha=0.25)\n",
    "\n",
    "    best_loss = float('inf')\n",
    "    best_model = None\n",
    "\n",
    "    if freeze_backbone:\n",
    "        for param in model.backbone.parameters():\n",
    "            param.requires_grad = False\n",
    "\n",
    "    for epoch in range(1, CFG['EPOCHS'] + 1):\n",
    "        model.train()\n",
    "        train_loss = []\n",
    "        for imgs, labels in tqdm(iter(train_loader)):\n",
    "            imgs = imgs.float().to(device)\n",
    "            labels = torch.tensor(labels, dtype=torch.int64).to(device)\n",
    "\n",
    "            optimizer.zero_grad()\n",
    "\n",
    "            output = model(imgs)\n",
    "            loss = criterion(output, labels)\n",
    "\n",
    "            loss.backward()\n",
    "            optimizer.step()\n",
    "\n",
    "            train_loss.append(loss.item())\n",
    "\n",
    "            _val_loss = validation(model, criterion, val_loader, device)\n",
    "            _train_loss = np.mean(train_loss)\n",
    "            print(f'Epoch [{epoch}], Train Loss : [{_train_loss:.5f}] Val Loss : [{_val_loss:.5f}]')\n",
    "\n",
    "            if scheduler is not None:\n",
    "                scheduler.step(_val_loss)\n",
    "\n",
    "            if _val_loss < best_loss:\n",
    "                best_loss = _val_loss\n",
    "                best_model = model.state_dict().copy()\n",
    "                torch.save(best_model, \"best_model.pth\")\n",
    "                early_stopping_counter = 0  # Reset the counter\n",
    "            else:\n",
    "                early_stopping_counter += 1\n",
    "                if early_stopping_counter >= patience:\n",
    "                    print(\"Early stopping triggered! No improvement in validation loss.\")\n",
    "                    break\n",
    "\n",
    "    return best_model\n",
    "\n",
    "\n",
    "def inference(model, test_loader, device):\n",
    "    model.eval()\n",
    "    preds = []\n",
    "    with torch.no_grad():\n",
    "        for imgs in tqdm(iter(test_loader)):\n",
    "            imgs = imgs.float().to(device)\n",
    "\n",
    "            pred = model(imgs)\n",
    "\n",
    "            preds += pred.argmax(1).detach().cpu().numpy().tolist()\n",
    "\n",
    "    return preds\n",
    "\n",
    "infer_model = BaseModel()\n",
    "fold_results = []  # Store results for each fold\n",
    "preds_list = []  # Store predictions for each fold\n",
    "true_labels = []\n",
    "test = pd.read_csv('test.csv')\n",
    "test_dataset = CustomDataset(test['img_path'].values, None, test_transform)\n",
    "test_loader = DataLoader(test_dataset, batch_size=CFG['BATCH_SIZE'], shuffle=False, num_workers=0)\n",
    "\n",
    "\n",
    "for fold, (train_index, val_index) in enumerate(skf.split(X, y)):\n",
    "    print(\"Fold:\", fold)\n",
    "\n",
    "    train_X, val_X = X[train_index], X[val_index]\n",
    "    train_y, val_y = y[train_index], y[val_index]\n",
    "\n",
    "    # Create train and validation datasets\n",
    "    train_dataset = CustomDataset(train_X.values, train_y.values, train_transform)\n",
    "    val_dataset = CustomDataset(val_X.values, val_y.values, test_transform)\n",
    "\n",
    "    # Create train and validation data loaders\n",
    "    train_loader = DataLoader(train_dataset, batch_size=CFG['BATCH_SIZE'], shuffle=True, num_workers=0)\n",
    "    val_loader = DataLoader(val_dataset, batch_size=CFG['BATCH_SIZE'], shuffle=False, num_workers=0)\n",
    "\n",
    "    # Define your deep learning model\n",
    "    model = BaseModel(freeze_backbone=False)  # Unfreeze the backbone for fine-tuning\n",
    "    model.eval()\n",
    "    optimizer = torch.optim.AdamW(params=model.parameters(), lr=CFG[\"LEARNING_RATE\"])\n",
    "    scheduler = torch.optim.lr_scheduler.ReduceLROnPlateau(optimizer, mode='min', factor=0.5, patience=6, threshold_mode='abs', min_lr=1e-8, verbose=True)\n",
    "\n",
    "    # Train your model\n",
    "    best_model_weights = trains(model, optimizer, train_loader, val_loader, scheduler, device, freeze_backbone=False)\n",
    "\n",
    "    # Load the best model weights\n",
    "    model.load_state_dict(best_model_weights)\n",
    "\n",
    "\n",
    "\n",
    "    # Evaluate the model on the validation set\n",
    "    val_loss = validation(model, criterion, val_loader, device)\n",
    "    print(\"Validation Loss:\", val_loss)\n",
    "\n",
    "    fold_results.append(val_loss)  # Store the result for this fold\n",
    "\n",
    "    # Save the best model\n",
    "    torch.save(model.state_dict(), f\"model_fold{fold}.pth\")\n",
    "    infer_model.load_state_dict(torch.load(f\"model_fold{fold}.pth\"))\n",
    "    infer_model.to(device)\n",
    "    preds = inference(infer_model, test_loader, device)\n",
    "    # Store the predictions for this fold\n",
    "    preds_list.append(preds)\n",
    "    # Log metrics to Wandb\n",
    "    wandb.log({\"Fold\": fold, \"Validation Loss\": val_loss})\n",
    "\n",
    "    # Clear unnecessary memory\n",
    "    del train_dataset, val_dataset, train_loader, val_loader, model, optimizer, scheduler\n",
    "    torch.cuda.empty_cache()\n",
    "    gc.collect()\n",
    "\n",
    "# Compute aggregate statistics\n",
    "avg_val_loss = np.mean(fold_results)\n",
    "std_val_loss = np.std(fold_results)\n",
    "# Log aggregate metrics to Wandb\n",
    "wandb.log({\"Average Validation Loss\": avg_val_loss, \"Standard Deviation of Validation Loss\": std_val_loss})\n",
    "\n",
    "# Finish Wandb run\n",
    "wandb.finish()\n",
    "\n"
   ]
  },
  {
   "cell_type": "code",
   "execution_count": 22,
   "id": "bd85e8f1",
   "metadata": {},
   "outputs": [
    {
     "ename": "ValueError",
     "evalue": "Length of values (0) does not match length of index (792)",
     "output_type": "error",
     "traceback": [
      "\u001b[1;31m---------------------------------------------------------------------------\u001b[0m",
      "\u001b[1;31mValueError\u001b[0m                                Traceback (most recent call last)",
      "Cell \u001b[1;32mIn[22], line 15\u001b[0m\n\u001b[0;32m     12\u001b[0m             \u001b[39mbreak\u001b[39;00m\n\u001b[0;32m     14\u001b[0m submit \u001b[39m=\u001b[39m pd\u001b[39m.\u001b[39mread_csv(\u001b[39m'\u001b[39m\u001b[39msample_submission.csv\u001b[39m\u001b[39m'\u001b[39m)\n\u001b[1;32m---> 15\u001b[0m submit[\u001b[39m'\u001b[39;49m\u001b[39mlabel\u001b[39;49m\u001b[39m'\u001b[39;49m] \u001b[39m=\u001b[39m new_preds\n\u001b[0;32m     17\u001b[0m \u001b[39m# Save the submission file\u001b[39;00m\n\u001b[0;32m     18\u001b[0m kst \u001b[39m=\u001b[39m timezone(timedelta(hours\u001b[39m=\u001b[39m\u001b[39m9\u001b[39m))\n",
      "File \u001b[1;32mc:\\Users\\DoSungjin\\anaconda3\\envs\\gpu-env\\lib\\site-packages\\pandas\\core\\frame.py:3960\u001b[0m, in \u001b[0;36mDataFrame.__setitem__\u001b[1;34m(self, key, value)\u001b[0m\n\u001b[0;32m   3957\u001b[0m     \u001b[39mself\u001b[39m\u001b[39m.\u001b[39m_setitem_array([key], value)\n\u001b[0;32m   3958\u001b[0m \u001b[39melse\u001b[39;00m:\n\u001b[0;32m   3959\u001b[0m     \u001b[39m# set column\u001b[39;00m\n\u001b[1;32m-> 3960\u001b[0m     \u001b[39mself\u001b[39;49m\u001b[39m.\u001b[39;49m_set_item(key, value)\n",
      "File \u001b[1;32mc:\\Users\\DoSungjin\\anaconda3\\envs\\gpu-env\\lib\\site-packages\\pandas\\core\\frame.py:4153\u001b[0m, in \u001b[0;36mDataFrame._set_item\u001b[1;34m(self, key, value)\u001b[0m\n\u001b[0;32m   4143\u001b[0m \u001b[39mdef\u001b[39;00m \u001b[39m_set_item\u001b[39m(\u001b[39mself\u001b[39m, key, value) \u001b[39m-\u001b[39m\u001b[39m>\u001b[39m \u001b[39mNone\u001b[39;00m:\n\u001b[0;32m   4144\u001b[0m \u001b[39m    \u001b[39m\u001b[39m\"\"\"\u001b[39;00m\n\u001b[0;32m   4145\u001b[0m \u001b[39m    Add series to DataFrame in specified column.\u001b[39;00m\n\u001b[0;32m   4146\u001b[0m \n\u001b[1;32m   (...)\u001b[0m\n\u001b[0;32m   4151\u001b[0m \u001b[39m    ensure homogeneity.\u001b[39;00m\n\u001b[0;32m   4152\u001b[0m \u001b[39m    \"\"\"\u001b[39;00m\n\u001b[1;32m-> 4153\u001b[0m     value \u001b[39m=\u001b[39m \u001b[39mself\u001b[39;49m\u001b[39m.\u001b[39;49m_sanitize_column(value)\n\u001b[0;32m   4155\u001b[0m     \u001b[39mif\u001b[39;00m (\n\u001b[0;32m   4156\u001b[0m         key \u001b[39min\u001b[39;00m \u001b[39mself\u001b[39m\u001b[39m.\u001b[39mcolumns\n\u001b[0;32m   4157\u001b[0m         \u001b[39mand\u001b[39;00m value\u001b[39m.\u001b[39mndim \u001b[39m==\u001b[39m \u001b[39m1\u001b[39m\n\u001b[0;32m   4158\u001b[0m         \u001b[39mand\u001b[39;00m \u001b[39mnot\u001b[39;00m is_extension_array_dtype(value)\n\u001b[0;32m   4159\u001b[0m     ):\n\u001b[0;32m   4160\u001b[0m         \u001b[39m# broadcast across multiple columns if necessary\u001b[39;00m\n\u001b[0;32m   4161\u001b[0m         \u001b[39mif\u001b[39;00m \u001b[39mnot\u001b[39;00m \u001b[39mself\u001b[39m\u001b[39m.\u001b[39mcolumns\u001b[39m.\u001b[39mis_unique \u001b[39mor\u001b[39;00m \u001b[39misinstance\u001b[39m(\u001b[39mself\u001b[39m\u001b[39m.\u001b[39mcolumns, MultiIndex):\n",
      "File \u001b[1;32mc:\\Users\\DoSungjin\\anaconda3\\envs\\gpu-env\\lib\\site-packages\\pandas\\core\\frame.py:4880\u001b[0m, in \u001b[0;36mDataFrame._sanitize_column\u001b[1;34m(self, value)\u001b[0m\n\u001b[0;32m   4877\u001b[0m     \u001b[39mreturn\u001b[39;00m _reindex_for_setitem(Series(value), \u001b[39mself\u001b[39m\u001b[39m.\u001b[39mindex)\n\u001b[0;32m   4879\u001b[0m \u001b[39mif\u001b[39;00m is_list_like(value):\n\u001b[1;32m-> 4880\u001b[0m     com\u001b[39m.\u001b[39;49mrequire_length_match(value, \u001b[39mself\u001b[39;49m\u001b[39m.\u001b[39;49mindex)\n\u001b[0;32m   4881\u001b[0m \u001b[39mreturn\u001b[39;00m sanitize_array(value, \u001b[39mself\u001b[39m\u001b[39m.\u001b[39mindex, copy\u001b[39m=\u001b[39m\u001b[39mTrue\u001b[39;00m, allow_2d\u001b[39m=\u001b[39m\u001b[39mTrue\u001b[39;00m)\n",
      "File \u001b[1;32mc:\\Users\\DoSungjin\\anaconda3\\envs\\gpu-env\\lib\\site-packages\\pandas\\core\\common.py:576\u001b[0m, in \u001b[0;36mrequire_length_match\u001b[1;34m(data, index)\u001b[0m\n\u001b[0;32m    572\u001b[0m \u001b[39m\u001b[39m\u001b[39m\"\"\"\u001b[39;00m\n\u001b[0;32m    573\u001b[0m \u001b[39mCheck the length of data matches the length of the index.\u001b[39;00m\n\u001b[0;32m    574\u001b[0m \u001b[39m\"\"\"\u001b[39;00m\n\u001b[0;32m    575\u001b[0m \u001b[39mif\u001b[39;00m \u001b[39mlen\u001b[39m(data) \u001b[39m!=\u001b[39m \u001b[39mlen\u001b[39m(index):\n\u001b[1;32m--> 576\u001b[0m     \u001b[39mraise\u001b[39;00m \u001b[39mValueError\u001b[39;00m(\n\u001b[0;32m    577\u001b[0m         \u001b[39m\"\u001b[39m\u001b[39mLength of values \u001b[39m\u001b[39m\"\u001b[39m\n\u001b[0;32m    578\u001b[0m         \u001b[39mf\u001b[39m\u001b[39m\"\u001b[39m\u001b[39m(\u001b[39m\u001b[39m{\u001b[39;00m\u001b[39mlen\u001b[39m(data)\u001b[39m}\u001b[39;00m\u001b[39m) \u001b[39m\u001b[39m\"\u001b[39m\n\u001b[0;32m    579\u001b[0m         \u001b[39m\"\u001b[39m\u001b[39mdoes not match length of index \u001b[39m\u001b[39m\"\u001b[39m\n\u001b[0;32m    580\u001b[0m         \u001b[39mf\u001b[39m\u001b[39m\"\u001b[39m\u001b[39m(\u001b[39m\u001b[39m{\u001b[39;00m\u001b[39mlen\u001b[39m(index)\u001b[39m}\u001b[39;00m\u001b[39m)\u001b[39m\u001b[39m\"\u001b[39m\n\u001b[0;32m    581\u001b[0m     )\n",
      "\u001b[1;31mValueError\u001b[0m: Length of values (0) does not match length of index (792)"
     ]
    }
   ],
   "source": [
    "from scipy.stats import mode\n",
    "\n",
    "# Perform ensemble by taking the majority vote\n",
    "ensemble_preds = mode(preds_list, axis=0)[0].flatten()\n",
    "\n",
    "\n",
    "new_preds = []\n",
    "for pred in ensemble_preds:\n",
    "    for key, value in label_mapping.items():\n",
    "        if value == pred:\n",
    "            new_preds.append(key)\n",
    "            break\n",
    "\n",
    "submit = pd.read_csv('sample_submission.csv')\n",
    "submit['label'] = new_preds\n",
    "\n",
    "# Save the submission file\n",
    "kst = timezone(timedelta(hours=9))\n",
    "train_serial = datetime.now(kst).strftime('%Y%m%d_%H%M%S')\n",
    "\n",
    "Record_path = os.path.join('../result', train_serial)\n",
    "os.makedirs(Record_path, exist_ok=True)\n",
    "\n",
    "submit.to_csv(os.path.join(Record_path, 'submit.csv'), index=False)\n"
   ]
  },
  {
   "cell_type": "code",
   "execution_count": null,
   "id": "9ab9531c",
   "metadata": {},
   "outputs": [
    {
     "data": {
      "text/plain": [
       "Counter({'훼손': 605,\n",
       "         '꼬임': 63,\n",
       "         '걸레받이수정': 45,\n",
       "         '오염': 28,\n",
       "         '곰팡이': 14,\n",
       "         '오타공': 15,\n",
       "         '몰딩수정': 4,\n",
       "         '터짐': 11,\n",
       "         '면불량': 4,\n",
       "         '피스': 1,\n",
       "         '들뜸': 2})"
      ]
     },
     "execution_count": 25,
     "metadata": {},
     "output_type": "execute_result"
    }
   ],
   "source": [
    "from collections import Counter\n",
    "Counter(submit.label)"
   ]
  },
  {
   "cell_type": "code",
   "execution_count": 23,
   "id": "5cfa1113",
   "metadata": {},
   "outputs": [
    {
     "name": "stdout",
     "output_type": "stream",
     "text": [
      "17 20230516_121017\n",
      "17 20230516_222825\n",
      "16 20230518_232630\n",
      "16 20230519_004356\n",
      "16 20230519_012220\n",
      "17 20230519_031010\n",
      "16 20230519_124821\n",
      "7 20230519_143519\n",
      "11 20230519_150640\n",
      "11 20230519_155612\n",
      "12 20230519_164318\n",
      "13 20230520_225922\n",
      "11 20230521_174835\n"
     ]
    }
   ],
   "source": [
    "list_dir = os.listdir('../result')\n",
    "for x in list_dir:\n",
    "    if not x.endswith('csv'):  \n",
    "        submit_path = os.path.join('../result', x, 'submit.csv')\n",
    "        submit = pd.read_csv(submit_path)\n",
    "        print(len(submit.label.unique()), x)"
   ]
  },
  {
   "cell_type": "code",
   "execution_count": null,
   "id": "65fbf758",
   "metadata": {},
   "outputs": [],
   "source": []
  },
  {
   "cell_type": "code",
   "execution_count": null,
   "id": "276c63ad",
   "metadata": {},
   "outputs": [],
   "source": []
  },
  {
   "cell_type": "code",
   "execution_count": null,
   "id": "7f9f56f4",
   "metadata": {},
   "outputs": [],
   "source": []
  }
 ],
 "metadata": {
  "kernelspec": {
   "display_name": "Python 3",
   "language": "python",
   "name": "python3"
  },
  "language_info": {
   "codemirror_mode": {
    "name": "ipython",
    "version": 3
   },
   "file_extension": ".py",
   "mimetype": "text/x-python",
   "name": "python",
   "nbconvert_exporter": "python",
   "pygments_lexer": "ipython3",
   "version": "3.9.16"
  }
 },
 "nbformat": 4,
 "nbformat_minor": 5
}
